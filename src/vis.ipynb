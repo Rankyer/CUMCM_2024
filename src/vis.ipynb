{
 "cells": [
  {
   "cell_type": "code",
   "execution_count": 201,
   "metadata": {},
   "outputs": [
    {
     "name": "stdout",
     "output_type": "stream",
     "text": [
      "Field ID          object\n",
      "Crop ID            int64\n",
      "Crop Name         object\n",
      "Crop Type         object\n",
      "Planting Area    float64\n",
      "Season            object\n",
      "Field Type        object\n",
      "Field Area       float64\n",
      "Yield            float64\n",
      "Cost             float64\n",
      "Price            float64\n",
      "dtype: object\n"
     ]
    }
   ],
   "source": [
    "import pandas as pd\n",
    "\n",
    "df = pd.read_csv(\"../data/preprocess/pre-processed.csv\")\n",
    "\n",
    "# 检查数据集的表头以及其数据类型\n",
    "print(df.dtypes)"
   ]
  },
  {
   "cell_type": "markdown",
   "metadata": {},
   "source": [
    "# 不同地块的情况"
   ]
  },
  {
   "cell_type": "markdown",
   "metadata": {},
   "source": [
    "## 成本与售价"
   ]
  },
  {
   "cell_type": "code",
   "execution_count": 202,
   "metadata": {},
   "outputs": [
    {
     "data": {
      "application/vnd.plotly.v1+json": {
       "config": {
        "plotlyServerURL": "https://plot.ly"
       },
       "data": [
        {
         "alignmentgroup": "True",
         "hovertemplate": "作物=%{x}<br>销售单价 (元/斤)=%{y}<extra></extra>",
         "legendgroup": "小麦",
         "marker": {
          "color": "#636efa",
          "pattern": {
           "shape": ""
          }
         },
         "name": "小麦",
         "offsetgroup": "小麦",
         "orientation": "v",
         "showlegend": true,
         "textposition": "auto",
         "type": "bar",
         "x": [
          "A1 小麦",
          "B1 小麦",
          "B7 小麦",
          "C5 小麦"
         ],
         "xaxis": "x",
         "y": [
          3.5,
          3.5,
          3.5,
          3.5
         ],
         "yaxis": "y"
        },
        {
         "alignmentgroup": "True",
         "hovertemplate": "作物=%{x}<br>销售单价 (元/斤)=%{y}<extra></extra>",
         "legendgroup": "玉米",
         "marker": {
          "color": "#EF553B",
          "pattern": {
           "shape": ""
          }
         },
         "name": "玉米",
         "offsetgroup": "玉米",
         "orientation": "v",
         "showlegend": true,
         "textposition": "auto",
         "type": "bar",
         "x": [
          "A2 玉米",
          "A3 玉米",
          "B12 玉米"
         ],
         "xaxis": "x",
         "y": [
          3,
          3,
          3
         ],
         "yaxis": "y"
        },
        {
         "alignmentgroup": "True",
         "hovertemplate": "作物=%{x}<br>销售单价 (元/斤)=%{y}<extra></extra>",
         "legendgroup": "黄豆",
         "marker": {
          "color": "#00cc96",
          "pattern": {
           "shape": ""
          }
         },
         "name": "黄豆",
         "offsetgroup": "黄豆",
         "orientation": "v",
         "showlegend": true,
         "textposition": "auto",
         "type": "bar",
         "x": [
          "A4 黄豆",
          "B11 黄豆",
          "C3 黄豆"
         ],
         "xaxis": "x",
         "y": [
          3.25,
          3.25,
          3.25
         ],
         "yaxis": "y"
        },
        {
         "alignmentgroup": "True",
         "hovertemplate": "作物=%{x}<br>销售单价 (元/斤)=%{y}<extra></extra>",
         "legendgroup": "绿豆",
         "marker": {
          "color": "#ab63fa",
          "pattern": {
           "shape": ""
          }
         },
         "name": "绿豆",
         "offsetgroup": "绿豆",
         "orientation": "v",
         "showlegend": true,
         "textposition": "auto",
         "type": "bar",
         "x": [
          "A5 绿豆",
          "B4 绿豆"
         ],
         "xaxis": "x",
         "y": [
          7,
          7
         ],
         "yaxis": "y"
        },
        {
         "alignmentgroup": "True",
         "hovertemplate": "作物=%{x}<br>销售单价 (元/斤)=%{y}<extra></extra>",
         "legendgroup": "谷子",
         "marker": {
          "color": "#FFA15A",
          "pattern": {
           "shape": ""
          }
         },
         "name": "谷子",
         "offsetgroup": "谷子",
         "orientation": "v",
         "showlegend": true,
         "textposition": "auto",
         "type": "bar",
         "x": [
          "A6 谷子",
          "B6 谷子",
          "B8 谷子"
         ],
         "xaxis": "x",
         "y": [
          6.75,
          6.75,
          6.75
         ],
         "yaxis": "y"
        },
        {
         "alignmentgroup": "True",
         "hovertemplate": "作物=%{x}<br>销售单价 (元/斤)=%{y}<extra></extra>",
         "legendgroup": "黑豆",
         "marker": {
          "color": "#19d3f3",
          "pattern": {
           "shape": ""
          }
         },
         "name": "黑豆",
         "offsetgroup": "黑豆",
         "orientation": "v",
         "showlegend": true,
         "textposition": "auto",
         "type": "bar",
         "x": [
          "B2 黑豆"
         ],
         "xaxis": "x",
         "y": [
          7.5
         ],
         "yaxis": "y"
        },
        {
         "alignmentgroup": "True",
         "hovertemplate": "作物=%{x}<br>销售单价 (元/斤)=%{y}<extra></extra>",
         "legendgroup": "红豆",
         "marker": {
          "color": "#FF6692",
          "pattern": {
           "shape": ""
          }
         },
         "name": "红豆",
         "offsetgroup": "红豆",
         "orientation": "v",
         "showlegend": true,
         "textposition": "auto",
         "type": "bar",
         "x": [
          "B3 红豆",
          "C6 红豆"
         ],
         "xaxis": "x",
         "y": [
          8.25,
          8.25
         ],
         "yaxis": "y"
        },
        {
         "alignmentgroup": "True",
         "hovertemplate": "作物=%{x}<br>销售单价 (元/斤)=%{y}<extra></extra>",
         "legendgroup": "爬豆",
         "marker": {
          "color": "#B6E880",
          "pattern": {
           "shape": ""
          }
         },
         "name": "爬豆",
         "offsetgroup": "爬豆",
         "orientation": "v",
         "showlegend": true,
         "textposition": "auto",
         "type": "bar",
         "x": [
          "B5 爬豆"
         ],
         "xaxis": "x",
         "y": [
          6.75
         ],
         "yaxis": "y"
        },
        {
         "alignmentgroup": "True",
         "hovertemplate": "作物=%{x}<br>销售单价 (元/斤)=%{y}<extra></extra>",
         "legendgroup": "高粱",
         "marker": {
          "color": "#FF97FF",
          "pattern": {
           "shape": ""
          }
         },
         "name": "高粱",
         "offsetgroup": "高粱",
         "orientation": "v",
         "showlegend": true,
         "textposition": "auto",
         "type": "bar",
         "x": [
          "B9 高粱"
         ],
         "xaxis": "x",
         "y": [
          6
         ],
         "yaxis": "y"
        },
        {
         "alignmentgroup": "True",
         "hovertemplate": "作物=%{x}<br>销售单价 (元/斤)=%{y}<extra></extra>",
         "legendgroup": "黍子",
         "marker": {
          "color": "#FECB52",
          "pattern": {
           "shape": ""
          }
         },
         "name": "黍子",
         "offsetgroup": "黍子",
         "orientation": "v",
         "showlegend": true,
         "textposition": "auto",
         "type": "bar",
         "x": [
          "B10 黍子"
         ],
         "xaxis": "x",
         "y": [
          7.5
         ],
         "yaxis": "y"
        },
        {
         "alignmentgroup": "True",
         "hovertemplate": "作物=%{x}<br>销售单价 (元/斤)=%{y}<extra></extra>",
         "legendgroup": "莜麦",
         "marker": {
          "color": "#636efa",
          "pattern": {
           "shape": ""
          }
         },
         "name": "莜麦",
         "offsetgroup": "莜麦",
         "orientation": "v",
         "showlegend": true,
         "textposition": "auto",
         "type": "bar",
         "x": [
          "B13 莜麦"
         ],
         "xaxis": "x",
         "y": [
          5.5
         ],
         "yaxis": "y"
        },
        {
         "alignmentgroup": "True",
         "hovertemplate": "作物=%{x}<br>销售单价 (元/斤)=%{y}<extra></extra>",
         "legendgroup": "大麦",
         "marker": {
          "color": "#EF553B",
          "pattern": {
           "shape": ""
          }
         },
         "name": "大麦",
         "offsetgroup": "大麦",
         "orientation": "v",
         "showlegend": true,
         "textposition": "auto",
         "type": "bar",
         "x": [
          "B14 大麦"
         ],
         "xaxis": "x",
         "y": [
          3.5
         ],
         "yaxis": "y"
        },
        {
         "alignmentgroup": "True",
         "hovertemplate": "作物=%{x}<br>销售单价 (元/斤)=%{y}<extra></extra>",
         "legendgroup": "荞麦",
         "marker": {
          "color": "#00cc96",
          "pattern": {
           "shape": ""
          }
         },
         "name": "荞麦",
         "offsetgroup": "荞麦",
         "orientation": "v",
         "showlegend": true,
         "textposition": "auto",
         "type": "bar",
         "x": [
          "C1 荞麦"
         ],
         "xaxis": "x",
         "y": [
          40
         ],
         "yaxis": "y"
        },
        {
         "alignmentgroup": "True",
         "hovertemplate": "作物=%{x}<br>销售单价 (元/斤)=%{y}<extra></extra>",
         "legendgroup": "南瓜",
         "marker": {
          "color": "#ab63fa",
          "pattern": {
           "shape": ""
          }
         },
         "name": "南瓜",
         "offsetgroup": "南瓜",
         "orientation": "v",
         "showlegend": true,
         "textposition": "auto",
         "type": "bar",
         "x": [
          "C2 南瓜"
         ],
         "xaxis": "x",
         "y": [
          1.5
         ],
         "yaxis": "y"
        },
        {
         "alignmentgroup": "True",
         "hovertemplate": "作物=%{x}<br>销售单价 (元/斤)=%{y}<extra></extra>",
         "legendgroup": "红薯",
         "marker": {
          "color": "#FFA15A",
          "pattern": {
           "shape": ""
          }
         },
         "name": "红薯",
         "offsetgroup": "红薯",
         "orientation": "v",
         "showlegend": true,
         "textposition": "auto",
         "type": "bar",
         "x": [
          "C4 红薯"
         ],
         "xaxis": "x",
         "y": [
          3.25
         ],
         "yaxis": "y"
        },
        {
         "alignmentgroup": "True",
         "hovertemplate": "作物=%{x}<br>销售单价 (元/斤)=%{y}<extra></extra>",
         "legendgroup": "土豆",
         "marker": {
          "color": "#19d3f3",
          "pattern": {
           "shape": ""
          }
         },
         "name": "土豆",
         "offsetgroup": "土豆",
         "orientation": "v",
         "showlegend": true,
         "textposition": "auto",
         "type": "bar",
         "x": [
          "D1 土豆"
         ],
         "xaxis": "x",
         "y": [
          3.75
         ],
         "yaxis": "y"
        },
        {
         "alignmentgroup": "True",
         "hovertemplate": "作物=%{x}<br>销售单价 (元/斤)=%{y}<extra></extra>",
         "legendgroup": "白萝卜",
         "marker": {
          "color": "#FF6692",
          "pattern": {
           "shape": ""
          }
         },
         "name": "白萝卜",
         "offsetgroup": "白萝卜",
         "orientation": "v",
         "showlegend": true,
         "textposition": "auto",
         "type": "bar",
         "x": [
          "D1 白萝卜",
          "D5 白萝卜"
         ],
         "xaxis": "x",
         "y": [
          2.5,
          2.5
         ],
         "yaxis": "y"
        },
        {
         "alignmentgroup": "True",
         "hovertemplate": "作物=%{x}<br>销售单价 (元/斤)=%{y}<extra></extra>",
         "legendgroup": "小青菜",
         "marker": {
          "color": "#B6E880",
          "pattern": {
           "shape": ""
          }
         },
         "name": "小青菜",
         "offsetgroup": "小青菜",
         "orientation": "v",
         "showlegend": true,
         "textposition": "auto",
         "type": "bar",
         "x": [
          "D2 小青菜",
          "E5 小青菜",
          "F3 小青菜"
         ],
         "xaxis": "x",
         "y": [
          5.75,
          5.75,
          6.9
         ],
         "yaxis": "y"
        },
        {
         "alignmentgroup": "True",
         "hovertemplate": "作物=%{x}<br>销售单价 (元/斤)=%{y}<extra></extra>",
         "legendgroup": "大白菜",
         "marker": {
          "color": "#FF97FF",
          "pattern": {
           "shape": ""
          }
         },
         "name": "大白菜",
         "offsetgroup": "大白菜",
         "orientation": "v",
         "showlegend": true,
         "textposition": "auto",
         "type": "bar",
         "x": [
          "D2 大白菜",
          "D3 大白菜",
          "D4 大白菜"
         ],
         "xaxis": "x",
         "y": [
          2.5,
          2.5,
          2.5
         ],
         "yaxis": "y"
        },
        {
         "alignmentgroup": "True",
         "hovertemplate": "作物=%{x}<br>销售单价 (元/斤)=%{y}<extra></extra>",
         "legendgroup": "西红柿",
         "marker": {
          "color": "#FECB52",
          "pattern": {
           "shape": ""
          }
         },
         "name": "西红柿",
         "offsetgroup": "西红柿",
         "orientation": "v",
         "showlegend": true,
         "textposition": "auto",
         "type": "bar",
         "x": [
          "D3 西红柿",
          "E13 西红柿",
          "F1 西红柿"
         ],
         "xaxis": "x",
         "y": [
          6.25,
          6.25,
          7.5
         ],
         "yaxis": "y"
        },
        {
         "alignmentgroup": "True",
         "hovertemplate": "作物=%{x}<br>销售单价 (元/斤)=%{y}<extra></extra>",
         "legendgroup": "茄子",
         "marker": {
          "color": "#636efa",
          "pattern": {
           "shape": ""
          }
         },
         "name": "茄子",
         "offsetgroup": "茄子",
         "orientation": "v",
         "showlegend": true,
         "textposition": "auto",
         "type": "bar",
         "x": [
          "D4 茄子",
          "E12 茄子",
          "F2 茄子"
         ],
         "xaxis": "x",
         "y": [
          5.5,
          5.5,
          6.6
         ],
         "yaxis": "y"
        },
        {
         "alignmentgroup": "True",
         "hovertemplate": "作物=%{x}<br>销售单价 (元/斤)=%{y}<extra></extra>",
         "legendgroup": "豇豆",
         "marker": {
          "color": "#EF553B",
          "pattern": {
           "shape": ""
          }
         },
         "name": "豇豆",
         "offsetgroup": "豇豆",
         "orientation": "v",
         "showlegend": true,
         "textposition": "auto",
         "type": "bar",
         "x": [
          "D5 豇豆",
          "E10 豇豆",
          "E11 豇豆",
          "F3 豇豆"
         ],
         "xaxis": "x",
         "y": [
          8,
          8,
          8,
          9.6
         ],
         "yaxis": "y"
        },
        {
         "alignmentgroup": "True",
         "hovertemplate": "作物=%{x}<br>销售单价 (元/斤)=%{y}<extra></extra>",
         "legendgroup": "刀豆",
         "marker": {
          "color": "#00cc96",
          "pattern": {
           "shape": ""
          }
         },
         "name": "刀豆",
         "offsetgroup": "刀豆",
         "orientation": "v",
         "showlegend": true,
         "textposition": "auto",
         "type": "bar",
         "x": [
          "D6 刀豆",
          "E1 刀豆",
          "E9 刀豆"
         ],
         "xaxis": "x",
         "y": [
          6.75,
          6.75,
          6.75
         ],
         "yaxis": "y"
        },
        {
         "alignmentgroup": "True",
         "hovertemplate": "作物=%{x}<br>销售单价 (元/斤)=%{y}<extra></extra>",
         "legendgroup": "红萝卜",
         "marker": {
          "color": "#ab63fa",
          "pattern": {
           "shape": ""
          }
         },
         "name": "红萝卜",
         "offsetgroup": "红萝卜",
         "orientation": "v",
         "showlegend": true,
         "textposition": "auto",
         "type": "bar",
         "x": [
          "D6 红萝卜"
         ],
         "xaxis": "x",
         "y": [
          3.25
         ],
         "yaxis": "y"
        },
        {
         "alignmentgroup": "True",
         "hovertemplate": "作物=%{x}<br>销售单价 (元/斤)=%{y}<extra></extra>",
         "legendgroup": "水稻",
         "marker": {
          "color": "#FFA15A",
          "pattern": {
           "shape": ""
          }
         },
         "name": "水稻",
         "offsetgroup": "水稻",
         "orientation": "v",
         "showlegend": true,
         "textposition": "auto",
         "type": "bar",
         "x": [
          "D7 水稻",
          "D8 水稻"
         ],
         "xaxis": "x",
         "y": [
          7,
          7
         ],
         "yaxis": "y"
        },
        {
         "alignmentgroup": "True",
         "hovertemplate": "作物=%{x}<br>销售单价 (元/斤)=%{y}<extra></extra>",
         "legendgroup": "榆黄菇",
         "marker": {
          "color": "#19d3f3",
          "pattern": {
           "shape": ""
          }
         },
         "name": "榆黄菇",
         "offsetgroup": "榆黄菇",
         "orientation": "v",
         "showlegend": true,
         "textposition": "auto",
         "type": "bar",
         "x": [
          "E1 榆黄菇",
          "E2 榆黄菇",
          "E3 榆黄菇"
         ],
         "xaxis": "x",
         "y": [
          57.5,
          57.5,
          57.5
         ],
         "yaxis": "y"
        },
        {
         "alignmentgroup": "True",
         "hovertemplate": "作物=%{x}<br>销售单价 (元/斤)=%{y}<extra></extra>",
         "legendgroup": "青椒",
         "marker": {
          "color": "#FF6692",
          "pattern": {
           "shape": ""
          }
         },
         "name": "青椒",
         "offsetgroup": "青椒",
         "orientation": "v",
         "showlegend": true,
         "textposition": "auto",
         "type": "bar",
         "x": [
          "E2 青椒",
          "F1 青椒"
         ],
         "xaxis": "x",
         "y": [
          5.25,
          6.8
         ],
         "yaxis": "y"
        },
        {
         "alignmentgroup": "True",
         "hovertemplate": "作物=%{x}<br>销售单价 (元/斤)=%{y}<extra></extra>",
         "legendgroup": "菜花",
         "marker": {
          "color": "#B6E880",
          "pattern": {
           "shape": ""
          }
         },
         "name": "菜花",
         "offsetgroup": "菜花",
         "orientation": "v",
         "showlegend": true,
         "textposition": "auto",
         "type": "bar",
         "x": [
          "E3 菜花",
          "F2 菜花"
         ],
         "xaxis": "x",
         "y": [
          5.5,
          6.6
         ],
         "yaxis": "y"
        },
        {
         "alignmentgroup": "True",
         "hovertemplate": "作物=%{x}<br>销售单价 (元/斤)=%{y}<extra></extra>",
         "legendgroup": "包菜",
         "marker": {
          "color": "#FF97FF",
          "pattern": {
           "shape": ""
          }
         },
         "name": "包菜",
         "offsetgroup": "包菜",
         "orientation": "v",
         "showlegend": true,
         "textposition": "auto",
         "type": "bar",
         "x": [
          "E4 包菜",
          "F2 包菜"
         ],
         "xaxis": "x",
         "y": [
          6.5,
          7.8
         ],
         "yaxis": "y"
        },
        {
         "alignmentgroup": "True",
         "hovertemplate": "作物=%{x}<br>销售单价 (元/斤)=%{y}<extra></extra>",
         "legendgroup": "香菇",
         "marker": {
          "color": "#FECB52",
          "pattern": {
           "shape": ""
          }
         },
         "name": "香菇",
         "offsetgroup": "香菇",
         "orientation": "v",
         "showlegend": true,
         "textposition": "auto",
         "type": "bar",
         "x": [
          "E4 香菇",
          "E5 香菇",
          "E6 香菇"
         ],
         "xaxis": "x",
         "y": [
          19,
          19,
          19
         ],
         "yaxis": "y"
        },
        {
         "alignmentgroup": "True",
         "hovertemplate": "作物=%{x}<br>销售单价 (元/斤)=%{y}<extra></extra>",
         "legendgroup": "油麦菜",
         "marker": {
          "color": "#636efa",
          "pattern": {
           "shape": ""
          }
         },
         "name": "油麦菜",
         "offsetgroup": "油麦菜",
         "orientation": "v",
         "showlegend": true,
         "textposition": "auto",
         "type": "bar",
         "x": [
          "E6 油麦菜",
          "E15 油麦菜"
         ],
         "xaxis": "x",
         "y": [
          5,
          5
         ],
         "yaxis": "y"
        },
        {
         "alignmentgroup": "True",
         "hovertemplate": "作物=%{x}<br>销售单价 (元/斤)=%{y}<extra></extra>",
         "legendgroup": "芸豆",
         "marker": {
          "color": "#EF553B",
          "pattern": {
           "shape": ""
          }
         },
         "name": "芸豆",
         "offsetgroup": "芸豆",
         "orientation": "v",
         "showlegend": true,
         "textposition": "auto",
         "type": "bar",
         "x": [
          "E7 芸豆",
          "E8 芸豆",
          "F4 芸豆"
         ],
         "xaxis": "x",
         "y": [
          6.5,
          6.5,
          7.8
         ],
         "yaxis": "y"
        },
        {
         "alignmentgroup": "True",
         "hovertemplate": "作物=%{x}<br>销售单价 (元/斤)=%{y}<extra></extra>",
         "legendgroup": "白灵菇",
         "marker": {
          "color": "#00cc96",
          "pattern": {
           "shape": ""
          }
         },
         "name": "白灵菇",
         "offsetgroup": "白灵菇",
         "orientation": "v",
         "showlegend": true,
         "textposition": "auto",
         "type": "bar",
         "x": [
          "E7 白灵菇",
          "E8 白灵菇",
          "E9 白灵菇"
         ],
         "xaxis": "x",
         "y": [
          16,
          16,
          16
         ],
         "yaxis": "y"
        },
        {
         "alignmentgroup": "True",
         "hovertemplate": "作物=%{x}<br>销售单价 (元/斤)=%{y}<extra></extra>",
         "legendgroup": "羊肚菌",
         "marker": {
          "color": "#ab63fa",
          "pattern": {
           "shape": ""
          }
         },
         "name": "羊肚菌",
         "offsetgroup": "羊肚菌",
         "orientation": "v",
         "showlegend": true,
         "textposition": "auto",
         "type": "bar",
         "x": [
          "E10 羊肚菌",
          "E11 羊肚菌",
          "E12 羊肚菌",
          "E13 羊肚菌",
          "E14 羊肚菌",
          "E15 羊肚菌",
          "E16 羊肚菌"
         ],
         "xaxis": "x",
         "y": [
          100,
          100,
          100,
          100,
          100,
          100,
          100
         ],
         "yaxis": "y"
        },
        {
         "alignmentgroup": "True",
         "hovertemplate": "作物=%{x}<br>销售单价 (元/斤)=%{y}<extra></extra>",
         "legendgroup": "黄瓜",
         "marker": {
          "color": "#FFA15A",
          "pattern": {
           "shape": ""
          }
         },
         "name": "黄瓜",
         "offsetgroup": "黄瓜",
         "orientation": "v",
         "showlegend": true,
         "textposition": "auto",
         "type": "bar",
         "x": [
          "E14 黄瓜",
          "F2 黄瓜"
         ],
         "xaxis": "x",
         "y": [
          7,
          8.4
         ],
         "yaxis": "y"
        },
        {
         "alignmentgroup": "True",
         "hovertemplate": "作物=%{x}<br>销售单价 (元/斤)=%{y}<extra></extra>",
         "legendgroup": "生菜",
         "marker": {
          "color": "#19d3f3",
          "pattern": {
           "shape": ""
          }
         },
         "name": "生菜",
         "offsetgroup": "生菜",
         "orientation": "v",
         "showlegend": true,
         "textposition": "auto",
         "type": "bar",
         "x": [
          "E15 生菜",
          "F3 生菜"
         ],
         "xaxis": "x",
         "y": [
          5.25,
          6.300000000000001
         ],
         "yaxis": "y"
        },
        {
         "alignmentgroup": "True",
         "hovertemplate": "作物=%{x}<br>销售单价 (元/斤)=%{y}<extra></extra>",
         "legendgroup": "辣椒",
         "marker": {
          "color": "#FF6692",
          "pattern": {
           "shape": ""
          }
         },
         "name": "辣椒",
         "offsetgroup": "辣椒",
         "orientation": "v",
         "showlegend": true,
         "textposition": "auto",
         "type": "bar",
         "x": [
          "E16 辣椒"
         ],
         "xaxis": "x",
         "y": [
          7.25
         ],
         "yaxis": "y"
        },
        {
         "alignmentgroup": "True",
         "hovertemplate": "作物=%{x}<br>销售单价 (元/斤)=%{y}<extra></extra>",
         "legendgroup": "空心菜",
         "marker": {
          "color": "#B6E880",
          "pattern": {
           "shape": ""
          }
         },
         "name": "空心菜",
         "offsetgroup": "空心菜",
         "orientation": "v",
         "showlegend": true,
         "textposition": "auto",
         "type": "bar",
         "x": [
          "F1 空心菜"
         ],
         "xaxis": "x",
         "y": [
          5.4
         ],
         "yaxis": "y"
        },
        {
         "alignmentgroup": "True",
         "hovertemplate": "作物=%{x}<br>销售单价 (元/斤)=%{y}<extra></extra>",
         "legendgroup": "黄心菜",
         "marker": {
          "color": "#FF97FF",
          "pattern": {
           "shape": ""
          }
         },
         "name": "黄心菜",
         "offsetgroup": "黄心菜",
         "orientation": "v",
         "showlegend": true,
         "textposition": "auto",
         "type": "bar",
         "x": [
          "F1 黄心菜"
         ],
         "xaxis": "x",
         "y": [
          5.4
         ],
         "yaxis": "y"
        },
        {
         "alignmentgroup": "True",
         "hovertemplate": "作物=%{x}<br>销售单价 (元/斤)=%{y}<extra></extra>",
         "legendgroup": "芹菜",
         "marker": {
          "color": "#FECB52",
          "pattern": {
           "shape": ""
          }
         },
         "name": "芹菜",
         "offsetgroup": "芹菜",
         "orientation": "v",
         "showlegend": true,
         "textposition": "auto",
         "type": "bar",
         "x": [
          "F4 芹菜"
         ],
         "xaxis": "x",
         "y": [
          4.8
         ],
         "yaxis": "y"
        },
        {
         "alignmentgroup": "True",
         "hovertemplate": "作物=%{x}<br>销售单价 (元/斤)=%{y}<extra></extra>",
         "legendgroup": "菠菜",
         "marker": {
          "color": "#636efa",
          "pattern": {
           "shape": ""
          }
         },
         "name": "菠菜",
         "offsetgroup": "菠菜",
         "orientation": "v",
         "showlegend": true,
         "textposition": "auto",
         "type": "bar",
         "x": [
          "F4 菠菜"
         ],
         "xaxis": "x",
         "y": [
          6.9
         ],
         "yaxis": "y"
        }
       ],
       "layout": {
        "barmode": "relative",
        "height": 750,
        "legend": {
         "title": {
          "text": "作物"
         },
         "tracegroupgap": 0
        },
        "showlegend": false,
        "template": {
         "data": {
          "bar": [
           {
            "error_x": {
             "color": "#2a3f5f"
            },
            "error_y": {
             "color": "#2a3f5f"
            },
            "marker": {
             "line": {
              "color": "#E5ECF6",
              "width": 0.5
             },
             "pattern": {
              "fillmode": "overlay",
              "size": 10,
              "solidity": 0.2
             }
            },
            "type": "bar"
           }
          ],
          "barpolar": [
           {
            "marker": {
             "line": {
              "color": "#E5ECF6",
              "width": 0.5
             },
             "pattern": {
              "fillmode": "overlay",
              "size": 10,
              "solidity": 0.2
             }
            },
            "type": "barpolar"
           }
          ],
          "carpet": [
           {
            "aaxis": {
             "endlinecolor": "#2a3f5f",
             "gridcolor": "white",
             "linecolor": "white",
             "minorgridcolor": "white",
             "startlinecolor": "#2a3f5f"
            },
            "baxis": {
             "endlinecolor": "#2a3f5f",
             "gridcolor": "white",
             "linecolor": "white",
             "minorgridcolor": "white",
             "startlinecolor": "#2a3f5f"
            },
            "type": "carpet"
           }
          ],
          "choropleth": [
           {
            "colorbar": {
             "outlinewidth": 0,
             "ticks": ""
            },
            "type": "choropleth"
           }
          ],
          "contour": [
           {
            "colorbar": {
             "outlinewidth": 0,
             "ticks": ""
            },
            "colorscale": [
             [
              0,
              "#0d0887"
             ],
             [
              0.1111111111111111,
              "#46039f"
             ],
             [
              0.2222222222222222,
              "#7201a8"
             ],
             [
              0.3333333333333333,
              "#9c179e"
             ],
             [
              0.4444444444444444,
              "#bd3786"
             ],
             [
              0.5555555555555556,
              "#d8576b"
             ],
             [
              0.6666666666666666,
              "#ed7953"
             ],
             [
              0.7777777777777778,
              "#fb9f3a"
             ],
             [
              0.8888888888888888,
              "#fdca26"
             ],
             [
              1,
              "#f0f921"
             ]
            ],
            "type": "contour"
           }
          ],
          "contourcarpet": [
           {
            "colorbar": {
             "outlinewidth": 0,
             "ticks": ""
            },
            "type": "contourcarpet"
           }
          ],
          "heatmap": [
           {
            "colorbar": {
             "outlinewidth": 0,
             "ticks": ""
            },
            "colorscale": [
             [
              0,
              "#0d0887"
             ],
             [
              0.1111111111111111,
              "#46039f"
             ],
             [
              0.2222222222222222,
              "#7201a8"
             ],
             [
              0.3333333333333333,
              "#9c179e"
             ],
             [
              0.4444444444444444,
              "#bd3786"
             ],
             [
              0.5555555555555556,
              "#d8576b"
             ],
             [
              0.6666666666666666,
              "#ed7953"
             ],
             [
              0.7777777777777778,
              "#fb9f3a"
             ],
             [
              0.8888888888888888,
              "#fdca26"
             ],
             [
              1,
              "#f0f921"
             ]
            ],
            "type": "heatmap"
           }
          ],
          "heatmapgl": [
           {
            "colorbar": {
             "outlinewidth": 0,
             "ticks": ""
            },
            "colorscale": [
             [
              0,
              "#0d0887"
             ],
             [
              0.1111111111111111,
              "#46039f"
             ],
             [
              0.2222222222222222,
              "#7201a8"
             ],
             [
              0.3333333333333333,
              "#9c179e"
             ],
             [
              0.4444444444444444,
              "#bd3786"
             ],
             [
              0.5555555555555556,
              "#d8576b"
             ],
             [
              0.6666666666666666,
              "#ed7953"
             ],
             [
              0.7777777777777778,
              "#fb9f3a"
             ],
             [
              0.8888888888888888,
              "#fdca26"
             ],
             [
              1,
              "#f0f921"
             ]
            ],
            "type": "heatmapgl"
           }
          ],
          "histogram": [
           {
            "marker": {
             "pattern": {
              "fillmode": "overlay",
              "size": 10,
              "solidity": 0.2
             }
            },
            "type": "histogram"
           }
          ],
          "histogram2d": [
           {
            "colorbar": {
             "outlinewidth": 0,
             "ticks": ""
            },
            "colorscale": [
             [
              0,
              "#0d0887"
             ],
             [
              0.1111111111111111,
              "#46039f"
             ],
             [
              0.2222222222222222,
              "#7201a8"
             ],
             [
              0.3333333333333333,
              "#9c179e"
             ],
             [
              0.4444444444444444,
              "#bd3786"
             ],
             [
              0.5555555555555556,
              "#d8576b"
             ],
             [
              0.6666666666666666,
              "#ed7953"
             ],
             [
              0.7777777777777778,
              "#fb9f3a"
             ],
             [
              0.8888888888888888,
              "#fdca26"
             ],
             [
              1,
              "#f0f921"
             ]
            ],
            "type": "histogram2d"
           }
          ],
          "histogram2dcontour": [
           {
            "colorbar": {
             "outlinewidth": 0,
             "ticks": ""
            },
            "colorscale": [
             [
              0,
              "#0d0887"
             ],
             [
              0.1111111111111111,
              "#46039f"
             ],
             [
              0.2222222222222222,
              "#7201a8"
             ],
             [
              0.3333333333333333,
              "#9c179e"
             ],
             [
              0.4444444444444444,
              "#bd3786"
             ],
             [
              0.5555555555555556,
              "#d8576b"
             ],
             [
              0.6666666666666666,
              "#ed7953"
             ],
             [
              0.7777777777777778,
              "#fb9f3a"
             ],
             [
              0.8888888888888888,
              "#fdca26"
             ],
             [
              1,
              "#f0f921"
             ]
            ],
            "type": "histogram2dcontour"
           }
          ],
          "mesh3d": [
           {
            "colorbar": {
             "outlinewidth": 0,
             "ticks": ""
            },
            "type": "mesh3d"
           }
          ],
          "parcoords": [
           {
            "line": {
             "colorbar": {
              "outlinewidth": 0,
              "ticks": ""
             }
            },
            "type": "parcoords"
           }
          ],
          "pie": [
           {
            "automargin": true,
            "type": "pie"
           }
          ],
          "scatter": [
           {
            "fillpattern": {
             "fillmode": "overlay",
             "size": 10,
             "solidity": 0.2
            },
            "type": "scatter"
           }
          ],
          "scatter3d": [
           {
            "line": {
             "colorbar": {
              "outlinewidth": 0,
              "ticks": ""
             }
            },
            "marker": {
             "colorbar": {
              "outlinewidth": 0,
              "ticks": ""
             }
            },
            "type": "scatter3d"
           }
          ],
          "scattercarpet": [
           {
            "marker": {
             "colorbar": {
              "outlinewidth": 0,
              "ticks": ""
             }
            },
            "type": "scattercarpet"
           }
          ],
          "scattergeo": [
           {
            "marker": {
             "colorbar": {
              "outlinewidth": 0,
              "ticks": ""
             }
            },
            "type": "scattergeo"
           }
          ],
          "scattergl": [
           {
            "marker": {
             "colorbar": {
              "outlinewidth": 0,
              "ticks": ""
             }
            },
            "type": "scattergl"
           }
          ],
          "scattermapbox": [
           {
            "marker": {
             "colorbar": {
              "outlinewidth": 0,
              "ticks": ""
             }
            },
            "type": "scattermapbox"
           }
          ],
          "scatterpolar": [
           {
            "marker": {
             "colorbar": {
              "outlinewidth": 0,
              "ticks": ""
             }
            },
            "type": "scatterpolar"
           }
          ],
          "scatterpolargl": [
           {
            "marker": {
             "colorbar": {
              "outlinewidth": 0,
              "ticks": ""
             }
            },
            "type": "scatterpolargl"
           }
          ],
          "scatterternary": [
           {
            "marker": {
             "colorbar": {
              "outlinewidth": 0,
              "ticks": ""
             }
            },
            "type": "scatterternary"
           }
          ],
          "surface": [
           {
            "colorbar": {
             "outlinewidth": 0,
             "ticks": ""
            },
            "colorscale": [
             [
              0,
              "#0d0887"
             ],
             [
              0.1111111111111111,
              "#46039f"
             ],
             [
              0.2222222222222222,
              "#7201a8"
             ],
             [
              0.3333333333333333,
              "#9c179e"
             ],
             [
              0.4444444444444444,
              "#bd3786"
             ],
             [
              0.5555555555555556,
              "#d8576b"
             ],
             [
              0.6666666666666666,
              "#ed7953"
             ],
             [
              0.7777777777777778,
              "#fb9f3a"
             ],
             [
              0.8888888888888888,
              "#fdca26"
             ],
             [
              1,
              "#f0f921"
             ]
            ],
            "type": "surface"
           }
          ],
          "table": [
           {
            "cells": {
             "fill": {
              "color": "#EBF0F8"
             },
             "line": {
              "color": "white"
             }
            },
            "header": {
             "fill": {
              "color": "#C8D4E3"
             },
             "line": {
              "color": "white"
             }
            },
            "type": "table"
           }
          ]
         },
         "layout": {
          "annotationdefaults": {
           "arrowcolor": "#2a3f5f",
           "arrowhead": 0,
           "arrowwidth": 1
          },
          "autotypenumbers": "strict",
          "coloraxis": {
           "colorbar": {
            "outlinewidth": 0,
            "ticks": ""
           }
          },
          "colorscale": {
           "diverging": [
            [
             0,
             "#8e0152"
            ],
            [
             0.1,
             "#c51b7d"
            ],
            [
             0.2,
             "#de77ae"
            ],
            [
             0.3,
             "#f1b6da"
            ],
            [
             0.4,
             "#fde0ef"
            ],
            [
             0.5,
             "#f7f7f7"
            ],
            [
             0.6,
             "#e6f5d0"
            ],
            [
             0.7,
             "#b8e186"
            ],
            [
             0.8,
             "#7fbc41"
            ],
            [
             0.9,
             "#4d9221"
            ],
            [
             1,
             "#276419"
            ]
           ],
           "sequential": [
            [
             0,
             "#0d0887"
            ],
            [
             0.1111111111111111,
             "#46039f"
            ],
            [
             0.2222222222222222,
             "#7201a8"
            ],
            [
             0.3333333333333333,
             "#9c179e"
            ],
            [
             0.4444444444444444,
             "#bd3786"
            ],
            [
             0.5555555555555556,
             "#d8576b"
            ],
            [
             0.6666666666666666,
             "#ed7953"
            ],
            [
             0.7777777777777778,
             "#fb9f3a"
            ],
            [
             0.8888888888888888,
             "#fdca26"
            ],
            [
             1,
             "#f0f921"
            ]
           ],
           "sequentialminus": [
            [
             0,
             "#0d0887"
            ],
            [
             0.1111111111111111,
             "#46039f"
            ],
            [
             0.2222222222222222,
             "#7201a8"
            ],
            [
             0.3333333333333333,
             "#9c179e"
            ],
            [
             0.4444444444444444,
             "#bd3786"
            ],
            [
             0.5555555555555556,
             "#d8576b"
            ],
            [
             0.6666666666666666,
             "#ed7953"
            ],
            [
             0.7777777777777778,
             "#fb9f3a"
            ],
            [
             0.8888888888888888,
             "#fdca26"
            ],
            [
             1,
             "#f0f921"
            ]
           ]
          },
          "colorway": [
           "#636efa",
           "#EF553B",
           "#00cc96",
           "#ab63fa",
           "#FFA15A",
           "#19d3f3",
           "#FF6692",
           "#B6E880",
           "#FF97FF",
           "#FECB52"
          ],
          "font": {
           "color": "#2a3f5f"
          },
          "geo": {
           "bgcolor": "white",
           "lakecolor": "white",
           "landcolor": "#E5ECF6",
           "showlakes": true,
           "showland": true,
           "subunitcolor": "white"
          },
          "hoverlabel": {
           "align": "left"
          },
          "hovermode": "closest",
          "mapbox": {
           "style": "light"
          },
          "paper_bgcolor": "white",
          "plot_bgcolor": "#E5ECF6",
          "polar": {
           "angularaxis": {
            "gridcolor": "white",
            "linecolor": "white",
            "ticks": ""
           },
           "bgcolor": "#E5ECF6",
           "radialaxis": {
            "gridcolor": "white",
            "linecolor": "white",
            "ticks": ""
           }
          },
          "scene": {
           "xaxis": {
            "backgroundcolor": "#E5ECF6",
            "gridcolor": "white",
            "gridwidth": 2,
            "linecolor": "white",
            "showbackground": true,
            "ticks": "",
            "zerolinecolor": "white"
           },
           "yaxis": {
            "backgroundcolor": "#E5ECF6",
            "gridcolor": "white",
            "gridwidth": 2,
            "linecolor": "white",
            "showbackground": true,
            "ticks": "",
            "zerolinecolor": "white"
           },
           "zaxis": {
            "backgroundcolor": "#E5ECF6",
            "gridcolor": "white",
            "gridwidth": 2,
            "linecolor": "white",
            "showbackground": true,
            "ticks": "",
            "zerolinecolor": "white"
           }
          },
          "shapedefaults": {
           "line": {
            "color": "#2a3f5f"
           }
          },
          "ternary": {
           "aaxis": {
            "gridcolor": "white",
            "linecolor": "white",
            "ticks": ""
           },
           "baxis": {
            "gridcolor": "white",
            "linecolor": "white",
            "ticks": ""
           },
           "bgcolor": "#E5ECF6",
           "caxis": {
            "gridcolor": "white",
            "linecolor": "white",
            "ticks": ""
           }
          },
          "title": {
           "x": 0.05
          },
          "xaxis": {
           "automargin": true,
           "gridcolor": "white",
           "linecolor": "white",
           "ticks": "",
           "title": {
            "standoff": 15
           },
           "zerolinecolor": "white",
           "zerolinewidth": 2
          },
          "yaxis": {
           "automargin": true,
           "gridcolor": "white",
           "linecolor": "white",
           "ticks": "",
           "title": {
            "standoff": 15
           },
           "zerolinecolor": "white",
           "zerolinewidth": 2
          }
         }
        },
        "title": {
         "text": "同一作物在不同地块下的销售单价"
        },
        "width": 1500,
        "xaxis": {
         "anchor": "y",
         "domain": [
          0,
          1
         ],
         "title": {
          "text": "作物"
         }
        },
        "yaxis": {
         "anchor": "x",
         "domain": [
          0,
          1
         ],
         "title": {
          "text": "销售单价 (元/斤)"
         },
         "type": "log"
        }
       }
      },
      "text/html": [
       "<div>                            <div id=\"39d8e313-cd77-4644-9cbc-aaf149129796\" class=\"plotly-graph-div\" style=\"height:750px; width:1500px;\"></div>            <script type=\"text/javascript\">                require([\"plotly\"], function(Plotly) {                    window.PLOTLYENV=window.PLOTLYENV || {};                                    if (document.getElementById(\"39d8e313-cd77-4644-9cbc-aaf149129796\")) {                    Plotly.newPlot(                        \"39d8e313-cd77-4644-9cbc-aaf149129796\",                        [{\"alignmentgroup\":\"True\",\"hovertemplate\":\"\\u4f5c\\u7269=%{x}\\u003cbr\\u003e\\u9500\\u552e\\u5355\\u4ef7 (\\u5143\\u002f\\u65a4)=%{y}\\u003cextra\\u003e\\u003c\\u002fextra\\u003e\",\"legendgroup\":\"\\u5c0f\\u9ea6\",\"marker\":{\"color\":\"#636efa\",\"pattern\":{\"shape\":\"\"}},\"name\":\"\\u5c0f\\u9ea6\",\"offsetgroup\":\"\\u5c0f\\u9ea6\",\"orientation\":\"v\",\"showlegend\":true,\"textposition\":\"auto\",\"x\":[\"A1 \\u5c0f\\u9ea6\",\"B1 \\u5c0f\\u9ea6\",\"B7 \\u5c0f\\u9ea6\",\"C5 \\u5c0f\\u9ea6\"],\"xaxis\":\"x\",\"y\":[3.5,3.5,3.5,3.5],\"yaxis\":\"y\",\"type\":\"bar\"},{\"alignmentgroup\":\"True\",\"hovertemplate\":\"\\u4f5c\\u7269=%{x}\\u003cbr\\u003e\\u9500\\u552e\\u5355\\u4ef7 (\\u5143\\u002f\\u65a4)=%{y}\\u003cextra\\u003e\\u003c\\u002fextra\\u003e\",\"legendgroup\":\"\\u7389\\u7c73\",\"marker\":{\"color\":\"#EF553B\",\"pattern\":{\"shape\":\"\"}},\"name\":\"\\u7389\\u7c73\",\"offsetgroup\":\"\\u7389\\u7c73\",\"orientation\":\"v\",\"showlegend\":true,\"textposition\":\"auto\",\"x\":[\"A2 \\u7389\\u7c73\",\"A3 \\u7389\\u7c73\",\"B12 \\u7389\\u7c73\"],\"xaxis\":\"x\",\"y\":[3.0,3.0,3.0],\"yaxis\":\"y\",\"type\":\"bar\"},{\"alignmentgroup\":\"True\",\"hovertemplate\":\"\\u4f5c\\u7269=%{x}\\u003cbr\\u003e\\u9500\\u552e\\u5355\\u4ef7 (\\u5143\\u002f\\u65a4)=%{y}\\u003cextra\\u003e\\u003c\\u002fextra\\u003e\",\"legendgroup\":\"\\u9ec4\\u8c46\",\"marker\":{\"color\":\"#00cc96\",\"pattern\":{\"shape\":\"\"}},\"name\":\"\\u9ec4\\u8c46\",\"offsetgroup\":\"\\u9ec4\\u8c46\",\"orientation\":\"v\",\"showlegend\":true,\"textposition\":\"auto\",\"x\":[\"A4 \\u9ec4\\u8c46\",\"B11 \\u9ec4\\u8c46\",\"C3 \\u9ec4\\u8c46\"],\"xaxis\":\"x\",\"y\":[3.25,3.25,3.25],\"yaxis\":\"y\",\"type\":\"bar\"},{\"alignmentgroup\":\"True\",\"hovertemplate\":\"\\u4f5c\\u7269=%{x}\\u003cbr\\u003e\\u9500\\u552e\\u5355\\u4ef7 (\\u5143\\u002f\\u65a4)=%{y}\\u003cextra\\u003e\\u003c\\u002fextra\\u003e\",\"legendgroup\":\"\\u7eff\\u8c46\",\"marker\":{\"color\":\"#ab63fa\",\"pattern\":{\"shape\":\"\"}},\"name\":\"\\u7eff\\u8c46\",\"offsetgroup\":\"\\u7eff\\u8c46\",\"orientation\":\"v\",\"showlegend\":true,\"textposition\":\"auto\",\"x\":[\"A5 \\u7eff\\u8c46\",\"B4 \\u7eff\\u8c46\"],\"xaxis\":\"x\",\"y\":[7.0,7.0],\"yaxis\":\"y\",\"type\":\"bar\"},{\"alignmentgroup\":\"True\",\"hovertemplate\":\"\\u4f5c\\u7269=%{x}\\u003cbr\\u003e\\u9500\\u552e\\u5355\\u4ef7 (\\u5143\\u002f\\u65a4)=%{y}\\u003cextra\\u003e\\u003c\\u002fextra\\u003e\",\"legendgroup\":\"\\u8c37\\u5b50\",\"marker\":{\"color\":\"#FFA15A\",\"pattern\":{\"shape\":\"\"}},\"name\":\"\\u8c37\\u5b50\",\"offsetgroup\":\"\\u8c37\\u5b50\",\"orientation\":\"v\",\"showlegend\":true,\"textposition\":\"auto\",\"x\":[\"A6 \\u8c37\\u5b50\",\"B6 \\u8c37\\u5b50\",\"B8 \\u8c37\\u5b50\"],\"xaxis\":\"x\",\"y\":[6.75,6.75,6.75],\"yaxis\":\"y\",\"type\":\"bar\"},{\"alignmentgroup\":\"True\",\"hovertemplate\":\"\\u4f5c\\u7269=%{x}\\u003cbr\\u003e\\u9500\\u552e\\u5355\\u4ef7 (\\u5143\\u002f\\u65a4)=%{y}\\u003cextra\\u003e\\u003c\\u002fextra\\u003e\",\"legendgroup\":\"\\u9ed1\\u8c46\",\"marker\":{\"color\":\"#19d3f3\",\"pattern\":{\"shape\":\"\"}},\"name\":\"\\u9ed1\\u8c46\",\"offsetgroup\":\"\\u9ed1\\u8c46\",\"orientation\":\"v\",\"showlegend\":true,\"textposition\":\"auto\",\"x\":[\"B2 \\u9ed1\\u8c46\"],\"xaxis\":\"x\",\"y\":[7.5],\"yaxis\":\"y\",\"type\":\"bar\"},{\"alignmentgroup\":\"True\",\"hovertemplate\":\"\\u4f5c\\u7269=%{x}\\u003cbr\\u003e\\u9500\\u552e\\u5355\\u4ef7 (\\u5143\\u002f\\u65a4)=%{y}\\u003cextra\\u003e\\u003c\\u002fextra\\u003e\",\"legendgroup\":\"\\u7ea2\\u8c46\",\"marker\":{\"color\":\"#FF6692\",\"pattern\":{\"shape\":\"\"}},\"name\":\"\\u7ea2\\u8c46\",\"offsetgroup\":\"\\u7ea2\\u8c46\",\"orientation\":\"v\",\"showlegend\":true,\"textposition\":\"auto\",\"x\":[\"B3 \\u7ea2\\u8c46\",\"C6 \\u7ea2\\u8c46\"],\"xaxis\":\"x\",\"y\":[8.25,8.25],\"yaxis\":\"y\",\"type\":\"bar\"},{\"alignmentgroup\":\"True\",\"hovertemplate\":\"\\u4f5c\\u7269=%{x}\\u003cbr\\u003e\\u9500\\u552e\\u5355\\u4ef7 (\\u5143\\u002f\\u65a4)=%{y}\\u003cextra\\u003e\\u003c\\u002fextra\\u003e\",\"legendgroup\":\"\\u722c\\u8c46\",\"marker\":{\"color\":\"#B6E880\",\"pattern\":{\"shape\":\"\"}},\"name\":\"\\u722c\\u8c46\",\"offsetgroup\":\"\\u722c\\u8c46\",\"orientation\":\"v\",\"showlegend\":true,\"textposition\":\"auto\",\"x\":[\"B5 \\u722c\\u8c46\"],\"xaxis\":\"x\",\"y\":[6.75],\"yaxis\":\"y\",\"type\":\"bar\"},{\"alignmentgroup\":\"True\",\"hovertemplate\":\"\\u4f5c\\u7269=%{x}\\u003cbr\\u003e\\u9500\\u552e\\u5355\\u4ef7 (\\u5143\\u002f\\u65a4)=%{y}\\u003cextra\\u003e\\u003c\\u002fextra\\u003e\",\"legendgroup\":\"\\u9ad8\\u7cb1\",\"marker\":{\"color\":\"#FF97FF\",\"pattern\":{\"shape\":\"\"}},\"name\":\"\\u9ad8\\u7cb1\",\"offsetgroup\":\"\\u9ad8\\u7cb1\",\"orientation\":\"v\",\"showlegend\":true,\"textposition\":\"auto\",\"x\":[\"B9 \\u9ad8\\u7cb1\"],\"xaxis\":\"x\",\"y\":[6.0],\"yaxis\":\"y\",\"type\":\"bar\"},{\"alignmentgroup\":\"True\",\"hovertemplate\":\"\\u4f5c\\u7269=%{x}\\u003cbr\\u003e\\u9500\\u552e\\u5355\\u4ef7 (\\u5143\\u002f\\u65a4)=%{y}\\u003cextra\\u003e\\u003c\\u002fextra\\u003e\",\"legendgroup\":\"\\u9ecd\\u5b50\",\"marker\":{\"color\":\"#FECB52\",\"pattern\":{\"shape\":\"\"}},\"name\":\"\\u9ecd\\u5b50\",\"offsetgroup\":\"\\u9ecd\\u5b50\",\"orientation\":\"v\",\"showlegend\":true,\"textposition\":\"auto\",\"x\":[\"B10 \\u9ecd\\u5b50\"],\"xaxis\":\"x\",\"y\":[7.5],\"yaxis\":\"y\",\"type\":\"bar\"},{\"alignmentgroup\":\"True\",\"hovertemplate\":\"\\u4f5c\\u7269=%{x}\\u003cbr\\u003e\\u9500\\u552e\\u5355\\u4ef7 (\\u5143\\u002f\\u65a4)=%{y}\\u003cextra\\u003e\\u003c\\u002fextra\\u003e\",\"legendgroup\":\"\\u839c\\u9ea6\",\"marker\":{\"color\":\"#636efa\",\"pattern\":{\"shape\":\"\"}},\"name\":\"\\u839c\\u9ea6\",\"offsetgroup\":\"\\u839c\\u9ea6\",\"orientation\":\"v\",\"showlegend\":true,\"textposition\":\"auto\",\"x\":[\"B13 \\u839c\\u9ea6\"],\"xaxis\":\"x\",\"y\":[5.5],\"yaxis\":\"y\",\"type\":\"bar\"},{\"alignmentgroup\":\"True\",\"hovertemplate\":\"\\u4f5c\\u7269=%{x}\\u003cbr\\u003e\\u9500\\u552e\\u5355\\u4ef7 (\\u5143\\u002f\\u65a4)=%{y}\\u003cextra\\u003e\\u003c\\u002fextra\\u003e\",\"legendgroup\":\"\\u5927\\u9ea6\",\"marker\":{\"color\":\"#EF553B\",\"pattern\":{\"shape\":\"\"}},\"name\":\"\\u5927\\u9ea6\",\"offsetgroup\":\"\\u5927\\u9ea6\",\"orientation\":\"v\",\"showlegend\":true,\"textposition\":\"auto\",\"x\":[\"B14 \\u5927\\u9ea6\"],\"xaxis\":\"x\",\"y\":[3.5],\"yaxis\":\"y\",\"type\":\"bar\"},{\"alignmentgroup\":\"True\",\"hovertemplate\":\"\\u4f5c\\u7269=%{x}\\u003cbr\\u003e\\u9500\\u552e\\u5355\\u4ef7 (\\u5143\\u002f\\u65a4)=%{y}\\u003cextra\\u003e\\u003c\\u002fextra\\u003e\",\"legendgroup\":\"\\u835e\\u9ea6\",\"marker\":{\"color\":\"#00cc96\",\"pattern\":{\"shape\":\"\"}},\"name\":\"\\u835e\\u9ea6\",\"offsetgroup\":\"\\u835e\\u9ea6\",\"orientation\":\"v\",\"showlegend\":true,\"textposition\":\"auto\",\"x\":[\"C1 \\u835e\\u9ea6\"],\"xaxis\":\"x\",\"y\":[40.0],\"yaxis\":\"y\",\"type\":\"bar\"},{\"alignmentgroup\":\"True\",\"hovertemplate\":\"\\u4f5c\\u7269=%{x}\\u003cbr\\u003e\\u9500\\u552e\\u5355\\u4ef7 (\\u5143\\u002f\\u65a4)=%{y}\\u003cextra\\u003e\\u003c\\u002fextra\\u003e\",\"legendgroup\":\"\\u5357\\u74dc\",\"marker\":{\"color\":\"#ab63fa\",\"pattern\":{\"shape\":\"\"}},\"name\":\"\\u5357\\u74dc\",\"offsetgroup\":\"\\u5357\\u74dc\",\"orientation\":\"v\",\"showlegend\":true,\"textposition\":\"auto\",\"x\":[\"C2 \\u5357\\u74dc\"],\"xaxis\":\"x\",\"y\":[1.5],\"yaxis\":\"y\",\"type\":\"bar\"},{\"alignmentgroup\":\"True\",\"hovertemplate\":\"\\u4f5c\\u7269=%{x}\\u003cbr\\u003e\\u9500\\u552e\\u5355\\u4ef7 (\\u5143\\u002f\\u65a4)=%{y}\\u003cextra\\u003e\\u003c\\u002fextra\\u003e\",\"legendgroup\":\"\\u7ea2\\u85af\",\"marker\":{\"color\":\"#FFA15A\",\"pattern\":{\"shape\":\"\"}},\"name\":\"\\u7ea2\\u85af\",\"offsetgroup\":\"\\u7ea2\\u85af\",\"orientation\":\"v\",\"showlegend\":true,\"textposition\":\"auto\",\"x\":[\"C4 \\u7ea2\\u85af\"],\"xaxis\":\"x\",\"y\":[3.25],\"yaxis\":\"y\",\"type\":\"bar\"},{\"alignmentgroup\":\"True\",\"hovertemplate\":\"\\u4f5c\\u7269=%{x}\\u003cbr\\u003e\\u9500\\u552e\\u5355\\u4ef7 (\\u5143\\u002f\\u65a4)=%{y}\\u003cextra\\u003e\\u003c\\u002fextra\\u003e\",\"legendgroup\":\"\\u571f\\u8c46\",\"marker\":{\"color\":\"#19d3f3\",\"pattern\":{\"shape\":\"\"}},\"name\":\"\\u571f\\u8c46\",\"offsetgroup\":\"\\u571f\\u8c46\",\"orientation\":\"v\",\"showlegend\":true,\"textposition\":\"auto\",\"x\":[\"D1 \\u571f\\u8c46\"],\"xaxis\":\"x\",\"y\":[3.75],\"yaxis\":\"y\",\"type\":\"bar\"},{\"alignmentgroup\":\"True\",\"hovertemplate\":\"\\u4f5c\\u7269=%{x}\\u003cbr\\u003e\\u9500\\u552e\\u5355\\u4ef7 (\\u5143\\u002f\\u65a4)=%{y}\\u003cextra\\u003e\\u003c\\u002fextra\\u003e\",\"legendgroup\":\"\\u767d\\u841d\\u535c\",\"marker\":{\"color\":\"#FF6692\",\"pattern\":{\"shape\":\"\"}},\"name\":\"\\u767d\\u841d\\u535c\",\"offsetgroup\":\"\\u767d\\u841d\\u535c\",\"orientation\":\"v\",\"showlegend\":true,\"textposition\":\"auto\",\"x\":[\"D1 \\u767d\\u841d\\u535c\",\"D5 \\u767d\\u841d\\u535c\"],\"xaxis\":\"x\",\"y\":[2.5,2.5],\"yaxis\":\"y\",\"type\":\"bar\"},{\"alignmentgroup\":\"True\",\"hovertemplate\":\"\\u4f5c\\u7269=%{x}\\u003cbr\\u003e\\u9500\\u552e\\u5355\\u4ef7 (\\u5143\\u002f\\u65a4)=%{y}\\u003cextra\\u003e\\u003c\\u002fextra\\u003e\",\"legendgroup\":\"\\u5c0f\\u9752\\u83dc\",\"marker\":{\"color\":\"#B6E880\",\"pattern\":{\"shape\":\"\"}},\"name\":\"\\u5c0f\\u9752\\u83dc\",\"offsetgroup\":\"\\u5c0f\\u9752\\u83dc\",\"orientation\":\"v\",\"showlegend\":true,\"textposition\":\"auto\",\"x\":[\"D2 \\u5c0f\\u9752\\u83dc\",\"E5 \\u5c0f\\u9752\\u83dc\",\"F3 \\u5c0f\\u9752\\u83dc\"],\"xaxis\":\"x\",\"y\":[5.75,5.75,6.9],\"yaxis\":\"y\",\"type\":\"bar\"},{\"alignmentgroup\":\"True\",\"hovertemplate\":\"\\u4f5c\\u7269=%{x}\\u003cbr\\u003e\\u9500\\u552e\\u5355\\u4ef7 (\\u5143\\u002f\\u65a4)=%{y}\\u003cextra\\u003e\\u003c\\u002fextra\\u003e\",\"legendgroup\":\"\\u5927\\u767d\\u83dc\",\"marker\":{\"color\":\"#FF97FF\",\"pattern\":{\"shape\":\"\"}},\"name\":\"\\u5927\\u767d\\u83dc\",\"offsetgroup\":\"\\u5927\\u767d\\u83dc\",\"orientation\":\"v\",\"showlegend\":true,\"textposition\":\"auto\",\"x\":[\"D2 \\u5927\\u767d\\u83dc\",\"D3 \\u5927\\u767d\\u83dc\",\"D4 \\u5927\\u767d\\u83dc\"],\"xaxis\":\"x\",\"y\":[2.5,2.5,2.5],\"yaxis\":\"y\",\"type\":\"bar\"},{\"alignmentgroup\":\"True\",\"hovertemplate\":\"\\u4f5c\\u7269=%{x}\\u003cbr\\u003e\\u9500\\u552e\\u5355\\u4ef7 (\\u5143\\u002f\\u65a4)=%{y}\\u003cextra\\u003e\\u003c\\u002fextra\\u003e\",\"legendgroup\":\"\\u897f\\u7ea2\\u67ff\",\"marker\":{\"color\":\"#FECB52\",\"pattern\":{\"shape\":\"\"}},\"name\":\"\\u897f\\u7ea2\\u67ff\",\"offsetgroup\":\"\\u897f\\u7ea2\\u67ff\",\"orientation\":\"v\",\"showlegend\":true,\"textposition\":\"auto\",\"x\":[\"D3 \\u897f\\u7ea2\\u67ff\",\"E13 \\u897f\\u7ea2\\u67ff\",\"F1 \\u897f\\u7ea2\\u67ff\"],\"xaxis\":\"x\",\"y\":[6.25,6.25,7.5],\"yaxis\":\"y\",\"type\":\"bar\"},{\"alignmentgroup\":\"True\",\"hovertemplate\":\"\\u4f5c\\u7269=%{x}\\u003cbr\\u003e\\u9500\\u552e\\u5355\\u4ef7 (\\u5143\\u002f\\u65a4)=%{y}\\u003cextra\\u003e\\u003c\\u002fextra\\u003e\",\"legendgroup\":\"\\u8304\\u5b50\",\"marker\":{\"color\":\"#636efa\",\"pattern\":{\"shape\":\"\"}},\"name\":\"\\u8304\\u5b50\",\"offsetgroup\":\"\\u8304\\u5b50\",\"orientation\":\"v\",\"showlegend\":true,\"textposition\":\"auto\",\"x\":[\"D4 \\u8304\\u5b50\",\"E12 \\u8304\\u5b50\",\"F2 \\u8304\\u5b50\"],\"xaxis\":\"x\",\"y\":[5.5,5.5,6.6],\"yaxis\":\"y\",\"type\":\"bar\"},{\"alignmentgroup\":\"True\",\"hovertemplate\":\"\\u4f5c\\u7269=%{x}\\u003cbr\\u003e\\u9500\\u552e\\u5355\\u4ef7 (\\u5143\\u002f\\u65a4)=%{y}\\u003cextra\\u003e\\u003c\\u002fextra\\u003e\",\"legendgroup\":\"\\u8c47\\u8c46\",\"marker\":{\"color\":\"#EF553B\",\"pattern\":{\"shape\":\"\"}},\"name\":\"\\u8c47\\u8c46\",\"offsetgroup\":\"\\u8c47\\u8c46\",\"orientation\":\"v\",\"showlegend\":true,\"textposition\":\"auto\",\"x\":[\"D5 \\u8c47\\u8c46\",\"E10 \\u8c47\\u8c46\",\"E11 \\u8c47\\u8c46\",\"F3 \\u8c47\\u8c46\"],\"xaxis\":\"x\",\"y\":[8.0,8.0,8.0,9.6],\"yaxis\":\"y\",\"type\":\"bar\"},{\"alignmentgroup\":\"True\",\"hovertemplate\":\"\\u4f5c\\u7269=%{x}\\u003cbr\\u003e\\u9500\\u552e\\u5355\\u4ef7 (\\u5143\\u002f\\u65a4)=%{y}\\u003cextra\\u003e\\u003c\\u002fextra\\u003e\",\"legendgroup\":\"\\u5200\\u8c46\",\"marker\":{\"color\":\"#00cc96\",\"pattern\":{\"shape\":\"\"}},\"name\":\"\\u5200\\u8c46\",\"offsetgroup\":\"\\u5200\\u8c46\",\"orientation\":\"v\",\"showlegend\":true,\"textposition\":\"auto\",\"x\":[\"D6 \\u5200\\u8c46\",\"E1 \\u5200\\u8c46\",\"E9 \\u5200\\u8c46\"],\"xaxis\":\"x\",\"y\":[6.75,6.75,6.75],\"yaxis\":\"y\",\"type\":\"bar\"},{\"alignmentgroup\":\"True\",\"hovertemplate\":\"\\u4f5c\\u7269=%{x}\\u003cbr\\u003e\\u9500\\u552e\\u5355\\u4ef7 (\\u5143\\u002f\\u65a4)=%{y}\\u003cextra\\u003e\\u003c\\u002fextra\\u003e\",\"legendgroup\":\"\\u7ea2\\u841d\\u535c\",\"marker\":{\"color\":\"#ab63fa\",\"pattern\":{\"shape\":\"\"}},\"name\":\"\\u7ea2\\u841d\\u535c\",\"offsetgroup\":\"\\u7ea2\\u841d\\u535c\",\"orientation\":\"v\",\"showlegend\":true,\"textposition\":\"auto\",\"x\":[\"D6 \\u7ea2\\u841d\\u535c\"],\"xaxis\":\"x\",\"y\":[3.25],\"yaxis\":\"y\",\"type\":\"bar\"},{\"alignmentgroup\":\"True\",\"hovertemplate\":\"\\u4f5c\\u7269=%{x}\\u003cbr\\u003e\\u9500\\u552e\\u5355\\u4ef7 (\\u5143\\u002f\\u65a4)=%{y}\\u003cextra\\u003e\\u003c\\u002fextra\\u003e\",\"legendgroup\":\"\\u6c34\\u7a3b\",\"marker\":{\"color\":\"#FFA15A\",\"pattern\":{\"shape\":\"\"}},\"name\":\"\\u6c34\\u7a3b\",\"offsetgroup\":\"\\u6c34\\u7a3b\",\"orientation\":\"v\",\"showlegend\":true,\"textposition\":\"auto\",\"x\":[\"D7 \\u6c34\\u7a3b\",\"D8 \\u6c34\\u7a3b\"],\"xaxis\":\"x\",\"y\":[7.0,7.0],\"yaxis\":\"y\",\"type\":\"bar\"},{\"alignmentgroup\":\"True\",\"hovertemplate\":\"\\u4f5c\\u7269=%{x}\\u003cbr\\u003e\\u9500\\u552e\\u5355\\u4ef7 (\\u5143\\u002f\\u65a4)=%{y}\\u003cextra\\u003e\\u003c\\u002fextra\\u003e\",\"legendgroup\":\"\\u6986\\u9ec4\\u83c7\",\"marker\":{\"color\":\"#19d3f3\",\"pattern\":{\"shape\":\"\"}},\"name\":\"\\u6986\\u9ec4\\u83c7\",\"offsetgroup\":\"\\u6986\\u9ec4\\u83c7\",\"orientation\":\"v\",\"showlegend\":true,\"textposition\":\"auto\",\"x\":[\"E1 \\u6986\\u9ec4\\u83c7\",\"E2 \\u6986\\u9ec4\\u83c7\",\"E3 \\u6986\\u9ec4\\u83c7\"],\"xaxis\":\"x\",\"y\":[57.5,57.5,57.5],\"yaxis\":\"y\",\"type\":\"bar\"},{\"alignmentgroup\":\"True\",\"hovertemplate\":\"\\u4f5c\\u7269=%{x}\\u003cbr\\u003e\\u9500\\u552e\\u5355\\u4ef7 (\\u5143\\u002f\\u65a4)=%{y}\\u003cextra\\u003e\\u003c\\u002fextra\\u003e\",\"legendgroup\":\"\\u9752\\u6912\",\"marker\":{\"color\":\"#FF6692\",\"pattern\":{\"shape\":\"\"}},\"name\":\"\\u9752\\u6912\",\"offsetgroup\":\"\\u9752\\u6912\",\"orientation\":\"v\",\"showlegend\":true,\"textposition\":\"auto\",\"x\":[\"E2 \\u9752\\u6912\",\"F1 \\u9752\\u6912\"],\"xaxis\":\"x\",\"y\":[5.25,6.8],\"yaxis\":\"y\",\"type\":\"bar\"},{\"alignmentgroup\":\"True\",\"hovertemplate\":\"\\u4f5c\\u7269=%{x}\\u003cbr\\u003e\\u9500\\u552e\\u5355\\u4ef7 (\\u5143\\u002f\\u65a4)=%{y}\\u003cextra\\u003e\\u003c\\u002fextra\\u003e\",\"legendgroup\":\"\\u83dc\\u82b1\",\"marker\":{\"color\":\"#B6E880\",\"pattern\":{\"shape\":\"\"}},\"name\":\"\\u83dc\\u82b1\",\"offsetgroup\":\"\\u83dc\\u82b1\",\"orientation\":\"v\",\"showlegend\":true,\"textposition\":\"auto\",\"x\":[\"E3 \\u83dc\\u82b1\",\"F2 \\u83dc\\u82b1\"],\"xaxis\":\"x\",\"y\":[5.5,6.6],\"yaxis\":\"y\",\"type\":\"bar\"},{\"alignmentgroup\":\"True\",\"hovertemplate\":\"\\u4f5c\\u7269=%{x}\\u003cbr\\u003e\\u9500\\u552e\\u5355\\u4ef7 (\\u5143\\u002f\\u65a4)=%{y}\\u003cextra\\u003e\\u003c\\u002fextra\\u003e\",\"legendgroup\":\"\\u5305\\u83dc\",\"marker\":{\"color\":\"#FF97FF\",\"pattern\":{\"shape\":\"\"}},\"name\":\"\\u5305\\u83dc\",\"offsetgroup\":\"\\u5305\\u83dc\",\"orientation\":\"v\",\"showlegend\":true,\"textposition\":\"auto\",\"x\":[\"E4 \\u5305\\u83dc\",\"F2 \\u5305\\u83dc\"],\"xaxis\":\"x\",\"y\":[6.5,7.8],\"yaxis\":\"y\",\"type\":\"bar\"},{\"alignmentgroup\":\"True\",\"hovertemplate\":\"\\u4f5c\\u7269=%{x}\\u003cbr\\u003e\\u9500\\u552e\\u5355\\u4ef7 (\\u5143\\u002f\\u65a4)=%{y}\\u003cextra\\u003e\\u003c\\u002fextra\\u003e\",\"legendgroup\":\"\\u9999\\u83c7\",\"marker\":{\"color\":\"#FECB52\",\"pattern\":{\"shape\":\"\"}},\"name\":\"\\u9999\\u83c7\",\"offsetgroup\":\"\\u9999\\u83c7\",\"orientation\":\"v\",\"showlegend\":true,\"textposition\":\"auto\",\"x\":[\"E4 \\u9999\\u83c7\",\"E5 \\u9999\\u83c7\",\"E6 \\u9999\\u83c7\"],\"xaxis\":\"x\",\"y\":[19.0,19.0,19.0],\"yaxis\":\"y\",\"type\":\"bar\"},{\"alignmentgroup\":\"True\",\"hovertemplate\":\"\\u4f5c\\u7269=%{x}\\u003cbr\\u003e\\u9500\\u552e\\u5355\\u4ef7 (\\u5143\\u002f\\u65a4)=%{y}\\u003cextra\\u003e\\u003c\\u002fextra\\u003e\",\"legendgroup\":\"\\u6cb9\\u9ea6\\u83dc\",\"marker\":{\"color\":\"#636efa\",\"pattern\":{\"shape\":\"\"}},\"name\":\"\\u6cb9\\u9ea6\\u83dc\",\"offsetgroup\":\"\\u6cb9\\u9ea6\\u83dc\",\"orientation\":\"v\",\"showlegend\":true,\"textposition\":\"auto\",\"x\":[\"E6 \\u6cb9\\u9ea6\\u83dc\",\"E15 \\u6cb9\\u9ea6\\u83dc\"],\"xaxis\":\"x\",\"y\":[5.0,5.0],\"yaxis\":\"y\",\"type\":\"bar\"},{\"alignmentgroup\":\"True\",\"hovertemplate\":\"\\u4f5c\\u7269=%{x}\\u003cbr\\u003e\\u9500\\u552e\\u5355\\u4ef7 (\\u5143\\u002f\\u65a4)=%{y}\\u003cextra\\u003e\\u003c\\u002fextra\\u003e\",\"legendgroup\":\"\\u82b8\\u8c46\",\"marker\":{\"color\":\"#EF553B\",\"pattern\":{\"shape\":\"\"}},\"name\":\"\\u82b8\\u8c46\",\"offsetgroup\":\"\\u82b8\\u8c46\",\"orientation\":\"v\",\"showlegend\":true,\"textposition\":\"auto\",\"x\":[\"E7 \\u82b8\\u8c46\",\"E8 \\u82b8\\u8c46\",\"F4 \\u82b8\\u8c46\"],\"xaxis\":\"x\",\"y\":[6.5,6.5,7.8],\"yaxis\":\"y\",\"type\":\"bar\"},{\"alignmentgroup\":\"True\",\"hovertemplate\":\"\\u4f5c\\u7269=%{x}\\u003cbr\\u003e\\u9500\\u552e\\u5355\\u4ef7 (\\u5143\\u002f\\u65a4)=%{y}\\u003cextra\\u003e\\u003c\\u002fextra\\u003e\",\"legendgroup\":\"\\u767d\\u7075\\u83c7\",\"marker\":{\"color\":\"#00cc96\",\"pattern\":{\"shape\":\"\"}},\"name\":\"\\u767d\\u7075\\u83c7\",\"offsetgroup\":\"\\u767d\\u7075\\u83c7\",\"orientation\":\"v\",\"showlegend\":true,\"textposition\":\"auto\",\"x\":[\"E7 \\u767d\\u7075\\u83c7\",\"E8 \\u767d\\u7075\\u83c7\",\"E9 \\u767d\\u7075\\u83c7\"],\"xaxis\":\"x\",\"y\":[16.0,16.0,16.0],\"yaxis\":\"y\",\"type\":\"bar\"},{\"alignmentgroup\":\"True\",\"hovertemplate\":\"\\u4f5c\\u7269=%{x}\\u003cbr\\u003e\\u9500\\u552e\\u5355\\u4ef7 (\\u5143\\u002f\\u65a4)=%{y}\\u003cextra\\u003e\\u003c\\u002fextra\\u003e\",\"legendgroup\":\"\\u7f8a\\u809a\\u83cc\",\"marker\":{\"color\":\"#ab63fa\",\"pattern\":{\"shape\":\"\"}},\"name\":\"\\u7f8a\\u809a\\u83cc\",\"offsetgroup\":\"\\u7f8a\\u809a\\u83cc\",\"orientation\":\"v\",\"showlegend\":true,\"textposition\":\"auto\",\"x\":[\"E10 \\u7f8a\\u809a\\u83cc\",\"E11 \\u7f8a\\u809a\\u83cc\",\"E12 \\u7f8a\\u809a\\u83cc\",\"E13 \\u7f8a\\u809a\\u83cc\",\"E14 \\u7f8a\\u809a\\u83cc\",\"E15 \\u7f8a\\u809a\\u83cc\",\"E16 \\u7f8a\\u809a\\u83cc\"],\"xaxis\":\"x\",\"y\":[100.0,100.0,100.0,100.0,100.0,100.0,100.0],\"yaxis\":\"y\",\"type\":\"bar\"},{\"alignmentgroup\":\"True\",\"hovertemplate\":\"\\u4f5c\\u7269=%{x}\\u003cbr\\u003e\\u9500\\u552e\\u5355\\u4ef7 (\\u5143\\u002f\\u65a4)=%{y}\\u003cextra\\u003e\\u003c\\u002fextra\\u003e\",\"legendgroup\":\"\\u9ec4\\u74dc\",\"marker\":{\"color\":\"#FFA15A\",\"pattern\":{\"shape\":\"\"}},\"name\":\"\\u9ec4\\u74dc\",\"offsetgroup\":\"\\u9ec4\\u74dc\",\"orientation\":\"v\",\"showlegend\":true,\"textposition\":\"auto\",\"x\":[\"E14 \\u9ec4\\u74dc\",\"F2 \\u9ec4\\u74dc\"],\"xaxis\":\"x\",\"y\":[7.0,8.4],\"yaxis\":\"y\",\"type\":\"bar\"},{\"alignmentgroup\":\"True\",\"hovertemplate\":\"\\u4f5c\\u7269=%{x}\\u003cbr\\u003e\\u9500\\u552e\\u5355\\u4ef7 (\\u5143\\u002f\\u65a4)=%{y}\\u003cextra\\u003e\\u003c\\u002fextra\\u003e\",\"legendgroup\":\"\\u751f\\u83dc\",\"marker\":{\"color\":\"#19d3f3\",\"pattern\":{\"shape\":\"\"}},\"name\":\"\\u751f\\u83dc\",\"offsetgroup\":\"\\u751f\\u83dc\",\"orientation\":\"v\",\"showlegend\":true,\"textposition\":\"auto\",\"x\":[\"E15 \\u751f\\u83dc\",\"F3 \\u751f\\u83dc\"],\"xaxis\":\"x\",\"y\":[5.25,6.300000000000001],\"yaxis\":\"y\",\"type\":\"bar\"},{\"alignmentgroup\":\"True\",\"hovertemplate\":\"\\u4f5c\\u7269=%{x}\\u003cbr\\u003e\\u9500\\u552e\\u5355\\u4ef7 (\\u5143\\u002f\\u65a4)=%{y}\\u003cextra\\u003e\\u003c\\u002fextra\\u003e\",\"legendgroup\":\"\\u8fa3\\u6912\",\"marker\":{\"color\":\"#FF6692\",\"pattern\":{\"shape\":\"\"}},\"name\":\"\\u8fa3\\u6912\",\"offsetgroup\":\"\\u8fa3\\u6912\",\"orientation\":\"v\",\"showlegend\":true,\"textposition\":\"auto\",\"x\":[\"E16 \\u8fa3\\u6912\"],\"xaxis\":\"x\",\"y\":[7.25],\"yaxis\":\"y\",\"type\":\"bar\"},{\"alignmentgroup\":\"True\",\"hovertemplate\":\"\\u4f5c\\u7269=%{x}\\u003cbr\\u003e\\u9500\\u552e\\u5355\\u4ef7 (\\u5143\\u002f\\u65a4)=%{y}\\u003cextra\\u003e\\u003c\\u002fextra\\u003e\",\"legendgroup\":\"\\u7a7a\\u5fc3\\u83dc\",\"marker\":{\"color\":\"#B6E880\",\"pattern\":{\"shape\":\"\"}},\"name\":\"\\u7a7a\\u5fc3\\u83dc\",\"offsetgroup\":\"\\u7a7a\\u5fc3\\u83dc\",\"orientation\":\"v\",\"showlegend\":true,\"textposition\":\"auto\",\"x\":[\"F1 \\u7a7a\\u5fc3\\u83dc\"],\"xaxis\":\"x\",\"y\":[5.4],\"yaxis\":\"y\",\"type\":\"bar\"},{\"alignmentgroup\":\"True\",\"hovertemplate\":\"\\u4f5c\\u7269=%{x}\\u003cbr\\u003e\\u9500\\u552e\\u5355\\u4ef7 (\\u5143\\u002f\\u65a4)=%{y}\\u003cextra\\u003e\\u003c\\u002fextra\\u003e\",\"legendgroup\":\"\\u9ec4\\u5fc3\\u83dc\",\"marker\":{\"color\":\"#FF97FF\",\"pattern\":{\"shape\":\"\"}},\"name\":\"\\u9ec4\\u5fc3\\u83dc\",\"offsetgroup\":\"\\u9ec4\\u5fc3\\u83dc\",\"orientation\":\"v\",\"showlegend\":true,\"textposition\":\"auto\",\"x\":[\"F1 \\u9ec4\\u5fc3\\u83dc\"],\"xaxis\":\"x\",\"y\":[5.4],\"yaxis\":\"y\",\"type\":\"bar\"},{\"alignmentgroup\":\"True\",\"hovertemplate\":\"\\u4f5c\\u7269=%{x}\\u003cbr\\u003e\\u9500\\u552e\\u5355\\u4ef7 (\\u5143\\u002f\\u65a4)=%{y}\\u003cextra\\u003e\\u003c\\u002fextra\\u003e\",\"legendgroup\":\"\\u82b9\\u83dc\",\"marker\":{\"color\":\"#FECB52\",\"pattern\":{\"shape\":\"\"}},\"name\":\"\\u82b9\\u83dc\",\"offsetgroup\":\"\\u82b9\\u83dc\",\"orientation\":\"v\",\"showlegend\":true,\"textposition\":\"auto\",\"x\":[\"F4 \\u82b9\\u83dc\"],\"xaxis\":\"x\",\"y\":[4.8],\"yaxis\":\"y\",\"type\":\"bar\"},{\"alignmentgroup\":\"True\",\"hovertemplate\":\"\\u4f5c\\u7269=%{x}\\u003cbr\\u003e\\u9500\\u552e\\u5355\\u4ef7 (\\u5143\\u002f\\u65a4)=%{y}\\u003cextra\\u003e\\u003c\\u002fextra\\u003e\",\"legendgroup\":\"\\u83e0\\u83dc\",\"marker\":{\"color\":\"#636efa\",\"pattern\":{\"shape\":\"\"}},\"name\":\"\\u83e0\\u83dc\",\"offsetgroup\":\"\\u83e0\\u83dc\",\"orientation\":\"v\",\"showlegend\":true,\"textposition\":\"auto\",\"x\":[\"F4 \\u83e0\\u83dc\"],\"xaxis\":\"x\",\"y\":[6.9],\"yaxis\":\"y\",\"type\":\"bar\"}],                        {\"template\":{\"data\":{\"histogram2dcontour\":[{\"type\":\"histogram2dcontour\",\"colorbar\":{\"outlinewidth\":0,\"ticks\":\"\"},\"colorscale\":[[0.0,\"#0d0887\"],[0.1111111111111111,\"#46039f\"],[0.2222222222222222,\"#7201a8\"],[0.3333333333333333,\"#9c179e\"],[0.4444444444444444,\"#bd3786\"],[0.5555555555555556,\"#d8576b\"],[0.6666666666666666,\"#ed7953\"],[0.7777777777777778,\"#fb9f3a\"],[0.8888888888888888,\"#fdca26\"],[1.0,\"#f0f921\"]]}],\"choropleth\":[{\"type\":\"choropleth\",\"colorbar\":{\"outlinewidth\":0,\"ticks\":\"\"}}],\"histogram2d\":[{\"type\":\"histogram2d\",\"colorbar\":{\"outlinewidth\":0,\"ticks\":\"\"},\"colorscale\":[[0.0,\"#0d0887\"],[0.1111111111111111,\"#46039f\"],[0.2222222222222222,\"#7201a8\"],[0.3333333333333333,\"#9c179e\"],[0.4444444444444444,\"#bd3786\"],[0.5555555555555556,\"#d8576b\"],[0.6666666666666666,\"#ed7953\"],[0.7777777777777778,\"#fb9f3a\"],[0.8888888888888888,\"#fdca26\"],[1.0,\"#f0f921\"]]}],\"heatmap\":[{\"type\":\"heatmap\",\"colorbar\":{\"outlinewidth\":0,\"ticks\":\"\"},\"colorscale\":[[0.0,\"#0d0887\"],[0.1111111111111111,\"#46039f\"],[0.2222222222222222,\"#7201a8\"],[0.3333333333333333,\"#9c179e\"],[0.4444444444444444,\"#bd3786\"],[0.5555555555555556,\"#d8576b\"],[0.6666666666666666,\"#ed7953\"],[0.7777777777777778,\"#fb9f3a\"],[0.8888888888888888,\"#fdca26\"],[1.0,\"#f0f921\"]]}],\"heatmapgl\":[{\"type\":\"heatmapgl\",\"colorbar\":{\"outlinewidth\":0,\"ticks\":\"\"},\"colorscale\":[[0.0,\"#0d0887\"],[0.1111111111111111,\"#46039f\"],[0.2222222222222222,\"#7201a8\"],[0.3333333333333333,\"#9c179e\"],[0.4444444444444444,\"#bd3786\"],[0.5555555555555556,\"#d8576b\"],[0.6666666666666666,\"#ed7953\"],[0.7777777777777778,\"#fb9f3a\"],[0.8888888888888888,\"#fdca26\"],[1.0,\"#f0f921\"]]}],\"contourcarpet\":[{\"type\":\"contourcarpet\",\"colorbar\":{\"outlinewidth\":0,\"ticks\":\"\"}}],\"contour\":[{\"type\":\"contour\",\"colorbar\":{\"outlinewidth\":0,\"ticks\":\"\"},\"colorscale\":[[0.0,\"#0d0887\"],[0.1111111111111111,\"#46039f\"],[0.2222222222222222,\"#7201a8\"],[0.3333333333333333,\"#9c179e\"],[0.4444444444444444,\"#bd3786\"],[0.5555555555555556,\"#d8576b\"],[0.6666666666666666,\"#ed7953\"],[0.7777777777777778,\"#fb9f3a\"],[0.8888888888888888,\"#fdca26\"],[1.0,\"#f0f921\"]]}],\"surface\":[{\"type\":\"surface\",\"colorbar\":{\"outlinewidth\":0,\"ticks\":\"\"},\"colorscale\":[[0.0,\"#0d0887\"],[0.1111111111111111,\"#46039f\"],[0.2222222222222222,\"#7201a8\"],[0.3333333333333333,\"#9c179e\"],[0.4444444444444444,\"#bd3786\"],[0.5555555555555556,\"#d8576b\"],[0.6666666666666666,\"#ed7953\"],[0.7777777777777778,\"#fb9f3a\"],[0.8888888888888888,\"#fdca26\"],[1.0,\"#f0f921\"]]}],\"mesh3d\":[{\"type\":\"mesh3d\",\"colorbar\":{\"outlinewidth\":0,\"ticks\":\"\"}}],\"scatter\":[{\"fillpattern\":{\"fillmode\":\"overlay\",\"size\":10,\"solidity\":0.2},\"type\":\"scatter\"}],\"parcoords\":[{\"type\":\"parcoords\",\"line\":{\"colorbar\":{\"outlinewidth\":0,\"ticks\":\"\"}}}],\"scatterpolargl\":[{\"type\":\"scatterpolargl\",\"marker\":{\"colorbar\":{\"outlinewidth\":0,\"ticks\":\"\"}}}],\"bar\":[{\"error_x\":{\"color\":\"#2a3f5f\"},\"error_y\":{\"color\":\"#2a3f5f\"},\"marker\":{\"line\":{\"color\":\"#E5ECF6\",\"width\":0.5},\"pattern\":{\"fillmode\":\"overlay\",\"size\":10,\"solidity\":0.2}},\"type\":\"bar\"}],\"scattergeo\":[{\"type\":\"scattergeo\",\"marker\":{\"colorbar\":{\"outlinewidth\":0,\"ticks\":\"\"}}}],\"scatterpolar\":[{\"type\":\"scatterpolar\",\"marker\":{\"colorbar\":{\"outlinewidth\":0,\"ticks\":\"\"}}}],\"histogram\":[{\"marker\":{\"pattern\":{\"fillmode\":\"overlay\",\"size\":10,\"solidity\":0.2}},\"type\":\"histogram\"}],\"scattergl\":[{\"type\":\"scattergl\",\"marker\":{\"colorbar\":{\"outlinewidth\":0,\"ticks\":\"\"}}}],\"scatter3d\":[{\"type\":\"scatter3d\",\"line\":{\"colorbar\":{\"outlinewidth\":0,\"ticks\":\"\"}},\"marker\":{\"colorbar\":{\"outlinewidth\":0,\"ticks\":\"\"}}}],\"scattermapbox\":[{\"type\":\"scattermapbox\",\"marker\":{\"colorbar\":{\"outlinewidth\":0,\"ticks\":\"\"}}}],\"scatterternary\":[{\"type\":\"scatterternary\",\"marker\":{\"colorbar\":{\"outlinewidth\":0,\"ticks\":\"\"}}}],\"scattercarpet\":[{\"type\":\"scattercarpet\",\"marker\":{\"colorbar\":{\"outlinewidth\":0,\"ticks\":\"\"}}}],\"carpet\":[{\"aaxis\":{\"endlinecolor\":\"#2a3f5f\",\"gridcolor\":\"white\",\"linecolor\":\"white\",\"minorgridcolor\":\"white\",\"startlinecolor\":\"#2a3f5f\"},\"baxis\":{\"endlinecolor\":\"#2a3f5f\",\"gridcolor\":\"white\",\"linecolor\":\"white\",\"minorgridcolor\":\"white\",\"startlinecolor\":\"#2a3f5f\"},\"type\":\"carpet\"}],\"table\":[{\"cells\":{\"fill\":{\"color\":\"#EBF0F8\"},\"line\":{\"color\":\"white\"}},\"header\":{\"fill\":{\"color\":\"#C8D4E3\"},\"line\":{\"color\":\"white\"}},\"type\":\"table\"}],\"barpolar\":[{\"marker\":{\"line\":{\"color\":\"#E5ECF6\",\"width\":0.5},\"pattern\":{\"fillmode\":\"overlay\",\"size\":10,\"solidity\":0.2}},\"type\":\"barpolar\"}],\"pie\":[{\"automargin\":true,\"type\":\"pie\"}]},\"layout\":{\"autotypenumbers\":\"strict\",\"colorway\":[\"#636efa\",\"#EF553B\",\"#00cc96\",\"#ab63fa\",\"#FFA15A\",\"#19d3f3\",\"#FF6692\",\"#B6E880\",\"#FF97FF\",\"#FECB52\"],\"font\":{\"color\":\"#2a3f5f\"},\"hovermode\":\"closest\",\"hoverlabel\":{\"align\":\"left\"},\"paper_bgcolor\":\"white\",\"plot_bgcolor\":\"#E5ECF6\",\"polar\":{\"bgcolor\":\"#E5ECF6\",\"angularaxis\":{\"gridcolor\":\"white\",\"linecolor\":\"white\",\"ticks\":\"\"},\"radialaxis\":{\"gridcolor\":\"white\",\"linecolor\":\"white\",\"ticks\":\"\"}},\"ternary\":{\"bgcolor\":\"#E5ECF6\",\"aaxis\":{\"gridcolor\":\"white\",\"linecolor\":\"white\",\"ticks\":\"\"},\"baxis\":{\"gridcolor\":\"white\",\"linecolor\":\"white\",\"ticks\":\"\"},\"caxis\":{\"gridcolor\":\"white\",\"linecolor\":\"white\",\"ticks\":\"\"}},\"coloraxis\":{\"colorbar\":{\"outlinewidth\":0,\"ticks\":\"\"}},\"colorscale\":{\"sequential\":[[0.0,\"#0d0887\"],[0.1111111111111111,\"#46039f\"],[0.2222222222222222,\"#7201a8\"],[0.3333333333333333,\"#9c179e\"],[0.4444444444444444,\"#bd3786\"],[0.5555555555555556,\"#d8576b\"],[0.6666666666666666,\"#ed7953\"],[0.7777777777777778,\"#fb9f3a\"],[0.8888888888888888,\"#fdca26\"],[1.0,\"#f0f921\"]],\"sequentialminus\":[[0.0,\"#0d0887\"],[0.1111111111111111,\"#46039f\"],[0.2222222222222222,\"#7201a8\"],[0.3333333333333333,\"#9c179e\"],[0.4444444444444444,\"#bd3786\"],[0.5555555555555556,\"#d8576b\"],[0.6666666666666666,\"#ed7953\"],[0.7777777777777778,\"#fb9f3a\"],[0.8888888888888888,\"#fdca26\"],[1.0,\"#f0f921\"]],\"diverging\":[[0,\"#8e0152\"],[0.1,\"#c51b7d\"],[0.2,\"#de77ae\"],[0.3,\"#f1b6da\"],[0.4,\"#fde0ef\"],[0.5,\"#f7f7f7\"],[0.6,\"#e6f5d0\"],[0.7,\"#b8e186\"],[0.8,\"#7fbc41\"],[0.9,\"#4d9221\"],[1,\"#276419\"]]},\"xaxis\":{\"gridcolor\":\"white\",\"linecolor\":\"white\",\"ticks\":\"\",\"title\":{\"standoff\":15},\"zerolinecolor\":\"white\",\"automargin\":true,\"zerolinewidth\":2},\"yaxis\":{\"gridcolor\":\"white\",\"linecolor\":\"white\",\"ticks\":\"\",\"title\":{\"standoff\":15},\"zerolinecolor\":\"white\",\"automargin\":true,\"zerolinewidth\":2},\"scene\":{\"xaxis\":{\"backgroundcolor\":\"#E5ECF6\",\"gridcolor\":\"white\",\"linecolor\":\"white\",\"showbackground\":true,\"ticks\":\"\",\"zerolinecolor\":\"white\",\"gridwidth\":2},\"yaxis\":{\"backgroundcolor\":\"#E5ECF6\",\"gridcolor\":\"white\",\"linecolor\":\"white\",\"showbackground\":true,\"ticks\":\"\",\"zerolinecolor\":\"white\",\"gridwidth\":2},\"zaxis\":{\"backgroundcolor\":\"#E5ECF6\",\"gridcolor\":\"white\",\"linecolor\":\"white\",\"showbackground\":true,\"ticks\":\"\",\"zerolinecolor\":\"white\",\"gridwidth\":2}},\"shapedefaults\":{\"line\":{\"color\":\"#2a3f5f\"}},\"annotationdefaults\":{\"arrowcolor\":\"#2a3f5f\",\"arrowhead\":0,\"arrowwidth\":1},\"geo\":{\"bgcolor\":\"white\",\"landcolor\":\"#E5ECF6\",\"subunitcolor\":\"white\",\"showland\":true,\"showlakes\":true,\"lakecolor\":\"white\"},\"title\":{\"x\":0.05},\"mapbox\":{\"style\":\"light\"}}},\"xaxis\":{\"anchor\":\"y\",\"domain\":[0.0,1.0],\"title\":{\"text\":\"\\u4f5c\\u7269\"}},\"yaxis\":{\"anchor\":\"x\",\"domain\":[0.0,1.0],\"title\":{\"text\":\"\\u9500\\u552e\\u5355\\u4ef7 (\\u5143\\u002f\\u65a4)\"},\"type\":\"log\"},\"legend\":{\"title\":{\"text\":\"\\u4f5c\\u7269\"},\"tracegroupgap\":0},\"title\":{\"text\":\"\\u540c\\u4e00\\u4f5c\\u7269\\u5728\\u4e0d\\u540c\\u5730\\u5757\\u4e0b\\u7684\\u9500\\u552e\\u5355\\u4ef7\"},\"barmode\":\"relative\",\"height\":750,\"width\":1500,\"showlegend\":false},                        {\"responsive\": true}                    ).then(function(){\n",
       "                            \n",
       "var gd = document.getElementById('39d8e313-cd77-4644-9cbc-aaf149129796');\n",
       "var x = new MutationObserver(function (mutations, observer) {{\n",
       "        var display = window.getComputedStyle(gd).display;\n",
       "        if (!display || display === 'none') {{\n",
       "            console.log([gd, 'removed!']);\n",
       "            Plotly.purge(gd);\n",
       "            observer.disconnect();\n",
       "        }}\n",
       "}});\n",
       "\n",
       "// Listen for the removal of the full notebook cells\n",
       "var notebookContainer = gd.closest('#notebook-container');\n",
       "if (notebookContainer) {{\n",
       "    x.observe(notebookContainer, {childList: true});\n",
       "}}\n",
       "\n",
       "// Listen for the clearing of the current output cell\n",
       "var outputEl = gd.closest('.output');\n",
       "if (outputEl) {{\n",
       "    x.observe(outputEl, {childList: true});\n",
       "}}\n",
       "\n",
       "                        })                };                });            </script>        </div>"
      ]
     },
     "metadata": {},
     "output_type": "display_data"
    },
    {
     "data": {
      "application/vnd.plotly.v1+json": {
       "config": {
        "plotlyServerURL": "https://plot.ly"
       },
       "data": [
        {
         "alignmentgroup": "True",
         "hovertemplate": "作物=%{x}<br>种植成本（元/亩）=%{y}<extra></extra>",
         "legendgroup": "小麦",
         "marker": {
          "color": "#636efa",
          "pattern": {
           "shape": ""
          }
         },
         "name": "小麦",
         "offsetgroup": "小麦",
         "orientation": "v",
         "showlegend": true,
         "textposition": "auto",
         "type": "bar",
         "x": [
          "A1 小麦",
          "B1 小麦",
          "B7 小麦",
          "C5 小麦"
         ],
         "xaxis": "x",
         "y": [
          450,
          450,
          450,
          450
         ],
         "yaxis": "y"
        },
        {
         "alignmentgroup": "True",
         "hovertemplate": "作物=%{x}<br>种植成本（元/亩）=%{y}<extra></extra>",
         "legendgroup": "玉米",
         "marker": {
          "color": "#EF553B",
          "pattern": {
           "shape": ""
          }
         },
         "name": "玉米",
         "offsetgroup": "玉米",
         "orientation": "v",
         "showlegend": true,
         "textposition": "auto",
         "type": "bar",
         "x": [
          "A2 玉米",
          "A3 玉米",
          "B12 玉米"
         ],
         "xaxis": "x",
         "y": [
          500,
          500,
          500
         ],
         "yaxis": "y"
        },
        {
         "alignmentgroup": "True",
         "hovertemplate": "作物=%{x}<br>种植成本（元/亩）=%{y}<extra></extra>",
         "legendgroup": "黄豆",
         "marker": {
          "color": "#00cc96",
          "pattern": {
           "shape": ""
          }
         },
         "name": "黄豆",
         "offsetgroup": "黄豆",
         "orientation": "v",
         "showlegend": true,
         "textposition": "auto",
         "type": "bar",
         "x": [
          "A4 黄豆",
          "B11 黄豆",
          "C3 黄豆"
         ],
         "xaxis": "x",
         "y": [
          400,
          400,
          400
         ],
         "yaxis": "y"
        },
        {
         "alignmentgroup": "True",
         "hovertemplate": "作物=%{x}<br>种植成本（元/亩）=%{y}<extra></extra>",
         "legendgroup": "绿豆",
         "marker": {
          "color": "#ab63fa",
          "pattern": {
           "shape": ""
          }
         },
         "name": "绿豆",
         "offsetgroup": "绿豆",
         "orientation": "v",
         "showlegend": true,
         "textposition": "auto",
         "type": "bar",
         "x": [
          "A5 绿豆",
          "B4 绿豆"
         ],
         "xaxis": "x",
         "y": [
          350,
          350
         ],
         "yaxis": "y"
        },
        {
         "alignmentgroup": "True",
         "hovertemplate": "作物=%{x}<br>种植成本（元/亩）=%{y}<extra></extra>",
         "legendgroup": "谷子",
         "marker": {
          "color": "#FFA15A",
          "pattern": {
           "shape": ""
          }
         },
         "name": "谷子",
         "offsetgroup": "谷子",
         "orientation": "v",
         "showlegend": true,
         "textposition": "auto",
         "type": "bar",
         "x": [
          "A6 谷子",
          "B6 谷子",
          "B8 谷子"
         ],
         "xaxis": "x",
         "y": [
          360,
          360,
          360
         ],
         "yaxis": "y"
        },
        {
         "alignmentgroup": "True",
         "hovertemplate": "作物=%{x}<br>种植成本（元/亩）=%{y}<extra></extra>",
         "legendgroup": "黑豆",
         "marker": {
          "color": "#19d3f3",
          "pattern": {
           "shape": ""
          }
         },
         "name": "黑豆",
         "offsetgroup": "黑豆",
         "orientation": "v",
         "showlegend": true,
         "textposition": "auto",
         "type": "bar",
         "x": [
          "B2 黑豆"
         ],
         "xaxis": "x",
         "y": [
          400
         ],
         "yaxis": "y"
        },
        {
         "alignmentgroup": "True",
         "hovertemplate": "作物=%{x}<br>种植成本（元/亩）=%{y}<extra></extra>",
         "legendgroup": "红豆",
         "marker": {
          "color": "#FF6692",
          "pattern": {
           "shape": ""
          }
         },
         "name": "红豆",
         "offsetgroup": "红豆",
         "orientation": "v",
         "showlegend": true,
         "textposition": "auto",
         "type": "bar",
         "x": [
          "B3 红豆",
          "C6 红豆"
         ],
         "xaxis": "x",
         "y": [
          350,
          350
         ],
         "yaxis": "y"
        },
        {
         "alignmentgroup": "True",
         "hovertemplate": "作物=%{x}<br>种植成本（元/亩）=%{y}<extra></extra>",
         "legendgroup": "爬豆",
         "marker": {
          "color": "#B6E880",
          "pattern": {
           "shape": ""
          }
         },
         "name": "爬豆",
         "offsetgroup": "爬豆",
         "orientation": "v",
         "showlegend": true,
         "textposition": "auto",
         "type": "bar",
         "x": [
          "B5 爬豆"
         ],
         "xaxis": "x",
         "y": [
          350
         ],
         "yaxis": "y"
        },
        {
         "alignmentgroup": "True",
         "hovertemplate": "作物=%{x}<br>种植成本（元/亩）=%{y}<extra></extra>",
         "legendgroup": "高粱",
         "marker": {
          "color": "#FF97FF",
          "pattern": {
           "shape": ""
          }
         },
         "name": "高粱",
         "offsetgroup": "高粱",
         "orientation": "v",
         "showlegend": true,
         "textposition": "auto",
         "type": "bar",
         "x": [
          "B9 高粱"
         ],
         "xaxis": "x",
         "y": [
          400
         ],
         "yaxis": "y"
        },
        {
         "alignmentgroup": "True",
         "hovertemplate": "作物=%{x}<br>种植成本（元/亩）=%{y}<extra></extra>",
         "legendgroup": "黍子",
         "marker": {
          "color": "#FECB52",
          "pattern": {
           "shape": ""
          }
         },
         "name": "黍子",
         "offsetgroup": "黍子",
         "orientation": "v",
         "showlegend": true,
         "textposition": "auto",
         "type": "bar",
         "x": [
          "B10 黍子"
         ],
         "xaxis": "x",
         "y": [
          360
         ],
         "yaxis": "y"
        },
        {
         "alignmentgroup": "True",
         "hovertemplate": "作物=%{x}<br>种植成本（元/亩）=%{y}<extra></extra>",
         "legendgroup": "莜麦",
         "marker": {
          "color": "#636efa",
          "pattern": {
           "shape": ""
          }
         },
         "name": "莜麦",
         "offsetgroup": "莜麦",
         "orientation": "v",
         "showlegend": true,
         "textposition": "auto",
         "type": "bar",
         "x": [
          "B13 莜麦"
         ],
         "xaxis": "x",
         "y": [
          400
         ],
         "yaxis": "y"
        },
        {
         "alignmentgroup": "True",
         "hovertemplate": "作物=%{x}<br>种植成本（元/亩）=%{y}<extra></extra>",
         "legendgroup": "大麦",
         "marker": {
          "color": "#EF553B",
          "pattern": {
           "shape": ""
          }
         },
         "name": "大麦",
         "offsetgroup": "大麦",
         "orientation": "v",
         "showlegend": true,
         "textposition": "auto",
         "type": "bar",
         "x": [
          "B14 大麦"
         ],
         "xaxis": "x",
         "y": [
          350
         ],
         "yaxis": "y"
        },
        {
         "alignmentgroup": "True",
         "hovertemplate": "作物=%{x}<br>种植成本（元/亩）=%{y}<extra></extra>",
         "legendgroup": "荞麦",
         "marker": {
          "color": "#00cc96",
          "pattern": {
           "shape": ""
          }
         },
         "name": "荞麦",
         "offsetgroup": "荞麦",
         "orientation": "v",
         "showlegend": true,
         "textposition": "auto",
         "type": "bar",
         "x": [
          "C1 荞麦"
         ],
         "xaxis": "x",
         "y": [
          350
         ],
         "yaxis": "y"
        },
        {
         "alignmentgroup": "True",
         "hovertemplate": "作物=%{x}<br>种植成本（元/亩）=%{y}<extra></extra>",
         "legendgroup": "南瓜",
         "marker": {
          "color": "#ab63fa",
          "pattern": {
           "shape": ""
          }
         },
         "name": "南瓜",
         "offsetgroup": "南瓜",
         "orientation": "v",
         "showlegend": true,
         "textposition": "auto",
         "type": "bar",
         "x": [
          "C2 南瓜"
         ],
         "xaxis": "x",
         "y": [
          1000
         ],
         "yaxis": "y"
        },
        {
         "alignmentgroup": "True",
         "hovertemplate": "作物=%{x}<br>种植成本（元/亩）=%{y}<extra></extra>",
         "legendgroup": "红薯",
         "marker": {
          "color": "#FFA15A",
          "pattern": {
           "shape": ""
          }
         },
         "name": "红薯",
         "offsetgroup": "红薯",
         "orientation": "v",
         "showlegend": true,
         "textposition": "auto",
         "type": "bar",
         "x": [
          "C4 红薯"
         ],
         "xaxis": "x",
         "y": [
          2000
         ],
         "yaxis": "y"
        },
        {
         "alignmentgroup": "True",
         "hovertemplate": "作物=%{x}<br>种植成本（元/亩）=%{y}<extra></extra>",
         "legendgroup": "土豆",
         "marker": {
          "color": "#19d3f3",
          "pattern": {
           "shape": ""
          }
         },
         "name": "土豆",
         "offsetgroup": "土豆",
         "orientation": "v",
         "showlegend": true,
         "textposition": "auto",
         "type": "bar",
         "x": [
          "D1 土豆"
         ],
         "xaxis": "x",
         "y": [
          2000
         ],
         "yaxis": "y"
        },
        {
         "alignmentgroup": "True",
         "hovertemplate": "作物=%{x}<br>种植成本（元/亩）=%{y}<extra></extra>",
         "legendgroup": "白萝卜",
         "marker": {
          "color": "#FF6692",
          "pattern": {
           "shape": ""
          }
         },
         "name": "白萝卜",
         "offsetgroup": "白萝卜",
         "orientation": "v",
         "showlegend": true,
         "textposition": "auto",
         "type": "bar",
         "x": [
          "D1 白萝卜",
          "D5 白萝卜"
         ],
         "xaxis": "x",
         "y": [
          500,
          500
         ],
         "yaxis": "y"
        },
        {
         "alignmentgroup": "True",
         "hovertemplate": "作物=%{x}<br>种植成本（元/亩）=%{y}<extra></extra>",
         "legendgroup": "小青菜",
         "marker": {
          "color": "#B6E880",
          "pattern": {
           "shape": ""
          }
         },
         "name": "小青菜",
         "offsetgroup": "小青菜",
         "orientation": "v",
         "showlegend": true,
         "textposition": "auto",
         "type": "bar",
         "x": [
          "D2 小青菜",
          "E5 小青菜",
          "F3 小青菜"
         ],
         "xaxis": "x",
         "y": [
          1600,
          2000,
          2200
         ],
         "yaxis": "y"
        },
        {
         "alignmentgroup": "True",
         "hovertemplate": "作物=%{x}<br>种植成本（元/亩）=%{y}<extra></extra>",
         "legendgroup": "大白菜",
         "marker": {
          "color": "#FF97FF",
          "pattern": {
           "shape": ""
          }
         },
         "name": "大白菜",
         "offsetgroup": "大白菜",
         "orientation": "v",
         "showlegend": true,
         "textposition": "auto",
         "type": "bar",
         "x": [
          "D2 大白菜",
          "D3 大白菜",
          "D4 大白菜"
         ],
         "xaxis": "x",
         "y": [
          2000,
          2000,
          2000
         ],
         "yaxis": "y"
        },
        {
         "alignmentgroup": "True",
         "hovertemplate": "作物=%{x}<br>种植成本（元/亩）=%{y}<extra></extra>",
         "legendgroup": "西红柿",
         "marker": {
          "color": "#FECB52",
          "pattern": {
           "shape": ""
          }
         },
         "name": "西红柿",
         "offsetgroup": "西红柿",
         "orientation": "v",
         "showlegend": true,
         "textposition": "auto",
         "type": "bar",
         "x": [
          "D3 西红柿",
          "E13 西红柿",
          "F1 西红柿"
         ],
         "xaxis": "x",
         "y": [
          2000,
          2400,
          2640
         ],
         "yaxis": "y"
        },
        {
         "alignmentgroup": "True",
         "hovertemplate": "作物=%{x}<br>种植成本（元/亩）=%{y}<extra></extra>",
         "legendgroup": "茄子",
         "marker": {
          "color": "#636efa",
          "pattern": {
           "shape": ""
          }
         },
         "name": "茄子",
         "offsetgroup": "茄子",
         "orientation": "v",
         "showlegend": true,
         "textposition": "auto",
         "type": "bar",
         "x": [
          "D4 茄子",
          "E12 茄子",
          "F2 茄子"
         ],
         "xaxis": "x",
         "y": [
          2000,
          2400,
          2640
         ],
         "yaxis": "y"
        },
        {
         "alignmentgroup": "True",
         "hovertemplate": "作物=%{x}<br>种植成本（元/亩）=%{y}<extra></extra>",
         "legendgroup": "豇豆",
         "marker": {
          "color": "#EF553B",
          "pattern": {
           "shape": ""
          }
         },
         "name": "豇豆",
         "offsetgroup": "豇豆",
         "orientation": "v",
         "showlegend": true,
         "textposition": "auto",
         "type": "bar",
         "x": [
          "D5 豇豆",
          "E10 豇豆",
          "E11 豇豆",
          "F3 豇豆"
         ],
         "xaxis": "x",
         "y": [
          2000,
          2400,
          2400,
          2640
         ],
         "yaxis": "y"
        },
        {
         "alignmentgroup": "True",
         "hovertemplate": "作物=%{x}<br>种植成本（元/亩）=%{y}<extra></extra>",
         "legendgroup": "刀豆",
         "marker": {
          "color": "#00cc96",
          "pattern": {
           "shape": ""
          }
         },
         "name": "刀豆",
         "offsetgroup": "刀豆",
         "orientation": "v",
         "showlegend": true,
         "textposition": "auto",
         "type": "bar",
         "x": [
          "D6 刀豆",
          "E1 刀豆",
          "E9 刀豆"
         ],
         "xaxis": "x",
         "y": [
          1000,
          1200,
          1200
         ],
         "yaxis": "y"
        },
        {
         "alignmentgroup": "True",
         "hovertemplate": "作物=%{x}<br>种植成本（元/亩）=%{y}<extra></extra>",
         "legendgroup": "红萝卜",
         "marker": {
          "color": "#ab63fa",
          "pattern": {
           "shape": ""
          }
         },
         "name": "红萝卜",
         "offsetgroup": "红萝卜",
         "orientation": "v",
         "showlegend": true,
         "textposition": "auto",
         "type": "bar",
         "x": [
          "D6 红萝卜"
         ],
         "xaxis": "x",
         "y": [
          500
         ],
         "yaxis": "y"
        },
        {
         "alignmentgroup": "True",
         "hovertemplate": "作物=%{x}<br>种植成本（元/亩）=%{y}<extra></extra>",
         "legendgroup": "水稻",
         "marker": {
          "color": "#FFA15A",
          "pattern": {
           "shape": ""
          }
         },
         "name": "水稻",
         "offsetgroup": "水稻",
         "orientation": "v",
         "showlegend": true,
         "textposition": "auto",
         "type": "bar",
         "x": [
          "D7 水稻",
          "D8 水稻"
         ],
         "xaxis": "x",
         "y": [
          680,
          680
         ],
         "yaxis": "y"
        },
        {
         "alignmentgroup": "True",
         "hovertemplate": "作物=%{x}<br>种植成本（元/亩）=%{y}<extra></extra>",
         "legendgroup": "榆黄菇",
         "marker": {
          "color": "#19d3f3",
          "pattern": {
           "shape": ""
          }
         },
         "name": "榆黄菇",
         "offsetgroup": "榆黄菇",
         "orientation": "v",
         "showlegend": true,
         "textposition": "auto",
         "type": "bar",
         "x": [
          "E1 榆黄菇",
          "E2 榆黄菇",
          "E3 榆黄菇"
         ],
         "xaxis": "x",
         "y": [
          3000,
          3000,
          3000
         ],
         "yaxis": "y"
        },
        {
         "alignmentgroup": "True",
         "hovertemplate": "作物=%{x}<br>种植成本（元/亩）=%{y}<extra></extra>",
         "legendgroup": "青椒",
         "marker": {
          "color": "#FF6692",
          "pattern": {
           "shape": ""
          }
         },
         "name": "青椒",
         "offsetgroup": "青椒",
         "orientation": "v",
         "showlegend": true,
         "textposition": "auto",
         "type": "bar",
         "x": [
          "E2 青椒",
          "F1 青椒"
         ],
         "xaxis": "x",
         "y": [
          2000,
          2200
         ],
         "yaxis": "y"
        },
        {
         "alignmentgroup": "True",
         "hovertemplate": "作物=%{x}<br>种植成本（元/亩）=%{y}<extra></extra>",
         "legendgroup": "菜花",
         "marker": {
          "color": "#B6E880",
          "pattern": {
           "shape": ""
          }
         },
         "name": "菜花",
         "offsetgroup": "菜花",
         "orientation": "v",
         "showlegend": true,
         "textposition": "auto",
         "type": "bar",
         "x": [
          "E3 菜花",
          "F2 菜花"
         ],
         "xaxis": "x",
         "y": [
          3000,
          3300
         ],
         "yaxis": "y"
        },
        {
         "alignmentgroup": "True",
         "hovertemplate": "作物=%{x}<br>种植成本（元/亩）=%{y}<extra></extra>",
         "legendgroup": "包菜",
         "marker": {
          "color": "#FF97FF",
          "pattern": {
           "shape": ""
          }
         },
         "name": "包菜",
         "offsetgroup": "包菜",
         "orientation": "v",
         "showlegend": true,
         "textposition": "auto",
         "type": "bar",
         "x": [
          "E4 包菜",
          "F2 包菜"
         ],
         "xaxis": "x",
         "y": [
          3500,
          3850
         ],
         "yaxis": "y"
        },
        {
         "alignmentgroup": "True",
         "hovertemplate": "作物=%{x}<br>种植成本（元/亩）=%{y}<extra></extra>",
         "legendgroup": "香菇",
         "marker": {
          "color": "#FECB52",
          "pattern": {
           "shape": ""
          }
         },
         "name": "香菇",
         "offsetgroup": "香菇",
         "orientation": "v",
         "showlegend": true,
         "textposition": "auto",
         "type": "bar",
         "x": [
          "E4 香菇",
          "E5 香菇",
          "E6 香菇"
         ],
         "xaxis": "x",
         "y": [
          2000,
          2000,
          2000
         ],
         "yaxis": "y"
        },
        {
         "alignmentgroup": "True",
         "hovertemplate": "作物=%{x}<br>种植成本（元/亩）=%{y}<extra></extra>",
         "legendgroup": "油麦菜",
         "marker": {
          "color": "#636efa",
          "pattern": {
           "shape": ""
          }
         },
         "name": "油麦菜",
         "offsetgroup": "油麦菜",
         "orientation": "v",
         "showlegend": true,
         "textposition": "auto",
         "type": "bar",
         "x": [
          "E6 油麦菜",
          "E15 油麦菜"
         ],
         "xaxis": "x",
         "y": [
          2000,
          2000
         ],
         "yaxis": "y"
        },
        {
         "alignmentgroup": "True",
         "hovertemplate": "作物=%{x}<br>种植成本（元/亩）=%{y}<extra></extra>",
         "legendgroup": "芸豆",
         "marker": {
          "color": "#EF553B",
          "pattern": {
           "shape": ""
          }
         },
         "name": "芸豆",
         "offsetgroup": "芸豆",
         "orientation": "v",
         "showlegend": true,
         "textposition": "auto",
         "type": "bar",
         "x": [
          "E7 芸豆",
          "E8 芸豆",
          "F4 芸豆"
         ],
         "xaxis": "x",
         "y": [
          2400,
          2400,
          2640
         ],
         "yaxis": "y"
        },
        {
         "alignmentgroup": "True",
         "hovertemplate": "作物=%{x}<br>种植成本（元/亩）=%{y}<extra></extra>",
         "legendgroup": "白灵菇",
         "marker": {
          "color": "#00cc96",
          "pattern": {
           "shape": ""
          }
         },
         "name": "白灵菇",
         "offsetgroup": "白灵菇",
         "orientation": "v",
         "showlegend": true,
         "textposition": "auto",
         "type": "bar",
         "x": [
          "E7 白灵菇",
          "E8 白灵菇",
          "E9 白灵菇"
         ],
         "xaxis": "x",
         "y": [
          10000,
          10000,
          10000
         ],
         "yaxis": "y"
        },
        {
         "alignmentgroup": "True",
         "hovertemplate": "作物=%{x}<br>种植成本（元/亩）=%{y}<extra></extra>",
         "legendgroup": "羊肚菌",
         "marker": {
          "color": "#ab63fa",
          "pattern": {
           "shape": ""
          }
         },
         "name": "羊肚菌",
         "offsetgroup": "羊肚菌",
         "orientation": "v",
         "showlegend": true,
         "textposition": "auto",
         "type": "bar",
         "x": [
          "E10 羊肚菌",
          "E11 羊肚菌",
          "E12 羊肚菌",
          "E13 羊肚菌",
          "E14 羊肚菌",
          "E15 羊肚菌",
          "E16 羊肚菌"
         ],
         "xaxis": "x",
         "y": [
          10000,
          10000,
          10000,
          10000,
          10000,
          10000,
          10000
         ],
         "yaxis": "y"
        },
        {
         "alignmentgroup": "True",
         "hovertemplate": "作物=%{x}<br>种植成本（元/亩）=%{y}<extra></extra>",
         "legendgroup": "黄瓜",
         "marker": {
          "color": "#FFA15A",
          "pattern": {
           "shape": ""
          }
         },
         "name": "黄瓜",
         "offsetgroup": "黄瓜",
         "orientation": "v",
         "showlegend": true,
         "textposition": "auto",
         "type": "bar",
         "x": [
          "E14 黄瓜",
          "F2 黄瓜"
         ],
         "xaxis": "x",
         "y": [
          3500,
          3850
         ],
         "yaxis": "y"
        },
        {
         "alignmentgroup": "True",
         "hovertemplate": "作物=%{x}<br>种植成本（元/亩）=%{y}<extra></extra>",
         "legendgroup": "生菜",
         "marker": {
          "color": "#19d3f3",
          "pattern": {
           "shape": ""
          }
         },
         "name": "生菜",
         "offsetgroup": "生菜",
         "orientation": "v",
         "showlegend": true,
         "textposition": "auto",
         "type": "bar",
         "x": [
          "E15 生菜",
          "F3 生菜"
         ],
         "xaxis": "x",
         "y": [
          2000,
          2200
         ],
         "yaxis": "y"
        },
        {
         "alignmentgroup": "True",
         "hovertemplate": "作物=%{x}<br>种植成本（元/亩）=%{y}<extra></extra>",
         "legendgroup": "辣椒",
         "marker": {
          "color": "#FF6692",
          "pattern": {
           "shape": ""
          }
         },
         "name": "辣椒",
         "offsetgroup": "辣椒",
         "orientation": "v",
         "showlegend": true,
         "textposition": "auto",
         "type": "bar",
         "x": [
          "E16 辣椒"
         ],
         "xaxis": "x",
         "y": [
          1200
         ],
         "yaxis": "y"
        },
        {
         "alignmentgroup": "True",
         "hovertemplate": "作物=%{x}<br>种植成本（元/亩）=%{y}<extra></extra>",
         "legendgroup": "空心菜",
         "marker": {
          "color": "#B6E880",
          "pattern": {
           "shape": ""
          }
         },
         "name": "空心菜",
         "offsetgroup": "空心菜",
         "orientation": "v",
         "showlegend": true,
         "textposition": "auto",
         "type": "bar",
         "x": [
          "F1 空心菜"
         ],
         "xaxis": "x",
         "y": [
          5500
         ],
         "yaxis": "y"
        },
        {
         "alignmentgroup": "True",
         "hovertemplate": "作物=%{x}<br>种植成本（元/亩）=%{y}<extra></extra>",
         "legendgroup": "黄心菜",
         "marker": {
          "color": "#FF97FF",
          "pattern": {
           "shape": ""
          }
         },
         "name": "黄心菜",
         "offsetgroup": "黄心菜",
         "orientation": "v",
         "showlegend": true,
         "textposition": "auto",
         "type": "bar",
         "x": [
          "F1 黄心菜"
         ],
         "xaxis": "x",
         "y": [
          2750
         ],
         "yaxis": "y"
        },
        {
         "alignmentgroup": "True",
         "hovertemplate": "作物=%{x}<br>种植成本（元/亩）=%{y}<extra></extra>",
         "legendgroup": "芹菜",
         "marker": {
          "color": "#FECB52",
          "pattern": {
           "shape": ""
          }
         },
         "name": "芹菜",
         "offsetgroup": "芹菜",
         "orientation": "v",
         "showlegend": true,
         "textposition": "auto",
         "type": "bar",
         "x": [
          "F4 芹菜"
         ],
         "xaxis": "x",
         "y": [
          1200
         ],
         "yaxis": "y"
        },
        {
         "alignmentgroup": "True",
         "hovertemplate": "作物=%{x}<br>种植成本（元/亩）=%{y}<extra></extra>",
         "legendgroup": "菠菜",
         "marker": {
          "color": "#636efa",
          "pattern": {
           "shape": ""
          }
         },
         "name": "菠菜",
         "offsetgroup": "菠菜",
         "orientation": "v",
         "showlegend": true,
         "textposition": "auto",
         "type": "bar",
         "x": [
          "F4 菠菜"
         ],
         "xaxis": "x",
         "y": [
          3000
         ],
         "yaxis": "y"
        }
       ],
       "layout": {
        "barmode": "relative",
        "height": 750,
        "legend": {
         "title": {
          "text": "作物"
         },
         "tracegroupgap": 0
        },
        "showlegend": false,
        "template": {
         "data": {
          "bar": [
           {
            "error_x": {
             "color": "#2a3f5f"
            },
            "error_y": {
             "color": "#2a3f5f"
            },
            "marker": {
             "line": {
              "color": "#E5ECF6",
              "width": 0.5
             },
             "pattern": {
              "fillmode": "overlay",
              "size": 10,
              "solidity": 0.2
             }
            },
            "type": "bar"
           }
          ],
          "barpolar": [
           {
            "marker": {
             "line": {
              "color": "#E5ECF6",
              "width": 0.5
             },
             "pattern": {
              "fillmode": "overlay",
              "size": 10,
              "solidity": 0.2
             }
            },
            "type": "barpolar"
           }
          ],
          "carpet": [
           {
            "aaxis": {
             "endlinecolor": "#2a3f5f",
             "gridcolor": "white",
             "linecolor": "white",
             "minorgridcolor": "white",
             "startlinecolor": "#2a3f5f"
            },
            "baxis": {
             "endlinecolor": "#2a3f5f",
             "gridcolor": "white",
             "linecolor": "white",
             "minorgridcolor": "white",
             "startlinecolor": "#2a3f5f"
            },
            "type": "carpet"
           }
          ],
          "choropleth": [
           {
            "colorbar": {
             "outlinewidth": 0,
             "ticks": ""
            },
            "type": "choropleth"
           }
          ],
          "contour": [
           {
            "colorbar": {
             "outlinewidth": 0,
             "ticks": ""
            },
            "colorscale": [
             [
              0,
              "#0d0887"
             ],
             [
              0.1111111111111111,
              "#46039f"
             ],
             [
              0.2222222222222222,
              "#7201a8"
             ],
             [
              0.3333333333333333,
              "#9c179e"
             ],
             [
              0.4444444444444444,
              "#bd3786"
             ],
             [
              0.5555555555555556,
              "#d8576b"
             ],
             [
              0.6666666666666666,
              "#ed7953"
             ],
             [
              0.7777777777777778,
              "#fb9f3a"
             ],
             [
              0.8888888888888888,
              "#fdca26"
             ],
             [
              1,
              "#f0f921"
             ]
            ],
            "type": "contour"
           }
          ],
          "contourcarpet": [
           {
            "colorbar": {
             "outlinewidth": 0,
             "ticks": ""
            },
            "type": "contourcarpet"
           }
          ],
          "heatmap": [
           {
            "colorbar": {
             "outlinewidth": 0,
             "ticks": ""
            },
            "colorscale": [
             [
              0,
              "#0d0887"
             ],
             [
              0.1111111111111111,
              "#46039f"
             ],
             [
              0.2222222222222222,
              "#7201a8"
             ],
             [
              0.3333333333333333,
              "#9c179e"
             ],
             [
              0.4444444444444444,
              "#bd3786"
             ],
             [
              0.5555555555555556,
              "#d8576b"
             ],
             [
              0.6666666666666666,
              "#ed7953"
             ],
             [
              0.7777777777777778,
              "#fb9f3a"
             ],
             [
              0.8888888888888888,
              "#fdca26"
             ],
             [
              1,
              "#f0f921"
             ]
            ],
            "type": "heatmap"
           }
          ],
          "heatmapgl": [
           {
            "colorbar": {
             "outlinewidth": 0,
             "ticks": ""
            },
            "colorscale": [
             [
              0,
              "#0d0887"
             ],
             [
              0.1111111111111111,
              "#46039f"
             ],
             [
              0.2222222222222222,
              "#7201a8"
             ],
             [
              0.3333333333333333,
              "#9c179e"
             ],
             [
              0.4444444444444444,
              "#bd3786"
             ],
             [
              0.5555555555555556,
              "#d8576b"
             ],
             [
              0.6666666666666666,
              "#ed7953"
             ],
             [
              0.7777777777777778,
              "#fb9f3a"
             ],
             [
              0.8888888888888888,
              "#fdca26"
             ],
             [
              1,
              "#f0f921"
             ]
            ],
            "type": "heatmapgl"
           }
          ],
          "histogram": [
           {
            "marker": {
             "pattern": {
              "fillmode": "overlay",
              "size": 10,
              "solidity": 0.2
             }
            },
            "type": "histogram"
           }
          ],
          "histogram2d": [
           {
            "colorbar": {
             "outlinewidth": 0,
             "ticks": ""
            },
            "colorscale": [
             [
              0,
              "#0d0887"
             ],
             [
              0.1111111111111111,
              "#46039f"
             ],
             [
              0.2222222222222222,
              "#7201a8"
             ],
             [
              0.3333333333333333,
              "#9c179e"
             ],
             [
              0.4444444444444444,
              "#bd3786"
             ],
             [
              0.5555555555555556,
              "#d8576b"
             ],
             [
              0.6666666666666666,
              "#ed7953"
             ],
             [
              0.7777777777777778,
              "#fb9f3a"
             ],
             [
              0.8888888888888888,
              "#fdca26"
             ],
             [
              1,
              "#f0f921"
             ]
            ],
            "type": "histogram2d"
           }
          ],
          "histogram2dcontour": [
           {
            "colorbar": {
             "outlinewidth": 0,
             "ticks": ""
            },
            "colorscale": [
             [
              0,
              "#0d0887"
             ],
             [
              0.1111111111111111,
              "#46039f"
             ],
             [
              0.2222222222222222,
              "#7201a8"
             ],
             [
              0.3333333333333333,
              "#9c179e"
             ],
             [
              0.4444444444444444,
              "#bd3786"
             ],
             [
              0.5555555555555556,
              "#d8576b"
             ],
             [
              0.6666666666666666,
              "#ed7953"
             ],
             [
              0.7777777777777778,
              "#fb9f3a"
             ],
             [
              0.8888888888888888,
              "#fdca26"
             ],
             [
              1,
              "#f0f921"
             ]
            ],
            "type": "histogram2dcontour"
           }
          ],
          "mesh3d": [
           {
            "colorbar": {
             "outlinewidth": 0,
             "ticks": ""
            },
            "type": "mesh3d"
           }
          ],
          "parcoords": [
           {
            "line": {
             "colorbar": {
              "outlinewidth": 0,
              "ticks": ""
             }
            },
            "type": "parcoords"
           }
          ],
          "pie": [
           {
            "automargin": true,
            "type": "pie"
           }
          ],
          "scatter": [
           {
            "fillpattern": {
             "fillmode": "overlay",
             "size": 10,
             "solidity": 0.2
            },
            "type": "scatter"
           }
          ],
          "scatter3d": [
           {
            "line": {
             "colorbar": {
              "outlinewidth": 0,
              "ticks": ""
             }
            },
            "marker": {
             "colorbar": {
              "outlinewidth": 0,
              "ticks": ""
             }
            },
            "type": "scatter3d"
           }
          ],
          "scattercarpet": [
           {
            "marker": {
             "colorbar": {
              "outlinewidth": 0,
              "ticks": ""
             }
            },
            "type": "scattercarpet"
           }
          ],
          "scattergeo": [
           {
            "marker": {
             "colorbar": {
              "outlinewidth": 0,
              "ticks": ""
             }
            },
            "type": "scattergeo"
           }
          ],
          "scattergl": [
           {
            "marker": {
             "colorbar": {
              "outlinewidth": 0,
              "ticks": ""
             }
            },
            "type": "scattergl"
           }
          ],
          "scattermapbox": [
           {
            "marker": {
             "colorbar": {
              "outlinewidth": 0,
              "ticks": ""
             }
            },
            "type": "scattermapbox"
           }
          ],
          "scatterpolar": [
           {
            "marker": {
             "colorbar": {
              "outlinewidth": 0,
              "ticks": ""
             }
            },
            "type": "scatterpolar"
           }
          ],
          "scatterpolargl": [
           {
            "marker": {
             "colorbar": {
              "outlinewidth": 0,
              "ticks": ""
             }
            },
            "type": "scatterpolargl"
           }
          ],
          "scatterternary": [
           {
            "marker": {
             "colorbar": {
              "outlinewidth": 0,
              "ticks": ""
             }
            },
            "type": "scatterternary"
           }
          ],
          "surface": [
           {
            "colorbar": {
             "outlinewidth": 0,
             "ticks": ""
            },
            "colorscale": [
             [
              0,
              "#0d0887"
             ],
             [
              0.1111111111111111,
              "#46039f"
             ],
             [
              0.2222222222222222,
              "#7201a8"
             ],
             [
              0.3333333333333333,
              "#9c179e"
             ],
             [
              0.4444444444444444,
              "#bd3786"
             ],
             [
              0.5555555555555556,
              "#d8576b"
             ],
             [
              0.6666666666666666,
              "#ed7953"
             ],
             [
              0.7777777777777778,
              "#fb9f3a"
             ],
             [
              0.8888888888888888,
              "#fdca26"
             ],
             [
              1,
              "#f0f921"
             ]
            ],
            "type": "surface"
           }
          ],
          "table": [
           {
            "cells": {
             "fill": {
              "color": "#EBF0F8"
             },
             "line": {
              "color": "white"
             }
            },
            "header": {
             "fill": {
              "color": "#C8D4E3"
             },
             "line": {
              "color": "white"
             }
            },
            "type": "table"
           }
          ]
         },
         "layout": {
          "annotationdefaults": {
           "arrowcolor": "#2a3f5f",
           "arrowhead": 0,
           "arrowwidth": 1
          },
          "autotypenumbers": "strict",
          "coloraxis": {
           "colorbar": {
            "outlinewidth": 0,
            "ticks": ""
           }
          },
          "colorscale": {
           "diverging": [
            [
             0,
             "#8e0152"
            ],
            [
             0.1,
             "#c51b7d"
            ],
            [
             0.2,
             "#de77ae"
            ],
            [
             0.3,
             "#f1b6da"
            ],
            [
             0.4,
             "#fde0ef"
            ],
            [
             0.5,
             "#f7f7f7"
            ],
            [
             0.6,
             "#e6f5d0"
            ],
            [
             0.7,
             "#b8e186"
            ],
            [
             0.8,
             "#7fbc41"
            ],
            [
             0.9,
             "#4d9221"
            ],
            [
             1,
             "#276419"
            ]
           ],
           "sequential": [
            [
             0,
             "#0d0887"
            ],
            [
             0.1111111111111111,
             "#46039f"
            ],
            [
             0.2222222222222222,
             "#7201a8"
            ],
            [
             0.3333333333333333,
             "#9c179e"
            ],
            [
             0.4444444444444444,
             "#bd3786"
            ],
            [
             0.5555555555555556,
             "#d8576b"
            ],
            [
             0.6666666666666666,
             "#ed7953"
            ],
            [
             0.7777777777777778,
             "#fb9f3a"
            ],
            [
             0.8888888888888888,
             "#fdca26"
            ],
            [
             1,
             "#f0f921"
            ]
           ],
           "sequentialminus": [
            [
             0,
             "#0d0887"
            ],
            [
             0.1111111111111111,
             "#46039f"
            ],
            [
             0.2222222222222222,
             "#7201a8"
            ],
            [
             0.3333333333333333,
             "#9c179e"
            ],
            [
             0.4444444444444444,
             "#bd3786"
            ],
            [
             0.5555555555555556,
             "#d8576b"
            ],
            [
             0.6666666666666666,
             "#ed7953"
            ],
            [
             0.7777777777777778,
             "#fb9f3a"
            ],
            [
             0.8888888888888888,
             "#fdca26"
            ],
            [
             1,
             "#f0f921"
            ]
           ]
          },
          "colorway": [
           "#636efa",
           "#EF553B",
           "#00cc96",
           "#ab63fa",
           "#FFA15A",
           "#19d3f3",
           "#FF6692",
           "#B6E880",
           "#FF97FF",
           "#FECB52"
          ],
          "font": {
           "color": "#2a3f5f"
          },
          "geo": {
           "bgcolor": "white",
           "lakecolor": "white",
           "landcolor": "#E5ECF6",
           "showlakes": true,
           "showland": true,
           "subunitcolor": "white"
          },
          "hoverlabel": {
           "align": "left"
          },
          "hovermode": "closest",
          "mapbox": {
           "style": "light"
          },
          "paper_bgcolor": "white",
          "plot_bgcolor": "#E5ECF6",
          "polar": {
           "angularaxis": {
            "gridcolor": "white",
            "linecolor": "white",
            "ticks": ""
           },
           "bgcolor": "#E5ECF6",
           "radialaxis": {
            "gridcolor": "white",
            "linecolor": "white",
            "ticks": ""
           }
          },
          "scene": {
           "xaxis": {
            "backgroundcolor": "#E5ECF6",
            "gridcolor": "white",
            "gridwidth": 2,
            "linecolor": "white",
            "showbackground": true,
            "ticks": "",
            "zerolinecolor": "white"
           },
           "yaxis": {
            "backgroundcolor": "#E5ECF6",
            "gridcolor": "white",
            "gridwidth": 2,
            "linecolor": "white",
            "showbackground": true,
            "ticks": "",
            "zerolinecolor": "white"
           },
           "zaxis": {
            "backgroundcolor": "#E5ECF6",
            "gridcolor": "white",
            "gridwidth": 2,
            "linecolor": "white",
            "showbackground": true,
            "ticks": "",
            "zerolinecolor": "white"
           }
          },
          "shapedefaults": {
           "line": {
            "color": "#2a3f5f"
           }
          },
          "ternary": {
           "aaxis": {
            "gridcolor": "white",
            "linecolor": "white",
            "ticks": ""
           },
           "baxis": {
            "gridcolor": "white",
            "linecolor": "white",
            "ticks": ""
           },
           "bgcolor": "#E5ECF6",
           "caxis": {
            "gridcolor": "white",
            "linecolor": "white",
            "ticks": ""
           }
          },
          "title": {
           "x": 0.05
          },
          "xaxis": {
           "automargin": true,
           "gridcolor": "white",
           "linecolor": "white",
           "ticks": "",
           "title": {
            "standoff": 15
           },
           "zerolinecolor": "white",
           "zerolinewidth": 2
          },
          "yaxis": {
           "automargin": true,
           "gridcolor": "white",
           "linecolor": "white",
           "ticks": "",
           "title": {
            "standoff": 15
           },
           "zerolinecolor": "white",
           "zerolinewidth": 2
          }
         }
        },
        "title": {
         "text": "同一作物在不同地块下的种植成本（元/亩）"
        },
        "width": 1500,
        "xaxis": {
         "anchor": "y",
         "domain": [
          0,
          1
         ],
         "title": {
          "text": "作物"
         }
        },
        "yaxis": {
         "anchor": "x",
         "domain": [
          0,
          1
         ],
         "title": {
          "text": "种植成本（元/亩）"
         },
         "type": "log"
        }
       }
      },
      "text/html": [
       "<div>                            <div id=\"8c45d8cc-11b8-44cf-a546-8d60f51622fd\" class=\"plotly-graph-div\" style=\"height:750px; width:1500px;\"></div>            <script type=\"text/javascript\">                require([\"plotly\"], function(Plotly) {                    window.PLOTLYENV=window.PLOTLYENV || {};                                    if (document.getElementById(\"8c45d8cc-11b8-44cf-a546-8d60f51622fd\")) {                    Plotly.newPlot(                        \"8c45d8cc-11b8-44cf-a546-8d60f51622fd\",                        [{\"alignmentgroup\":\"True\",\"hovertemplate\":\"\\u4f5c\\u7269=%{x}\\u003cbr\\u003e\\u79cd\\u690d\\u6210\\u672c\\uff08\\u5143\\u002f\\u4ea9\\uff09=%{y}\\u003cextra\\u003e\\u003c\\u002fextra\\u003e\",\"legendgroup\":\"\\u5c0f\\u9ea6\",\"marker\":{\"color\":\"#636efa\",\"pattern\":{\"shape\":\"\"}},\"name\":\"\\u5c0f\\u9ea6\",\"offsetgroup\":\"\\u5c0f\\u9ea6\",\"orientation\":\"v\",\"showlegend\":true,\"textposition\":\"auto\",\"x\":[\"A1 \\u5c0f\\u9ea6\",\"B1 \\u5c0f\\u9ea6\",\"B7 \\u5c0f\\u9ea6\",\"C5 \\u5c0f\\u9ea6\"],\"xaxis\":\"x\",\"y\":[450.0,450.0,450.0,450.0],\"yaxis\":\"y\",\"type\":\"bar\"},{\"alignmentgroup\":\"True\",\"hovertemplate\":\"\\u4f5c\\u7269=%{x}\\u003cbr\\u003e\\u79cd\\u690d\\u6210\\u672c\\uff08\\u5143\\u002f\\u4ea9\\uff09=%{y}\\u003cextra\\u003e\\u003c\\u002fextra\\u003e\",\"legendgroup\":\"\\u7389\\u7c73\",\"marker\":{\"color\":\"#EF553B\",\"pattern\":{\"shape\":\"\"}},\"name\":\"\\u7389\\u7c73\",\"offsetgroup\":\"\\u7389\\u7c73\",\"orientation\":\"v\",\"showlegend\":true,\"textposition\":\"auto\",\"x\":[\"A2 \\u7389\\u7c73\",\"A3 \\u7389\\u7c73\",\"B12 \\u7389\\u7c73\"],\"xaxis\":\"x\",\"y\":[500.0,500.0,500.0],\"yaxis\":\"y\",\"type\":\"bar\"},{\"alignmentgroup\":\"True\",\"hovertemplate\":\"\\u4f5c\\u7269=%{x}\\u003cbr\\u003e\\u79cd\\u690d\\u6210\\u672c\\uff08\\u5143\\u002f\\u4ea9\\uff09=%{y}\\u003cextra\\u003e\\u003c\\u002fextra\\u003e\",\"legendgroup\":\"\\u9ec4\\u8c46\",\"marker\":{\"color\":\"#00cc96\",\"pattern\":{\"shape\":\"\"}},\"name\":\"\\u9ec4\\u8c46\",\"offsetgroup\":\"\\u9ec4\\u8c46\",\"orientation\":\"v\",\"showlegend\":true,\"textposition\":\"auto\",\"x\":[\"A4 \\u9ec4\\u8c46\",\"B11 \\u9ec4\\u8c46\",\"C3 \\u9ec4\\u8c46\"],\"xaxis\":\"x\",\"y\":[400.0,400.0,400.0],\"yaxis\":\"y\",\"type\":\"bar\"},{\"alignmentgroup\":\"True\",\"hovertemplate\":\"\\u4f5c\\u7269=%{x}\\u003cbr\\u003e\\u79cd\\u690d\\u6210\\u672c\\uff08\\u5143\\u002f\\u4ea9\\uff09=%{y}\\u003cextra\\u003e\\u003c\\u002fextra\\u003e\",\"legendgroup\":\"\\u7eff\\u8c46\",\"marker\":{\"color\":\"#ab63fa\",\"pattern\":{\"shape\":\"\"}},\"name\":\"\\u7eff\\u8c46\",\"offsetgroup\":\"\\u7eff\\u8c46\",\"orientation\":\"v\",\"showlegend\":true,\"textposition\":\"auto\",\"x\":[\"A5 \\u7eff\\u8c46\",\"B4 \\u7eff\\u8c46\"],\"xaxis\":\"x\",\"y\":[350.0,350.0],\"yaxis\":\"y\",\"type\":\"bar\"},{\"alignmentgroup\":\"True\",\"hovertemplate\":\"\\u4f5c\\u7269=%{x}\\u003cbr\\u003e\\u79cd\\u690d\\u6210\\u672c\\uff08\\u5143\\u002f\\u4ea9\\uff09=%{y}\\u003cextra\\u003e\\u003c\\u002fextra\\u003e\",\"legendgroup\":\"\\u8c37\\u5b50\",\"marker\":{\"color\":\"#FFA15A\",\"pattern\":{\"shape\":\"\"}},\"name\":\"\\u8c37\\u5b50\",\"offsetgroup\":\"\\u8c37\\u5b50\",\"orientation\":\"v\",\"showlegend\":true,\"textposition\":\"auto\",\"x\":[\"A6 \\u8c37\\u5b50\",\"B6 \\u8c37\\u5b50\",\"B8 \\u8c37\\u5b50\"],\"xaxis\":\"x\",\"y\":[360.0,360.0,360.0],\"yaxis\":\"y\",\"type\":\"bar\"},{\"alignmentgroup\":\"True\",\"hovertemplate\":\"\\u4f5c\\u7269=%{x}\\u003cbr\\u003e\\u79cd\\u690d\\u6210\\u672c\\uff08\\u5143\\u002f\\u4ea9\\uff09=%{y}\\u003cextra\\u003e\\u003c\\u002fextra\\u003e\",\"legendgroup\":\"\\u9ed1\\u8c46\",\"marker\":{\"color\":\"#19d3f3\",\"pattern\":{\"shape\":\"\"}},\"name\":\"\\u9ed1\\u8c46\",\"offsetgroup\":\"\\u9ed1\\u8c46\",\"orientation\":\"v\",\"showlegend\":true,\"textposition\":\"auto\",\"x\":[\"B2 \\u9ed1\\u8c46\"],\"xaxis\":\"x\",\"y\":[400.0],\"yaxis\":\"y\",\"type\":\"bar\"},{\"alignmentgroup\":\"True\",\"hovertemplate\":\"\\u4f5c\\u7269=%{x}\\u003cbr\\u003e\\u79cd\\u690d\\u6210\\u672c\\uff08\\u5143\\u002f\\u4ea9\\uff09=%{y}\\u003cextra\\u003e\\u003c\\u002fextra\\u003e\",\"legendgroup\":\"\\u7ea2\\u8c46\",\"marker\":{\"color\":\"#FF6692\",\"pattern\":{\"shape\":\"\"}},\"name\":\"\\u7ea2\\u8c46\",\"offsetgroup\":\"\\u7ea2\\u8c46\",\"orientation\":\"v\",\"showlegend\":true,\"textposition\":\"auto\",\"x\":[\"B3 \\u7ea2\\u8c46\",\"C6 \\u7ea2\\u8c46\"],\"xaxis\":\"x\",\"y\":[350.0,350.0],\"yaxis\":\"y\",\"type\":\"bar\"},{\"alignmentgroup\":\"True\",\"hovertemplate\":\"\\u4f5c\\u7269=%{x}\\u003cbr\\u003e\\u79cd\\u690d\\u6210\\u672c\\uff08\\u5143\\u002f\\u4ea9\\uff09=%{y}\\u003cextra\\u003e\\u003c\\u002fextra\\u003e\",\"legendgroup\":\"\\u722c\\u8c46\",\"marker\":{\"color\":\"#B6E880\",\"pattern\":{\"shape\":\"\"}},\"name\":\"\\u722c\\u8c46\",\"offsetgroup\":\"\\u722c\\u8c46\",\"orientation\":\"v\",\"showlegend\":true,\"textposition\":\"auto\",\"x\":[\"B5 \\u722c\\u8c46\"],\"xaxis\":\"x\",\"y\":[350.0],\"yaxis\":\"y\",\"type\":\"bar\"},{\"alignmentgroup\":\"True\",\"hovertemplate\":\"\\u4f5c\\u7269=%{x}\\u003cbr\\u003e\\u79cd\\u690d\\u6210\\u672c\\uff08\\u5143\\u002f\\u4ea9\\uff09=%{y}\\u003cextra\\u003e\\u003c\\u002fextra\\u003e\",\"legendgroup\":\"\\u9ad8\\u7cb1\",\"marker\":{\"color\":\"#FF97FF\",\"pattern\":{\"shape\":\"\"}},\"name\":\"\\u9ad8\\u7cb1\",\"offsetgroup\":\"\\u9ad8\\u7cb1\",\"orientation\":\"v\",\"showlegend\":true,\"textposition\":\"auto\",\"x\":[\"B9 \\u9ad8\\u7cb1\"],\"xaxis\":\"x\",\"y\":[400.0],\"yaxis\":\"y\",\"type\":\"bar\"},{\"alignmentgroup\":\"True\",\"hovertemplate\":\"\\u4f5c\\u7269=%{x}\\u003cbr\\u003e\\u79cd\\u690d\\u6210\\u672c\\uff08\\u5143\\u002f\\u4ea9\\uff09=%{y}\\u003cextra\\u003e\\u003c\\u002fextra\\u003e\",\"legendgroup\":\"\\u9ecd\\u5b50\",\"marker\":{\"color\":\"#FECB52\",\"pattern\":{\"shape\":\"\"}},\"name\":\"\\u9ecd\\u5b50\",\"offsetgroup\":\"\\u9ecd\\u5b50\",\"orientation\":\"v\",\"showlegend\":true,\"textposition\":\"auto\",\"x\":[\"B10 \\u9ecd\\u5b50\"],\"xaxis\":\"x\",\"y\":[360.0],\"yaxis\":\"y\",\"type\":\"bar\"},{\"alignmentgroup\":\"True\",\"hovertemplate\":\"\\u4f5c\\u7269=%{x}\\u003cbr\\u003e\\u79cd\\u690d\\u6210\\u672c\\uff08\\u5143\\u002f\\u4ea9\\uff09=%{y}\\u003cextra\\u003e\\u003c\\u002fextra\\u003e\",\"legendgroup\":\"\\u839c\\u9ea6\",\"marker\":{\"color\":\"#636efa\",\"pattern\":{\"shape\":\"\"}},\"name\":\"\\u839c\\u9ea6\",\"offsetgroup\":\"\\u839c\\u9ea6\",\"orientation\":\"v\",\"showlegend\":true,\"textposition\":\"auto\",\"x\":[\"B13 \\u839c\\u9ea6\"],\"xaxis\":\"x\",\"y\":[400.0],\"yaxis\":\"y\",\"type\":\"bar\"},{\"alignmentgroup\":\"True\",\"hovertemplate\":\"\\u4f5c\\u7269=%{x}\\u003cbr\\u003e\\u79cd\\u690d\\u6210\\u672c\\uff08\\u5143\\u002f\\u4ea9\\uff09=%{y}\\u003cextra\\u003e\\u003c\\u002fextra\\u003e\",\"legendgroup\":\"\\u5927\\u9ea6\",\"marker\":{\"color\":\"#EF553B\",\"pattern\":{\"shape\":\"\"}},\"name\":\"\\u5927\\u9ea6\",\"offsetgroup\":\"\\u5927\\u9ea6\",\"orientation\":\"v\",\"showlegend\":true,\"textposition\":\"auto\",\"x\":[\"B14 \\u5927\\u9ea6\"],\"xaxis\":\"x\",\"y\":[350.0],\"yaxis\":\"y\",\"type\":\"bar\"},{\"alignmentgroup\":\"True\",\"hovertemplate\":\"\\u4f5c\\u7269=%{x}\\u003cbr\\u003e\\u79cd\\u690d\\u6210\\u672c\\uff08\\u5143\\u002f\\u4ea9\\uff09=%{y}\\u003cextra\\u003e\\u003c\\u002fextra\\u003e\",\"legendgroup\":\"\\u835e\\u9ea6\",\"marker\":{\"color\":\"#00cc96\",\"pattern\":{\"shape\":\"\"}},\"name\":\"\\u835e\\u9ea6\",\"offsetgroup\":\"\\u835e\\u9ea6\",\"orientation\":\"v\",\"showlegend\":true,\"textposition\":\"auto\",\"x\":[\"C1 \\u835e\\u9ea6\"],\"xaxis\":\"x\",\"y\":[350.0],\"yaxis\":\"y\",\"type\":\"bar\"},{\"alignmentgroup\":\"True\",\"hovertemplate\":\"\\u4f5c\\u7269=%{x}\\u003cbr\\u003e\\u79cd\\u690d\\u6210\\u672c\\uff08\\u5143\\u002f\\u4ea9\\uff09=%{y}\\u003cextra\\u003e\\u003c\\u002fextra\\u003e\",\"legendgroup\":\"\\u5357\\u74dc\",\"marker\":{\"color\":\"#ab63fa\",\"pattern\":{\"shape\":\"\"}},\"name\":\"\\u5357\\u74dc\",\"offsetgroup\":\"\\u5357\\u74dc\",\"orientation\":\"v\",\"showlegend\":true,\"textposition\":\"auto\",\"x\":[\"C2 \\u5357\\u74dc\"],\"xaxis\":\"x\",\"y\":[1000.0],\"yaxis\":\"y\",\"type\":\"bar\"},{\"alignmentgroup\":\"True\",\"hovertemplate\":\"\\u4f5c\\u7269=%{x}\\u003cbr\\u003e\\u79cd\\u690d\\u6210\\u672c\\uff08\\u5143\\u002f\\u4ea9\\uff09=%{y}\\u003cextra\\u003e\\u003c\\u002fextra\\u003e\",\"legendgroup\":\"\\u7ea2\\u85af\",\"marker\":{\"color\":\"#FFA15A\",\"pattern\":{\"shape\":\"\"}},\"name\":\"\\u7ea2\\u85af\",\"offsetgroup\":\"\\u7ea2\\u85af\",\"orientation\":\"v\",\"showlegend\":true,\"textposition\":\"auto\",\"x\":[\"C4 \\u7ea2\\u85af\"],\"xaxis\":\"x\",\"y\":[2000.0],\"yaxis\":\"y\",\"type\":\"bar\"},{\"alignmentgroup\":\"True\",\"hovertemplate\":\"\\u4f5c\\u7269=%{x}\\u003cbr\\u003e\\u79cd\\u690d\\u6210\\u672c\\uff08\\u5143\\u002f\\u4ea9\\uff09=%{y}\\u003cextra\\u003e\\u003c\\u002fextra\\u003e\",\"legendgroup\":\"\\u571f\\u8c46\",\"marker\":{\"color\":\"#19d3f3\",\"pattern\":{\"shape\":\"\"}},\"name\":\"\\u571f\\u8c46\",\"offsetgroup\":\"\\u571f\\u8c46\",\"orientation\":\"v\",\"showlegend\":true,\"textposition\":\"auto\",\"x\":[\"D1 \\u571f\\u8c46\"],\"xaxis\":\"x\",\"y\":[2000.0],\"yaxis\":\"y\",\"type\":\"bar\"},{\"alignmentgroup\":\"True\",\"hovertemplate\":\"\\u4f5c\\u7269=%{x}\\u003cbr\\u003e\\u79cd\\u690d\\u6210\\u672c\\uff08\\u5143\\u002f\\u4ea9\\uff09=%{y}\\u003cextra\\u003e\\u003c\\u002fextra\\u003e\",\"legendgroup\":\"\\u767d\\u841d\\u535c\",\"marker\":{\"color\":\"#FF6692\",\"pattern\":{\"shape\":\"\"}},\"name\":\"\\u767d\\u841d\\u535c\",\"offsetgroup\":\"\\u767d\\u841d\\u535c\",\"orientation\":\"v\",\"showlegend\":true,\"textposition\":\"auto\",\"x\":[\"D1 \\u767d\\u841d\\u535c\",\"D5 \\u767d\\u841d\\u535c\"],\"xaxis\":\"x\",\"y\":[500.0,500.0],\"yaxis\":\"y\",\"type\":\"bar\"},{\"alignmentgroup\":\"True\",\"hovertemplate\":\"\\u4f5c\\u7269=%{x}\\u003cbr\\u003e\\u79cd\\u690d\\u6210\\u672c\\uff08\\u5143\\u002f\\u4ea9\\uff09=%{y}\\u003cextra\\u003e\\u003c\\u002fextra\\u003e\",\"legendgroup\":\"\\u5c0f\\u9752\\u83dc\",\"marker\":{\"color\":\"#B6E880\",\"pattern\":{\"shape\":\"\"}},\"name\":\"\\u5c0f\\u9752\\u83dc\",\"offsetgroup\":\"\\u5c0f\\u9752\\u83dc\",\"orientation\":\"v\",\"showlegend\":true,\"textposition\":\"auto\",\"x\":[\"D2 \\u5c0f\\u9752\\u83dc\",\"E5 \\u5c0f\\u9752\\u83dc\",\"F3 \\u5c0f\\u9752\\u83dc\"],\"xaxis\":\"x\",\"y\":[1600.0,2000.0,2200.0],\"yaxis\":\"y\",\"type\":\"bar\"},{\"alignmentgroup\":\"True\",\"hovertemplate\":\"\\u4f5c\\u7269=%{x}\\u003cbr\\u003e\\u79cd\\u690d\\u6210\\u672c\\uff08\\u5143\\u002f\\u4ea9\\uff09=%{y}\\u003cextra\\u003e\\u003c\\u002fextra\\u003e\",\"legendgroup\":\"\\u5927\\u767d\\u83dc\",\"marker\":{\"color\":\"#FF97FF\",\"pattern\":{\"shape\":\"\"}},\"name\":\"\\u5927\\u767d\\u83dc\",\"offsetgroup\":\"\\u5927\\u767d\\u83dc\",\"orientation\":\"v\",\"showlegend\":true,\"textposition\":\"auto\",\"x\":[\"D2 \\u5927\\u767d\\u83dc\",\"D3 \\u5927\\u767d\\u83dc\",\"D4 \\u5927\\u767d\\u83dc\"],\"xaxis\":\"x\",\"y\":[2000.0,2000.0,2000.0],\"yaxis\":\"y\",\"type\":\"bar\"},{\"alignmentgroup\":\"True\",\"hovertemplate\":\"\\u4f5c\\u7269=%{x}\\u003cbr\\u003e\\u79cd\\u690d\\u6210\\u672c\\uff08\\u5143\\u002f\\u4ea9\\uff09=%{y}\\u003cextra\\u003e\\u003c\\u002fextra\\u003e\",\"legendgroup\":\"\\u897f\\u7ea2\\u67ff\",\"marker\":{\"color\":\"#FECB52\",\"pattern\":{\"shape\":\"\"}},\"name\":\"\\u897f\\u7ea2\\u67ff\",\"offsetgroup\":\"\\u897f\\u7ea2\\u67ff\",\"orientation\":\"v\",\"showlegend\":true,\"textposition\":\"auto\",\"x\":[\"D3 \\u897f\\u7ea2\\u67ff\",\"E13 \\u897f\\u7ea2\\u67ff\",\"F1 \\u897f\\u7ea2\\u67ff\"],\"xaxis\":\"x\",\"y\":[2000.0,2400.0,2640.0],\"yaxis\":\"y\",\"type\":\"bar\"},{\"alignmentgroup\":\"True\",\"hovertemplate\":\"\\u4f5c\\u7269=%{x}\\u003cbr\\u003e\\u79cd\\u690d\\u6210\\u672c\\uff08\\u5143\\u002f\\u4ea9\\uff09=%{y}\\u003cextra\\u003e\\u003c\\u002fextra\\u003e\",\"legendgroup\":\"\\u8304\\u5b50\",\"marker\":{\"color\":\"#636efa\",\"pattern\":{\"shape\":\"\"}},\"name\":\"\\u8304\\u5b50\",\"offsetgroup\":\"\\u8304\\u5b50\",\"orientation\":\"v\",\"showlegend\":true,\"textposition\":\"auto\",\"x\":[\"D4 \\u8304\\u5b50\",\"E12 \\u8304\\u5b50\",\"F2 \\u8304\\u5b50\"],\"xaxis\":\"x\",\"y\":[2000.0,2400.0,2640.0],\"yaxis\":\"y\",\"type\":\"bar\"},{\"alignmentgroup\":\"True\",\"hovertemplate\":\"\\u4f5c\\u7269=%{x}\\u003cbr\\u003e\\u79cd\\u690d\\u6210\\u672c\\uff08\\u5143\\u002f\\u4ea9\\uff09=%{y}\\u003cextra\\u003e\\u003c\\u002fextra\\u003e\",\"legendgroup\":\"\\u8c47\\u8c46\",\"marker\":{\"color\":\"#EF553B\",\"pattern\":{\"shape\":\"\"}},\"name\":\"\\u8c47\\u8c46\",\"offsetgroup\":\"\\u8c47\\u8c46\",\"orientation\":\"v\",\"showlegend\":true,\"textposition\":\"auto\",\"x\":[\"D5 \\u8c47\\u8c46\",\"E10 \\u8c47\\u8c46\",\"E11 \\u8c47\\u8c46\",\"F3 \\u8c47\\u8c46\"],\"xaxis\":\"x\",\"y\":[2000.0,2400.0,2400.0,2640.0],\"yaxis\":\"y\",\"type\":\"bar\"},{\"alignmentgroup\":\"True\",\"hovertemplate\":\"\\u4f5c\\u7269=%{x}\\u003cbr\\u003e\\u79cd\\u690d\\u6210\\u672c\\uff08\\u5143\\u002f\\u4ea9\\uff09=%{y}\\u003cextra\\u003e\\u003c\\u002fextra\\u003e\",\"legendgroup\":\"\\u5200\\u8c46\",\"marker\":{\"color\":\"#00cc96\",\"pattern\":{\"shape\":\"\"}},\"name\":\"\\u5200\\u8c46\",\"offsetgroup\":\"\\u5200\\u8c46\",\"orientation\":\"v\",\"showlegend\":true,\"textposition\":\"auto\",\"x\":[\"D6 \\u5200\\u8c46\",\"E1 \\u5200\\u8c46\",\"E9 \\u5200\\u8c46\"],\"xaxis\":\"x\",\"y\":[1000.0,1200.0,1200.0],\"yaxis\":\"y\",\"type\":\"bar\"},{\"alignmentgroup\":\"True\",\"hovertemplate\":\"\\u4f5c\\u7269=%{x}\\u003cbr\\u003e\\u79cd\\u690d\\u6210\\u672c\\uff08\\u5143\\u002f\\u4ea9\\uff09=%{y}\\u003cextra\\u003e\\u003c\\u002fextra\\u003e\",\"legendgroup\":\"\\u7ea2\\u841d\\u535c\",\"marker\":{\"color\":\"#ab63fa\",\"pattern\":{\"shape\":\"\"}},\"name\":\"\\u7ea2\\u841d\\u535c\",\"offsetgroup\":\"\\u7ea2\\u841d\\u535c\",\"orientation\":\"v\",\"showlegend\":true,\"textposition\":\"auto\",\"x\":[\"D6 \\u7ea2\\u841d\\u535c\"],\"xaxis\":\"x\",\"y\":[500.0],\"yaxis\":\"y\",\"type\":\"bar\"},{\"alignmentgroup\":\"True\",\"hovertemplate\":\"\\u4f5c\\u7269=%{x}\\u003cbr\\u003e\\u79cd\\u690d\\u6210\\u672c\\uff08\\u5143\\u002f\\u4ea9\\uff09=%{y}\\u003cextra\\u003e\\u003c\\u002fextra\\u003e\",\"legendgroup\":\"\\u6c34\\u7a3b\",\"marker\":{\"color\":\"#FFA15A\",\"pattern\":{\"shape\":\"\"}},\"name\":\"\\u6c34\\u7a3b\",\"offsetgroup\":\"\\u6c34\\u7a3b\",\"orientation\":\"v\",\"showlegend\":true,\"textposition\":\"auto\",\"x\":[\"D7 \\u6c34\\u7a3b\",\"D8 \\u6c34\\u7a3b\"],\"xaxis\":\"x\",\"y\":[680.0,680.0],\"yaxis\":\"y\",\"type\":\"bar\"},{\"alignmentgroup\":\"True\",\"hovertemplate\":\"\\u4f5c\\u7269=%{x}\\u003cbr\\u003e\\u79cd\\u690d\\u6210\\u672c\\uff08\\u5143\\u002f\\u4ea9\\uff09=%{y}\\u003cextra\\u003e\\u003c\\u002fextra\\u003e\",\"legendgroup\":\"\\u6986\\u9ec4\\u83c7\",\"marker\":{\"color\":\"#19d3f3\",\"pattern\":{\"shape\":\"\"}},\"name\":\"\\u6986\\u9ec4\\u83c7\",\"offsetgroup\":\"\\u6986\\u9ec4\\u83c7\",\"orientation\":\"v\",\"showlegend\":true,\"textposition\":\"auto\",\"x\":[\"E1 \\u6986\\u9ec4\\u83c7\",\"E2 \\u6986\\u9ec4\\u83c7\",\"E3 \\u6986\\u9ec4\\u83c7\"],\"xaxis\":\"x\",\"y\":[3000.0,3000.0,3000.0],\"yaxis\":\"y\",\"type\":\"bar\"},{\"alignmentgroup\":\"True\",\"hovertemplate\":\"\\u4f5c\\u7269=%{x}\\u003cbr\\u003e\\u79cd\\u690d\\u6210\\u672c\\uff08\\u5143\\u002f\\u4ea9\\uff09=%{y}\\u003cextra\\u003e\\u003c\\u002fextra\\u003e\",\"legendgroup\":\"\\u9752\\u6912\",\"marker\":{\"color\":\"#FF6692\",\"pattern\":{\"shape\":\"\"}},\"name\":\"\\u9752\\u6912\",\"offsetgroup\":\"\\u9752\\u6912\",\"orientation\":\"v\",\"showlegend\":true,\"textposition\":\"auto\",\"x\":[\"E2 \\u9752\\u6912\",\"F1 \\u9752\\u6912\"],\"xaxis\":\"x\",\"y\":[2000.0,2200.0],\"yaxis\":\"y\",\"type\":\"bar\"},{\"alignmentgroup\":\"True\",\"hovertemplate\":\"\\u4f5c\\u7269=%{x}\\u003cbr\\u003e\\u79cd\\u690d\\u6210\\u672c\\uff08\\u5143\\u002f\\u4ea9\\uff09=%{y}\\u003cextra\\u003e\\u003c\\u002fextra\\u003e\",\"legendgroup\":\"\\u83dc\\u82b1\",\"marker\":{\"color\":\"#B6E880\",\"pattern\":{\"shape\":\"\"}},\"name\":\"\\u83dc\\u82b1\",\"offsetgroup\":\"\\u83dc\\u82b1\",\"orientation\":\"v\",\"showlegend\":true,\"textposition\":\"auto\",\"x\":[\"E3 \\u83dc\\u82b1\",\"F2 \\u83dc\\u82b1\"],\"xaxis\":\"x\",\"y\":[3000.0,3300.0],\"yaxis\":\"y\",\"type\":\"bar\"},{\"alignmentgroup\":\"True\",\"hovertemplate\":\"\\u4f5c\\u7269=%{x}\\u003cbr\\u003e\\u79cd\\u690d\\u6210\\u672c\\uff08\\u5143\\u002f\\u4ea9\\uff09=%{y}\\u003cextra\\u003e\\u003c\\u002fextra\\u003e\",\"legendgroup\":\"\\u5305\\u83dc\",\"marker\":{\"color\":\"#FF97FF\",\"pattern\":{\"shape\":\"\"}},\"name\":\"\\u5305\\u83dc\",\"offsetgroup\":\"\\u5305\\u83dc\",\"orientation\":\"v\",\"showlegend\":true,\"textposition\":\"auto\",\"x\":[\"E4 \\u5305\\u83dc\",\"F2 \\u5305\\u83dc\"],\"xaxis\":\"x\",\"y\":[3500.0,3850.0],\"yaxis\":\"y\",\"type\":\"bar\"},{\"alignmentgroup\":\"True\",\"hovertemplate\":\"\\u4f5c\\u7269=%{x}\\u003cbr\\u003e\\u79cd\\u690d\\u6210\\u672c\\uff08\\u5143\\u002f\\u4ea9\\uff09=%{y}\\u003cextra\\u003e\\u003c\\u002fextra\\u003e\",\"legendgroup\":\"\\u9999\\u83c7\",\"marker\":{\"color\":\"#FECB52\",\"pattern\":{\"shape\":\"\"}},\"name\":\"\\u9999\\u83c7\",\"offsetgroup\":\"\\u9999\\u83c7\",\"orientation\":\"v\",\"showlegend\":true,\"textposition\":\"auto\",\"x\":[\"E4 \\u9999\\u83c7\",\"E5 \\u9999\\u83c7\",\"E6 \\u9999\\u83c7\"],\"xaxis\":\"x\",\"y\":[2000.0,2000.0,2000.0],\"yaxis\":\"y\",\"type\":\"bar\"},{\"alignmentgroup\":\"True\",\"hovertemplate\":\"\\u4f5c\\u7269=%{x}\\u003cbr\\u003e\\u79cd\\u690d\\u6210\\u672c\\uff08\\u5143\\u002f\\u4ea9\\uff09=%{y}\\u003cextra\\u003e\\u003c\\u002fextra\\u003e\",\"legendgroup\":\"\\u6cb9\\u9ea6\\u83dc\",\"marker\":{\"color\":\"#636efa\",\"pattern\":{\"shape\":\"\"}},\"name\":\"\\u6cb9\\u9ea6\\u83dc\",\"offsetgroup\":\"\\u6cb9\\u9ea6\\u83dc\",\"orientation\":\"v\",\"showlegend\":true,\"textposition\":\"auto\",\"x\":[\"E6 \\u6cb9\\u9ea6\\u83dc\",\"E15 \\u6cb9\\u9ea6\\u83dc\"],\"xaxis\":\"x\",\"y\":[2000.0,2000.0],\"yaxis\":\"y\",\"type\":\"bar\"},{\"alignmentgroup\":\"True\",\"hovertemplate\":\"\\u4f5c\\u7269=%{x}\\u003cbr\\u003e\\u79cd\\u690d\\u6210\\u672c\\uff08\\u5143\\u002f\\u4ea9\\uff09=%{y}\\u003cextra\\u003e\\u003c\\u002fextra\\u003e\",\"legendgroup\":\"\\u82b8\\u8c46\",\"marker\":{\"color\":\"#EF553B\",\"pattern\":{\"shape\":\"\"}},\"name\":\"\\u82b8\\u8c46\",\"offsetgroup\":\"\\u82b8\\u8c46\",\"orientation\":\"v\",\"showlegend\":true,\"textposition\":\"auto\",\"x\":[\"E7 \\u82b8\\u8c46\",\"E8 \\u82b8\\u8c46\",\"F4 \\u82b8\\u8c46\"],\"xaxis\":\"x\",\"y\":[2400.0,2400.0,2640.0],\"yaxis\":\"y\",\"type\":\"bar\"},{\"alignmentgroup\":\"True\",\"hovertemplate\":\"\\u4f5c\\u7269=%{x}\\u003cbr\\u003e\\u79cd\\u690d\\u6210\\u672c\\uff08\\u5143\\u002f\\u4ea9\\uff09=%{y}\\u003cextra\\u003e\\u003c\\u002fextra\\u003e\",\"legendgroup\":\"\\u767d\\u7075\\u83c7\",\"marker\":{\"color\":\"#00cc96\",\"pattern\":{\"shape\":\"\"}},\"name\":\"\\u767d\\u7075\\u83c7\",\"offsetgroup\":\"\\u767d\\u7075\\u83c7\",\"orientation\":\"v\",\"showlegend\":true,\"textposition\":\"auto\",\"x\":[\"E7 \\u767d\\u7075\\u83c7\",\"E8 \\u767d\\u7075\\u83c7\",\"E9 \\u767d\\u7075\\u83c7\"],\"xaxis\":\"x\",\"y\":[10000.0,10000.0,10000.0],\"yaxis\":\"y\",\"type\":\"bar\"},{\"alignmentgroup\":\"True\",\"hovertemplate\":\"\\u4f5c\\u7269=%{x}\\u003cbr\\u003e\\u79cd\\u690d\\u6210\\u672c\\uff08\\u5143\\u002f\\u4ea9\\uff09=%{y}\\u003cextra\\u003e\\u003c\\u002fextra\\u003e\",\"legendgroup\":\"\\u7f8a\\u809a\\u83cc\",\"marker\":{\"color\":\"#ab63fa\",\"pattern\":{\"shape\":\"\"}},\"name\":\"\\u7f8a\\u809a\\u83cc\",\"offsetgroup\":\"\\u7f8a\\u809a\\u83cc\",\"orientation\":\"v\",\"showlegend\":true,\"textposition\":\"auto\",\"x\":[\"E10 \\u7f8a\\u809a\\u83cc\",\"E11 \\u7f8a\\u809a\\u83cc\",\"E12 \\u7f8a\\u809a\\u83cc\",\"E13 \\u7f8a\\u809a\\u83cc\",\"E14 \\u7f8a\\u809a\\u83cc\",\"E15 \\u7f8a\\u809a\\u83cc\",\"E16 \\u7f8a\\u809a\\u83cc\"],\"xaxis\":\"x\",\"y\":[10000.0,10000.0,10000.0,10000.0,10000.0,10000.0,10000.0],\"yaxis\":\"y\",\"type\":\"bar\"},{\"alignmentgroup\":\"True\",\"hovertemplate\":\"\\u4f5c\\u7269=%{x}\\u003cbr\\u003e\\u79cd\\u690d\\u6210\\u672c\\uff08\\u5143\\u002f\\u4ea9\\uff09=%{y}\\u003cextra\\u003e\\u003c\\u002fextra\\u003e\",\"legendgroup\":\"\\u9ec4\\u74dc\",\"marker\":{\"color\":\"#FFA15A\",\"pattern\":{\"shape\":\"\"}},\"name\":\"\\u9ec4\\u74dc\",\"offsetgroup\":\"\\u9ec4\\u74dc\",\"orientation\":\"v\",\"showlegend\":true,\"textposition\":\"auto\",\"x\":[\"E14 \\u9ec4\\u74dc\",\"F2 \\u9ec4\\u74dc\"],\"xaxis\":\"x\",\"y\":[3500.0,3850.0],\"yaxis\":\"y\",\"type\":\"bar\"},{\"alignmentgroup\":\"True\",\"hovertemplate\":\"\\u4f5c\\u7269=%{x}\\u003cbr\\u003e\\u79cd\\u690d\\u6210\\u672c\\uff08\\u5143\\u002f\\u4ea9\\uff09=%{y}\\u003cextra\\u003e\\u003c\\u002fextra\\u003e\",\"legendgroup\":\"\\u751f\\u83dc\",\"marker\":{\"color\":\"#19d3f3\",\"pattern\":{\"shape\":\"\"}},\"name\":\"\\u751f\\u83dc\",\"offsetgroup\":\"\\u751f\\u83dc\",\"orientation\":\"v\",\"showlegend\":true,\"textposition\":\"auto\",\"x\":[\"E15 \\u751f\\u83dc\",\"F3 \\u751f\\u83dc\"],\"xaxis\":\"x\",\"y\":[2000.0,2200.0],\"yaxis\":\"y\",\"type\":\"bar\"},{\"alignmentgroup\":\"True\",\"hovertemplate\":\"\\u4f5c\\u7269=%{x}\\u003cbr\\u003e\\u79cd\\u690d\\u6210\\u672c\\uff08\\u5143\\u002f\\u4ea9\\uff09=%{y}\\u003cextra\\u003e\\u003c\\u002fextra\\u003e\",\"legendgroup\":\"\\u8fa3\\u6912\",\"marker\":{\"color\":\"#FF6692\",\"pattern\":{\"shape\":\"\"}},\"name\":\"\\u8fa3\\u6912\",\"offsetgroup\":\"\\u8fa3\\u6912\",\"orientation\":\"v\",\"showlegend\":true,\"textposition\":\"auto\",\"x\":[\"E16 \\u8fa3\\u6912\"],\"xaxis\":\"x\",\"y\":[1200.0],\"yaxis\":\"y\",\"type\":\"bar\"},{\"alignmentgroup\":\"True\",\"hovertemplate\":\"\\u4f5c\\u7269=%{x}\\u003cbr\\u003e\\u79cd\\u690d\\u6210\\u672c\\uff08\\u5143\\u002f\\u4ea9\\uff09=%{y}\\u003cextra\\u003e\\u003c\\u002fextra\\u003e\",\"legendgroup\":\"\\u7a7a\\u5fc3\\u83dc\",\"marker\":{\"color\":\"#B6E880\",\"pattern\":{\"shape\":\"\"}},\"name\":\"\\u7a7a\\u5fc3\\u83dc\",\"offsetgroup\":\"\\u7a7a\\u5fc3\\u83dc\",\"orientation\":\"v\",\"showlegend\":true,\"textposition\":\"auto\",\"x\":[\"F1 \\u7a7a\\u5fc3\\u83dc\"],\"xaxis\":\"x\",\"y\":[5500.0],\"yaxis\":\"y\",\"type\":\"bar\"},{\"alignmentgroup\":\"True\",\"hovertemplate\":\"\\u4f5c\\u7269=%{x}\\u003cbr\\u003e\\u79cd\\u690d\\u6210\\u672c\\uff08\\u5143\\u002f\\u4ea9\\uff09=%{y}\\u003cextra\\u003e\\u003c\\u002fextra\\u003e\",\"legendgroup\":\"\\u9ec4\\u5fc3\\u83dc\",\"marker\":{\"color\":\"#FF97FF\",\"pattern\":{\"shape\":\"\"}},\"name\":\"\\u9ec4\\u5fc3\\u83dc\",\"offsetgroup\":\"\\u9ec4\\u5fc3\\u83dc\",\"orientation\":\"v\",\"showlegend\":true,\"textposition\":\"auto\",\"x\":[\"F1 \\u9ec4\\u5fc3\\u83dc\"],\"xaxis\":\"x\",\"y\":[2750.0],\"yaxis\":\"y\",\"type\":\"bar\"},{\"alignmentgroup\":\"True\",\"hovertemplate\":\"\\u4f5c\\u7269=%{x}\\u003cbr\\u003e\\u79cd\\u690d\\u6210\\u672c\\uff08\\u5143\\u002f\\u4ea9\\uff09=%{y}\\u003cextra\\u003e\\u003c\\u002fextra\\u003e\",\"legendgroup\":\"\\u82b9\\u83dc\",\"marker\":{\"color\":\"#FECB52\",\"pattern\":{\"shape\":\"\"}},\"name\":\"\\u82b9\\u83dc\",\"offsetgroup\":\"\\u82b9\\u83dc\",\"orientation\":\"v\",\"showlegend\":true,\"textposition\":\"auto\",\"x\":[\"F4 \\u82b9\\u83dc\"],\"xaxis\":\"x\",\"y\":[1200.0],\"yaxis\":\"y\",\"type\":\"bar\"},{\"alignmentgroup\":\"True\",\"hovertemplate\":\"\\u4f5c\\u7269=%{x}\\u003cbr\\u003e\\u79cd\\u690d\\u6210\\u672c\\uff08\\u5143\\u002f\\u4ea9\\uff09=%{y}\\u003cextra\\u003e\\u003c\\u002fextra\\u003e\",\"legendgroup\":\"\\u83e0\\u83dc\",\"marker\":{\"color\":\"#636efa\",\"pattern\":{\"shape\":\"\"}},\"name\":\"\\u83e0\\u83dc\",\"offsetgroup\":\"\\u83e0\\u83dc\",\"orientation\":\"v\",\"showlegend\":true,\"textposition\":\"auto\",\"x\":[\"F4 \\u83e0\\u83dc\"],\"xaxis\":\"x\",\"y\":[3000.0],\"yaxis\":\"y\",\"type\":\"bar\"}],                        {\"template\":{\"data\":{\"histogram2dcontour\":[{\"type\":\"histogram2dcontour\",\"colorbar\":{\"outlinewidth\":0,\"ticks\":\"\"},\"colorscale\":[[0.0,\"#0d0887\"],[0.1111111111111111,\"#46039f\"],[0.2222222222222222,\"#7201a8\"],[0.3333333333333333,\"#9c179e\"],[0.4444444444444444,\"#bd3786\"],[0.5555555555555556,\"#d8576b\"],[0.6666666666666666,\"#ed7953\"],[0.7777777777777778,\"#fb9f3a\"],[0.8888888888888888,\"#fdca26\"],[1.0,\"#f0f921\"]]}],\"choropleth\":[{\"type\":\"choropleth\",\"colorbar\":{\"outlinewidth\":0,\"ticks\":\"\"}}],\"histogram2d\":[{\"type\":\"histogram2d\",\"colorbar\":{\"outlinewidth\":0,\"ticks\":\"\"},\"colorscale\":[[0.0,\"#0d0887\"],[0.1111111111111111,\"#46039f\"],[0.2222222222222222,\"#7201a8\"],[0.3333333333333333,\"#9c179e\"],[0.4444444444444444,\"#bd3786\"],[0.5555555555555556,\"#d8576b\"],[0.6666666666666666,\"#ed7953\"],[0.7777777777777778,\"#fb9f3a\"],[0.8888888888888888,\"#fdca26\"],[1.0,\"#f0f921\"]]}],\"heatmap\":[{\"type\":\"heatmap\",\"colorbar\":{\"outlinewidth\":0,\"ticks\":\"\"},\"colorscale\":[[0.0,\"#0d0887\"],[0.1111111111111111,\"#46039f\"],[0.2222222222222222,\"#7201a8\"],[0.3333333333333333,\"#9c179e\"],[0.4444444444444444,\"#bd3786\"],[0.5555555555555556,\"#d8576b\"],[0.6666666666666666,\"#ed7953\"],[0.7777777777777778,\"#fb9f3a\"],[0.8888888888888888,\"#fdca26\"],[1.0,\"#f0f921\"]]}],\"heatmapgl\":[{\"type\":\"heatmapgl\",\"colorbar\":{\"outlinewidth\":0,\"ticks\":\"\"},\"colorscale\":[[0.0,\"#0d0887\"],[0.1111111111111111,\"#46039f\"],[0.2222222222222222,\"#7201a8\"],[0.3333333333333333,\"#9c179e\"],[0.4444444444444444,\"#bd3786\"],[0.5555555555555556,\"#d8576b\"],[0.6666666666666666,\"#ed7953\"],[0.7777777777777778,\"#fb9f3a\"],[0.8888888888888888,\"#fdca26\"],[1.0,\"#f0f921\"]]}],\"contourcarpet\":[{\"type\":\"contourcarpet\",\"colorbar\":{\"outlinewidth\":0,\"ticks\":\"\"}}],\"contour\":[{\"type\":\"contour\",\"colorbar\":{\"outlinewidth\":0,\"ticks\":\"\"},\"colorscale\":[[0.0,\"#0d0887\"],[0.1111111111111111,\"#46039f\"],[0.2222222222222222,\"#7201a8\"],[0.3333333333333333,\"#9c179e\"],[0.4444444444444444,\"#bd3786\"],[0.5555555555555556,\"#d8576b\"],[0.6666666666666666,\"#ed7953\"],[0.7777777777777778,\"#fb9f3a\"],[0.8888888888888888,\"#fdca26\"],[1.0,\"#f0f921\"]]}],\"surface\":[{\"type\":\"surface\",\"colorbar\":{\"outlinewidth\":0,\"ticks\":\"\"},\"colorscale\":[[0.0,\"#0d0887\"],[0.1111111111111111,\"#46039f\"],[0.2222222222222222,\"#7201a8\"],[0.3333333333333333,\"#9c179e\"],[0.4444444444444444,\"#bd3786\"],[0.5555555555555556,\"#d8576b\"],[0.6666666666666666,\"#ed7953\"],[0.7777777777777778,\"#fb9f3a\"],[0.8888888888888888,\"#fdca26\"],[1.0,\"#f0f921\"]]}],\"mesh3d\":[{\"type\":\"mesh3d\",\"colorbar\":{\"outlinewidth\":0,\"ticks\":\"\"}}],\"scatter\":[{\"fillpattern\":{\"fillmode\":\"overlay\",\"size\":10,\"solidity\":0.2},\"type\":\"scatter\"}],\"parcoords\":[{\"type\":\"parcoords\",\"line\":{\"colorbar\":{\"outlinewidth\":0,\"ticks\":\"\"}}}],\"scatterpolargl\":[{\"type\":\"scatterpolargl\",\"marker\":{\"colorbar\":{\"outlinewidth\":0,\"ticks\":\"\"}}}],\"bar\":[{\"error_x\":{\"color\":\"#2a3f5f\"},\"error_y\":{\"color\":\"#2a3f5f\"},\"marker\":{\"line\":{\"color\":\"#E5ECF6\",\"width\":0.5},\"pattern\":{\"fillmode\":\"overlay\",\"size\":10,\"solidity\":0.2}},\"type\":\"bar\"}],\"scattergeo\":[{\"type\":\"scattergeo\",\"marker\":{\"colorbar\":{\"outlinewidth\":0,\"ticks\":\"\"}}}],\"scatterpolar\":[{\"type\":\"scatterpolar\",\"marker\":{\"colorbar\":{\"outlinewidth\":0,\"ticks\":\"\"}}}],\"histogram\":[{\"marker\":{\"pattern\":{\"fillmode\":\"overlay\",\"size\":10,\"solidity\":0.2}},\"type\":\"histogram\"}],\"scattergl\":[{\"type\":\"scattergl\",\"marker\":{\"colorbar\":{\"outlinewidth\":0,\"ticks\":\"\"}}}],\"scatter3d\":[{\"type\":\"scatter3d\",\"line\":{\"colorbar\":{\"outlinewidth\":0,\"ticks\":\"\"}},\"marker\":{\"colorbar\":{\"outlinewidth\":0,\"ticks\":\"\"}}}],\"scattermapbox\":[{\"type\":\"scattermapbox\",\"marker\":{\"colorbar\":{\"outlinewidth\":0,\"ticks\":\"\"}}}],\"scatterternary\":[{\"type\":\"scatterternary\",\"marker\":{\"colorbar\":{\"outlinewidth\":0,\"ticks\":\"\"}}}],\"scattercarpet\":[{\"type\":\"scattercarpet\",\"marker\":{\"colorbar\":{\"outlinewidth\":0,\"ticks\":\"\"}}}],\"carpet\":[{\"aaxis\":{\"endlinecolor\":\"#2a3f5f\",\"gridcolor\":\"white\",\"linecolor\":\"white\",\"minorgridcolor\":\"white\",\"startlinecolor\":\"#2a3f5f\"},\"baxis\":{\"endlinecolor\":\"#2a3f5f\",\"gridcolor\":\"white\",\"linecolor\":\"white\",\"minorgridcolor\":\"white\",\"startlinecolor\":\"#2a3f5f\"},\"type\":\"carpet\"}],\"table\":[{\"cells\":{\"fill\":{\"color\":\"#EBF0F8\"},\"line\":{\"color\":\"white\"}},\"header\":{\"fill\":{\"color\":\"#C8D4E3\"},\"line\":{\"color\":\"white\"}},\"type\":\"table\"}],\"barpolar\":[{\"marker\":{\"line\":{\"color\":\"#E5ECF6\",\"width\":0.5},\"pattern\":{\"fillmode\":\"overlay\",\"size\":10,\"solidity\":0.2}},\"type\":\"barpolar\"}],\"pie\":[{\"automargin\":true,\"type\":\"pie\"}]},\"layout\":{\"autotypenumbers\":\"strict\",\"colorway\":[\"#636efa\",\"#EF553B\",\"#00cc96\",\"#ab63fa\",\"#FFA15A\",\"#19d3f3\",\"#FF6692\",\"#B6E880\",\"#FF97FF\",\"#FECB52\"],\"font\":{\"color\":\"#2a3f5f\"},\"hovermode\":\"closest\",\"hoverlabel\":{\"align\":\"left\"},\"paper_bgcolor\":\"white\",\"plot_bgcolor\":\"#E5ECF6\",\"polar\":{\"bgcolor\":\"#E5ECF6\",\"angularaxis\":{\"gridcolor\":\"white\",\"linecolor\":\"white\",\"ticks\":\"\"},\"radialaxis\":{\"gridcolor\":\"white\",\"linecolor\":\"white\",\"ticks\":\"\"}},\"ternary\":{\"bgcolor\":\"#E5ECF6\",\"aaxis\":{\"gridcolor\":\"white\",\"linecolor\":\"white\",\"ticks\":\"\"},\"baxis\":{\"gridcolor\":\"white\",\"linecolor\":\"white\",\"ticks\":\"\"},\"caxis\":{\"gridcolor\":\"white\",\"linecolor\":\"white\",\"ticks\":\"\"}},\"coloraxis\":{\"colorbar\":{\"outlinewidth\":0,\"ticks\":\"\"}},\"colorscale\":{\"sequential\":[[0.0,\"#0d0887\"],[0.1111111111111111,\"#46039f\"],[0.2222222222222222,\"#7201a8\"],[0.3333333333333333,\"#9c179e\"],[0.4444444444444444,\"#bd3786\"],[0.5555555555555556,\"#d8576b\"],[0.6666666666666666,\"#ed7953\"],[0.7777777777777778,\"#fb9f3a\"],[0.8888888888888888,\"#fdca26\"],[1.0,\"#f0f921\"]],\"sequentialminus\":[[0.0,\"#0d0887\"],[0.1111111111111111,\"#46039f\"],[0.2222222222222222,\"#7201a8\"],[0.3333333333333333,\"#9c179e\"],[0.4444444444444444,\"#bd3786\"],[0.5555555555555556,\"#d8576b\"],[0.6666666666666666,\"#ed7953\"],[0.7777777777777778,\"#fb9f3a\"],[0.8888888888888888,\"#fdca26\"],[1.0,\"#f0f921\"]],\"diverging\":[[0,\"#8e0152\"],[0.1,\"#c51b7d\"],[0.2,\"#de77ae\"],[0.3,\"#f1b6da\"],[0.4,\"#fde0ef\"],[0.5,\"#f7f7f7\"],[0.6,\"#e6f5d0\"],[0.7,\"#b8e186\"],[0.8,\"#7fbc41\"],[0.9,\"#4d9221\"],[1,\"#276419\"]]},\"xaxis\":{\"gridcolor\":\"white\",\"linecolor\":\"white\",\"ticks\":\"\",\"title\":{\"standoff\":15},\"zerolinecolor\":\"white\",\"automargin\":true,\"zerolinewidth\":2},\"yaxis\":{\"gridcolor\":\"white\",\"linecolor\":\"white\",\"ticks\":\"\",\"title\":{\"standoff\":15},\"zerolinecolor\":\"white\",\"automargin\":true,\"zerolinewidth\":2},\"scene\":{\"xaxis\":{\"backgroundcolor\":\"#E5ECF6\",\"gridcolor\":\"white\",\"linecolor\":\"white\",\"showbackground\":true,\"ticks\":\"\",\"zerolinecolor\":\"white\",\"gridwidth\":2},\"yaxis\":{\"backgroundcolor\":\"#E5ECF6\",\"gridcolor\":\"white\",\"linecolor\":\"white\",\"showbackground\":true,\"ticks\":\"\",\"zerolinecolor\":\"white\",\"gridwidth\":2},\"zaxis\":{\"backgroundcolor\":\"#E5ECF6\",\"gridcolor\":\"white\",\"linecolor\":\"white\",\"showbackground\":true,\"ticks\":\"\",\"zerolinecolor\":\"white\",\"gridwidth\":2}},\"shapedefaults\":{\"line\":{\"color\":\"#2a3f5f\"}},\"annotationdefaults\":{\"arrowcolor\":\"#2a3f5f\",\"arrowhead\":0,\"arrowwidth\":1},\"geo\":{\"bgcolor\":\"white\",\"landcolor\":\"#E5ECF6\",\"subunitcolor\":\"white\",\"showland\":true,\"showlakes\":true,\"lakecolor\":\"white\"},\"title\":{\"x\":0.05},\"mapbox\":{\"style\":\"light\"}}},\"xaxis\":{\"anchor\":\"y\",\"domain\":[0.0,1.0],\"title\":{\"text\":\"\\u4f5c\\u7269\"}},\"yaxis\":{\"anchor\":\"x\",\"domain\":[0.0,1.0],\"title\":{\"text\":\"\\u79cd\\u690d\\u6210\\u672c\\uff08\\u5143\\u002f\\u4ea9\\uff09\"},\"type\":\"log\"},\"legend\":{\"title\":{\"text\":\"\\u4f5c\\u7269\"},\"tracegroupgap\":0},\"title\":{\"text\":\"\\u540c\\u4e00\\u4f5c\\u7269\\u5728\\u4e0d\\u540c\\u5730\\u5757\\u4e0b\\u7684\\u79cd\\u690d\\u6210\\u672c\\uff08\\u5143\\u002f\\u4ea9\\uff09\"},\"barmode\":\"relative\",\"height\":750,\"width\":1500,\"showlegend\":false},                        {\"responsive\": true}                    ).then(function(){\n",
       "                            \n",
       "var gd = document.getElementById('8c45d8cc-11b8-44cf-a546-8d60f51622fd');\n",
       "var x = new MutationObserver(function (mutations, observer) {{\n",
       "        var display = window.getComputedStyle(gd).display;\n",
       "        if (!display || display === 'none') {{\n",
       "            console.log([gd, 'removed!']);\n",
       "            Plotly.purge(gd);\n",
       "            observer.disconnect();\n",
       "        }}\n",
       "}});\n",
       "\n",
       "// Listen for the removal of the full notebook cells\n",
       "var notebookContainer = gd.closest('#notebook-container');\n",
       "if (notebookContainer) {{\n",
       "    x.observe(notebookContainer, {childList: true});\n",
       "}}\n",
       "\n",
       "// Listen for the clearing of the current output cell\n",
       "var outputEl = gd.closest('.output');\n",
       "if (outputEl) {{\n",
       "    x.observe(outputEl, {childList: true});\n",
       "}}\n",
       "\n",
       "                        })                };                });            </script>        </div>"
      ]
     },
     "metadata": {},
     "output_type": "display_data"
    }
   ],
   "source": [
    "import plotly.express as px\n",
    "\n",
    "fig = px.bar(\n",
    "    df,\n",
    "    x=df[\"Field ID\"] + \" \" + df[\"Crop Name\"],\n",
    "    y=\"Price\",\n",
    "    title=\"同一作物在不同地块下的销售单价\",\n",
    "    labels={\"x\": \"作物\", \"Price\": \"销售单价 (元/斤)\", \"Crop Name\": \"作物\"},\n",
    "    color=\"Crop Name\",\n",
    "    log_y=True,\n",
    "    height=750,\n",
    "    width=1500,\n",
    ")\n",
    "fig.update_layout(showlegend=False)\n",
    "fig.show()\n",
    "\n",
    "import plotly.express as px\n",
    "\n",
    "fig = px.bar(\n",
    "    df,\n",
    "    x=df[\"Field ID\"] + \" \" + df[\"Crop Name\"],\n",
    "    y=\"Cost\",\n",
    "    title=\"同一作物在不同地块下的种植成本（元/亩）\",\n",
    "    labels={\"x\": \"作物\", \"Cost\": \"种植成本（元/亩）\", \"Crop Name\": \"作物\"},\n",
    "    color=\"Crop Name\",\n",
    "    log_y=True,\n",
    "    height=750,\n",
    "    width=1500,\n",
    ")\n",
    "fig.update_layout(showlegend=False)\n",
    "fig.show()"
   ]
  },
  {
   "cell_type": "markdown",
   "metadata": {},
   "source": [
    "## 种植面积"
   ]
  },
  {
   "cell_type": "code",
   "execution_count": 203,
   "metadata": {},
   "outputs": [
    {
     "data": {
      "application/vnd.plotly.v1+json": {
       "config": {
        "plotlyServerURL": "https://plot.ly"
       },
       "data": [
        {
         "alignmentgroup": "True",
         "hovertemplate": "作物=%{text}<br>地块编号=%{x}<br>种植面积=%{y}<extra></extra>",
         "legendgroup": "小麦",
         "marker": {
          "color": "#636efa",
          "pattern": {
           "shape": ""
          }
         },
         "name": "小麦",
         "offsetgroup": "小麦",
         "orientation": "v",
         "showlegend": true,
         "text": [
          "小麦",
          "小麦",
          "小麦",
          "小麦"
         ],
         "textposition": "auto",
         "type": "bar",
         "x": [
          "A1",
          "B1",
          "B7",
          "C5"
         ],
         "xaxis": "x",
         "y": [
          80,
          60,
          55,
          27
         ],
         "yaxis": "y"
        },
        {
         "alignmentgroup": "True",
         "hovertemplate": "作物=%{text}<br>地块编号=%{x}<br>种植面积=%{y}<extra></extra>",
         "legendgroup": "玉米",
         "marker": {
          "color": "#EF553B",
          "pattern": {
           "shape": ""
          }
         },
         "name": "玉米",
         "offsetgroup": "玉米",
         "orientation": "v",
         "showlegend": true,
         "text": [
          "玉米",
          "玉米",
          "玉米"
         ],
         "textposition": "auto",
         "type": "bar",
         "x": [
          "A2",
          "A3",
          "B12"
         ],
         "xaxis": "x",
         "y": [
          55,
          35,
          45
         ],
         "yaxis": "y"
        },
        {
         "alignmentgroup": "True",
         "hovertemplate": "作物=%{text}<br>地块编号=%{x}<br>种植面积=%{y}<extra></extra>",
         "legendgroup": "黄豆",
         "marker": {
          "color": "#00cc96",
          "pattern": {
           "shape": ""
          }
         },
         "name": "黄豆",
         "offsetgroup": "黄豆",
         "orientation": "v",
         "showlegend": true,
         "text": [
          "黄豆",
          "黄豆",
          "黄豆"
         ],
         "textposition": "auto",
         "type": "bar",
         "x": [
          "A4",
          "B11",
          "C3"
         ],
         "xaxis": "x",
         "y": [
          72,
          60,
          15
         ],
         "yaxis": "y"
        },
        {
         "alignmentgroup": "True",
         "hovertemplate": "作物=%{text}<br>地块编号=%{x}<br>种植面积=%{y}<extra></extra>",
         "legendgroup": "绿豆",
         "marker": {
          "color": "#ab63fa",
          "pattern": {
           "shape": ""
          }
         },
         "name": "绿豆",
         "offsetgroup": "绿豆",
         "orientation": "v",
         "showlegend": true,
         "text": [
          "绿豆",
          "绿豆"
         ],
         "textposition": "auto",
         "type": "bar",
         "x": [
          "A5",
          "B4"
         ],
         "xaxis": "x",
         "y": [
          68,
          28
         ],
         "yaxis": "y"
        },
        {
         "alignmentgroup": "True",
         "hovertemplate": "作物=%{text}<br>地块编号=%{x}<br>种植面积=%{y}<extra></extra>",
         "legendgroup": "谷子",
         "marker": {
          "color": "#FFA15A",
          "pattern": {
           "shape": ""
          }
         },
         "name": "谷子",
         "offsetgroup": "谷子",
         "orientation": "v",
         "showlegend": true,
         "text": [
          "谷子",
          "谷子",
          "谷子"
         ],
         "textposition": "auto",
         "type": "bar",
         "x": [
          "A6",
          "B6",
          "B8"
         ],
         "xaxis": "x",
         "y": [
          55,
          86,
          44
         ],
         "yaxis": "y"
        },
        {
         "alignmentgroup": "True",
         "hovertemplate": "作物=%{text}<br>地块编号=%{x}<br>种植面积=%{y}<extra></extra>",
         "legendgroup": "黑豆",
         "marker": {
          "color": "#19d3f3",
          "pattern": {
           "shape": ""
          }
         },
         "name": "黑豆",
         "offsetgroup": "黑豆",
         "orientation": "v",
         "showlegend": true,
         "text": [
          "黑豆"
         ],
         "textposition": "auto",
         "type": "bar",
         "x": [
          "B2"
         ],
         "xaxis": "x",
         "y": [
          46
         ],
         "yaxis": "y"
        },
        {
         "alignmentgroup": "True",
         "hovertemplate": "作物=%{text}<br>地块编号=%{x}<br>种植面积=%{y}<extra></extra>",
         "legendgroup": "红豆",
         "marker": {
          "color": "#FF6692",
          "pattern": {
           "shape": ""
          }
         },
         "name": "红豆",
         "offsetgroup": "红豆",
         "orientation": "v",
         "showlegend": true,
         "text": [
          "红豆",
          "红豆"
         ],
         "textposition": "auto",
         "type": "bar",
         "x": [
          "B3",
          "C6"
         ],
         "xaxis": "x",
         "y": [
          40,
          20
         ],
         "yaxis": "y"
        },
        {
         "alignmentgroup": "True",
         "hovertemplate": "作物=%{text}<br>地块编号=%{x}<br>种植面积=%{y}<extra></extra>",
         "legendgroup": "爬豆",
         "marker": {
          "color": "#B6E880",
          "pattern": {
           "shape": ""
          }
         },
         "name": "爬豆",
         "offsetgroup": "爬豆",
         "orientation": "v",
         "showlegend": true,
         "text": [
          "爬豆"
         ],
         "textposition": "auto",
         "type": "bar",
         "x": [
          "B5"
         ],
         "xaxis": "x",
         "y": [
          25
         ],
         "yaxis": "y"
        },
        {
         "alignmentgroup": "True",
         "hovertemplate": "作物=%{text}<br>地块编号=%{x}<br>种植面积=%{y}<extra></extra>",
         "legendgroup": "高粱",
         "marker": {
          "color": "#FF97FF",
          "pattern": {
           "shape": ""
          }
         },
         "name": "高粱",
         "offsetgroup": "高粱",
         "orientation": "v",
         "showlegend": true,
         "text": [
          "高粱"
         ],
         "textposition": "auto",
         "type": "bar",
         "x": [
          "B9"
         ],
         "xaxis": "x",
         "y": [
          50
         ],
         "yaxis": "y"
        },
        {
         "alignmentgroup": "True",
         "hovertemplate": "作物=%{text}<br>地块编号=%{x}<br>种植面积=%{y}<extra></extra>",
         "legendgroup": "黍子",
         "marker": {
          "color": "#FECB52",
          "pattern": {
           "shape": ""
          }
         },
         "name": "黍子",
         "offsetgroup": "黍子",
         "orientation": "v",
         "showlegend": true,
         "text": [
          "黍子"
         ],
         "textposition": "auto",
         "type": "bar",
         "x": [
          "B10"
         ],
         "xaxis": "x",
         "y": [
          25
         ],
         "yaxis": "y"
        },
        {
         "alignmentgroup": "True",
         "hovertemplate": "作物=%{text}<br>地块编号=%{x}<br>种植面积=%{y}<extra></extra>",
         "legendgroup": "莜麦",
         "marker": {
          "color": "#636efa",
          "pattern": {
           "shape": ""
          }
         },
         "name": "莜麦",
         "offsetgroup": "莜麦",
         "orientation": "v",
         "showlegend": true,
         "text": [
          "莜麦"
         ],
         "textposition": "auto",
         "type": "bar",
         "x": [
          "B13"
         ],
         "xaxis": "x",
         "y": [
          35
         ],
         "yaxis": "y"
        },
        {
         "alignmentgroup": "True",
         "hovertemplate": "作物=%{text}<br>地块编号=%{x}<br>种植面积=%{y}<extra></extra>",
         "legendgroup": "大麦",
         "marker": {
          "color": "#EF553B",
          "pattern": {
           "shape": ""
          }
         },
         "name": "大麦",
         "offsetgroup": "大麦",
         "orientation": "v",
         "showlegend": true,
         "text": [
          "大麦"
         ],
         "textposition": "auto",
         "type": "bar",
         "x": [
          "B14"
         ],
         "xaxis": "x",
         "y": [
          20
         ],
         "yaxis": "y"
        },
        {
         "alignmentgroup": "True",
         "hovertemplate": "作物=%{text}<br>地块编号=%{x}<br>种植面积=%{y}<extra></extra>",
         "legendgroup": "荞麦",
         "marker": {
          "color": "#00cc96",
          "pattern": {
           "shape": ""
          }
         },
         "name": "荞麦",
         "offsetgroup": "荞麦",
         "orientation": "v",
         "showlegend": true,
         "text": [
          "荞麦"
         ],
         "textposition": "auto",
         "type": "bar",
         "x": [
          "C1"
         ],
         "xaxis": "x",
         "y": [
          15
         ],
         "yaxis": "y"
        },
        {
         "alignmentgroup": "True",
         "hovertemplate": "作物=%{text}<br>地块编号=%{x}<br>种植面积=%{y}<extra></extra>",
         "legendgroup": "南瓜",
         "marker": {
          "color": "#ab63fa",
          "pattern": {
           "shape": ""
          }
         },
         "name": "南瓜",
         "offsetgroup": "南瓜",
         "orientation": "v",
         "showlegend": true,
         "text": [
          "南瓜"
         ],
         "textposition": "auto",
         "type": "bar",
         "x": [
          "C2"
         ],
         "xaxis": "x",
         "y": [
          13
         ],
         "yaxis": "y"
        },
        {
         "alignmentgroup": "True",
         "hovertemplate": "作物=%{text}<br>地块编号=%{x}<br>种植面积=%{y}<extra></extra>",
         "legendgroup": "红薯",
         "marker": {
          "color": "#FFA15A",
          "pattern": {
           "shape": ""
          }
         },
         "name": "红薯",
         "offsetgroup": "红薯",
         "orientation": "v",
         "showlegend": true,
         "text": [
          "红薯"
         ],
         "textposition": "auto",
         "type": "bar",
         "x": [
          "C4"
         ],
         "xaxis": "x",
         "y": [
          18
         ],
         "yaxis": "y"
        },
        {
         "alignmentgroup": "True",
         "hovertemplate": "作物=%{text}<br>地块编号=%{x}<br>种植面积=%{y}<extra></extra>",
         "legendgroup": "土豆",
         "marker": {
          "color": "#19d3f3",
          "pattern": {
           "shape": ""
          }
         },
         "name": "土豆",
         "offsetgroup": "土豆",
         "orientation": "v",
         "showlegend": true,
         "text": [
          "土豆"
         ],
         "textposition": "auto",
         "type": "bar",
         "x": [
          "D1"
         ],
         "xaxis": "x",
         "y": [
          15
         ],
         "yaxis": "y"
        },
        {
         "alignmentgroup": "True",
         "hovertemplate": "作物=%{text}<br>地块编号=%{x}<br>种植面积=%{y}<extra></extra>",
         "legendgroup": "白萝卜",
         "marker": {
          "color": "#FF6692",
          "pattern": {
           "shape": ""
          }
         },
         "name": "白萝卜",
         "offsetgroup": "白萝卜",
         "orientation": "v",
         "showlegend": true,
         "text": [
          "白萝卜",
          "白萝卜"
         ],
         "textposition": "auto",
         "type": "bar",
         "x": [
          "D1",
          "D5"
         ],
         "xaxis": "x",
         "y": [
          15,
          10
         ],
         "yaxis": "y"
        },
        {
         "alignmentgroup": "True",
         "hovertemplate": "作物=%{text}<br>地块编号=%{x}<br>种植面积=%{y}<extra></extra>",
         "legendgroup": "小青菜",
         "marker": {
          "color": "#B6E880",
          "pattern": {
           "shape": ""
          }
         },
         "name": "小青菜",
         "offsetgroup": "小青菜",
         "orientation": "v",
         "showlegend": true,
         "text": [
          "小青菜",
          "小青菜",
          "小青菜"
         ],
         "textposition": "auto",
         "type": "bar",
         "x": [
          "D2",
          "E5",
          "F3"
         ],
         "xaxis": "x",
         "y": [
          10,
          0.6,
          0.3
         ],
         "yaxis": "y"
        },
        {
         "alignmentgroup": "True",
         "hovertemplate": "作物=%{text}<br>地块编号=%{x}<br>种植面积=%{y}<extra></extra>",
         "legendgroup": "大白菜",
         "marker": {
          "color": "#FF97FF",
          "pattern": {
           "shape": ""
          }
         },
         "name": "大白菜",
         "offsetgroup": "大白菜",
         "orientation": "v",
         "showlegend": true,
         "text": [
          "大白菜",
          "大白菜",
          "大白菜"
         ],
         "textposition": "auto",
         "type": "bar",
         "x": [
          "D2",
          "D3",
          "D4"
         ],
         "xaxis": "x",
         "y": [
          10,
          14,
          6
         ],
         "yaxis": "y"
        },
        {
         "alignmentgroup": "True",
         "hovertemplate": "作物=%{text}<br>地块编号=%{x}<br>种植面积=%{y}<extra></extra>",
         "legendgroup": "西红柿",
         "marker": {
          "color": "#FECB52",
          "pattern": {
           "shape": ""
          }
         },
         "name": "西红柿",
         "offsetgroup": "西红柿",
         "orientation": "v",
         "showlegend": true,
         "text": [
          "西红柿",
          "西红柿",
          "西红柿"
         ],
         "textposition": "auto",
         "type": "bar",
         "x": [
          "D3",
          "E13",
          "F1"
         ],
         "xaxis": "x",
         "y": [
          14,
          0.6,
          0.3
         ],
         "yaxis": "y"
        },
        {
         "alignmentgroup": "True",
         "hovertemplate": "作物=%{text}<br>地块编号=%{x}<br>种植面积=%{y}<extra></extra>",
         "legendgroup": "茄子",
         "marker": {
          "color": "#636efa",
          "pattern": {
           "shape": ""
          }
         },
         "name": "茄子",
         "offsetgroup": "茄子",
         "orientation": "v",
         "showlegend": true,
         "text": [
          "茄子",
          "茄子",
          "茄子"
         ],
         "textposition": "auto",
         "type": "bar",
         "x": [
          "D4",
          "E12",
          "F2"
         ],
         "xaxis": "x",
         "y": [
          6,
          0.6,
          0.3
         ],
         "yaxis": "y"
        },
        {
         "alignmentgroup": "True",
         "hovertemplate": "作物=%{text}<br>地块编号=%{x}<br>种植面积=%{y}<extra></extra>",
         "legendgroup": "豇豆",
         "marker": {
          "color": "#EF553B",
          "pattern": {
           "shape": ""
          }
         },
         "name": "豇豆",
         "offsetgroup": "豇豆",
         "orientation": "v",
         "showlegend": true,
         "text": [
          "豇豆",
          "豇豆",
          "豇豆",
          "豇豆"
         ],
         "textposition": "auto",
         "type": "bar",
         "x": [
          "D5",
          "E10",
          "E11",
          "F3"
         ],
         "xaxis": "x",
         "y": [
          10,
          0.6,
          0.6,
          0.6
         ],
         "yaxis": "y"
        },
        {
         "alignmentgroup": "True",
         "hovertemplate": "作物=%{text}<br>地块编号=%{x}<br>种植面积=%{y}<extra></extra>",
         "legendgroup": "刀豆",
         "marker": {
          "color": "#00cc96",
          "pattern": {
           "shape": ""
          }
         },
         "name": "刀豆",
         "offsetgroup": "刀豆",
         "orientation": "v",
         "showlegend": true,
         "text": [
          "刀豆",
          "刀豆",
          "刀豆"
         ],
         "textposition": "auto",
         "type": "bar",
         "x": [
          "D6",
          "E1",
          "E9"
         ],
         "xaxis": "x",
         "y": [
          12,
          0.6,
          0.6
         ],
         "yaxis": "y"
        },
        {
         "alignmentgroup": "True",
         "hovertemplate": "作物=%{text}<br>地块编号=%{x}<br>种植面积=%{y}<extra></extra>",
         "legendgroup": "红萝卜",
         "marker": {
          "color": "#ab63fa",
          "pattern": {
           "shape": ""
          }
         },
         "name": "红萝卜",
         "offsetgroup": "红萝卜",
         "orientation": "v",
         "showlegend": true,
         "text": [
          "红萝卜"
         ],
         "textposition": "auto",
         "type": "bar",
         "x": [
          "D6"
         ],
         "xaxis": "x",
         "y": [
          12
         ],
         "yaxis": "y"
        },
        {
         "alignmentgroup": "True",
         "hovertemplate": "作物=%{text}<br>地块编号=%{x}<br>种植面积=%{y}<extra></extra>",
         "legendgroup": "水稻",
         "marker": {
          "color": "#FFA15A",
          "pattern": {
           "shape": ""
          }
         },
         "name": "水稻",
         "offsetgroup": "水稻",
         "orientation": "v",
         "showlegend": true,
         "text": [
          "水稻",
          "水稻"
         ],
         "textposition": "auto",
         "type": "bar",
         "x": [
          "D7",
          "D8"
         ],
         "xaxis": "x",
         "y": [
          22,
          20
         ],
         "yaxis": "y"
        },
        {
         "alignmentgroup": "True",
         "hovertemplate": "作物=%{text}<br>地块编号=%{x}<br>种植面积=%{y}<extra></extra>",
         "legendgroup": "榆黄菇",
         "marker": {
          "color": "#19d3f3",
          "pattern": {
           "shape": ""
          }
         },
         "name": "榆黄菇",
         "offsetgroup": "榆黄菇",
         "orientation": "v",
         "showlegend": true,
         "text": [
          "榆黄菇",
          "榆黄菇",
          "榆黄菇"
         ],
         "textposition": "auto",
         "type": "bar",
         "x": [
          "E1",
          "E2",
          "E3"
         ],
         "xaxis": "x",
         "y": [
          0.6,
          0.6,
          0.6
         ],
         "yaxis": "y"
        },
        {
         "alignmentgroup": "True",
         "hovertemplate": "作物=%{text}<br>地块编号=%{x}<br>种植面积=%{y}<extra></extra>",
         "legendgroup": "青椒",
         "marker": {
          "color": "#FF6692",
          "pattern": {
           "shape": ""
          }
         },
         "name": "青椒",
         "offsetgroup": "青椒",
         "orientation": "v",
         "showlegend": true,
         "text": [
          "青椒",
          "青椒"
         ],
         "textposition": "auto",
         "type": "bar",
         "x": [
          "E2",
          "F1"
         ],
         "xaxis": "x",
         "y": [
          0.6,
          0.3
         ],
         "yaxis": "y"
        },
        {
         "alignmentgroup": "True",
         "hovertemplate": "作物=%{text}<br>地块编号=%{x}<br>种植面积=%{y}<extra></extra>",
         "legendgroup": "菜花",
         "marker": {
          "color": "#B6E880",
          "pattern": {
           "shape": ""
          }
         },
         "name": "菜花",
         "offsetgroup": "菜花",
         "orientation": "v",
         "showlegend": true,
         "text": [
          "菜花",
          "菜花"
         ],
         "textposition": "auto",
         "type": "bar",
         "x": [
          "E3",
          "F2"
         ],
         "xaxis": "x",
         "y": [
          0.6,
          0.3
         ],
         "yaxis": "y"
        },
        {
         "alignmentgroup": "True",
         "hovertemplate": "作物=%{text}<br>地块编号=%{x}<br>种植面积=%{y}<extra></extra>",
         "legendgroup": "包菜",
         "marker": {
          "color": "#FF97FF",
          "pattern": {
           "shape": ""
          }
         },
         "name": "包菜",
         "offsetgroup": "包菜",
         "orientation": "v",
         "showlegend": true,
         "text": [
          "包菜",
          "包菜"
         ],
         "textposition": "auto",
         "type": "bar",
         "x": [
          "E4",
          "F2"
         ],
         "xaxis": "x",
         "y": [
          0.6,
          0.3
         ],
         "yaxis": "y"
        },
        {
         "alignmentgroup": "True",
         "hovertemplate": "作物=%{text}<br>地块编号=%{x}<br>种植面积=%{y}<extra></extra>",
         "legendgroup": "香菇",
         "marker": {
          "color": "#FECB52",
          "pattern": {
           "shape": ""
          }
         },
         "name": "香菇",
         "offsetgroup": "香菇",
         "orientation": "v",
         "showlegend": true,
         "text": [
          "香菇",
          "香菇",
          "香菇"
         ],
         "textposition": "auto",
         "type": "bar",
         "x": [
          "E4",
          "E5",
          "E6"
         ],
         "xaxis": "x",
         "y": [
          0.6,
          0.6,
          0.6
         ],
         "yaxis": "y"
        },
        {
         "alignmentgroup": "True",
         "hovertemplate": "作物=%{text}<br>地块编号=%{x}<br>种植面积=%{y}<extra></extra>",
         "legendgroup": "油麦菜",
         "marker": {
          "color": "#636efa",
          "pattern": {
           "shape": ""
          }
         },
         "name": "油麦菜",
         "offsetgroup": "油麦菜",
         "orientation": "v",
         "showlegend": true,
         "text": [
          "油麦菜",
          "油麦菜"
         ],
         "textposition": "auto",
         "type": "bar",
         "x": [
          "E6",
          "E15"
         ],
         "xaxis": "x",
         "y": [
          0.6,
          0.3
         ],
         "yaxis": "y"
        },
        {
         "alignmentgroup": "True",
         "hovertemplate": "作物=%{text}<br>地块编号=%{x}<br>种植面积=%{y}<extra></extra>",
         "legendgroup": "芸豆",
         "marker": {
          "color": "#EF553B",
          "pattern": {
           "shape": ""
          }
         },
         "name": "芸豆",
         "offsetgroup": "芸豆",
         "orientation": "v",
         "showlegend": true,
         "text": [
          "芸豆",
          "芸豆",
          "芸豆"
         ],
         "textposition": "auto",
         "type": "bar",
         "x": [
          "E7",
          "E8",
          "F4"
         ],
         "xaxis": "x",
         "y": [
          0.6,
          0.6,
          0.6
         ],
         "yaxis": "y"
        },
        {
         "alignmentgroup": "True",
         "hovertemplate": "作物=%{text}<br>地块编号=%{x}<br>种植面积=%{y}<extra></extra>",
         "legendgroup": "白灵菇",
         "marker": {
          "color": "#00cc96",
          "pattern": {
           "shape": ""
          }
         },
         "name": "白灵菇",
         "offsetgroup": "白灵菇",
         "orientation": "v",
         "showlegend": true,
         "text": [
          "白灵菇",
          "白灵菇",
          "白灵菇"
         ],
         "textposition": "auto",
         "type": "bar",
         "x": [
          "E7",
          "E8",
          "E9"
         ],
         "xaxis": "x",
         "y": [
          0.6,
          0.6,
          0.6
         ],
         "yaxis": "y"
        },
        {
         "alignmentgroup": "True",
         "hovertemplate": "作物=%{text}<br>地块编号=%{x}<br>种植面积=%{y}<extra></extra>",
         "legendgroup": "羊肚菌",
         "marker": {
          "color": "#ab63fa",
          "pattern": {
           "shape": ""
          }
         },
         "name": "羊肚菌",
         "offsetgroup": "羊肚菌",
         "orientation": "v",
         "showlegend": true,
         "text": [
          "羊肚菌",
          "羊肚菌",
          "羊肚菌",
          "羊肚菌",
          "羊肚菌",
          "羊肚菌",
          "羊肚菌"
         ],
         "textposition": "auto",
         "type": "bar",
         "x": [
          "E10",
          "E11",
          "E12",
          "E13",
          "E14",
          "E15",
          "E16"
         ],
         "xaxis": "x",
         "y": [
          0.6,
          0.6,
          0.6,
          0.6,
          0.6,
          0.6,
          0.6
         ],
         "yaxis": "y"
        },
        {
         "alignmentgroup": "True",
         "hovertemplate": "作物=%{text}<br>地块编号=%{x}<br>种植面积=%{y}<extra></extra>",
         "legendgroup": "黄瓜",
         "marker": {
          "color": "#FFA15A",
          "pattern": {
           "shape": ""
          }
         },
         "name": "黄瓜",
         "offsetgroup": "黄瓜",
         "orientation": "v",
         "showlegend": true,
         "text": [
          "黄瓜",
          "黄瓜"
         ],
         "textposition": "auto",
         "type": "bar",
         "x": [
          "E14",
          "F2"
         ],
         "xaxis": "x",
         "y": [
          0.6,
          0.3
         ],
         "yaxis": "y"
        },
        {
         "alignmentgroup": "True",
         "hovertemplate": "作物=%{text}<br>地块编号=%{x}<br>种植面积=%{y}<extra></extra>",
         "legendgroup": "生菜",
         "marker": {
          "color": "#19d3f3",
          "pattern": {
           "shape": ""
          }
         },
         "name": "生菜",
         "offsetgroup": "生菜",
         "orientation": "v",
         "showlegend": true,
         "text": [
          "生菜",
          "生菜"
         ],
         "textposition": "auto",
         "type": "bar",
         "x": [
          "E15",
          "F3"
         ],
         "xaxis": "x",
         "y": [
          0.3,
          0.3
         ],
         "yaxis": "y"
        },
        {
         "alignmentgroup": "True",
         "hovertemplate": "作物=%{text}<br>地块编号=%{x}<br>种植面积=%{y}<extra></extra>",
         "legendgroup": "辣椒",
         "marker": {
          "color": "#FF6692",
          "pattern": {
           "shape": ""
          }
         },
         "name": "辣椒",
         "offsetgroup": "辣椒",
         "orientation": "v",
         "showlegend": true,
         "text": [
          "辣椒"
         ],
         "textposition": "auto",
         "type": "bar",
         "x": [
          "E16"
         ],
         "xaxis": "x",
         "y": [
          0.6
         ],
         "yaxis": "y"
        },
        {
         "alignmentgroup": "True",
         "hovertemplate": "作物=%{text}<br>地块编号=%{x}<br>种植面积=%{y}<extra></extra>",
         "legendgroup": "空心菜",
         "marker": {
          "color": "#B6E880",
          "pattern": {
           "shape": ""
          }
         },
         "name": "空心菜",
         "offsetgroup": "空心菜",
         "orientation": "v",
         "showlegend": true,
         "text": [
          "空心菜"
         ],
         "textposition": "auto",
         "type": "bar",
         "x": [
          "F1"
         ],
         "xaxis": "x",
         "y": [
          0.3
         ],
         "yaxis": "y"
        },
        {
         "alignmentgroup": "True",
         "hovertemplate": "作物=%{text}<br>地块编号=%{x}<br>种植面积=%{y}<extra></extra>",
         "legendgroup": "黄心菜",
         "marker": {
          "color": "#FF97FF",
          "pattern": {
           "shape": ""
          }
         },
         "name": "黄心菜",
         "offsetgroup": "黄心菜",
         "orientation": "v",
         "showlegend": true,
         "text": [
          "黄心菜"
         ],
         "textposition": "auto",
         "type": "bar",
         "x": [
          "F1"
         ],
         "xaxis": "x",
         "y": [
          0.3
         ],
         "yaxis": "y"
        },
        {
         "alignmentgroup": "True",
         "hovertemplate": "作物=%{text}<br>地块编号=%{x}<br>种植面积=%{y}<extra></extra>",
         "legendgroup": "芹菜",
         "marker": {
          "color": "#FECB52",
          "pattern": {
           "shape": ""
          }
         },
         "name": "芹菜",
         "offsetgroup": "芹菜",
         "orientation": "v",
         "showlegend": true,
         "text": [
          "芹菜"
         ],
         "textposition": "auto",
         "type": "bar",
         "x": [
          "F4"
         ],
         "xaxis": "x",
         "y": [
          0.3
         ],
         "yaxis": "y"
        },
        {
         "alignmentgroup": "True",
         "hovertemplate": "作物=%{text}<br>地块编号=%{x}<br>种植面积=%{y}<extra></extra>",
         "legendgroup": "菠菜",
         "marker": {
          "color": "#636efa",
          "pattern": {
           "shape": ""
          }
         },
         "name": "菠菜",
         "offsetgroup": "菠菜",
         "orientation": "v",
         "showlegend": true,
         "text": [
          "菠菜"
         ],
         "textposition": "auto",
         "type": "bar",
         "x": [
          "F4"
         ],
         "xaxis": "x",
         "y": [
          0.3
         ],
         "yaxis": "y"
        }
       ],
       "layout": {
        "barmode": "relative",
        "height": 750,
        "legend": {
         "title": {
          "text": "作物"
         },
         "tracegroupgap": 0
        },
        "template": {
         "data": {
          "bar": [
           {
            "error_x": {
             "color": "#2a3f5f"
            },
            "error_y": {
             "color": "#2a3f5f"
            },
            "marker": {
             "line": {
              "color": "#E5ECF6",
              "width": 0.5
             },
             "pattern": {
              "fillmode": "overlay",
              "size": 10,
              "solidity": 0.2
             }
            },
            "type": "bar"
           }
          ],
          "barpolar": [
           {
            "marker": {
             "line": {
              "color": "#E5ECF6",
              "width": 0.5
             },
             "pattern": {
              "fillmode": "overlay",
              "size": 10,
              "solidity": 0.2
             }
            },
            "type": "barpolar"
           }
          ],
          "carpet": [
           {
            "aaxis": {
             "endlinecolor": "#2a3f5f",
             "gridcolor": "white",
             "linecolor": "white",
             "minorgridcolor": "white",
             "startlinecolor": "#2a3f5f"
            },
            "baxis": {
             "endlinecolor": "#2a3f5f",
             "gridcolor": "white",
             "linecolor": "white",
             "minorgridcolor": "white",
             "startlinecolor": "#2a3f5f"
            },
            "type": "carpet"
           }
          ],
          "choropleth": [
           {
            "colorbar": {
             "outlinewidth": 0,
             "ticks": ""
            },
            "type": "choropleth"
           }
          ],
          "contour": [
           {
            "colorbar": {
             "outlinewidth": 0,
             "ticks": ""
            },
            "colorscale": [
             [
              0,
              "#0d0887"
             ],
             [
              0.1111111111111111,
              "#46039f"
             ],
             [
              0.2222222222222222,
              "#7201a8"
             ],
             [
              0.3333333333333333,
              "#9c179e"
             ],
             [
              0.4444444444444444,
              "#bd3786"
             ],
             [
              0.5555555555555556,
              "#d8576b"
             ],
             [
              0.6666666666666666,
              "#ed7953"
             ],
             [
              0.7777777777777778,
              "#fb9f3a"
             ],
             [
              0.8888888888888888,
              "#fdca26"
             ],
             [
              1,
              "#f0f921"
             ]
            ],
            "type": "contour"
           }
          ],
          "contourcarpet": [
           {
            "colorbar": {
             "outlinewidth": 0,
             "ticks": ""
            },
            "type": "contourcarpet"
           }
          ],
          "heatmap": [
           {
            "colorbar": {
             "outlinewidth": 0,
             "ticks": ""
            },
            "colorscale": [
             [
              0,
              "#0d0887"
             ],
             [
              0.1111111111111111,
              "#46039f"
             ],
             [
              0.2222222222222222,
              "#7201a8"
             ],
             [
              0.3333333333333333,
              "#9c179e"
             ],
             [
              0.4444444444444444,
              "#bd3786"
             ],
             [
              0.5555555555555556,
              "#d8576b"
             ],
             [
              0.6666666666666666,
              "#ed7953"
             ],
             [
              0.7777777777777778,
              "#fb9f3a"
             ],
             [
              0.8888888888888888,
              "#fdca26"
             ],
             [
              1,
              "#f0f921"
             ]
            ],
            "type": "heatmap"
           }
          ],
          "heatmapgl": [
           {
            "colorbar": {
             "outlinewidth": 0,
             "ticks": ""
            },
            "colorscale": [
             [
              0,
              "#0d0887"
             ],
             [
              0.1111111111111111,
              "#46039f"
             ],
             [
              0.2222222222222222,
              "#7201a8"
             ],
             [
              0.3333333333333333,
              "#9c179e"
             ],
             [
              0.4444444444444444,
              "#bd3786"
             ],
             [
              0.5555555555555556,
              "#d8576b"
             ],
             [
              0.6666666666666666,
              "#ed7953"
             ],
             [
              0.7777777777777778,
              "#fb9f3a"
             ],
             [
              0.8888888888888888,
              "#fdca26"
             ],
             [
              1,
              "#f0f921"
             ]
            ],
            "type": "heatmapgl"
           }
          ],
          "histogram": [
           {
            "marker": {
             "pattern": {
              "fillmode": "overlay",
              "size": 10,
              "solidity": 0.2
             }
            },
            "type": "histogram"
           }
          ],
          "histogram2d": [
           {
            "colorbar": {
             "outlinewidth": 0,
             "ticks": ""
            },
            "colorscale": [
             [
              0,
              "#0d0887"
             ],
             [
              0.1111111111111111,
              "#46039f"
             ],
             [
              0.2222222222222222,
              "#7201a8"
             ],
             [
              0.3333333333333333,
              "#9c179e"
             ],
             [
              0.4444444444444444,
              "#bd3786"
             ],
             [
              0.5555555555555556,
              "#d8576b"
             ],
             [
              0.6666666666666666,
              "#ed7953"
             ],
             [
              0.7777777777777778,
              "#fb9f3a"
             ],
             [
              0.8888888888888888,
              "#fdca26"
             ],
             [
              1,
              "#f0f921"
             ]
            ],
            "type": "histogram2d"
           }
          ],
          "histogram2dcontour": [
           {
            "colorbar": {
             "outlinewidth": 0,
             "ticks": ""
            },
            "colorscale": [
             [
              0,
              "#0d0887"
             ],
             [
              0.1111111111111111,
              "#46039f"
             ],
             [
              0.2222222222222222,
              "#7201a8"
             ],
             [
              0.3333333333333333,
              "#9c179e"
             ],
             [
              0.4444444444444444,
              "#bd3786"
             ],
             [
              0.5555555555555556,
              "#d8576b"
             ],
             [
              0.6666666666666666,
              "#ed7953"
             ],
             [
              0.7777777777777778,
              "#fb9f3a"
             ],
             [
              0.8888888888888888,
              "#fdca26"
             ],
             [
              1,
              "#f0f921"
             ]
            ],
            "type": "histogram2dcontour"
           }
          ],
          "mesh3d": [
           {
            "colorbar": {
             "outlinewidth": 0,
             "ticks": ""
            },
            "type": "mesh3d"
           }
          ],
          "parcoords": [
           {
            "line": {
             "colorbar": {
              "outlinewidth": 0,
              "ticks": ""
             }
            },
            "type": "parcoords"
           }
          ],
          "pie": [
           {
            "automargin": true,
            "type": "pie"
           }
          ],
          "scatter": [
           {
            "fillpattern": {
             "fillmode": "overlay",
             "size": 10,
             "solidity": 0.2
            },
            "type": "scatter"
           }
          ],
          "scatter3d": [
           {
            "line": {
             "colorbar": {
              "outlinewidth": 0,
              "ticks": ""
             }
            },
            "marker": {
             "colorbar": {
              "outlinewidth": 0,
              "ticks": ""
             }
            },
            "type": "scatter3d"
           }
          ],
          "scattercarpet": [
           {
            "marker": {
             "colorbar": {
              "outlinewidth": 0,
              "ticks": ""
             }
            },
            "type": "scattercarpet"
           }
          ],
          "scattergeo": [
           {
            "marker": {
             "colorbar": {
              "outlinewidth": 0,
              "ticks": ""
             }
            },
            "type": "scattergeo"
           }
          ],
          "scattergl": [
           {
            "marker": {
             "colorbar": {
              "outlinewidth": 0,
              "ticks": ""
             }
            },
            "type": "scattergl"
           }
          ],
          "scattermapbox": [
           {
            "marker": {
             "colorbar": {
              "outlinewidth": 0,
              "ticks": ""
             }
            },
            "type": "scattermapbox"
           }
          ],
          "scatterpolar": [
           {
            "marker": {
             "colorbar": {
              "outlinewidth": 0,
              "ticks": ""
             }
            },
            "type": "scatterpolar"
           }
          ],
          "scatterpolargl": [
           {
            "marker": {
             "colorbar": {
              "outlinewidth": 0,
              "ticks": ""
             }
            },
            "type": "scatterpolargl"
           }
          ],
          "scatterternary": [
           {
            "marker": {
             "colorbar": {
              "outlinewidth": 0,
              "ticks": ""
             }
            },
            "type": "scatterternary"
           }
          ],
          "surface": [
           {
            "colorbar": {
             "outlinewidth": 0,
             "ticks": ""
            },
            "colorscale": [
             [
              0,
              "#0d0887"
             ],
             [
              0.1111111111111111,
              "#46039f"
             ],
             [
              0.2222222222222222,
              "#7201a8"
             ],
             [
              0.3333333333333333,
              "#9c179e"
             ],
             [
              0.4444444444444444,
              "#bd3786"
             ],
             [
              0.5555555555555556,
              "#d8576b"
             ],
             [
              0.6666666666666666,
              "#ed7953"
             ],
             [
              0.7777777777777778,
              "#fb9f3a"
             ],
             [
              0.8888888888888888,
              "#fdca26"
             ],
             [
              1,
              "#f0f921"
             ]
            ],
            "type": "surface"
           }
          ],
          "table": [
           {
            "cells": {
             "fill": {
              "color": "#EBF0F8"
             },
             "line": {
              "color": "white"
             }
            },
            "header": {
             "fill": {
              "color": "#C8D4E3"
             },
             "line": {
              "color": "white"
             }
            },
            "type": "table"
           }
          ]
         },
         "layout": {
          "annotationdefaults": {
           "arrowcolor": "#2a3f5f",
           "arrowhead": 0,
           "arrowwidth": 1
          },
          "autotypenumbers": "strict",
          "coloraxis": {
           "colorbar": {
            "outlinewidth": 0,
            "ticks": ""
           }
          },
          "colorscale": {
           "diverging": [
            [
             0,
             "#8e0152"
            ],
            [
             0.1,
             "#c51b7d"
            ],
            [
             0.2,
             "#de77ae"
            ],
            [
             0.3,
             "#f1b6da"
            ],
            [
             0.4,
             "#fde0ef"
            ],
            [
             0.5,
             "#f7f7f7"
            ],
            [
             0.6,
             "#e6f5d0"
            ],
            [
             0.7,
             "#b8e186"
            ],
            [
             0.8,
             "#7fbc41"
            ],
            [
             0.9,
             "#4d9221"
            ],
            [
             1,
             "#276419"
            ]
           ],
           "sequential": [
            [
             0,
             "#0d0887"
            ],
            [
             0.1111111111111111,
             "#46039f"
            ],
            [
             0.2222222222222222,
             "#7201a8"
            ],
            [
             0.3333333333333333,
             "#9c179e"
            ],
            [
             0.4444444444444444,
             "#bd3786"
            ],
            [
             0.5555555555555556,
             "#d8576b"
            ],
            [
             0.6666666666666666,
             "#ed7953"
            ],
            [
             0.7777777777777778,
             "#fb9f3a"
            ],
            [
             0.8888888888888888,
             "#fdca26"
            ],
            [
             1,
             "#f0f921"
            ]
           ],
           "sequentialminus": [
            [
             0,
             "#0d0887"
            ],
            [
             0.1111111111111111,
             "#46039f"
            ],
            [
             0.2222222222222222,
             "#7201a8"
            ],
            [
             0.3333333333333333,
             "#9c179e"
            ],
            [
             0.4444444444444444,
             "#bd3786"
            ],
            [
             0.5555555555555556,
             "#d8576b"
            ],
            [
             0.6666666666666666,
             "#ed7953"
            ],
            [
             0.7777777777777778,
             "#fb9f3a"
            ],
            [
             0.8888888888888888,
             "#fdca26"
            ],
            [
             1,
             "#f0f921"
            ]
           ]
          },
          "colorway": [
           "#636efa",
           "#EF553B",
           "#00cc96",
           "#ab63fa",
           "#FFA15A",
           "#19d3f3",
           "#FF6692",
           "#B6E880",
           "#FF97FF",
           "#FECB52"
          ],
          "font": {
           "color": "#2a3f5f"
          },
          "geo": {
           "bgcolor": "white",
           "lakecolor": "white",
           "landcolor": "#E5ECF6",
           "showlakes": true,
           "showland": true,
           "subunitcolor": "white"
          },
          "hoverlabel": {
           "align": "left"
          },
          "hovermode": "closest",
          "mapbox": {
           "style": "light"
          },
          "paper_bgcolor": "white",
          "plot_bgcolor": "#E5ECF6",
          "polar": {
           "angularaxis": {
            "gridcolor": "white",
            "linecolor": "white",
            "ticks": ""
           },
           "bgcolor": "#E5ECF6",
           "radialaxis": {
            "gridcolor": "white",
            "linecolor": "white",
            "ticks": ""
           }
          },
          "scene": {
           "xaxis": {
            "backgroundcolor": "#E5ECF6",
            "gridcolor": "white",
            "gridwidth": 2,
            "linecolor": "white",
            "showbackground": true,
            "ticks": "",
            "zerolinecolor": "white"
           },
           "yaxis": {
            "backgroundcolor": "#E5ECF6",
            "gridcolor": "white",
            "gridwidth": 2,
            "linecolor": "white",
            "showbackground": true,
            "ticks": "",
            "zerolinecolor": "white"
           },
           "zaxis": {
            "backgroundcolor": "#E5ECF6",
            "gridcolor": "white",
            "gridwidth": 2,
            "linecolor": "white",
            "showbackground": true,
            "ticks": "",
            "zerolinecolor": "white"
           }
          },
          "shapedefaults": {
           "line": {
            "color": "#2a3f5f"
           }
          },
          "ternary": {
           "aaxis": {
            "gridcolor": "white",
            "linecolor": "white",
            "ticks": ""
           },
           "baxis": {
            "gridcolor": "white",
            "linecolor": "white",
            "ticks": ""
           },
           "bgcolor": "#E5ECF6",
           "caxis": {
            "gridcolor": "white",
            "linecolor": "white",
            "ticks": ""
           }
          },
          "title": {
           "x": 0.05
          },
          "xaxis": {
           "automargin": true,
           "gridcolor": "white",
           "linecolor": "white",
           "ticks": "",
           "title": {
            "standoff": 15
           },
           "zerolinecolor": "white",
           "zerolinewidth": 2
          },
          "yaxis": {
           "automargin": true,
           "gridcolor": "white",
           "linecolor": "white",
           "ticks": "",
           "title": {
            "standoff": 15
           },
           "zerolinecolor": "white",
           "zerolinewidth": 2
          }
         }
        },
        "title": {
         "text": "每个地块的作物种植面积情况"
        },
        "width": 1500,
        "xaxis": {
         "anchor": "y",
         "categoryarray": [
          "A1",
          "A2",
          "A3",
          "A4",
          "A5",
          "A6",
          "B1",
          "B2",
          "B3",
          "B4",
          "B5",
          "B6",
          "B7",
          "B8",
          "B9",
          "B10",
          "B11",
          "B12",
          "B13",
          "B14",
          "C1",
          "C2",
          "C3",
          "C4",
          "C5",
          "C6",
          "D1",
          "D2",
          "D3",
          "D4",
          "D5",
          "D6",
          "D7",
          "D8",
          "E1",
          "E2",
          "E3",
          "E4",
          "E5",
          "E6",
          "E7",
          "E8",
          "E9",
          "E10",
          "E11",
          "E12",
          "E13",
          "E14",
          "E15",
          "E16",
          "F1",
          "F2",
          "F3",
          "F4"
         ],
         "categoryorder": "array",
         "domain": [
          0,
          1
         ],
         "title": {
          "text": "地块编号"
         }
        },
        "yaxis": {
         "anchor": "x",
         "domain": [
          0,
          1
         ],
         "title": {
          "text": "种植面积"
         },
         "type": "log"
        }
       }
      },
      "text/html": [
       "<div>                            <div id=\"755b9928-45f1-447c-b48e-cb85ce2c6a6f\" class=\"plotly-graph-div\" style=\"height:750px; width:1500px;\"></div>            <script type=\"text/javascript\">                require([\"plotly\"], function(Plotly) {                    window.PLOTLYENV=window.PLOTLYENV || {};                                    if (document.getElementById(\"755b9928-45f1-447c-b48e-cb85ce2c6a6f\")) {                    Plotly.newPlot(                        \"755b9928-45f1-447c-b48e-cb85ce2c6a6f\",                        [{\"alignmentgroup\":\"True\",\"hovertemplate\":\"\\u4f5c\\u7269=%{text}\\u003cbr\\u003e\\u5730\\u5757\\u7f16\\u53f7=%{x}\\u003cbr\\u003e\\u79cd\\u690d\\u9762\\u79ef=%{y}\\u003cextra\\u003e\\u003c\\u002fextra\\u003e\",\"legendgroup\":\"\\u5c0f\\u9ea6\",\"marker\":{\"color\":\"#636efa\",\"pattern\":{\"shape\":\"\"}},\"name\":\"\\u5c0f\\u9ea6\",\"offsetgroup\":\"\\u5c0f\\u9ea6\",\"orientation\":\"v\",\"showlegend\":true,\"text\":[\"\\u5c0f\\u9ea6\",\"\\u5c0f\\u9ea6\",\"\\u5c0f\\u9ea6\",\"\\u5c0f\\u9ea6\"],\"textposition\":\"auto\",\"x\":[\"A1\",\"B1\",\"B7\",\"C5\"],\"xaxis\":\"x\",\"y\":[80.0,60.0,55.0,27.0],\"yaxis\":\"y\",\"type\":\"bar\"},{\"alignmentgroup\":\"True\",\"hovertemplate\":\"\\u4f5c\\u7269=%{text}\\u003cbr\\u003e\\u5730\\u5757\\u7f16\\u53f7=%{x}\\u003cbr\\u003e\\u79cd\\u690d\\u9762\\u79ef=%{y}\\u003cextra\\u003e\\u003c\\u002fextra\\u003e\",\"legendgroup\":\"\\u7389\\u7c73\",\"marker\":{\"color\":\"#EF553B\",\"pattern\":{\"shape\":\"\"}},\"name\":\"\\u7389\\u7c73\",\"offsetgroup\":\"\\u7389\\u7c73\",\"orientation\":\"v\",\"showlegend\":true,\"text\":[\"\\u7389\\u7c73\",\"\\u7389\\u7c73\",\"\\u7389\\u7c73\"],\"textposition\":\"auto\",\"x\":[\"A2\",\"A3\",\"B12\"],\"xaxis\":\"x\",\"y\":[55.0,35.0,45.0],\"yaxis\":\"y\",\"type\":\"bar\"},{\"alignmentgroup\":\"True\",\"hovertemplate\":\"\\u4f5c\\u7269=%{text}\\u003cbr\\u003e\\u5730\\u5757\\u7f16\\u53f7=%{x}\\u003cbr\\u003e\\u79cd\\u690d\\u9762\\u79ef=%{y}\\u003cextra\\u003e\\u003c\\u002fextra\\u003e\",\"legendgroup\":\"\\u9ec4\\u8c46\",\"marker\":{\"color\":\"#00cc96\",\"pattern\":{\"shape\":\"\"}},\"name\":\"\\u9ec4\\u8c46\",\"offsetgroup\":\"\\u9ec4\\u8c46\",\"orientation\":\"v\",\"showlegend\":true,\"text\":[\"\\u9ec4\\u8c46\",\"\\u9ec4\\u8c46\",\"\\u9ec4\\u8c46\"],\"textposition\":\"auto\",\"x\":[\"A4\",\"B11\",\"C3\"],\"xaxis\":\"x\",\"y\":[72.0,60.0,15.0],\"yaxis\":\"y\",\"type\":\"bar\"},{\"alignmentgroup\":\"True\",\"hovertemplate\":\"\\u4f5c\\u7269=%{text}\\u003cbr\\u003e\\u5730\\u5757\\u7f16\\u53f7=%{x}\\u003cbr\\u003e\\u79cd\\u690d\\u9762\\u79ef=%{y}\\u003cextra\\u003e\\u003c\\u002fextra\\u003e\",\"legendgroup\":\"\\u7eff\\u8c46\",\"marker\":{\"color\":\"#ab63fa\",\"pattern\":{\"shape\":\"\"}},\"name\":\"\\u7eff\\u8c46\",\"offsetgroup\":\"\\u7eff\\u8c46\",\"orientation\":\"v\",\"showlegend\":true,\"text\":[\"\\u7eff\\u8c46\",\"\\u7eff\\u8c46\"],\"textposition\":\"auto\",\"x\":[\"A5\",\"B4\"],\"xaxis\":\"x\",\"y\":[68.0,28.0],\"yaxis\":\"y\",\"type\":\"bar\"},{\"alignmentgroup\":\"True\",\"hovertemplate\":\"\\u4f5c\\u7269=%{text}\\u003cbr\\u003e\\u5730\\u5757\\u7f16\\u53f7=%{x}\\u003cbr\\u003e\\u79cd\\u690d\\u9762\\u79ef=%{y}\\u003cextra\\u003e\\u003c\\u002fextra\\u003e\",\"legendgroup\":\"\\u8c37\\u5b50\",\"marker\":{\"color\":\"#FFA15A\",\"pattern\":{\"shape\":\"\"}},\"name\":\"\\u8c37\\u5b50\",\"offsetgroup\":\"\\u8c37\\u5b50\",\"orientation\":\"v\",\"showlegend\":true,\"text\":[\"\\u8c37\\u5b50\",\"\\u8c37\\u5b50\",\"\\u8c37\\u5b50\"],\"textposition\":\"auto\",\"x\":[\"A6\",\"B6\",\"B8\"],\"xaxis\":\"x\",\"y\":[55.0,86.0,44.0],\"yaxis\":\"y\",\"type\":\"bar\"},{\"alignmentgroup\":\"True\",\"hovertemplate\":\"\\u4f5c\\u7269=%{text}\\u003cbr\\u003e\\u5730\\u5757\\u7f16\\u53f7=%{x}\\u003cbr\\u003e\\u79cd\\u690d\\u9762\\u79ef=%{y}\\u003cextra\\u003e\\u003c\\u002fextra\\u003e\",\"legendgroup\":\"\\u9ed1\\u8c46\",\"marker\":{\"color\":\"#19d3f3\",\"pattern\":{\"shape\":\"\"}},\"name\":\"\\u9ed1\\u8c46\",\"offsetgroup\":\"\\u9ed1\\u8c46\",\"orientation\":\"v\",\"showlegend\":true,\"text\":[\"\\u9ed1\\u8c46\"],\"textposition\":\"auto\",\"x\":[\"B2\"],\"xaxis\":\"x\",\"y\":[46.0],\"yaxis\":\"y\",\"type\":\"bar\"},{\"alignmentgroup\":\"True\",\"hovertemplate\":\"\\u4f5c\\u7269=%{text}\\u003cbr\\u003e\\u5730\\u5757\\u7f16\\u53f7=%{x}\\u003cbr\\u003e\\u79cd\\u690d\\u9762\\u79ef=%{y}\\u003cextra\\u003e\\u003c\\u002fextra\\u003e\",\"legendgroup\":\"\\u7ea2\\u8c46\",\"marker\":{\"color\":\"#FF6692\",\"pattern\":{\"shape\":\"\"}},\"name\":\"\\u7ea2\\u8c46\",\"offsetgroup\":\"\\u7ea2\\u8c46\",\"orientation\":\"v\",\"showlegend\":true,\"text\":[\"\\u7ea2\\u8c46\",\"\\u7ea2\\u8c46\"],\"textposition\":\"auto\",\"x\":[\"B3\",\"C6\"],\"xaxis\":\"x\",\"y\":[40.0,20.0],\"yaxis\":\"y\",\"type\":\"bar\"},{\"alignmentgroup\":\"True\",\"hovertemplate\":\"\\u4f5c\\u7269=%{text}\\u003cbr\\u003e\\u5730\\u5757\\u7f16\\u53f7=%{x}\\u003cbr\\u003e\\u79cd\\u690d\\u9762\\u79ef=%{y}\\u003cextra\\u003e\\u003c\\u002fextra\\u003e\",\"legendgroup\":\"\\u722c\\u8c46\",\"marker\":{\"color\":\"#B6E880\",\"pattern\":{\"shape\":\"\"}},\"name\":\"\\u722c\\u8c46\",\"offsetgroup\":\"\\u722c\\u8c46\",\"orientation\":\"v\",\"showlegend\":true,\"text\":[\"\\u722c\\u8c46\"],\"textposition\":\"auto\",\"x\":[\"B5\"],\"xaxis\":\"x\",\"y\":[25.0],\"yaxis\":\"y\",\"type\":\"bar\"},{\"alignmentgroup\":\"True\",\"hovertemplate\":\"\\u4f5c\\u7269=%{text}\\u003cbr\\u003e\\u5730\\u5757\\u7f16\\u53f7=%{x}\\u003cbr\\u003e\\u79cd\\u690d\\u9762\\u79ef=%{y}\\u003cextra\\u003e\\u003c\\u002fextra\\u003e\",\"legendgroup\":\"\\u9ad8\\u7cb1\",\"marker\":{\"color\":\"#FF97FF\",\"pattern\":{\"shape\":\"\"}},\"name\":\"\\u9ad8\\u7cb1\",\"offsetgroup\":\"\\u9ad8\\u7cb1\",\"orientation\":\"v\",\"showlegend\":true,\"text\":[\"\\u9ad8\\u7cb1\"],\"textposition\":\"auto\",\"x\":[\"B9\"],\"xaxis\":\"x\",\"y\":[50.0],\"yaxis\":\"y\",\"type\":\"bar\"},{\"alignmentgroup\":\"True\",\"hovertemplate\":\"\\u4f5c\\u7269=%{text}\\u003cbr\\u003e\\u5730\\u5757\\u7f16\\u53f7=%{x}\\u003cbr\\u003e\\u79cd\\u690d\\u9762\\u79ef=%{y}\\u003cextra\\u003e\\u003c\\u002fextra\\u003e\",\"legendgroup\":\"\\u9ecd\\u5b50\",\"marker\":{\"color\":\"#FECB52\",\"pattern\":{\"shape\":\"\"}},\"name\":\"\\u9ecd\\u5b50\",\"offsetgroup\":\"\\u9ecd\\u5b50\",\"orientation\":\"v\",\"showlegend\":true,\"text\":[\"\\u9ecd\\u5b50\"],\"textposition\":\"auto\",\"x\":[\"B10\"],\"xaxis\":\"x\",\"y\":[25.0],\"yaxis\":\"y\",\"type\":\"bar\"},{\"alignmentgroup\":\"True\",\"hovertemplate\":\"\\u4f5c\\u7269=%{text}\\u003cbr\\u003e\\u5730\\u5757\\u7f16\\u53f7=%{x}\\u003cbr\\u003e\\u79cd\\u690d\\u9762\\u79ef=%{y}\\u003cextra\\u003e\\u003c\\u002fextra\\u003e\",\"legendgroup\":\"\\u839c\\u9ea6\",\"marker\":{\"color\":\"#636efa\",\"pattern\":{\"shape\":\"\"}},\"name\":\"\\u839c\\u9ea6\",\"offsetgroup\":\"\\u839c\\u9ea6\",\"orientation\":\"v\",\"showlegend\":true,\"text\":[\"\\u839c\\u9ea6\"],\"textposition\":\"auto\",\"x\":[\"B13\"],\"xaxis\":\"x\",\"y\":[35.0],\"yaxis\":\"y\",\"type\":\"bar\"},{\"alignmentgroup\":\"True\",\"hovertemplate\":\"\\u4f5c\\u7269=%{text}\\u003cbr\\u003e\\u5730\\u5757\\u7f16\\u53f7=%{x}\\u003cbr\\u003e\\u79cd\\u690d\\u9762\\u79ef=%{y}\\u003cextra\\u003e\\u003c\\u002fextra\\u003e\",\"legendgroup\":\"\\u5927\\u9ea6\",\"marker\":{\"color\":\"#EF553B\",\"pattern\":{\"shape\":\"\"}},\"name\":\"\\u5927\\u9ea6\",\"offsetgroup\":\"\\u5927\\u9ea6\",\"orientation\":\"v\",\"showlegend\":true,\"text\":[\"\\u5927\\u9ea6\"],\"textposition\":\"auto\",\"x\":[\"B14\"],\"xaxis\":\"x\",\"y\":[20.0],\"yaxis\":\"y\",\"type\":\"bar\"},{\"alignmentgroup\":\"True\",\"hovertemplate\":\"\\u4f5c\\u7269=%{text}\\u003cbr\\u003e\\u5730\\u5757\\u7f16\\u53f7=%{x}\\u003cbr\\u003e\\u79cd\\u690d\\u9762\\u79ef=%{y}\\u003cextra\\u003e\\u003c\\u002fextra\\u003e\",\"legendgroup\":\"\\u835e\\u9ea6\",\"marker\":{\"color\":\"#00cc96\",\"pattern\":{\"shape\":\"\"}},\"name\":\"\\u835e\\u9ea6\",\"offsetgroup\":\"\\u835e\\u9ea6\",\"orientation\":\"v\",\"showlegend\":true,\"text\":[\"\\u835e\\u9ea6\"],\"textposition\":\"auto\",\"x\":[\"C1\"],\"xaxis\":\"x\",\"y\":[15.0],\"yaxis\":\"y\",\"type\":\"bar\"},{\"alignmentgroup\":\"True\",\"hovertemplate\":\"\\u4f5c\\u7269=%{text}\\u003cbr\\u003e\\u5730\\u5757\\u7f16\\u53f7=%{x}\\u003cbr\\u003e\\u79cd\\u690d\\u9762\\u79ef=%{y}\\u003cextra\\u003e\\u003c\\u002fextra\\u003e\",\"legendgroup\":\"\\u5357\\u74dc\",\"marker\":{\"color\":\"#ab63fa\",\"pattern\":{\"shape\":\"\"}},\"name\":\"\\u5357\\u74dc\",\"offsetgroup\":\"\\u5357\\u74dc\",\"orientation\":\"v\",\"showlegend\":true,\"text\":[\"\\u5357\\u74dc\"],\"textposition\":\"auto\",\"x\":[\"C2\"],\"xaxis\":\"x\",\"y\":[13.0],\"yaxis\":\"y\",\"type\":\"bar\"},{\"alignmentgroup\":\"True\",\"hovertemplate\":\"\\u4f5c\\u7269=%{text}\\u003cbr\\u003e\\u5730\\u5757\\u7f16\\u53f7=%{x}\\u003cbr\\u003e\\u79cd\\u690d\\u9762\\u79ef=%{y}\\u003cextra\\u003e\\u003c\\u002fextra\\u003e\",\"legendgroup\":\"\\u7ea2\\u85af\",\"marker\":{\"color\":\"#FFA15A\",\"pattern\":{\"shape\":\"\"}},\"name\":\"\\u7ea2\\u85af\",\"offsetgroup\":\"\\u7ea2\\u85af\",\"orientation\":\"v\",\"showlegend\":true,\"text\":[\"\\u7ea2\\u85af\"],\"textposition\":\"auto\",\"x\":[\"C4\"],\"xaxis\":\"x\",\"y\":[18.0],\"yaxis\":\"y\",\"type\":\"bar\"},{\"alignmentgroup\":\"True\",\"hovertemplate\":\"\\u4f5c\\u7269=%{text}\\u003cbr\\u003e\\u5730\\u5757\\u7f16\\u53f7=%{x}\\u003cbr\\u003e\\u79cd\\u690d\\u9762\\u79ef=%{y}\\u003cextra\\u003e\\u003c\\u002fextra\\u003e\",\"legendgroup\":\"\\u571f\\u8c46\",\"marker\":{\"color\":\"#19d3f3\",\"pattern\":{\"shape\":\"\"}},\"name\":\"\\u571f\\u8c46\",\"offsetgroup\":\"\\u571f\\u8c46\",\"orientation\":\"v\",\"showlegend\":true,\"text\":[\"\\u571f\\u8c46\"],\"textposition\":\"auto\",\"x\":[\"D1\"],\"xaxis\":\"x\",\"y\":[15.0],\"yaxis\":\"y\",\"type\":\"bar\"},{\"alignmentgroup\":\"True\",\"hovertemplate\":\"\\u4f5c\\u7269=%{text}\\u003cbr\\u003e\\u5730\\u5757\\u7f16\\u53f7=%{x}\\u003cbr\\u003e\\u79cd\\u690d\\u9762\\u79ef=%{y}\\u003cextra\\u003e\\u003c\\u002fextra\\u003e\",\"legendgroup\":\"\\u767d\\u841d\\u535c\",\"marker\":{\"color\":\"#FF6692\",\"pattern\":{\"shape\":\"\"}},\"name\":\"\\u767d\\u841d\\u535c\",\"offsetgroup\":\"\\u767d\\u841d\\u535c\",\"orientation\":\"v\",\"showlegend\":true,\"text\":[\"\\u767d\\u841d\\u535c\",\"\\u767d\\u841d\\u535c\"],\"textposition\":\"auto\",\"x\":[\"D1\",\"D5\"],\"xaxis\":\"x\",\"y\":[15.0,10.0],\"yaxis\":\"y\",\"type\":\"bar\"},{\"alignmentgroup\":\"True\",\"hovertemplate\":\"\\u4f5c\\u7269=%{text}\\u003cbr\\u003e\\u5730\\u5757\\u7f16\\u53f7=%{x}\\u003cbr\\u003e\\u79cd\\u690d\\u9762\\u79ef=%{y}\\u003cextra\\u003e\\u003c\\u002fextra\\u003e\",\"legendgroup\":\"\\u5c0f\\u9752\\u83dc\",\"marker\":{\"color\":\"#B6E880\",\"pattern\":{\"shape\":\"\"}},\"name\":\"\\u5c0f\\u9752\\u83dc\",\"offsetgroup\":\"\\u5c0f\\u9752\\u83dc\",\"orientation\":\"v\",\"showlegend\":true,\"text\":[\"\\u5c0f\\u9752\\u83dc\",\"\\u5c0f\\u9752\\u83dc\",\"\\u5c0f\\u9752\\u83dc\"],\"textposition\":\"auto\",\"x\":[\"D2\",\"E5\",\"F3\"],\"xaxis\":\"x\",\"y\":[10.0,0.6,0.3],\"yaxis\":\"y\",\"type\":\"bar\"},{\"alignmentgroup\":\"True\",\"hovertemplate\":\"\\u4f5c\\u7269=%{text}\\u003cbr\\u003e\\u5730\\u5757\\u7f16\\u53f7=%{x}\\u003cbr\\u003e\\u79cd\\u690d\\u9762\\u79ef=%{y}\\u003cextra\\u003e\\u003c\\u002fextra\\u003e\",\"legendgroup\":\"\\u5927\\u767d\\u83dc\",\"marker\":{\"color\":\"#FF97FF\",\"pattern\":{\"shape\":\"\"}},\"name\":\"\\u5927\\u767d\\u83dc\",\"offsetgroup\":\"\\u5927\\u767d\\u83dc\",\"orientation\":\"v\",\"showlegend\":true,\"text\":[\"\\u5927\\u767d\\u83dc\",\"\\u5927\\u767d\\u83dc\",\"\\u5927\\u767d\\u83dc\"],\"textposition\":\"auto\",\"x\":[\"D2\",\"D3\",\"D4\"],\"xaxis\":\"x\",\"y\":[10.0,14.0,6.0],\"yaxis\":\"y\",\"type\":\"bar\"},{\"alignmentgroup\":\"True\",\"hovertemplate\":\"\\u4f5c\\u7269=%{text}\\u003cbr\\u003e\\u5730\\u5757\\u7f16\\u53f7=%{x}\\u003cbr\\u003e\\u79cd\\u690d\\u9762\\u79ef=%{y}\\u003cextra\\u003e\\u003c\\u002fextra\\u003e\",\"legendgroup\":\"\\u897f\\u7ea2\\u67ff\",\"marker\":{\"color\":\"#FECB52\",\"pattern\":{\"shape\":\"\"}},\"name\":\"\\u897f\\u7ea2\\u67ff\",\"offsetgroup\":\"\\u897f\\u7ea2\\u67ff\",\"orientation\":\"v\",\"showlegend\":true,\"text\":[\"\\u897f\\u7ea2\\u67ff\",\"\\u897f\\u7ea2\\u67ff\",\"\\u897f\\u7ea2\\u67ff\"],\"textposition\":\"auto\",\"x\":[\"D3\",\"E13\",\"F1\"],\"xaxis\":\"x\",\"y\":[14.0,0.6,0.3],\"yaxis\":\"y\",\"type\":\"bar\"},{\"alignmentgroup\":\"True\",\"hovertemplate\":\"\\u4f5c\\u7269=%{text}\\u003cbr\\u003e\\u5730\\u5757\\u7f16\\u53f7=%{x}\\u003cbr\\u003e\\u79cd\\u690d\\u9762\\u79ef=%{y}\\u003cextra\\u003e\\u003c\\u002fextra\\u003e\",\"legendgroup\":\"\\u8304\\u5b50\",\"marker\":{\"color\":\"#636efa\",\"pattern\":{\"shape\":\"\"}},\"name\":\"\\u8304\\u5b50\",\"offsetgroup\":\"\\u8304\\u5b50\",\"orientation\":\"v\",\"showlegend\":true,\"text\":[\"\\u8304\\u5b50\",\"\\u8304\\u5b50\",\"\\u8304\\u5b50\"],\"textposition\":\"auto\",\"x\":[\"D4\",\"E12\",\"F2\"],\"xaxis\":\"x\",\"y\":[6.0,0.6,0.3],\"yaxis\":\"y\",\"type\":\"bar\"},{\"alignmentgroup\":\"True\",\"hovertemplate\":\"\\u4f5c\\u7269=%{text}\\u003cbr\\u003e\\u5730\\u5757\\u7f16\\u53f7=%{x}\\u003cbr\\u003e\\u79cd\\u690d\\u9762\\u79ef=%{y}\\u003cextra\\u003e\\u003c\\u002fextra\\u003e\",\"legendgroup\":\"\\u8c47\\u8c46\",\"marker\":{\"color\":\"#EF553B\",\"pattern\":{\"shape\":\"\"}},\"name\":\"\\u8c47\\u8c46\",\"offsetgroup\":\"\\u8c47\\u8c46\",\"orientation\":\"v\",\"showlegend\":true,\"text\":[\"\\u8c47\\u8c46\",\"\\u8c47\\u8c46\",\"\\u8c47\\u8c46\",\"\\u8c47\\u8c46\"],\"textposition\":\"auto\",\"x\":[\"D5\",\"E10\",\"E11\",\"F3\"],\"xaxis\":\"x\",\"y\":[10.0,0.6,0.6,0.6],\"yaxis\":\"y\",\"type\":\"bar\"},{\"alignmentgroup\":\"True\",\"hovertemplate\":\"\\u4f5c\\u7269=%{text}\\u003cbr\\u003e\\u5730\\u5757\\u7f16\\u53f7=%{x}\\u003cbr\\u003e\\u79cd\\u690d\\u9762\\u79ef=%{y}\\u003cextra\\u003e\\u003c\\u002fextra\\u003e\",\"legendgroup\":\"\\u5200\\u8c46\",\"marker\":{\"color\":\"#00cc96\",\"pattern\":{\"shape\":\"\"}},\"name\":\"\\u5200\\u8c46\",\"offsetgroup\":\"\\u5200\\u8c46\",\"orientation\":\"v\",\"showlegend\":true,\"text\":[\"\\u5200\\u8c46\",\"\\u5200\\u8c46\",\"\\u5200\\u8c46\"],\"textposition\":\"auto\",\"x\":[\"D6\",\"E1\",\"E9\"],\"xaxis\":\"x\",\"y\":[12.0,0.6,0.6],\"yaxis\":\"y\",\"type\":\"bar\"},{\"alignmentgroup\":\"True\",\"hovertemplate\":\"\\u4f5c\\u7269=%{text}\\u003cbr\\u003e\\u5730\\u5757\\u7f16\\u53f7=%{x}\\u003cbr\\u003e\\u79cd\\u690d\\u9762\\u79ef=%{y}\\u003cextra\\u003e\\u003c\\u002fextra\\u003e\",\"legendgroup\":\"\\u7ea2\\u841d\\u535c\",\"marker\":{\"color\":\"#ab63fa\",\"pattern\":{\"shape\":\"\"}},\"name\":\"\\u7ea2\\u841d\\u535c\",\"offsetgroup\":\"\\u7ea2\\u841d\\u535c\",\"orientation\":\"v\",\"showlegend\":true,\"text\":[\"\\u7ea2\\u841d\\u535c\"],\"textposition\":\"auto\",\"x\":[\"D6\"],\"xaxis\":\"x\",\"y\":[12.0],\"yaxis\":\"y\",\"type\":\"bar\"},{\"alignmentgroup\":\"True\",\"hovertemplate\":\"\\u4f5c\\u7269=%{text}\\u003cbr\\u003e\\u5730\\u5757\\u7f16\\u53f7=%{x}\\u003cbr\\u003e\\u79cd\\u690d\\u9762\\u79ef=%{y}\\u003cextra\\u003e\\u003c\\u002fextra\\u003e\",\"legendgroup\":\"\\u6c34\\u7a3b\",\"marker\":{\"color\":\"#FFA15A\",\"pattern\":{\"shape\":\"\"}},\"name\":\"\\u6c34\\u7a3b\",\"offsetgroup\":\"\\u6c34\\u7a3b\",\"orientation\":\"v\",\"showlegend\":true,\"text\":[\"\\u6c34\\u7a3b\",\"\\u6c34\\u7a3b\"],\"textposition\":\"auto\",\"x\":[\"D7\",\"D8\"],\"xaxis\":\"x\",\"y\":[22.0,20.0],\"yaxis\":\"y\",\"type\":\"bar\"},{\"alignmentgroup\":\"True\",\"hovertemplate\":\"\\u4f5c\\u7269=%{text}\\u003cbr\\u003e\\u5730\\u5757\\u7f16\\u53f7=%{x}\\u003cbr\\u003e\\u79cd\\u690d\\u9762\\u79ef=%{y}\\u003cextra\\u003e\\u003c\\u002fextra\\u003e\",\"legendgroup\":\"\\u6986\\u9ec4\\u83c7\",\"marker\":{\"color\":\"#19d3f3\",\"pattern\":{\"shape\":\"\"}},\"name\":\"\\u6986\\u9ec4\\u83c7\",\"offsetgroup\":\"\\u6986\\u9ec4\\u83c7\",\"orientation\":\"v\",\"showlegend\":true,\"text\":[\"\\u6986\\u9ec4\\u83c7\",\"\\u6986\\u9ec4\\u83c7\",\"\\u6986\\u9ec4\\u83c7\"],\"textposition\":\"auto\",\"x\":[\"E1\",\"E2\",\"E3\"],\"xaxis\":\"x\",\"y\":[0.6,0.6,0.6],\"yaxis\":\"y\",\"type\":\"bar\"},{\"alignmentgroup\":\"True\",\"hovertemplate\":\"\\u4f5c\\u7269=%{text}\\u003cbr\\u003e\\u5730\\u5757\\u7f16\\u53f7=%{x}\\u003cbr\\u003e\\u79cd\\u690d\\u9762\\u79ef=%{y}\\u003cextra\\u003e\\u003c\\u002fextra\\u003e\",\"legendgroup\":\"\\u9752\\u6912\",\"marker\":{\"color\":\"#FF6692\",\"pattern\":{\"shape\":\"\"}},\"name\":\"\\u9752\\u6912\",\"offsetgroup\":\"\\u9752\\u6912\",\"orientation\":\"v\",\"showlegend\":true,\"text\":[\"\\u9752\\u6912\",\"\\u9752\\u6912\"],\"textposition\":\"auto\",\"x\":[\"E2\",\"F1\"],\"xaxis\":\"x\",\"y\":[0.6,0.3],\"yaxis\":\"y\",\"type\":\"bar\"},{\"alignmentgroup\":\"True\",\"hovertemplate\":\"\\u4f5c\\u7269=%{text}\\u003cbr\\u003e\\u5730\\u5757\\u7f16\\u53f7=%{x}\\u003cbr\\u003e\\u79cd\\u690d\\u9762\\u79ef=%{y}\\u003cextra\\u003e\\u003c\\u002fextra\\u003e\",\"legendgroup\":\"\\u83dc\\u82b1\",\"marker\":{\"color\":\"#B6E880\",\"pattern\":{\"shape\":\"\"}},\"name\":\"\\u83dc\\u82b1\",\"offsetgroup\":\"\\u83dc\\u82b1\",\"orientation\":\"v\",\"showlegend\":true,\"text\":[\"\\u83dc\\u82b1\",\"\\u83dc\\u82b1\"],\"textposition\":\"auto\",\"x\":[\"E3\",\"F2\"],\"xaxis\":\"x\",\"y\":[0.6,0.3],\"yaxis\":\"y\",\"type\":\"bar\"},{\"alignmentgroup\":\"True\",\"hovertemplate\":\"\\u4f5c\\u7269=%{text}\\u003cbr\\u003e\\u5730\\u5757\\u7f16\\u53f7=%{x}\\u003cbr\\u003e\\u79cd\\u690d\\u9762\\u79ef=%{y}\\u003cextra\\u003e\\u003c\\u002fextra\\u003e\",\"legendgroup\":\"\\u5305\\u83dc\",\"marker\":{\"color\":\"#FF97FF\",\"pattern\":{\"shape\":\"\"}},\"name\":\"\\u5305\\u83dc\",\"offsetgroup\":\"\\u5305\\u83dc\",\"orientation\":\"v\",\"showlegend\":true,\"text\":[\"\\u5305\\u83dc\",\"\\u5305\\u83dc\"],\"textposition\":\"auto\",\"x\":[\"E4\",\"F2\"],\"xaxis\":\"x\",\"y\":[0.6,0.3],\"yaxis\":\"y\",\"type\":\"bar\"},{\"alignmentgroup\":\"True\",\"hovertemplate\":\"\\u4f5c\\u7269=%{text}\\u003cbr\\u003e\\u5730\\u5757\\u7f16\\u53f7=%{x}\\u003cbr\\u003e\\u79cd\\u690d\\u9762\\u79ef=%{y}\\u003cextra\\u003e\\u003c\\u002fextra\\u003e\",\"legendgroup\":\"\\u9999\\u83c7\",\"marker\":{\"color\":\"#FECB52\",\"pattern\":{\"shape\":\"\"}},\"name\":\"\\u9999\\u83c7\",\"offsetgroup\":\"\\u9999\\u83c7\",\"orientation\":\"v\",\"showlegend\":true,\"text\":[\"\\u9999\\u83c7\",\"\\u9999\\u83c7\",\"\\u9999\\u83c7\"],\"textposition\":\"auto\",\"x\":[\"E4\",\"E5\",\"E6\"],\"xaxis\":\"x\",\"y\":[0.6,0.6,0.6],\"yaxis\":\"y\",\"type\":\"bar\"},{\"alignmentgroup\":\"True\",\"hovertemplate\":\"\\u4f5c\\u7269=%{text}\\u003cbr\\u003e\\u5730\\u5757\\u7f16\\u53f7=%{x}\\u003cbr\\u003e\\u79cd\\u690d\\u9762\\u79ef=%{y}\\u003cextra\\u003e\\u003c\\u002fextra\\u003e\",\"legendgroup\":\"\\u6cb9\\u9ea6\\u83dc\",\"marker\":{\"color\":\"#636efa\",\"pattern\":{\"shape\":\"\"}},\"name\":\"\\u6cb9\\u9ea6\\u83dc\",\"offsetgroup\":\"\\u6cb9\\u9ea6\\u83dc\",\"orientation\":\"v\",\"showlegend\":true,\"text\":[\"\\u6cb9\\u9ea6\\u83dc\",\"\\u6cb9\\u9ea6\\u83dc\"],\"textposition\":\"auto\",\"x\":[\"E6\",\"E15\"],\"xaxis\":\"x\",\"y\":[0.6,0.3],\"yaxis\":\"y\",\"type\":\"bar\"},{\"alignmentgroup\":\"True\",\"hovertemplate\":\"\\u4f5c\\u7269=%{text}\\u003cbr\\u003e\\u5730\\u5757\\u7f16\\u53f7=%{x}\\u003cbr\\u003e\\u79cd\\u690d\\u9762\\u79ef=%{y}\\u003cextra\\u003e\\u003c\\u002fextra\\u003e\",\"legendgroup\":\"\\u82b8\\u8c46\",\"marker\":{\"color\":\"#EF553B\",\"pattern\":{\"shape\":\"\"}},\"name\":\"\\u82b8\\u8c46\",\"offsetgroup\":\"\\u82b8\\u8c46\",\"orientation\":\"v\",\"showlegend\":true,\"text\":[\"\\u82b8\\u8c46\",\"\\u82b8\\u8c46\",\"\\u82b8\\u8c46\"],\"textposition\":\"auto\",\"x\":[\"E7\",\"E8\",\"F4\"],\"xaxis\":\"x\",\"y\":[0.6,0.6,0.6],\"yaxis\":\"y\",\"type\":\"bar\"},{\"alignmentgroup\":\"True\",\"hovertemplate\":\"\\u4f5c\\u7269=%{text}\\u003cbr\\u003e\\u5730\\u5757\\u7f16\\u53f7=%{x}\\u003cbr\\u003e\\u79cd\\u690d\\u9762\\u79ef=%{y}\\u003cextra\\u003e\\u003c\\u002fextra\\u003e\",\"legendgroup\":\"\\u767d\\u7075\\u83c7\",\"marker\":{\"color\":\"#00cc96\",\"pattern\":{\"shape\":\"\"}},\"name\":\"\\u767d\\u7075\\u83c7\",\"offsetgroup\":\"\\u767d\\u7075\\u83c7\",\"orientation\":\"v\",\"showlegend\":true,\"text\":[\"\\u767d\\u7075\\u83c7\",\"\\u767d\\u7075\\u83c7\",\"\\u767d\\u7075\\u83c7\"],\"textposition\":\"auto\",\"x\":[\"E7\",\"E8\",\"E9\"],\"xaxis\":\"x\",\"y\":[0.6,0.6,0.6],\"yaxis\":\"y\",\"type\":\"bar\"},{\"alignmentgroup\":\"True\",\"hovertemplate\":\"\\u4f5c\\u7269=%{text}\\u003cbr\\u003e\\u5730\\u5757\\u7f16\\u53f7=%{x}\\u003cbr\\u003e\\u79cd\\u690d\\u9762\\u79ef=%{y}\\u003cextra\\u003e\\u003c\\u002fextra\\u003e\",\"legendgroup\":\"\\u7f8a\\u809a\\u83cc\",\"marker\":{\"color\":\"#ab63fa\",\"pattern\":{\"shape\":\"\"}},\"name\":\"\\u7f8a\\u809a\\u83cc\",\"offsetgroup\":\"\\u7f8a\\u809a\\u83cc\",\"orientation\":\"v\",\"showlegend\":true,\"text\":[\"\\u7f8a\\u809a\\u83cc\",\"\\u7f8a\\u809a\\u83cc\",\"\\u7f8a\\u809a\\u83cc\",\"\\u7f8a\\u809a\\u83cc\",\"\\u7f8a\\u809a\\u83cc\",\"\\u7f8a\\u809a\\u83cc\",\"\\u7f8a\\u809a\\u83cc\"],\"textposition\":\"auto\",\"x\":[\"E10\",\"E11\",\"E12\",\"E13\",\"E14\",\"E15\",\"E16\"],\"xaxis\":\"x\",\"y\":[0.6,0.6,0.6,0.6,0.6,0.6,0.6],\"yaxis\":\"y\",\"type\":\"bar\"},{\"alignmentgroup\":\"True\",\"hovertemplate\":\"\\u4f5c\\u7269=%{text}\\u003cbr\\u003e\\u5730\\u5757\\u7f16\\u53f7=%{x}\\u003cbr\\u003e\\u79cd\\u690d\\u9762\\u79ef=%{y}\\u003cextra\\u003e\\u003c\\u002fextra\\u003e\",\"legendgroup\":\"\\u9ec4\\u74dc\",\"marker\":{\"color\":\"#FFA15A\",\"pattern\":{\"shape\":\"\"}},\"name\":\"\\u9ec4\\u74dc\",\"offsetgroup\":\"\\u9ec4\\u74dc\",\"orientation\":\"v\",\"showlegend\":true,\"text\":[\"\\u9ec4\\u74dc\",\"\\u9ec4\\u74dc\"],\"textposition\":\"auto\",\"x\":[\"E14\",\"F2\"],\"xaxis\":\"x\",\"y\":[0.6,0.3],\"yaxis\":\"y\",\"type\":\"bar\"},{\"alignmentgroup\":\"True\",\"hovertemplate\":\"\\u4f5c\\u7269=%{text}\\u003cbr\\u003e\\u5730\\u5757\\u7f16\\u53f7=%{x}\\u003cbr\\u003e\\u79cd\\u690d\\u9762\\u79ef=%{y}\\u003cextra\\u003e\\u003c\\u002fextra\\u003e\",\"legendgroup\":\"\\u751f\\u83dc\",\"marker\":{\"color\":\"#19d3f3\",\"pattern\":{\"shape\":\"\"}},\"name\":\"\\u751f\\u83dc\",\"offsetgroup\":\"\\u751f\\u83dc\",\"orientation\":\"v\",\"showlegend\":true,\"text\":[\"\\u751f\\u83dc\",\"\\u751f\\u83dc\"],\"textposition\":\"auto\",\"x\":[\"E15\",\"F3\"],\"xaxis\":\"x\",\"y\":[0.3,0.3],\"yaxis\":\"y\",\"type\":\"bar\"},{\"alignmentgroup\":\"True\",\"hovertemplate\":\"\\u4f5c\\u7269=%{text}\\u003cbr\\u003e\\u5730\\u5757\\u7f16\\u53f7=%{x}\\u003cbr\\u003e\\u79cd\\u690d\\u9762\\u79ef=%{y}\\u003cextra\\u003e\\u003c\\u002fextra\\u003e\",\"legendgroup\":\"\\u8fa3\\u6912\",\"marker\":{\"color\":\"#FF6692\",\"pattern\":{\"shape\":\"\"}},\"name\":\"\\u8fa3\\u6912\",\"offsetgroup\":\"\\u8fa3\\u6912\",\"orientation\":\"v\",\"showlegend\":true,\"text\":[\"\\u8fa3\\u6912\"],\"textposition\":\"auto\",\"x\":[\"E16\"],\"xaxis\":\"x\",\"y\":[0.6],\"yaxis\":\"y\",\"type\":\"bar\"},{\"alignmentgroup\":\"True\",\"hovertemplate\":\"\\u4f5c\\u7269=%{text}\\u003cbr\\u003e\\u5730\\u5757\\u7f16\\u53f7=%{x}\\u003cbr\\u003e\\u79cd\\u690d\\u9762\\u79ef=%{y}\\u003cextra\\u003e\\u003c\\u002fextra\\u003e\",\"legendgroup\":\"\\u7a7a\\u5fc3\\u83dc\",\"marker\":{\"color\":\"#B6E880\",\"pattern\":{\"shape\":\"\"}},\"name\":\"\\u7a7a\\u5fc3\\u83dc\",\"offsetgroup\":\"\\u7a7a\\u5fc3\\u83dc\",\"orientation\":\"v\",\"showlegend\":true,\"text\":[\"\\u7a7a\\u5fc3\\u83dc\"],\"textposition\":\"auto\",\"x\":[\"F1\"],\"xaxis\":\"x\",\"y\":[0.3],\"yaxis\":\"y\",\"type\":\"bar\"},{\"alignmentgroup\":\"True\",\"hovertemplate\":\"\\u4f5c\\u7269=%{text}\\u003cbr\\u003e\\u5730\\u5757\\u7f16\\u53f7=%{x}\\u003cbr\\u003e\\u79cd\\u690d\\u9762\\u79ef=%{y}\\u003cextra\\u003e\\u003c\\u002fextra\\u003e\",\"legendgroup\":\"\\u9ec4\\u5fc3\\u83dc\",\"marker\":{\"color\":\"#FF97FF\",\"pattern\":{\"shape\":\"\"}},\"name\":\"\\u9ec4\\u5fc3\\u83dc\",\"offsetgroup\":\"\\u9ec4\\u5fc3\\u83dc\",\"orientation\":\"v\",\"showlegend\":true,\"text\":[\"\\u9ec4\\u5fc3\\u83dc\"],\"textposition\":\"auto\",\"x\":[\"F1\"],\"xaxis\":\"x\",\"y\":[0.3],\"yaxis\":\"y\",\"type\":\"bar\"},{\"alignmentgroup\":\"True\",\"hovertemplate\":\"\\u4f5c\\u7269=%{text}\\u003cbr\\u003e\\u5730\\u5757\\u7f16\\u53f7=%{x}\\u003cbr\\u003e\\u79cd\\u690d\\u9762\\u79ef=%{y}\\u003cextra\\u003e\\u003c\\u002fextra\\u003e\",\"legendgroup\":\"\\u82b9\\u83dc\",\"marker\":{\"color\":\"#FECB52\",\"pattern\":{\"shape\":\"\"}},\"name\":\"\\u82b9\\u83dc\",\"offsetgroup\":\"\\u82b9\\u83dc\",\"orientation\":\"v\",\"showlegend\":true,\"text\":[\"\\u82b9\\u83dc\"],\"textposition\":\"auto\",\"x\":[\"F4\"],\"xaxis\":\"x\",\"y\":[0.3],\"yaxis\":\"y\",\"type\":\"bar\"},{\"alignmentgroup\":\"True\",\"hovertemplate\":\"\\u4f5c\\u7269=%{text}\\u003cbr\\u003e\\u5730\\u5757\\u7f16\\u53f7=%{x}\\u003cbr\\u003e\\u79cd\\u690d\\u9762\\u79ef=%{y}\\u003cextra\\u003e\\u003c\\u002fextra\\u003e\",\"legendgroup\":\"\\u83e0\\u83dc\",\"marker\":{\"color\":\"#636efa\",\"pattern\":{\"shape\":\"\"}},\"name\":\"\\u83e0\\u83dc\",\"offsetgroup\":\"\\u83e0\\u83dc\",\"orientation\":\"v\",\"showlegend\":true,\"text\":[\"\\u83e0\\u83dc\"],\"textposition\":\"auto\",\"x\":[\"F4\"],\"xaxis\":\"x\",\"y\":[0.3],\"yaxis\":\"y\",\"type\":\"bar\"}],                        {\"template\":{\"data\":{\"histogram2dcontour\":[{\"type\":\"histogram2dcontour\",\"colorbar\":{\"outlinewidth\":0,\"ticks\":\"\"},\"colorscale\":[[0.0,\"#0d0887\"],[0.1111111111111111,\"#46039f\"],[0.2222222222222222,\"#7201a8\"],[0.3333333333333333,\"#9c179e\"],[0.4444444444444444,\"#bd3786\"],[0.5555555555555556,\"#d8576b\"],[0.6666666666666666,\"#ed7953\"],[0.7777777777777778,\"#fb9f3a\"],[0.8888888888888888,\"#fdca26\"],[1.0,\"#f0f921\"]]}],\"choropleth\":[{\"type\":\"choropleth\",\"colorbar\":{\"outlinewidth\":0,\"ticks\":\"\"}}],\"histogram2d\":[{\"type\":\"histogram2d\",\"colorbar\":{\"outlinewidth\":0,\"ticks\":\"\"},\"colorscale\":[[0.0,\"#0d0887\"],[0.1111111111111111,\"#46039f\"],[0.2222222222222222,\"#7201a8\"],[0.3333333333333333,\"#9c179e\"],[0.4444444444444444,\"#bd3786\"],[0.5555555555555556,\"#d8576b\"],[0.6666666666666666,\"#ed7953\"],[0.7777777777777778,\"#fb9f3a\"],[0.8888888888888888,\"#fdca26\"],[1.0,\"#f0f921\"]]}],\"heatmap\":[{\"type\":\"heatmap\",\"colorbar\":{\"outlinewidth\":0,\"ticks\":\"\"},\"colorscale\":[[0.0,\"#0d0887\"],[0.1111111111111111,\"#46039f\"],[0.2222222222222222,\"#7201a8\"],[0.3333333333333333,\"#9c179e\"],[0.4444444444444444,\"#bd3786\"],[0.5555555555555556,\"#d8576b\"],[0.6666666666666666,\"#ed7953\"],[0.7777777777777778,\"#fb9f3a\"],[0.8888888888888888,\"#fdca26\"],[1.0,\"#f0f921\"]]}],\"heatmapgl\":[{\"type\":\"heatmapgl\",\"colorbar\":{\"outlinewidth\":0,\"ticks\":\"\"},\"colorscale\":[[0.0,\"#0d0887\"],[0.1111111111111111,\"#46039f\"],[0.2222222222222222,\"#7201a8\"],[0.3333333333333333,\"#9c179e\"],[0.4444444444444444,\"#bd3786\"],[0.5555555555555556,\"#d8576b\"],[0.6666666666666666,\"#ed7953\"],[0.7777777777777778,\"#fb9f3a\"],[0.8888888888888888,\"#fdca26\"],[1.0,\"#f0f921\"]]}],\"contourcarpet\":[{\"type\":\"contourcarpet\",\"colorbar\":{\"outlinewidth\":0,\"ticks\":\"\"}}],\"contour\":[{\"type\":\"contour\",\"colorbar\":{\"outlinewidth\":0,\"ticks\":\"\"},\"colorscale\":[[0.0,\"#0d0887\"],[0.1111111111111111,\"#46039f\"],[0.2222222222222222,\"#7201a8\"],[0.3333333333333333,\"#9c179e\"],[0.4444444444444444,\"#bd3786\"],[0.5555555555555556,\"#d8576b\"],[0.6666666666666666,\"#ed7953\"],[0.7777777777777778,\"#fb9f3a\"],[0.8888888888888888,\"#fdca26\"],[1.0,\"#f0f921\"]]}],\"surface\":[{\"type\":\"surface\",\"colorbar\":{\"outlinewidth\":0,\"ticks\":\"\"},\"colorscale\":[[0.0,\"#0d0887\"],[0.1111111111111111,\"#46039f\"],[0.2222222222222222,\"#7201a8\"],[0.3333333333333333,\"#9c179e\"],[0.4444444444444444,\"#bd3786\"],[0.5555555555555556,\"#d8576b\"],[0.6666666666666666,\"#ed7953\"],[0.7777777777777778,\"#fb9f3a\"],[0.8888888888888888,\"#fdca26\"],[1.0,\"#f0f921\"]]}],\"mesh3d\":[{\"type\":\"mesh3d\",\"colorbar\":{\"outlinewidth\":0,\"ticks\":\"\"}}],\"scatter\":[{\"fillpattern\":{\"fillmode\":\"overlay\",\"size\":10,\"solidity\":0.2},\"type\":\"scatter\"}],\"parcoords\":[{\"type\":\"parcoords\",\"line\":{\"colorbar\":{\"outlinewidth\":0,\"ticks\":\"\"}}}],\"scatterpolargl\":[{\"type\":\"scatterpolargl\",\"marker\":{\"colorbar\":{\"outlinewidth\":0,\"ticks\":\"\"}}}],\"bar\":[{\"error_x\":{\"color\":\"#2a3f5f\"},\"error_y\":{\"color\":\"#2a3f5f\"},\"marker\":{\"line\":{\"color\":\"#E5ECF6\",\"width\":0.5},\"pattern\":{\"fillmode\":\"overlay\",\"size\":10,\"solidity\":0.2}},\"type\":\"bar\"}],\"scattergeo\":[{\"type\":\"scattergeo\",\"marker\":{\"colorbar\":{\"outlinewidth\":0,\"ticks\":\"\"}}}],\"scatterpolar\":[{\"type\":\"scatterpolar\",\"marker\":{\"colorbar\":{\"outlinewidth\":0,\"ticks\":\"\"}}}],\"histogram\":[{\"marker\":{\"pattern\":{\"fillmode\":\"overlay\",\"size\":10,\"solidity\":0.2}},\"type\":\"histogram\"}],\"scattergl\":[{\"type\":\"scattergl\",\"marker\":{\"colorbar\":{\"outlinewidth\":0,\"ticks\":\"\"}}}],\"scatter3d\":[{\"type\":\"scatter3d\",\"line\":{\"colorbar\":{\"outlinewidth\":0,\"ticks\":\"\"}},\"marker\":{\"colorbar\":{\"outlinewidth\":0,\"ticks\":\"\"}}}],\"scattermapbox\":[{\"type\":\"scattermapbox\",\"marker\":{\"colorbar\":{\"outlinewidth\":0,\"ticks\":\"\"}}}],\"scatterternary\":[{\"type\":\"scatterternary\",\"marker\":{\"colorbar\":{\"outlinewidth\":0,\"ticks\":\"\"}}}],\"scattercarpet\":[{\"type\":\"scattercarpet\",\"marker\":{\"colorbar\":{\"outlinewidth\":0,\"ticks\":\"\"}}}],\"carpet\":[{\"aaxis\":{\"endlinecolor\":\"#2a3f5f\",\"gridcolor\":\"white\",\"linecolor\":\"white\",\"minorgridcolor\":\"white\",\"startlinecolor\":\"#2a3f5f\"},\"baxis\":{\"endlinecolor\":\"#2a3f5f\",\"gridcolor\":\"white\",\"linecolor\":\"white\",\"minorgridcolor\":\"white\",\"startlinecolor\":\"#2a3f5f\"},\"type\":\"carpet\"}],\"table\":[{\"cells\":{\"fill\":{\"color\":\"#EBF0F8\"},\"line\":{\"color\":\"white\"}},\"header\":{\"fill\":{\"color\":\"#C8D4E3\"},\"line\":{\"color\":\"white\"}},\"type\":\"table\"}],\"barpolar\":[{\"marker\":{\"line\":{\"color\":\"#E5ECF6\",\"width\":0.5},\"pattern\":{\"fillmode\":\"overlay\",\"size\":10,\"solidity\":0.2}},\"type\":\"barpolar\"}],\"pie\":[{\"automargin\":true,\"type\":\"pie\"}]},\"layout\":{\"autotypenumbers\":\"strict\",\"colorway\":[\"#636efa\",\"#EF553B\",\"#00cc96\",\"#ab63fa\",\"#FFA15A\",\"#19d3f3\",\"#FF6692\",\"#B6E880\",\"#FF97FF\",\"#FECB52\"],\"font\":{\"color\":\"#2a3f5f\"},\"hovermode\":\"closest\",\"hoverlabel\":{\"align\":\"left\"},\"paper_bgcolor\":\"white\",\"plot_bgcolor\":\"#E5ECF6\",\"polar\":{\"bgcolor\":\"#E5ECF6\",\"angularaxis\":{\"gridcolor\":\"white\",\"linecolor\":\"white\",\"ticks\":\"\"},\"radialaxis\":{\"gridcolor\":\"white\",\"linecolor\":\"white\",\"ticks\":\"\"}},\"ternary\":{\"bgcolor\":\"#E5ECF6\",\"aaxis\":{\"gridcolor\":\"white\",\"linecolor\":\"white\",\"ticks\":\"\"},\"baxis\":{\"gridcolor\":\"white\",\"linecolor\":\"white\",\"ticks\":\"\"},\"caxis\":{\"gridcolor\":\"white\",\"linecolor\":\"white\",\"ticks\":\"\"}},\"coloraxis\":{\"colorbar\":{\"outlinewidth\":0,\"ticks\":\"\"}},\"colorscale\":{\"sequential\":[[0.0,\"#0d0887\"],[0.1111111111111111,\"#46039f\"],[0.2222222222222222,\"#7201a8\"],[0.3333333333333333,\"#9c179e\"],[0.4444444444444444,\"#bd3786\"],[0.5555555555555556,\"#d8576b\"],[0.6666666666666666,\"#ed7953\"],[0.7777777777777778,\"#fb9f3a\"],[0.8888888888888888,\"#fdca26\"],[1.0,\"#f0f921\"]],\"sequentialminus\":[[0.0,\"#0d0887\"],[0.1111111111111111,\"#46039f\"],[0.2222222222222222,\"#7201a8\"],[0.3333333333333333,\"#9c179e\"],[0.4444444444444444,\"#bd3786\"],[0.5555555555555556,\"#d8576b\"],[0.6666666666666666,\"#ed7953\"],[0.7777777777777778,\"#fb9f3a\"],[0.8888888888888888,\"#fdca26\"],[1.0,\"#f0f921\"]],\"diverging\":[[0,\"#8e0152\"],[0.1,\"#c51b7d\"],[0.2,\"#de77ae\"],[0.3,\"#f1b6da\"],[0.4,\"#fde0ef\"],[0.5,\"#f7f7f7\"],[0.6,\"#e6f5d0\"],[0.7,\"#b8e186\"],[0.8,\"#7fbc41\"],[0.9,\"#4d9221\"],[1,\"#276419\"]]},\"xaxis\":{\"gridcolor\":\"white\",\"linecolor\":\"white\",\"ticks\":\"\",\"title\":{\"standoff\":15},\"zerolinecolor\":\"white\",\"automargin\":true,\"zerolinewidth\":2},\"yaxis\":{\"gridcolor\":\"white\",\"linecolor\":\"white\",\"ticks\":\"\",\"title\":{\"standoff\":15},\"zerolinecolor\":\"white\",\"automargin\":true,\"zerolinewidth\":2},\"scene\":{\"xaxis\":{\"backgroundcolor\":\"#E5ECF6\",\"gridcolor\":\"white\",\"linecolor\":\"white\",\"showbackground\":true,\"ticks\":\"\",\"zerolinecolor\":\"white\",\"gridwidth\":2},\"yaxis\":{\"backgroundcolor\":\"#E5ECF6\",\"gridcolor\":\"white\",\"linecolor\":\"white\",\"showbackground\":true,\"ticks\":\"\",\"zerolinecolor\":\"white\",\"gridwidth\":2},\"zaxis\":{\"backgroundcolor\":\"#E5ECF6\",\"gridcolor\":\"white\",\"linecolor\":\"white\",\"showbackground\":true,\"ticks\":\"\",\"zerolinecolor\":\"white\",\"gridwidth\":2}},\"shapedefaults\":{\"line\":{\"color\":\"#2a3f5f\"}},\"annotationdefaults\":{\"arrowcolor\":\"#2a3f5f\",\"arrowhead\":0,\"arrowwidth\":1},\"geo\":{\"bgcolor\":\"white\",\"landcolor\":\"#E5ECF6\",\"subunitcolor\":\"white\",\"showland\":true,\"showlakes\":true,\"lakecolor\":\"white\"},\"title\":{\"x\":0.05},\"mapbox\":{\"style\":\"light\"}}},\"xaxis\":{\"anchor\":\"y\",\"domain\":[0.0,1.0],\"title\":{\"text\":\"\\u5730\\u5757\\u7f16\\u53f7\"},\"categoryorder\":\"array\",\"categoryarray\":[\"A1\",\"A2\",\"A3\",\"A4\",\"A5\",\"A6\",\"B1\",\"B2\",\"B3\",\"B4\",\"B5\",\"B6\",\"B7\",\"B8\",\"B9\",\"B10\",\"B11\",\"B12\",\"B13\",\"B14\",\"C1\",\"C2\",\"C3\",\"C4\",\"C5\",\"C6\",\"D1\",\"D2\",\"D3\",\"D4\",\"D5\",\"D6\",\"D7\",\"D8\",\"E1\",\"E2\",\"E3\",\"E4\",\"E5\",\"E6\",\"E7\",\"E8\",\"E9\",\"E10\",\"E11\",\"E12\",\"E13\",\"E14\",\"E15\",\"E16\",\"F1\",\"F2\",\"F3\",\"F4\"]},\"yaxis\":{\"anchor\":\"x\",\"domain\":[0.0,1.0],\"title\":{\"text\":\"\\u79cd\\u690d\\u9762\\u79ef\"},\"type\":\"log\"},\"legend\":{\"title\":{\"text\":\"\\u4f5c\\u7269\"},\"tracegroupgap\":0},\"title\":{\"text\":\"\\u6bcf\\u4e2a\\u5730\\u5757\\u7684\\u4f5c\\u7269\\u79cd\\u690d\\u9762\\u79ef\\u60c5\\u51b5\"},\"barmode\":\"relative\",\"height\":750,\"width\":1500},                        {\"responsive\": true}                    ).then(function(){\n",
       "                            \n",
       "var gd = document.getElementById('755b9928-45f1-447c-b48e-cb85ce2c6a6f');\n",
       "var x = new MutationObserver(function (mutations, observer) {{\n",
       "        var display = window.getComputedStyle(gd).display;\n",
       "        if (!display || display === 'none') {{\n",
       "            console.log([gd, 'removed!']);\n",
       "            Plotly.purge(gd);\n",
       "            observer.disconnect();\n",
       "        }}\n",
       "}});\n",
       "\n",
       "// Listen for the removal of the full notebook cells\n",
       "var notebookContainer = gd.closest('#notebook-container');\n",
       "if (notebookContainer) {{\n",
       "    x.observe(notebookContainer, {childList: true});\n",
       "}}\n",
       "\n",
       "// Listen for the clearing of the current output cell\n",
       "var outputEl = gd.closest('.output');\n",
       "if (outputEl) {{\n",
       "    x.observe(outputEl, {childList: true});\n",
       "}}\n",
       "\n",
       "                        })                };                });            </script>        </div>"
      ]
     },
     "metadata": {},
     "output_type": "display_data"
    }
   ],
   "source": [
    "import plotly.express as px\n",
    "\n",
    "fig = px.bar(\n",
    "    df,\n",
    "    x=\"Field ID\",\n",
    "    y=\"Planting Area\",\n",
    "    title=\"每个地块的作物种植面积情况\",\n",
    "    labels={\n",
    "        \"x\": \"作物\",\n",
    "        \"Price\": \"销售单价 (元/斤)\",\n",
    "        \"Crop Name\": \"作物\",\n",
    "        \"Planting Area\": \"种植面积\",\n",
    "        \"Field ID\": \"地块编号\",\n",
    "    },\n",
    "    color=\"Crop Name\",\n",
    "    log_y=True,\n",
    "    category_orders={\"Field ID\": df[\"Field ID\"].unique()},\n",
    "    text=\"Crop Name\",\n",
    "    height=750,\n",
    "    width=1500,\n",
    ")\n",
    "\n",
    "\n",
    "# 显示图表\n",
    "fig.show()"
   ]
  },
  {
   "cell_type": "markdown",
   "metadata": {},
   "source": [
    "# 不同作物的情况"
   ]
  },
  {
   "cell_type": "markdown",
   "metadata": {},
   "source": [
    "## 成本与售价"
   ]
  },
  {
   "cell_type": "code",
   "execution_count": 204,
   "metadata": {},
   "outputs": [
    {
     "data": {
      "application/vnd.plotly.v1+json": {
       "config": {
        "plotlyServerURL": "https://plot.ly"
       },
       "data": [
        {
         "alignmentgroup": "True",
         "hovertemplate": "作物=%{x}<br>价格方差（元/斤）=%{y}<extra></extra>",
         "legendgroup": "",
         "marker": {
          "color": "#636efa",
          "pattern": {
           "shape": ""
          }
         },
         "name": "",
         "offsetgroup": "",
         "orientation": "v",
         "showlegend": false,
         "textposition": "auto",
         "type": "bar",
         "x": [
          "刀豆",
          "包菜",
          "南瓜",
          "土豆",
          "大白菜",
          "大麦",
          "小青菜",
          "小麦",
          "榆黄菇",
          "水稻",
          "油麦菜",
          "爬豆",
          "玉米",
          "生菜",
          "白灵菇",
          "白萝卜",
          "空心菜",
          "红萝卜",
          "红薯",
          "红豆",
          "绿豆",
          "羊肚菌",
          "芸豆",
          "芹菜",
          "茄子",
          "荞麦",
          "莜麦",
          "菜花",
          "菠菜",
          "西红柿",
          "谷子",
          "豇豆",
          "辣椒",
          "青椒",
          "香菇",
          "高粱",
          "黄心菜",
          "黄瓜",
          "黄豆",
          "黍子",
          "黑豆"
         ],
         "xaxis": "x",
         "y": [
          0,
          0.8449999999999992,
          0,
          0,
          0,
          0,
          0.4408333333333334,
          0,
          0,
          0,
          0,
          0,
          0,
          0.5512500000000008,
          0,
          0,
          0,
          0,
          0,
          0,
          0,
          0,
          0.563333333333333,
          0,
          0.4033333333333332,
          0,
          0,
          0.6049999999999996,
          0,
          0.5208333333333331,
          0,
          0.6399999999999995,
          0,
          1.201249999999999,
          0,
          0,
          0,
          0.9800000000000005,
          0,
          0,
          0
         ],
         "yaxis": "y"
        },
        {
         "alignmentgroup": "True",
         "hovertemplate": "作物=%{x}<br>价格方差（元/斤）=%{y}<extra></extra>",
         "legendgroup": "",
         "marker": {
          "color": "#636efa",
          "pattern": {
           "shape": ""
          }
         },
         "name": "",
         "offsetgroup": "",
         "orientation": "v",
         "showlegend": false,
         "textposition": "auto",
         "type": "bar",
         "x": [
          "刀豆",
          "包菜",
          "南瓜",
          "土豆",
          "大白菜",
          "大麦",
          "小青菜",
          "小麦",
          "榆黄菇",
          "水稻",
          "油麦菜",
          "爬豆",
          "玉米",
          "生菜",
          "白灵菇",
          "白萝卜",
          "空心菜",
          "红萝卜",
          "红薯",
          "红豆",
          "绿豆",
          "羊肚菌",
          "芸豆",
          "芹菜",
          "茄子",
          "荞麦",
          "莜麦",
          "菜花",
          "菠菜",
          "西红柿",
          "谷子",
          "豇豆",
          "辣椒",
          "青椒",
          "香菇",
          "高粱",
          "黄心菜",
          "黄瓜",
          "黄豆",
          "黍子",
          "黑豆"
         ],
         "xaxis": "x2",
         "y": [
          13333.333333333338,
          61250,
          0,
          0,
          0,
          0,
          93333.33333333334,
          0,
          0,
          0,
          0,
          0,
          0,
          20000,
          0,
          0,
          0,
          0,
          0,
          0,
          0,
          0,
          19200,
          0,
          104533.33333333337,
          0,
          0,
          45000,
          0,
          104533.33333333337,
          0,
          70400.00000000001,
          0,
          20000,
          0,
          0,
          0,
          61250,
          0,
          0,
          0
         ],
         "yaxis": "y2"
        }
       ],
       "layout": {
        "annotations": [
         {
          "font": {
           "size": 16
          },
          "showarrow": false,
          "text": "价格方差（元/斤）",
          "x": 0.225,
          "xanchor": "center",
          "xref": "paper",
          "y": 1,
          "yanchor": "bottom",
          "yref": "paper"
         },
         {
          "font": {
           "size": 16
          },
          "showarrow": false,
          "text": "成本方差（元/斤）",
          "x": 0.775,
          "xanchor": "center",
          "xref": "paper",
          "y": 1,
          "yanchor": "bottom",
          "yref": "paper"
         }
        ],
        "height": 400,
        "template": {
         "data": {
          "bar": [
           {
            "error_x": {
             "color": "#2a3f5f"
            },
            "error_y": {
             "color": "#2a3f5f"
            },
            "marker": {
             "line": {
              "color": "#E5ECF6",
              "width": 0.5
             },
             "pattern": {
              "fillmode": "overlay",
              "size": 10,
              "solidity": 0.2
             }
            },
            "type": "bar"
           }
          ],
          "barpolar": [
           {
            "marker": {
             "line": {
              "color": "#E5ECF6",
              "width": 0.5
             },
             "pattern": {
              "fillmode": "overlay",
              "size": 10,
              "solidity": 0.2
             }
            },
            "type": "barpolar"
           }
          ],
          "carpet": [
           {
            "aaxis": {
             "endlinecolor": "#2a3f5f",
             "gridcolor": "white",
             "linecolor": "white",
             "minorgridcolor": "white",
             "startlinecolor": "#2a3f5f"
            },
            "baxis": {
             "endlinecolor": "#2a3f5f",
             "gridcolor": "white",
             "linecolor": "white",
             "minorgridcolor": "white",
             "startlinecolor": "#2a3f5f"
            },
            "type": "carpet"
           }
          ],
          "choropleth": [
           {
            "colorbar": {
             "outlinewidth": 0,
             "ticks": ""
            },
            "type": "choropleth"
           }
          ],
          "contour": [
           {
            "colorbar": {
             "outlinewidth": 0,
             "ticks": ""
            },
            "colorscale": [
             [
              0,
              "#0d0887"
             ],
             [
              0.1111111111111111,
              "#46039f"
             ],
             [
              0.2222222222222222,
              "#7201a8"
             ],
             [
              0.3333333333333333,
              "#9c179e"
             ],
             [
              0.4444444444444444,
              "#bd3786"
             ],
             [
              0.5555555555555556,
              "#d8576b"
             ],
             [
              0.6666666666666666,
              "#ed7953"
             ],
             [
              0.7777777777777778,
              "#fb9f3a"
             ],
             [
              0.8888888888888888,
              "#fdca26"
             ],
             [
              1,
              "#f0f921"
             ]
            ],
            "type": "contour"
           }
          ],
          "contourcarpet": [
           {
            "colorbar": {
             "outlinewidth": 0,
             "ticks": ""
            },
            "type": "contourcarpet"
           }
          ],
          "heatmap": [
           {
            "colorbar": {
             "outlinewidth": 0,
             "ticks": ""
            },
            "colorscale": [
             [
              0,
              "#0d0887"
             ],
             [
              0.1111111111111111,
              "#46039f"
             ],
             [
              0.2222222222222222,
              "#7201a8"
             ],
             [
              0.3333333333333333,
              "#9c179e"
             ],
             [
              0.4444444444444444,
              "#bd3786"
             ],
             [
              0.5555555555555556,
              "#d8576b"
             ],
             [
              0.6666666666666666,
              "#ed7953"
             ],
             [
              0.7777777777777778,
              "#fb9f3a"
             ],
             [
              0.8888888888888888,
              "#fdca26"
             ],
             [
              1,
              "#f0f921"
             ]
            ],
            "type": "heatmap"
           }
          ],
          "heatmapgl": [
           {
            "colorbar": {
             "outlinewidth": 0,
             "ticks": ""
            },
            "colorscale": [
             [
              0,
              "#0d0887"
             ],
             [
              0.1111111111111111,
              "#46039f"
             ],
             [
              0.2222222222222222,
              "#7201a8"
             ],
             [
              0.3333333333333333,
              "#9c179e"
             ],
             [
              0.4444444444444444,
              "#bd3786"
             ],
             [
              0.5555555555555556,
              "#d8576b"
             ],
             [
              0.6666666666666666,
              "#ed7953"
             ],
             [
              0.7777777777777778,
              "#fb9f3a"
             ],
             [
              0.8888888888888888,
              "#fdca26"
             ],
             [
              1,
              "#f0f921"
             ]
            ],
            "type": "heatmapgl"
           }
          ],
          "histogram": [
           {
            "marker": {
             "pattern": {
              "fillmode": "overlay",
              "size": 10,
              "solidity": 0.2
             }
            },
            "type": "histogram"
           }
          ],
          "histogram2d": [
           {
            "colorbar": {
             "outlinewidth": 0,
             "ticks": ""
            },
            "colorscale": [
             [
              0,
              "#0d0887"
             ],
             [
              0.1111111111111111,
              "#46039f"
             ],
             [
              0.2222222222222222,
              "#7201a8"
             ],
             [
              0.3333333333333333,
              "#9c179e"
             ],
             [
              0.4444444444444444,
              "#bd3786"
             ],
             [
              0.5555555555555556,
              "#d8576b"
             ],
             [
              0.6666666666666666,
              "#ed7953"
             ],
             [
              0.7777777777777778,
              "#fb9f3a"
             ],
             [
              0.8888888888888888,
              "#fdca26"
             ],
             [
              1,
              "#f0f921"
             ]
            ],
            "type": "histogram2d"
           }
          ],
          "histogram2dcontour": [
           {
            "colorbar": {
             "outlinewidth": 0,
             "ticks": ""
            },
            "colorscale": [
             [
              0,
              "#0d0887"
             ],
             [
              0.1111111111111111,
              "#46039f"
             ],
             [
              0.2222222222222222,
              "#7201a8"
             ],
             [
              0.3333333333333333,
              "#9c179e"
             ],
             [
              0.4444444444444444,
              "#bd3786"
             ],
             [
              0.5555555555555556,
              "#d8576b"
             ],
             [
              0.6666666666666666,
              "#ed7953"
             ],
             [
              0.7777777777777778,
              "#fb9f3a"
             ],
             [
              0.8888888888888888,
              "#fdca26"
             ],
             [
              1,
              "#f0f921"
             ]
            ],
            "type": "histogram2dcontour"
           }
          ],
          "mesh3d": [
           {
            "colorbar": {
             "outlinewidth": 0,
             "ticks": ""
            },
            "type": "mesh3d"
           }
          ],
          "parcoords": [
           {
            "line": {
             "colorbar": {
              "outlinewidth": 0,
              "ticks": ""
             }
            },
            "type": "parcoords"
           }
          ],
          "pie": [
           {
            "automargin": true,
            "type": "pie"
           }
          ],
          "scatter": [
           {
            "fillpattern": {
             "fillmode": "overlay",
             "size": 10,
             "solidity": 0.2
            },
            "type": "scatter"
           }
          ],
          "scatter3d": [
           {
            "line": {
             "colorbar": {
              "outlinewidth": 0,
              "ticks": ""
             }
            },
            "marker": {
             "colorbar": {
              "outlinewidth": 0,
              "ticks": ""
             }
            },
            "type": "scatter3d"
           }
          ],
          "scattercarpet": [
           {
            "marker": {
             "colorbar": {
              "outlinewidth": 0,
              "ticks": ""
             }
            },
            "type": "scattercarpet"
           }
          ],
          "scattergeo": [
           {
            "marker": {
             "colorbar": {
              "outlinewidth": 0,
              "ticks": ""
             }
            },
            "type": "scattergeo"
           }
          ],
          "scattergl": [
           {
            "marker": {
             "colorbar": {
              "outlinewidth": 0,
              "ticks": ""
             }
            },
            "type": "scattergl"
           }
          ],
          "scattermapbox": [
           {
            "marker": {
             "colorbar": {
              "outlinewidth": 0,
              "ticks": ""
             }
            },
            "type": "scattermapbox"
           }
          ],
          "scatterpolar": [
           {
            "marker": {
             "colorbar": {
              "outlinewidth": 0,
              "ticks": ""
             }
            },
            "type": "scatterpolar"
           }
          ],
          "scatterpolargl": [
           {
            "marker": {
             "colorbar": {
              "outlinewidth": 0,
              "ticks": ""
             }
            },
            "type": "scatterpolargl"
           }
          ],
          "scatterternary": [
           {
            "marker": {
             "colorbar": {
              "outlinewidth": 0,
              "ticks": ""
             }
            },
            "type": "scatterternary"
           }
          ],
          "surface": [
           {
            "colorbar": {
             "outlinewidth": 0,
             "ticks": ""
            },
            "colorscale": [
             [
              0,
              "#0d0887"
             ],
             [
              0.1111111111111111,
              "#46039f"
             ],
             [
              0.2222222222222222,
              "#7201a8"
             ],
             [
              0.3333333333333333,
              "#9c179e"
             ],
             [
              0.4444444444444444,
              "#bd3786"
             ],
             [
              0.5555555555555556,
              "#d8576b"
             ],
             [
              0.6666666666666666,
              "#ed7953"
             ],
             [
              0.7777777777777778,
              "#fb9f3a"
             ],
             [
              0.8888888888888888,
              "#fdca26"
             ],
             [
              1,
              "#f0f921"
             ]
            ],
            "type": "surface"
           }
          ],
          "table": [
           {
            "cells": {
             "fill": {
              "color": "#EBF0F8"
             },
             "line": {
              "color": "white"
             }
            },
            "header": {
             "fill": {
              "color": "#C8D4E3"
             },
             "line": {
              "color": "white"
             }
            },
            "type": "table"
           }
          ]
         },
         "layout": {
          "annotationdefaults": {
           "arrowcolor": "#2a3f5f",
           "arrowhead": 0,
           "arrowwidth": 1
          },
          "autotypenumbers": "strict",
          "coloraxis": {
           "colorbar": {
            "outlinewidth": 0,
            "ticks": ""
           }
          },
          "colorscale": {
           "diverging": [
            [
             0,
             "#8e0152"
            ],
            [
             0.1,
             "#c51b7d"
            ],
            [
             0.2,
             "#de77ae"
            ],
            [
             0.3,
             "#f1b6da"
            ],
            [
             0.4,
             "#fde0ef"
            ],
            [
             0.5,
             "#f7f7f7"
            ],
            [
             0.6,
             "#e6f5d0"
            ],
            [
             0.7,
             "#b8e186"
            ],
            [
             0.8,
             "#7fbc41"
            ],
            [
             0.9,
             "#4d9221"
            ],
            [
             1,
             "#276419"
            ]
           ],
           "sequential": [
            [
             0,
             "#0d0887"
            ],
            [
             0.1111111111111111,
             "#46039f"
            ],
            [
             0.2222222222222222,
             "#7201a8"
            ],
            [
             0.3333333333333333,
             "#9c179e"
            ],
            [
             0.4444444444444444,
             "#bd3786"
            ],
            [
             0.5555555555555556,
             "#d8576b"
            ],
            [
             0.6666666666666666,
             "#ed7953"
            ],
            [
             0.7777777777777778,
             "#fb9f3a"
            ],
            [
             0.8888888888888888,
             "#fdca26"
            ],
            [
             1,
             "#f0f921"
            ]
           ],
           "sequentialminus": [
            [
             0,
             "#0d0887"
            ],
            [
             0.1111111111111111,
             "#46039f"
            ],
            [
             0.2222222222222222,
             "#7201a8"
            ],
            [
             0.3333333333333333,
             "#9c179e"
            ],
            [
             0.4444444444444444,
             "#bd3786"
            ],
            [
             0.5555555555555556,
             "#d8576b"
            ],
            [
             0.6666666666666666,
             "#ed7953"
            ],
            [
             0.7777777777777778,
             "#fb9f3a"
            ],
            [
             0.8888888888888888,
             "#fdca26"
            ],
            [
             1,
             "#f0f921"
            ]
           ]
          },
          "colorway": [
           "#636efa",
           "#EF553B",
           "#00cc96",
           "#ab63fa",
           "#FFA15A",
           "#19d3f3",
           "#FF6692",
           "#B6E880",
           "#FF97FF",
           "#FECB52"
          ],
          "font": {
           "color": "#2a3f5f"
          },
          "geo": {
           "bgcolor": "white",
           "lakecolor": "white",
           "landcolor": "#E5ECF6",
           "showlakes": true,
           "showland": true,
           "subunitcolor": "white"
          },
          "hoverlabel": {
           "align": "left"
          },
          "hovermode": "closest",
          "mapbox": {
           "style": "light"
          },
          "paper_bgcolor": "white",
          "plot_bgcolor": "#E5ECF6",
          "polar": {
           "angularaxis": {
            "gridcolor": "white",
            "linecolor": "white",
            "ticks": ""
           },
           "bgcolor": "#E5ECF6",
           "radialaxis": {
            "gridcolor": "white",
            "linecolor": "white",
            "ticks": ""
           }
          },
          "scene": {
           "xaxis": {
            "backgroundcolor": "#E5ECF6",
            "gridcolor": "white",
            "gridwidth": 2,
            "linecolor": "white",
            "showbackground": true,
            "ticks": "",
            "zerolinecolor": "white"
           },
           "yaxis": {
            "backgroundcolor": "#E5ECF6",
            "gridcolor": "white",
            "gridwidth": 2,
            "linecolor": "white",
            "showbackground": true,
            "ticks": "",
            "zerolinecolor": "white"
           },
           "zaxis": {
            "backgroundcolor": "#E5ECF6",
            "gridcolor": "white",
            "gridwidth": 2,
            "linecolor": "white",
            "showbackground": true,
            "ticks": "",
            "zerolinecolor": "white"
           }
          },
          "shapedefaults": {
           "line": {
            "color": "#2a3f5f"
           }
          },
          "ternary": {
           "aaxis": {
            "gridcolor": "white",
            "linecolor": "white",
            "ticks": ""
           },
           "baxis": {
            "gridcolor": "white",
            "linecolor": "white",
            "ticks": ""
           },
           "bgcolor": "#E5ECF6",
           "caxis": {
            "gridcolor": "white",
            "linecolor": "white",
            "ticks": ""
           }
          },
          "title": {
           "x": 0.05
          },
          "xaxis": {
           "automargin": true,
           "gridcolor": "white",
           "linecolor": "white",
           "ticks": "",
           "title": {
            "standoff": 15
           },
           "zerolinecolor": "white",
           "zerolinewidth": 2
          },
          "yaxis": {
           "automargin": true,
           "gridcolor": "white",
           "linecolor": "white",
           "ticks": "",
           "title": {
            "standoff": 15
           },
           "zerolinecolor": "white",
           "zerolinewidth": 2
          }
         }
        },
        "width": 1500,
        "xaxis": {
         "anchor": "y",
         "domain": [
          0,
          0.45
         ]
        },
        "xaxis2": {
         "anchor": "y2",
         "domain": [
          0.55,
          1
         ]
        },
        "yaxis": {
         "anchor": "x",
         "domain": [
          0,
          1
         ]
        },
        "yaxis2": {
         "anchor": "x2",
         "domain": [
          0,
          1
         ]
        }
       }
      },
      "text/html": [
       "<div>                            <div id=\"35ccdaf3-3273-42f8-81a7-943022c4692b\" class=\"plotly-graph-div\" style=\"height:400px; width:1500px;\"></div>            <script type=\"text/javascript\">                require([\"plotly\"], function(Plotly) {                    window.PLOTLYENV=window.PLOTLYENV || {};                                    if (document.getElementById(\"35ccdaf3-3273-42f8-81a7-943022c4692b\")) {                    Plotly.newPlot(                        \"35ccdaf3-3273-42f8-81a7-943022c4692b\",                        [{\"alignmentgroup\":\"True\",\"hovertemplate\":\"\\u4f5c\\u7269=%{x}\\u003cbr\\u003e\\u4ef7\\u683c\\u65b9\\u5dee\\uff08\\u5143\\u002f\\u65a4\\uff09=%{y}\\u003cextra\\u003e\\u003c\\u002fextra\\u003e\",\"legendgroup\":\"\",\"marker\":{\"color\":\"#636efa\",\"pattern\":{\"shape\":\"\"}},\"name\":\"\",\"offsetgroup\":\"\",\"orientation\":\"v\",\"showlegend\":false,\"textposition\":\"auto\",\"x\":[\"\\u5200\\u8c46\",\"\\u5305\\u83dc\",\"\\u5357\\u74dc\",\"\\u571f\\u8c46\",\"\\u5927\\u767d\\u83dc\",\"\\u5927\\u9ea6\",\"\\u5c0f\\u9752\\u83dc\",\"\\u5c0f\\u9ea6\",\"\\u6986\\u9ec4\\u83c7\",\"\\u6c34\\u7a3b\",\"\\u6cb9\\u9ea6\\u83dc\",\"\\u722c\\u8c46\",\"\\u7389\\u7c73\",\"\\u751f\\u83dc\",\"\\u767d\\u7075\\u83c7\",\"\\u767d\\u841d\\u535c\",\"\\u7a7a\\u5fc3\\u83dc\",\"\\u7ea2\\u841d\\u535c\",\"\\u7ea2\\u85af\",\"\\u7ea2\\u8c46\",\"\\u7eff\\u8c46\",\"\\u7f8a\\u809a\\u83cc\",\"\\u82b8\\u8c46\",\"\\u82b9\\u83dc\",\"\\u8304\\u5b50\",\"\\u835e\\u9ea6\",\"\\u839c\\u9ea6\",\"\\u83dc\\u82b1\",\"\\u83e0\\u83dc\",\"\\u897f\\u7ea2\\u67ff\",\"\\u8c37\\u5b50\",\"\\u8c47\\u8c46\",\"\\u8fa3\\u6912\",\"\\u9752\\u6912\",\"\\u9999\\u83c7\",\"\\u9ad8\\u7cb1\",\"\\u9ec4\\u5fc3\\u83dc\",\"\\u9ec4\\u74dc\",\"\\u9ec4\\u8c46\",\"\\u9ecd\\u5b50\",\"\\u9ed1\\u8c46\"],\"xaxis\":\"x\",\"y\":[0.0,0.8449999999999992,0.0,0.0,0.0,0.0,0.4408333333333334,0.0,0.0,0.0,0.0,0.0,0.0,0.5512500000000008,0.0,0.0,0.0,0.0,0.0,0.0,0.0,0.0,0.563333333333333,0.0,0.4033333333333332,0.0,0.0,0.6049999999999996,0.0,0.5208333333333331,0.0,0.6399999999999995,0.0,1.201249999999999,0.0,0.0,0.0,0.9800000000000005,0.0,0.0,0.0],\"yaxis\":\"y\",\"type\":\"bar\"},{\"alignmentgroup\":\"True\",\"hovertemplate\":\"\\u4f5c\\u7269=%{x}\\u003cbr\\u003e\\u4ef7\\u683c\\u65b9\\u5dee\\uff08\\u5143\\u002f\\u65a4\\uff09=%{y}\\u003cextra\\u003e\\u003c\\u002fextra\\u003e\",\"legendgroup\":\"\",\"marker\":{\"color\":\"#636efa\",\"pattern\":{\"shape\":\"\"}},\"name\":\"\",\"offsetgroup\":\"\",\"orientation\":\"v\",\"showlegend\":false,\"textposition\":\"auto\",\"x\":[\"\\u5200\\u8c46\",\"\\u5305\\u83dc\",\"\\u5357\\u74dc\",\"\\u571f\\u8c46\",\"\\u5927\\u767d\\u83dc\",\"\\u5927\\u9ea6\",\"\\u5c0f\\u9752\\u83dc\",\"\\u5c0f\\u9ea6\",\"\\u6986\\u9ec4\\u83c7\",\"\\u6c34\\u7a3b\",\"\\u6cb9\\u9ea6\\u83dc\",\"\\u722c\\u8c46\",\"\\u7389\\u7c73\",\"\\u751f\\u83dc\",\"\\u767d\\u7075\\u83c7\",\"\\u767d\\u841d\\u535c\",\"\\u7a7a\\u5fc3\\u83dc\",\"\\u7ea2\\u841d\\u535c\",\"\\u7ea2\\u85af\",\"\\u7ea2\\u8c46\",\"\\u7eff\\u8c46\",\"\\u7f8a\\u809a\\u83cc\",\"\\u82b8\\u8c46\",\"\\u82b9\\u83dc\",\"\\u8304\\u5b50\",\"\\u835e\\u9ea6\",\"\\u839c\\u9ea6\",\"\\u83dc\\u82b1\",\"\\u83e0\\u83dc\",\"\\u897f\\u7ea2\\u67ff\",\"\\u8c37\\u5b50\",\"\\u8c47\\u8c46\",\"\\u8fa3\\u6912\",\"\\u9752\\u6912\",\"\\u9999\\u83c7\",\"\\u9ad8\\u7cb1\",\"\\u9ec4\\u5fc3\\u83dc\",\"\\u9ec4\\u74dc\",\"\\u9ec4\\u8c46\",\"\\u9ecd\\u5b50\",\"\\u9ed1\\u8c46\"],\"xaxis\":\"x2\",\"y\":[13333.333333333338,61250.0,0.0,0.0,0.0,0.0,93333.33333333334,0.0,0.0,0.0,0.0,0.0,0.0,20000.0,0.0,0.0,0.0,0.0,0.0,0.0,0.0,0.0,19200.0,0.0,104533.33333333337,0.0,0.0,45000.0,0.0,104533.33333333337,0.0,70400.00000000001,0.0,20000.0,0.0,0.0,0.0,61250.0,0.0,0.0,0.0],\"yaxis\":\"y2\",\"type\":\"bar\"}],                        {\"template\":{\"data\":{\"histogram2dcontour\":[{\"type\":\"histogram2dcontour\",\"colorbar\":{\"outlinewidth\":0,\"ticks\":\"\"},\"colorscale\":[[0.0,\"#0d0887\"],[0.1111111111111111,\"#46039f\"],[0.2222222222222222,\"#7201a8\"],[0.3333333333333333,\"#9c179e\"],[0.4444444444444444,\"#bd3786\"],[0.5555555555555556,\"#d8576b\"],[0.6666666666666666,\"#ed7953\"],[0.7777777777777778,\"#fb9f3a\"],[0.8888888888888888,\"#fdca26\"],[1.0,\"#f0f921\"]]}],\"choropleth\":[{\"type\":\"choropleth\",\"colorbar\":{\"outlinewidth\":0,\"ticks\":\"\"}}],\"histogram2d\":[{\"type\":\"histogram2d\",\"colorbar\":{\"outlinewidth\":0,\"ticks\":\"\"},\"colorscale\":[[0.0,\"#0d0887\"],[0.1111111111111111,\"#46039f\"],[0.2222222222222222,\"#7201a8\"],[0.3333333333333333,\"#9c179e\"],[0.4444444444444444,\"#bd3786\"],[0.5555555555555556,\"#d8576b\"],[0.6666666666666666,\"#ed7953\"],[0.7777777777777778,\"#fb9f3a\"],[0.8888888888888888,\"#fdca26\"],[1.0,\"#f0f921\"]]}],\"heatmap\":[{\"type\":\"heatmap\",\"colorbar\":{\"outlinewidth\":0,\"ticks\":\"\"},\"colorscale\":[[0.0,\"#0d0887\"],[0.1111111111111111,\"#46039f\"],[0.2222222222222222,\"#7201a8\"],[0.3333333333333333,\"#9c179e\"],[0.4444444444444444,\"#bd3786\"],[0.5555555555555556,\"#d8576b\"],[0.6666666666666666,\"#ed7953\"],[0.7777777777777778,\"#fb9f3a\"],[0.8888888888888888,\"#fdca26\"],[1.0,\"#f0f921\"]]}],\"heatmapgl\":[{\"type\":\"heatmapgl\",\"colorbar\":{\"outlinewidth\":0,\"ticks\":\"\"},\"colorscale\":[[0.0,\"#0d0887\"],[0.1111111111111111,\"#46039f\"],[0.2222222222222222,\"#7201a8\"],[0.3333333333333333,\"#9c179e\"],[0.4444444444444444,\"#bd3786\"],[0.5555555555555556,\"#d8576b\"],[0.6666666666666666,\"#ed7953\"],[0.7777777777777778,\"#fb9f3a\"],[0.8888888888888888,\"#fdca26\"],[1.0,\"#f0f921\"]]}],\"contourcarpet\":[{\"type\":\"contourcarpet\",\"colorbar\":{\"outlinewidth\":0,\"ticks\":\"\"}}],\"contour\":[{\"type\":\"contour\",\"colorbar\":{\"outlinewidth\":0,\"ticks\":\"\"},\"colorscale\":[[0.0,\"#0d0887\"],[0.1111111111111111,\"#46039f\"],[0.2222222222222222,\"#7201a8\"],[0.3333333333333333,\"#9c179e\"],[0.4444444444444444,\"#bd3786\"],[0.5555555555555556,\"#d8576b\"],[0.6666666666666666,\"#ed7953\"],[0.7777777777777778,\"#fb9f3a\"],[0.8888888888888888,\"#fdca26\"],[1.0,\"#f0f921\"]]}],\"surface\":[{\"type\":\"surface\",\"colorbar\":{\"outlinewidth\":0,\"ticks\":\"\"},\"colorscale\":[[0.0,\"#0d0887\"],[0.1111111111111111,\"#46039f\"],[0.2222222222222222,\"#7201a8\"],[0.3333333333333333,\"#9c179e\"],[0.4444444444444444,\"#bd3786\"],[0.5555555555555556,\"#d8576b\"],[0.6666666666666666,\"#ed7953\"],[0.7777777777777778,\"#fb9f3a\"],[0.8888888888888888,\"#fdca26\"],[1.0,\"#f0f921\"]]}],\"mesh3d\":[{\"type\":\"mesh3d\",\"colorbar\":{\"outlinewidth\":0,\"ticks\":\"\"}}],\"scatter\":[{\"fillpattern\":{\"fillmode\":\"overlay\",\"size\":10,\"solidity\":0.2},\"type\":\"scatter\"}],\"parcoords\":[{\"type\":\"parcoords\",\"line\":{\"colorbar\":{\"outlinewidth\":0,\"ticks\":\"\"}}}],\"scatterpolargl\":[{\"type\":\"scatterpolargl\",\"marker\":{\"colorbar\":{\"outlinewidth\":0,\"ticks\":\"\"}}}],\"bar\":[{\"error_x\":{\"color\":\"#2a3f5f\"},\"error_y\":{\"color\":\"#2a3f5f\"},\"marker\":{\"line\":{\"color\":\"#E5ECF6\",\"width\":0.5},\"pattern\":{\"fillmode\":\"overlay\",\"size\":10,\"solidity\":0.2}},\"type\":\"bar\"}],\"scattergeo\":[{\"type\":\"scattergeo\",\"marker\":{\"colorbar\":{\"outlinewidth\":0,\"ticks\":\"\"}}}],\"scatterpolar\":[{\"type\":\"scatterpolar\",\"marker\":{\"colorbar\":{\"outlinewidth\":0,\"ticks\":\"\"}}}],\"histogram\":[{\"marker\":{\"pattern\":{\"fillmode\":\"overlay\",\"size\":10,\"solidity\":0.2}},\"type\":\"histogram\"}],\"scattergl\":[{\"type\":\"scattergl\",\"marker\":{\"colorbar\":{\"outlinewidth\":0,\"ticks\":\"\"}}}],\"scatter3d\":[{\"type\":\"scatter3d\",\"line\":{\"colorbar\":{\"outlinewidth\":0,\"ticks\":\"\"}},\"marker\":{\"colorbar\":{\"outlinewidth\":0,\"ticks\":\"\"}}}],\"scattermapbox\":[{\"type\":\"scattermapbox\",\"marker\":{\"colorbar\":{\"outlinewidth\":0,\"ticks\":\"\"}}}],\"scatterternary\":[{\"type\":\"scatterternary\",\"marker\":{\"colorbar\":{\"outlinewidth\":0,\"ticks\":\"\"}}}],\"scattercarpet\":[{\"type\":\"scattercarpet\",\"marker\":{\"colorbar\":{\"outlinewidth\":0,\"ticks\":\"\"}}}],\"carpet\":[{\"aaxis\":{\"endlinecolor\":\"#2a3f5f\",\"gridcolor\":\"white\",\"linecolor\":\"white\",\"minorgridcolor\":\"white\",\"startlinecolor\":\"#2a3f5f\"},\"baxis\":{\"endlinecolor\":\"#2a3f5f\",\"gridcolor\":\"white\",\"linecolor\":\"white\",\"minorgridcolor\":\"white\",\"startlinecolor\":\"#2a3f5f\"},\"type\":\"carpet\"}],\"table\":[{\"cells\":{\"fill\":{\"color\":\"#EBF0F8\"},\"line\":{\"color\":\"white\"}},\"header\":{\"fill\":{\"color\":\"#C8D4E3\"},\"line\":{\"color\":\"white\"}},\"type\":\"table\"}],\"barpolar\":[{\"marker\":{\"line\":{\"color\":\"#E5ECF6\",\"width\":0.5},\"pattern\":{\"fillmode\":\"overlay\",\"size\":10,\"solidity\":0.2}},\"type\":\"barpolar\"}],\"pie\":[{\"automargin\":true,\"type\":\"pie\"}]},\"layout\":{\"autotypenumbers\":\"strict\",\"colorway\":[\"#636efa\",\"#EF553B\",\"#00cc96\",\"#ab63fa\",\"#FFA15A\",\"#19d3f3\",\"#FF6692\",\"#B6E880\",\"#FF97FF\",\"#FECB52\"],\"font\":{\"color\":\"#2a3f5f\"},\"hovermode\":\"closest\",\"hoverlabel\":{\"align\":\"left\"},\"paper_bgcolor\":\"white\",\"plot_bgcolor\":\"#E5ECF6\",\"polar\":{\"bgcolor\":\"#E5ECF6\",\"angularaxis\":{\"gridcolor\":\"white\",\"linecolor\":\"white\",\"ticks\":\"\"},\"radialaxis\":{\"gridcolor\":\"white\",\"linecolor\":\"white\",\"ticks\":\"\"}},\"ternary\":{\"bgcolor\":\"#E5ECF6\",\"aaxis\":{\"gridcolor\":\"white\",\"linecolor\":\"white\",\"ticks\":\"\"},\"baxis\":{\"gridcolor\":\"white\",\"linecolor\":\"white\",\"ticks\":\"\"},\"caxis\":{\"gridcolor\":\"white\",\"linecolor\":\"white\",\"ticks\":\"\"}},\"coloraxis\":{\"colorbar\":{\"outlinewidth\":0,\"ticks\":\"\"}},\"colorscale\":{\"sequential\":[[0.0,\"#0d0887\"],[0.1111111111111111,\"#46039f\"],[0.2222222222222222,\"#7201a8\"],[0.3333333333333333,\"#9c179e\"],[0.4444444444444444,\"#bd3786\"],[0.5555555555555556,\"#d8576b\"],[0.6666666666666666,\"#ed7953\"],[0.7777777777777778,\"#fb9f3a\"],[0.8888888888888888,\"#fdca26\"],[1.0,\"#f0f921\"]],\"sequentialminus\":[[0.0,\"#0d0887\"],[0.1111111111111111,\"#46039f\"],[0.2222222222222222,\"#7201a8\"],[0.3333333333333333,\"#9c179e\"],[0.4444444444444444,\"#bd3786\"],[0.5555555555555556,\"#d8576b\"],[0.6666666666666666,\"#ed7953\"],[0.7777777777777778,\"#fb9f3a\"],[0.8888888888888888,\"#fdca26\"],[1.0,\"#f0f921\"]],\"diverging\":[[0,\"#8e0152\"],[0.1,\"#c51b7d\"],[0.2,\"#de77ae\"],[0.3,\"#f1b6da\"],[0.4,\"#fde0ef\"],[0.5,\"#f7f7f7\"],[0.6,\"#e6f5d0\"],[0.7,\"#b8e186\"],[0.8,\"#7fbc41\"],[0.9,\"#4d9221\"],[1,\"#276419\"]]},\"xaxis\":{\"gridcolor\":\"white\",\"linecolor\":\"white\",\"ticks\":\"\",\"title\":{\"standoff\":15},\"zerolinecolor\":\"white\",\"automargin\":true,\"zerolinewidth\":2},\"yaxis\":{\"gridcolor\":\"white\",\"linecolor\":\"white\",\"ticks\":\"\",\"title\":{\"standoff\":15},\"zerolinecolor\":\"white\",\"automargin\":true,\"zerolinewidth\":2},\"scene\":{\"xaxis\":{\"backgroundcolor\":\"#E5ECF6\",\"gridcolor\":\"white\",\"linecolor\":\"white\",\"showbackground\":true,\"ticks\":\"\",\"zerolinecolor\":\"white\",\"gridwidth\":2},\"yaxis\":{\"backgroundcolor\":\"#E5ECF6\",\"gridcolor\":\"white\",\"linecolor\":\"white\",\"showbackground\":true,\"ticks\":\"\",\"zerolinecolor\":\"white\",\"gridwidth\":2},\"zaxis\":{\"backgroundcolor\":\"#E5ECF6\",\"gridcolor\":\"white\",\"linecolor\":\"white\",\"showbackground\":true,\"ticks\":\"\",\"zerolinecolor\":\"white\",\"gridwidth\":2}},\"shapedefaults\":{\"line\":{\"color\":\"#2a3f5f\"}},\"annotationdefaults\":{\"arrowcolor\":\"#2a3f5f\",\"arrowhead\":0,\"arrowwidth\":1},\"geo\":{\"bgcolor\":\"white\",\"landcolor\":\"#E5ECF6\",\"subunitcolor\":\"white\",\"showland\":true,\"showlakes\":true,\"lakecolor\":\"white\"},\"title\":{\"x\":0.05},\"mapbox\":{\"style\":\"light\"}}},\"xaxis\":{\"anchor\":\"y\",\"domain\":[0.0,0.45]},\"yaxis\":{\"anchor\":\"x\",\"domain\":[0.0,1.0]},\"xaxis2\":{\"anchor\":\"y2\",\"domain\":[0.55,1.0]},\"yaxis2\":{\"anchor\":\"x2\",\"domain\":[0.0,1.0]},\"annotations\":[{\"font\":{\"size\":16},\"showarrow\":false,\"text\":\"\\u4ef7\\u683c\\u65b9\\u5dee\\uff08\\u5143\\u002f\\u65a4\\uff09\",\"x\":0.225,\"xanchor\":\"center\",\"xref\":\"paper\",\"y\":1.0,\"yanchor\":\"bottom\",\"yref\":\"paper\"},{\"font\":{\"size\":16},\"showarrow\":false,\"text\":\"\\u6210\\u672c\\u65b9\\u5dee\\uff08\\u5143\\u002f\\u65a4\\uff09\",\"x\":0.775,\"xanchor\":\"center\",\"xref\":\"paper\",\"y\":1.0,\"yanchor\":\"bottom\",\"yref\":\"paper\"}],\"height\":400,\"width\":1500},                        {\"responsive\": true}                    ).then(function(){\n",
       "                            \n",
       "var gd = document.getElementById('35ccdaf3-3273-42f8-81a7-943022c4692b');\n",
       "var x = new MutationObserver(function (mutations, observer) {{\n",
       "        var display = window.getComputedStyle(gd).display;\n",
       "        if (!display || display === 'none') {{\n",
       "            console.log([gd, 'removed!']);\n",
       "            Plotly.purge(gd);\n",
       "            observer.disconnect();\n",
       "        }}\n",
       "}});\n",
       "\n",
       "// Listen for the removal of the full notebook cells\n",
       "var notebookContainer = gd.closest('#notebook-container');\n",
       "if (notebookContainer) {{\n",
       "    x.observe(notebookContainer, {childList: true});\n",
       "}}\n",
       "\n",
       "// Listen for the clearing of the current output cell\n",
       "var outputEl = gd.closest('.output');\n",
       "if (outputEl) {{\n",
       "    x.observe(outputEl, {childList: true});\n",
       "}}\n",
       "\n",
       "                        })                };                });            </script>        </div>"
      ]
     },
     "metadata": {},
     "output_type": "display_data"
    },
    {
     "data": {
      "application/vnd.plotly.v1+json": {
       "config": {
        "plotlyServerURL": "https://plot.ly"
       },
       "data": [
        {
         "alignmentgroup": "True",
         "hovertemplate": "作物名称=%{x}<br>平均价格（元/斤）=%{y}<extra></extra>",
         "legendgroup": "刀豆",
         "marker": {
          "color": "#636efa",
          "pattern": {
           "shape": ""
          }
         },
         "name": "刀豆",
         "offsetgroup": "刀豆",
         "orientation": "v",
         "showlegend": true,
         "textposition": "auto",
         "type": "bar",
         "x": [
          "刀豆"
         ],
         "xaxis": "x",
         "y": [
          6.75
         ],
         "yaxis": "y"
        },
        {
         "alignmentgroup": "True",
         "hovertemplate": "作物名称=%{x}<br>平均价格（元/斤）=%{y}<extra></extra>",
         "legendgroup": "包菜",
         "marker": {
          "color": "#EF553B",
          "pattern": {
           "shape": ""
          }
         },
         "name": "包菜",
         "offsetgroup": "包菜",
         "orientation": "v",
         "showlegend": true,
         "textposition": "auto",
         "type": "bar",
         "x": [
          "包菜"
         ],
         "xaxis": "x",
         "y": [
          7.15
         ],
         "yaxis": "y"
        },
        {
         "alignmentgroup": "True",
         "hovertemplate": "作物名称=%{x}<br>平均价格（元/斤）=%{y}<extra></extra>",
         "legendgroup": "南瓜",
         "marker": {
          "color": "#00cc96",
          "pattern": {
           "shape": ""
          }
         },
         "name": "南瓜",
         "offsetgroup": "南瓜",
         "orientation": "v",
         "showlegend": true,
         "textposition": "auto",
         "type": "bar",
         "x": [
          "南瓜"
         ],
         "xaxis": "x",
         "y": [
          1.5
         ],
         "yaxis": "y"
        },
        {
         "alignmentgroup": "True",
         "hovertemplate": "作物名称=%{x}<br>平均价格（元/斤）=%{y}<extra></extra>",
         "legendgroup": "土豆",
         "marker": {
          "color": "#ab63fa",
          "pattern": {
           "shape": ""
          }
         },
         "name": "土豆",
         "offsetgroup": "土豆",
         "orientation": "v",
         "showlegend": true,
         "textposition": "auto",
         "type": "bar",
         "x": [
          "土豆"
         ],
         "xaxis": "x",
         "y": [
          3.75
         ],
         "yaxis": "y"
        },
        {
         "alignmentgroup": "True",
         "hovertemplate": "作物名称=%{x}<br>平均价格（元/斤）=%{y}<extra></extra>",
         "legendgroup": "大白菜",
         "marker": {
          "color": "#FFA15A",
          "pattern": {
           "shape": ""
          }
         },
         "name": "大白菜",
         "offsetgroup": "大白菜",
         "orientation": "v",
         "showlegend": true,
         "textposition": "auto",
         "type": "bar",
         "x": [
          "大白菜"
         ],
         "xaxis": "x",
         "y": [
          2.5
         ],
         "yaxis": "y"
        },
        {
         "alignmentgroup": "True",
         "hovertemplate": "作物名称=%{x}<br>平均价格（元/斤）=%{y}<extra></extra>",
         "legendgroup": "大麦",
         "marker": {
          "color": "#19d3f3",
          "pattern": {
           "shape": ""
          }
         },
         "name": "大麦",
         "offsetgroup": "大麦",
         "orientation": "v",
         "showlegend": true,
         "textposition": "auto",
         "type": "bar",
         "x": [
          "大麦"
         ],
         "xaxis": "x",
         "y": [
          3.5
         ],
         "yaxis": "y"
        },
        {
         "alignmentgroup": "True",
         "hovertemplate": "作物名称=%{x}<br>平均价格（元/斤）=%{y}<extra></extra>",
         "legendgroup": "小青菜",
         "marker": {
          "color": "#FF6692",
          "pattern": {
           "shape": ""
          }
         },
         "name": "小青菜",
         "offsetgroup": "小青菜",
         "orientation": "v",
         "showlegend": true,
         "textposition": "auto",
         "type": "bar",
         "x": [
          "小青菜"
         ],
         "xaxis": "x",
         "y": [
          6.133333333333333
         ],
         "yaxis": "y"
        },
        {
         "alignmentgroup": "True",
         "hovertemplate": "作物名称=%{x}<br>平均价格（元/斤）=%{y}<extra></extra>",
         "legendgroup": "小麦",
         "marker": {
          "color": "#B6E880",
          "pattern": {
           "shape": ""
          }
         },
         "name": "小麦",
         "offsetgroup": "小麦",
         "orientation": "v",
         "showlegend": true,
         "textposition": "auto",
         "type": "bar",
         "x": [
          "小麦"
         ],
         "xaxis": "x",
         "y": [
          3.5
         ],
         "yaxis": "y"
        },
        {
         "alignmentgroup": "True",
         "hovertemplate": "作物名称=%{x}<br>平均价格（元/斤）=%{y}<extra></extra>",
         "legendgroup": "榆黄菇",
         "marker": {
          "color": "#FF97FF",
          "pattern": {
           "shape": ""
          }
         },
         "name": "榆黄菇",
         "offsetgroup": "榆黄菇",
         "orientation": "v",
         "showlegend": true,
         "textposition": "auto",
         "type": "bar",
         "x": [
          "榆黄菇"
         ],
         "xaxis": "x",
         "y": [
          57.5
         ],
         "yaxis": "y"
        },
        {
         "alignmentgroup": "True",
         "hovertemplate": "作物名称=%{x}<br>平均价格（元/斤）=%{y}<extra></extra>",
         "legendgroup": "水稻",
         "marker": {
          "color": "#FECB52",
          "pattern": {
           "shape": ""
          }
         },
         "name": "水稻",
         "offsetgroup": "水稻",
         "orientation": "v",
         "showlegend": true,
         "textposition": "auto",
         "type": "bar",
         "x": [
          "水稻"
         ],
         "xaxis": "x",
         "y": [
          7
         ],
         "yaxis": "y"
        },
        {
         "alignmentgroup": "True",
         "hovertemplate": "作物名称=%{x}<br>平均价格（元/斤）=%{y}<extra></extra>",
         "legendgroup": "油麦菜",
         "marker": {
          "color": "#636efa",
          "pattern": {
           "shape": ""
          }
         },
         "name": "油麦菜",
         "offsetgroup": "油麦菜",
         "orientation": "v",
         "showlegend": true,
         "textposition": "auto",
         "type": "bar",
         "x": [
          "油麦菜"
         ],
         "xaxis": "x",
         "y": [
          5
         ],
         "yaxis": "y"
        },
        {
         "alignmentgroup": "True",
         "hovertemplate": "作物名称=%{x}<br>平均价格（元/斤）=%{y}<extra></extra>",
         "legendgroup": "爬豆",
         "marker": {
          "color": "#EF553B",
          "pattern": {
           "shape": ""
          }
         },
         "name": "爬豆",
         "offsetgroup": "爬豆",
         "orientation": "v",
         "showlegend": true,
         "textposition": "auto",
         "type": "bar",
         "x": [
          "爬豆"
         ],
         "xaxis": "x",
         "y": [
          6.75
         ],
         "yaxis": "y"
        },
        {
         "alignmentgroup": "True",
         "hovertemplate": "作物名称=%{x}<br>平均价格（元/斤）=%{y}<extra></extra>",
         "legendgroup": "玉米",
         "marker": {
          "color": "#00cc96",
          "pattern": {
           "shape": ""
          }
         },
         "name": "玉米",
         "offsetgroup": "玉米",
         "orientation": "v",
         "showlegend": true,
         "textposition": "auto",
         "type": "bar",
         "x": [
          "玉米"
         ],
         "xaxis": "x",
         "y": [
          3
         ],
         "yaxis": "y"
        },
        {
         "alignmentgroup": "True",
         "hovertemplate": "作物名称=%{x}<br>平均价格（元/斤）=%{y}<extra></extra>",
         "legendgroup": "生菜",
         "marker": {
          "color": "#ab63fa",
          "pattern": {
           "shape": ""
          }
         },
         "name": "生菜",
         "offsetgroup": "生菜",
         "orientation": "v",
         "showlegend": true,
         "textposition": "auto",
         "type": "bar",
         "x": [
          "生菜"
         ],
         "xaxis": "x",
         "y": [
          5.775
         ],
         "yaxis": "y"
        },
        {
         "alignmentgroup": "True",
         "hovertemplate": "作物名称=%{x}<br>平均价格（元/斤）=%{y}<extra></extra>",
         "legendgroup": "白灵菇",
         "marker": {
          "color": "#FFA15A",
          "pattern": {
           "shape": ""
          }
         },
         "name": "白灵菇",
         "offsetgroup": "白灵菇",
         "orientation": "v",
         "showlegend": true,
         "textposition": "auto",
         "type": "bar",
         "x": [
          "白灵菇"
         ],
         "xaxis": "x",
         "y": [
          16
         ],
         "yaxis": "y"
        },
        {
         "alignmentgroup": "True",
         "hovertemplate": "作物名称=%{x}<br>平均价格（元/斤）=%{y}<extra></extra>",
         "legendgroup": "白萝卜",
         "marker": {
          "color": "#19d3f3",
          "pattern": {
           "shape": ""
          }
         },
         "name": "白萝卜",
         "offsetgroup": "白萝卜",
         "orientation": "v",
         "showlegend": true,
         "textposition": "auto",
         "type": "bar",
         "x": [
          "白萝卜"
         ],
         "xaxis": "x",
         "y": [
          2.5
         ],
         "yaxis": "y"
        },
        {
         "alignmentgroup": "True",
         "hovertemplate": "作物名称=%{x}<br>平均价格（元/斤）=%{y}<extra></extra>",
         "legendgroup": "空心菜",
         "marker": {
          "color": "#FF6692",
          "pattern": {
           "shape": ""
          }
         },
         "name": "空心菜",
         "offsetgroup": "空心菜",
         "orientation": "v",
         "showlegend": true,
         "textposition": "auto",
         "type": "bar",
         "x": [
          "空心菜"
         ],
         "xaxis": "x",
         "y": [
          5.4
         ],
         "yaxis": "y"
        },
        {
         "alignmentgroup": "True",
         "hovertemplate": "作物名称=%{x}<br>平均价格（元/斤）=%{y}<extra></extra>",
         "legendgroup": "红萝卜",
         "marker": {
          "color": "#B6E880",
          "pattern": {
           "shape": ""
          }
         },
         "name": "红萝卜",
         "offsetgroup": "红萝卜",
         "orientation": "v",
         "showlegend": true,
         "textposition": "auto",
         "type": "bar",
         "x": [
          "红萝卜"
         ],
         "xaxis": "x",
         "y": [
          3.25
         ],
         "yaxis": "y"
        },
        {
         "alignmentgroup": "True",
         "hovertemplate": "作物名称=%{x}<br>平均价格（元/斤）=%{y}<extra></extra>",
         "legendgroup": "红薯",
         "marker": {
          "color": "#FF97FF",
          "pattern": {
           "shape": ""
          }
         },
         "name": "红薯",
         "offsetgroup": "红薯",
         "orientation": "v",
         "showlegend": true,
         "textposition": "auto",
         "type": "bar",
         "x": [
          "红薯"
         ],
         "xaxis": "x",
         "y": [
          3.25
         ],
         "yaxis": "y"
        },
        {
         "alignmentgroup": "True",
         "hovertemplate": "作物名称=%{x}<br>平均价格（元/斤）=%{y}<extra></extra>",
         "legendgroup": "红豆",
         "marker": {
          "color": "#FECB52",
          "pattern": {
           "shape": ""
          }
         },
         "name": "红豆",
         "offsetgroup": "红豆",
         "orientation": "v",
         "showlegend": true,
         "textposition": "auto",
         "type": "bar",
         "x": [
          "红豆"
         ],
         "xaxis": "x",
         "y": [
          8.25
         ],
         "yaxis": "y"
        },
        {
         "alignmentgroup": "True",
         "hovertemplate": "作物名称=%{x}<br>平均价格（元/斤）=%{y}<extra></extra>",
         "legendgroup": "绿豆",
         "marker": {
          "color": "#636efa",
          "pattern": {
           "shape": ""
          }
         },
         "name": "绿豆",
         "offsetgroup": "绿豆",
         "orientation": "v",
         "showlegend": true,
         "textposition": "auto",
         "type": "bar",
         "x": [
          "绿豆"
         ],
         "xaxis": "x",
         "y": [
          7
         ],
         "yaxis": "y"
        },
        {
         "alignmentgroup": "True",
         "hovertemplate": "作物名称=%{x}<br>平均价格（元/斤）=%{y}<extra></extra>",
         "legendgroup": "羊肚菌",
         "marker": {
          "color": "#EF553B",
          "pattern": {
           "shape": ""
          }
         },
         "name": "羊肚菌",
         "offsetgroup": "羊肚菌",
         "orientation": "v",
         "showlegend": true,
         "textposition": "auto",
         "type": "bar",
         "x": [
          "羊肚菌"
         ],
         "xaxis": "x",
         "y": [
          100
         ],
         "yaxis": "y"
        },
        {
         "alignmentgroup": "True",
         "hovertemplate": "作物名称=%{x}<br>平均价格（元/斤）=%{y}<extra></extra>",
         "legendgroup": "芸豆",
         "marker": {
          "color": "#00cc96",
          "pattern": {
           "shape": ""
          }
         },
         "name": "芸豆",
         "offsetgroup": "芸豆",
         "orientation": "v",
         "showlegend": true,
         "textposition": "auto",
         "type": "bar",
         "x": [
          "芸豆"
         ],
         "xaxis": "x",
         "y": [
          6.933333333333334
         ],
         "yaxis": "y"
        },
        {
         "alignmentgroup": "True",
         "hovertemplate": "作物名称=%{x}<br>平均价格（元/斤）=%{y}<extra></extra>",
         "legendgroup": "芹菜",
         "marker": {
          "color": "#ab63fa",
          "pattern": {
           "shape": ""
          }
         },
         "name": "芹菜",
         "offsetgroup": "芹菜",
         "orientation": "v",
         "showlegend": true,
         "textposition": "auto",
         "type": "bar",
         "x": [
          "芹菜"
         ],
         "xaxis": "x",
         "y": [
          4.8
         ],
         "yaxis": "y"
        },
        {
         "alignmentgroup": "True",
         "hovertemplate": "作物名称=%{x}<br>平均价格（元/斤）=%{y}<extra></extra>",
         "legendgroup": "茄子",
         "marker": {
          "color": "#FFA15A",
          "pattern": {
           "shape": ""
          }
         },
         "name": "茄子",
         "offsetgroup": "茄子",
         "orientation": "v",
         "showlegend": true,
         "textposition": "auto",
         "type": "bar",
         "x": [
          "茄子"
         ],
         "xaxis": "x",
         "y": [
          5.866666666666667
         ],
         "yaxis": "y"
        },
        {
         "alignmentgroup": "True",
         "hovertemplate": "作物名称=%{x}<br>平均价格（元/斤）=%{y}<extra></extra>",
         "legendgroup": "荞麦",
         "marker": {
          "color": "#19d3f3",
          "pattern": {
           "shape": ""
          }
         },
         "name": "荞麦",
         "offsetgroup": "荞麦",
         "orientation": "v",
         "showlegend": true,
         "textposition": "auto",
         "type": "bar",
         "x": [
          "荞麦"
         ],
         "xaxis": "x",
         "y": [
          40
         ],
         "yaxis": "y"
        },
        {
         "alignmentgroup": "True",
         "hovertemplate": "作物名称=%{x}<br>平均价格（元/斤）=%{y}<extra></extra>",
         "legendgroup": "莜麦",
         "marker": {
          "color": "#FF6692",
          "pattern": {
           "shape": ""
          }
         },
         "name": "莜麦",
         "offsetgroup": "莜麦",
         "orientation": "v",
         "showlegend": true,
         "textposition": "auto",
         "type": "bar",
         "x": [
          "莜麦"
         ],
         "xaxis": "x",
         "y": [
          5.5
         ],
         "yaxis": "y"
        },
        {
         "alignmentgroup": "True",
         "hovertemplate": "作物名称=%{x}<br>平均价格（元/斤）=%{y}<extra></extra>",
         "legendgroup": "菜花",
         "marker": {
          "color": "#B6E880",
          "pattern": {
           "shape": ""
          }
         },
         "name": "菜花",
         "offsetgroup": "菜花",
         "orientation": "v",
         "showlegend": true,
         "textposition": "auto",
         "type": "bar",
         "x": [
          "菜花"
         ],
         "xaxis": "x",
         "y": [
          6.05
         ],
         "yaxis": "y"
        },
        {
         "alignmentgroup": "True",
         "hovertemplate": "作物名称=%{x}<br>平均价格（元/斤）=%{y}<extra></extra>",
         "legendgroup": "菠菜",
         "marker": {
          "color": "#FF97FF",
          "pattern": {
           "shape": ""
          }
         },
         "name": "菠菜",
         "offsetgroup": "菠菜",
         "orientation": "v",
         "showlegend": true,
         "textposition": "auto",
         "type": "bar",
         "x": [
          "菠菜"
         ],
         "xaxis": "x",
         "y": [
          6.9
         ],
         "yaxis": "y"
        },
        {
         "alignmentgroup": "True",
         "hovertemplate": "作物名称=%{x}<br>平均价格（元/斤）=%{y}<extra></extra>",
         "legendgroup": "西红柿",
         "marker": {
          "color": "#FECB52",
          "pattern": {
           "shape": ""
          }
         },
         "name": "西红柿",
         "offsetgroup": "西红柿",
         "orientation": "v",
         "showlegend": true,
         "textposition": "auto",
         "type": "bar",
         "x": [
          "西红柿"
         ],
         "xaxis": "x",
         "y": [
          6.666666666666667
         ],
         "yaxis": "y"
        },
        {
         "alignmentgroup": "True",
         "hovertemplate": "作物名称=%{x}<br>平均价格（元/斤）=%{y}<extra></extra>",
         "legendgroup": "谷子",
         "marker": {
          "color": "#636efa",
          "pattern": {
           "shape": ""
          }
         },
         "name": "谷子",
         "offsetgroup": "谷子",
         "orientation": "v",
         "showlegend": true,
         "textposition": "auto",
         "type": "bar",
         "x": [
          "谷子"
         ],
         "xaxis": "x",
         "y": [
          6.75
         ],
         "yaxis": "y"
        },
        {
         "alignmentgroup": "True",
         "hovertemplate": "作物名称=%{x}<br>平均价格（元/斤）=%{y}<extra></extra>",
         "legendgroup": "豇豆",
         "marker": {
          "color": "#EF553B",
          "pattern": {
           "shape": ""
          }
         },
         "name": "豇豆",
         "offsetgroup": "豇豆",
         "orientation": "v",
         "showlegend": true,
         "textposition": "auto",
         "type": "bar",
         "x": [
          "豇豆"
         ],
         "xaxis": "x",
         "y": [
          8.4
         ],
         "yaxis": "y"
        },
        {
         "alignmentgroup": "True",
         "hovertemplate": "作物名称=%{x}<br>平均价格（元/斤）=%{y}<extra></extra>",
         "legendgroup": "辣椒",
         "marker": {
          "color": "#00cc96",
          "pattern": {
           "shape": ""
          }
         },
         "name": "辣椒",
         "offsetgroup": "辣椒",
         "orientation": "v",
         "showlegend": true,
         "textposition": "auto",
         "type": "bar",
         "x": [
          "辣椒"
         ],
         "xaxis": "x",
         "y": [
          7.25
         ],
         "yaxis": "y"
        },
        {
         "alignmentgroup": "True",
         "hovertemplate": "作物名称=%{x}<br>平均价格（元/斤）=%{y}<extra></extra>",
         "legendgroup": "青椒",
         "marker": {
          "color": "#ab63fa",
          "pattern": {
           "shape": ""
          }
         },
         "name": "青椒",
         "offsetgroup": "青椒",
         "orientation": "v",
         "showlegend": true,
         "textposition": "auto",
         "type": "bar",
         "x": [
          "青椒"
         ],
         "xaxis": "x",
         "y": [
          6.025
         ],
         "yaxis": "y"
        },
        {
         "alignmentgroup": "True",
         "hovertemplate": "作物名称=%{x}<br>平均价格（元/斤）=%{y}<extra></extra>",
         "legendgroup": "香菇",
         "marker": {
          "color": "#FFA15A",
          "pattern": {
           "shape": ""
          }
         },
         "name": "香菇",
         "offsetgroup": "香菇",
         "orientation": "v",
         "showlegend": true,
         "textposition": "auto",
         "type": "bar",
         "x": [
          "香菇"
         ],
         "xaxis": "x",
         "y": [
          19
         ],
         "yaxis": "y"
        },
        {
         "alignmentgroup": "True",
         "hovertemplate": "作物名称=%{x}<br>平均价格（元/斤）=%{y}<extra></extra>",
         "legendgroup": "高粱",
         "marker": {
          "color": "#19d3f3",
          "pattern": {
           "shape": ""
          }
         },
         "name": "高粱",
         "offsetgroup": "高粱",
         "orientation": "v",
         "showlegend": true,
         "textposition": "auto",
         "type": "bar",
         "x": [
          "高粱"
         ],
         "xaxis": "x",
         "y": [
          6
         ],
         "yaxis": "y"
        },
        {
         "alignmentgroup": "True",
         "hovertemplate": "作物名称=%{x}<br>平均价格（元/斤）=%{y}<extra></extra>",
         "legendgroup": "黄心菜",
         "marker": {
          "color": "#FF6692",
          "pattern": {
           "shape": ""
          }
         },
         "name": "黄心菜",
         "offsetgroup": "黄心菜",
         "orientation": "v",
         "showlegend": true,
         "textposition": "auto",
         "type": "bar",
         "x": [
          "黄心菜"
         ],
         "xaxis": "x",
         "y": [
          5.4
         ],
         "yaxis": "y"
        },
        {
         "alignmentgroup": "True",
         "hovertemplate": "作物名称=%{x}<br>平均价格（元/斤）=%{y}<extra></extra>",
         "legendgroup": "黄瓜",
         "marker": {
          "color": "#B6E880",
          "pattern": {
           "shape": ""
          }
         },
         "name": "黄瓜",
         "offsetgroup": "黄瓜",
         "orientation": "v",
         "showlegend": true,
         "textposition": "auto",
         "type": "bar",
         "x": [
          "黄瓜"
         ],
         "xaxis": "x",
         "y": [
          7.7
         ],
         "yaxis": "y"
        },
        {
         "alignmentgroup": "True",
         "hovertemplate": "作物名称=%{x}<br>平均价格（元/斤）=%{y}<extra></extra>",
         "legendgroup": "黄豆",
         "marker": {
          "color": "#FF97FF",
          "pattern": {
           "shape": ""
          }
         },
         "name": "黄豆",
         "offsetgroup": "黄豆",
         "orientation": "v",
         "showlegend": true,
         "textposition": "auto",
         "type": "bar",
         "x": [
          "黄豆"
         ],
         "xaxis": "x",
         "y": [
          3.25
         ],
         "yaxis": "y"
        },
        {
         "alignmentgroup": "True",
         "hovertemplate": "作物名称=%{x}<br>平均价格（元/斤）=%{y}<extra></extra>",
         "legendgroup": "黍子",
         "marker": {
          "color": "#FECB52",
          "pattern": {
           "shape": ""
          }
         },
         "name": "黍子",
         "offsetgroup": "黍子",
         "orientation": "v",
         "showlegend": true,
         "textposition": "auto",
         "type": "bar",
         "x": [
          "黍子"
         ],
         "xaxis": "x",
         "y": [
          7.5
         ],
         "yaxis": "y"
        },
        {
         "alignmentgroup": "True",
         "hovertemplate": "作物名称=%{x}<br>平均价格（元/斤）=%{y}<extra></extra>",
         "legendgroup": "黑豆",
         "marker": {
          "color": "#636efa",
          "pattern": {
           "shape": ""
          }
         },
         "name": "黑豆",
         "offsetgroup": "黑豆",
         "orientation": "v",
         "showlegend": true,
         "textposition": "auto",
         "type": "bar",
         "x": [
          "黑豆"
         ],
         "xaxis": "x",
         "y": [
          7.5
         ],
         "yaxis": "y"
        }
       ],
       "layout": {
        "barmode": "relative",
        "height": 750,
        "legend": {
         "title": {
          "text": "作物名称"
         },
         "tracegroupgap": 0
        },
        "showlegend": false,
        "template": {
         "data": {
          "bar": [
           {
            "error_x": {
             "color": "#2a3f5f"
            },
            "error_y": {
             "color": "#2a3f5f"
            },
            "marker": {
             "line": {
              "color": "#E5ECF6",
              "width": 0.5
             },
             "pattern": {
              "fillmode": "overlay",
              "size": 10,
              "solidity": 0.2
             }
            },
            "type": "bar"
           }
          ],
          "barpolar": [
           {
            "marker": {
             "line": {
              "color": "#E5ECF6",
              "width": 0.5
             },
             "pattern": {
              "fillmode": "overlay",
              "size": 10,
              "solidity": 0.2
             }
            },
            "type": "barpolar"
           }
          ],
          "carpet": [
           {
            "aaxis": {
             "endlinecolor": "#2a3f5f",
             "gridcolor": "white",
             "linecolor": "white",
             "minorgridcolor": "white",
             "startlinecolor": "#2a3f5f"
            },
            "baxis": {
             "endlinecolor": "#2a3f5f",
             "gridcolor": "white",
             "linecolor": "white",
             "minorgridcolor": "white",
             "startlinecolor": "#2a3f5f"
            },
            "type": "carpet"
           }
          ],
          "choropleth": [
           {
            "colorbar": {
             "outlinewidth": 0,
             "ticks": ""
            },
            "type": "choropleth"
           }
          ],
          "contour": [
           {
            "colorbar": {
             "outlinewidth": 0,
             "ticks": ""
            },
            "colorscale": [
             [
              0,
              "#0d0887"
             ],
             [
              0.1111111111111111,
              "#46039f"
             ],
             [
              0.2222222222222222,
              "#7201a8"
             ],
             [
              0.3333333333333333,
              "#9c179e"
             ],
             [
              0.4444444444444444,
              "#bd3786"
             ],
             [
              0.5555555555555556,
              "#d8576b"
             ],
             [
              0.6666666666666666,
              "#ed7953"
             ],
             [
              0.7777777777777778,
              "#fb9f3a"
             ],
             [
              0.8888888888888888,
              "#fdca26"
             ],
             [
              1,
              "#f0f921"
             ]
            ],
            "type": "contour"
           }
          ],
          "contourcarpet": [
           {
            "colorbar": {
             "outlinewidth": 0,
             "ticks": ""
            },
            "type": "contourcarpet"
           }
          ],
          "heatmap": [
           {
            "colorbar": {
             "outlinewidth": 0,
             "ticks": ""
            },
            "colorscale": [
             [
              0,
              "#0d0887"
             ],
             [
              0.1111111111111111,
              "#46039f"
             ],
             [
              0.2222222222222222,
              "#7201a8"
             ],
             [
              0.3333333333333333,
              "#9c179e"
             ],
             [
              0.4444444444444444,
              "#bd3786"
             ],
             [
              0.5555555555555556,
              "#d8576b"
             ],
             [
              0.6666666666666666,
              "#ed7953"
             ],
             [
              0.7777777777777778,
              "#fb9f3a"
             ],
             [
              0.8888888888888888,
              "#fdca26"
             ],
             [
              1,
              "#f0f921"
             ]
            ],
            "type": "heatmap"
           }
          ],
          "heatmapgl": [
           {
            "colorbar": {
             "outlinewidth": 0,
             "ticks": ""
            },
            "colorscale": [
             [
              0,
              "#0d0887"
             ],
             [
              0.1111111111111111,
              "#46039f"
             ],
             [
              0.2222222222222222,
              "#7201a8"
             ],
             [
              0.3333333333333333,
              "#9c179e"
             ],
             [
              0.4444444444444444,
              "#bd3786"
             ],
             [
              0.5555555555555556,
              "#d8576b"
             ],
             [
              0.6666666666666666,
              "#ed7953"
             ],
             [
              0.7777777777777778,
              "#fb9f3a"
             ],
             [
              0.8888888888888888,
              "#fdca26"
             ],
             [
              1,
              "#f0f921"
             ]
            ],
            "type": "heatmapgl"
           }
          ],
          "histogram": [
           {
            "marker": {
             "pattern": {
              "fillmode": "overlay",
              "size": 10,
              "solidity": 0.2
             }
            },
            "type": "histogram"
           }
          ],
          "histogram2d": [
           {
            "colorbar": {
             "outlinewidth": 0,
             "ticks": ""
            },
            "colorscale": [
             [
              0,
              "#0d0887"
             ],
             [
              0.1111111111111111,
              "#46039f"
             ],
             [
              0.2222222222222222,
              "#7201a8"
             ],
             [
              0.3333333333333333,
              "#9c179e"
             ],
             [
              0.4444444444444444,
              "#bd3786"
             ],
             [
              0.5555555555555556,
              "#d8576b"
             ],
             [
              0.6666666666666666,
              "#ed7953"
             ],
             [
              0.7777777777777778,
              "#fb9f3a"
             ],
             [
              0.8888888888888888,
              "#fdca26"
             ],
             [
              1,
              "#f0f921"
             ]
            ],
            "type": "histogram2d"
           }
          ],
          "histogram2dcontour": [
           {
            "colorbar": {
             "outlinewidth": 0,
             "ticks": ""
            },
            "colorscale": [
             [
              0,
              "#0d0887"
             ],
             [
              0.1111111111111111,
              "#46039f"
             ],
             [
              0.2222222222222222,
              "#7201a8"
             ],
             [
              0.3333333333333333,
              "#9c179e"
             ],
             [
              0.4444444444444444,
              "#bd3786"
             ],
             [
              0.5555555555555556,
              "#d8576b"
             ],
             [
              0.6666666666666666,
              "#ed7953"
             ],
             [
              0.7777777777777778,
              "#fb9f3a"
             ],
             [
              0.8888888888888888,
              "#fdca26"
             ],
             [
              1,
              "#f0f921"
             ]
            ],
            "type": "histogram2dcontour"
           }
          ],
          "mesh3d": [
           {
            "colorbar": {
             "outlinewidth": 0,
             "ticks": ""
            },
            "type": "mesh3d"
           }
          ],
          "parcoords": [
           {
            "line": {
             "colorbar": {
              "outlinewidth": 0,
              "ticks": ""
             }
            },
            "type": "parcoords"
           }
          ],
          "pie": [
           {
            "automargin": true,
            "type": "pie"
           }
          ],
          "scatter": [
           {
            "fillpattern": {
             "fillmode": "overlay",
             "size": 10,
             "solidity": 0.2
            },
            "type": "scatter"
           }
          ],
          "scatter3d": [
           {
            "line": {
             "colorbar": {
              "outlinewidth": 0,
              "ticks": ""
             }
            },
            "marker": {
             "colorbar": {
              "outlinewidth": 0,
              "ticks": ""
             }
            },
            "type": "scatter3d"
           }
          ],
          "scattercarpet": [
           {
            "marker": {
             "colorbar": {
              "outlinewidth": 0,
              "ticks": ""
             }
            },
            "type": "scattercarpet"
           }
          ],
          "scattergeo": [
           {
            "marker": {
             "colorbar": {
              "outlinewidth": 0,
              "ticks": ""
             }
            },
            "type": "scattergeo"
           }
          ],
          "scattergl": [
           {
            "marker": {
             "colorbar": {
              "outlinewidth": 0,
              "ticks": ""
             }
            },
            "type": "scattergl"
           }
          ],
          "scattermapbox": [
           {
            "marker": {
             "colorbar": {
              "outlinewidth": 0,
              "ticks": ""
             }
            },
            "type": "scattermapbox"
           }
          ],
          "scatterpolar": [
           {
            "marker": {
             "colorbar": {
              "outlinewidth": 0,
              "ticks": ""
             }
            },
            "type": "scatterpolar"
           }
          ],
          "scatterpolargl": [
           {
            "marker": {
             "colorbar": {
              "outlinewidth": 0,
              "ticks": ""
             }
            },
            "type": "scatterpolargl"
           }
          ],
          "scatterternary": [
           {
            "marker": {
             "colorbar": {
              "outlinewidth": 0,
              "ticks": ""
             }
            },
            "type": "scatterternary"
           }
          ],
          "surface": [
           {
            "colorbar": {
             "outlinewidth": 0,
             "ticks": ""
            },
            "colorscale": [
             [
              0,
              "#0d0887"
             ],
             [
              0.1111111111111111,
              "#46039f"
             ],
             [
              0.2222222222222222,
              "#7201a8"
             ],
             [
              0.3333333333333333,
              "#9c179e"
             ],
             [
              0.4444444444444444,
              "#bd3786"
             ],
             [
              0.5555555555555556,
              "#d8576b"
             ],
             [
              0.6666666666666666,
              "#ed7953"
             ],
             [
              0.7777777777777778,
              "#fb9f3a"
             ],
             [
              0.8888888888888888,
              "#fdca26"
             ],
             [
              1,
              "#f0f921"
             ]
            ],
            "type": "surface"
           }
          ],
          "table": [
           {
            "cells": {
             "fill": {
              "color": "#EBF0F8"
             },
             "line": {
              "color": "white"
             }
            },
            "header": {
             "fill": {
              "color": "#C8D4E3"
             },
             "line": {
              "color": "white"
             }
            },
            "type": "table"
           }
          ]
         },
         "layout": {
          "annotationdefaults": {
           "arrowcolor": "#2a3f5f",
           "arrowhead": 0,
           "arrowwidth": 1
          },
          "autotypenumbers": "strict",
          "coloraxis": {
           "colorbar": {
            "outlinewidth": 0,
            "ticks": ""
           }
          },
          "colorscale": {
           "diverging": [
            [
             0,
             "#8e0152"
            ],
            [
             0.1,
             "#c51b7d"
            ],
            [
             0.2,
             "#de77ae"
            ],
            [
             0.3,
             "#f1b6da"
            ],
            [
             0.4,
             "#fde0ef"
            ],
            [
             0.5,
             "#f7f7f7"
            ],
            [
             0.6,
             "#e6f5d0"
            ],
            [
             0.7,
             "#b8e186"
            ],
            [
             0.8,
             "#7fbc41"
            ],
            [
             0.9,
             "#4d9221"
            ],
            [
             1,
             "#276419"
            ]
           ],
           "sequential": [
            [
             0,
             "#0d0887"
            ],
            [
             0.1111111111111111,
             "#46039f"
            ],
            [
             0.2222222222222222,
             "#7201a8"
            ],
            [
             0.3333333333333333,
             "#9c179e"
            ],
            [
             0.4444444444444444,
             "#bd3786"
            ],
            [
             0.5555555555555556,
             "#d8576b"
            ],
            [
             0.6666666666666666,
             "#ed7953"
            ],
            [
             0.7777777777777778,
             "#fb9f3a"
            ],
            [
             0.8888888888888888,
             "#fdca26"
            ],
            [
             1,
             "#f0f921"
            ]
           ],
           "sequentialminus": [
            [
             0,
             "#0d0887"
            ],
            [
             0.1111111111111111,
             "#46039f"
            ],
            [
             0.2222222222222222,
             "#7201a8"
            ],
            [
             0.3333333333333333,
             "#9c179e"
            ],
            [
             0.4444444444444444,
             "#bd3786"
            ],
            [
             0.5555555555555556,
             "#d8576b"
            ],
            [
             0.6666666666666666,
             "#ed7953"
            ],
            [
             0.7777777777777778,
             "#fb9f3a"
            ],
            [
             0.8888888888888888,
             "#fdca26"
            ],
            [
             1,
             "#f0f921"
            ]
           ]
          },
          "colorway": [
           "#636efa",
           "#EF553B",
           "#00cc96",
           "#ab63fa",
           "#FFA15A",
           "#19d3f3",
           "#FF6692",
           "#B6E880",
           "#FF97FF",
           "#FECB52"
          ],
          "font": {
           "color": "#2a3f5f"
          },
          "geo": {
           "bgcolor": "white",
           "lakecolor": "white",
           "landcolor": "#E5ECF6",
           "showlakes": true,
           "showland": true,
           "subunitcolor": "white"
          },
          "hoverlabel": {
           "align": "left"
          },
          "hovermode": "closest",
          "mapbox": {
           "style": "light"
          },
          "paper_bgcolor": "white",
          "plot_bgcolor": "#E5ECF6",
          "polar": {
           "angularaxis": {
            "gridcolor": "white",
            "linecolor": "white",
            "ticks": ""
           },
           "bgcolor": "#E5ECF6",
           "radialaxis": {
            "gridcolor": "white",
            "linecolor": "white",
            "ticks": ""
           }
          },
          "scene": {
           "xaxis": {
            "backgroundcolor": "#E5ECF6",
            "gridcolor": "white",
            "gridwidth": 2,
            "linecolor": "white",
            "showbackground": true,
            "ticks": "",
            "zerolinecolor": "white"
           },
           "yaxis": {
            "backgroundcolor": "#E5ECF6",
            "gridcolor": "white",
            "gridwidth": 2,
            "linecolor": "white",
            "showbackground": true,
            "ticks": "",
            "zerolinecolor": "white"
           },
           "zaxis": {
            "backgroundcolor": "#E5ECF6",
            "gridcolor": "white",
            "gridwidth": 2,
            "linecolor": "white",
            "showbackground": true,
            "ticks": "",
            "zerolinecolor": "white"
           }
          },
          "shapedefaults": {
           "line": {
            "color": "#2a3f5f"
           }
          },
          "ternary": {
           "aaxis": {
            "gridcolor": "white",
            "linecolor": "white",
            "ticks": ""
           },
           "baxis": {
            "gridcolor": "white",
            "linecolor": "white",
            "ticks": ""
           },
           "bgcolor": "#E5ECF6",
           "caxis": {
            "gridcolor": "white",
            "linecolor": "white",
            "ticks": ""
           }
          },
          "title": {
           "x": 0.05
          },
          "xaxis": {
           "automargin": true,
           "gridcolor": "white",
           "linecolor": "white",
           "ticks": "",
           "title": {
            "standoff": 15
           },
           "zerolinecolor": "white",
           "zerolinewidth": 2
          },
          "yaxis": {
           "automargin": true,
           "gridcolor": "white",
           "linecolor": "white",
           "ticks": "",
           "title": {
            "standoff": 15
           },
           "zerolinecolor": "white",
           "zerolinewidth": 2
          }
         }
        },
        "title": {
         "text": "各种作物在不同地块类型下的平均价格（元/斤）"
        },
        "width": 1500,
        "xaxis": {
         "anchor": "y",
         "categoryarray": [
          "刀豆",
          "包菜",
          "南瓜",
          "土豆",
          "大白菜",
          "大麦",
          "小青菜",
          "小麦",
          "榆黄菇",
          "水稻",
          "油麦菜",
          "爬豆",
          "玉米",
          "生菜",
          "白灵菇",
          "白萝卜",
          "空心菜",
          "红萝卜",
          "红薯",
          "红豆",
          "绿豆",
          "羊肚菌",
          "芸豆",
          "芹菜",
          "茄子",
          "荞麦",
          "莜麦",
          "菜花",
          "菠菜",
          "西红柿",
          "谷子",
          "豇豆",
          "辣椒",
          "青椒",
          "香菇",
          "高粱",
          "黄心菜",
          "黄瓜",
          "黄豆",
          "黍子",
          "黑豆"
         ],
         "categoryorder": "array",
         "domain": [
          0,
          1
         ],
         "title": {
          "text": "作物名称"
         }
        },
        "yaxis": {
         "anchor": "x",
         "domain": [
          0,
          1
         ],
         "title": {
          "text": "平均价格（元/斤）"
         },
         "type": "log"
        }
       }
      },
      "text/html": [
       "<div>                            <div id=\"0bae324d-19c2-49b9-9419-b972bc6a3547\" class=\"plotly-graph-div\" style=\"height:750px; width:1500px;\"></div>            <script type=\"text/javascript\">                require([\"plotly\"], function(Plotly) {                    window.PLOTLYENV=window.PLOTLYENV || {};                                    if (document.getElementById(\"0bae324d-19c2-49b9-9419-b972bc6a3547\")) {                    Plotly.newPlot(                        \"0bae324d-19c2-49b9-9419-b972bc6a3547\",                        [{\"alignmentgroup\":\"True\",\"hovertemplate\":\"\\u4f5c\\u7269\\u540d\\u79f0=%{x}\\u003cbr\\u003e\\u5e73\\u5747\\u4ef7\\u683c\\uff08\\u5143\\u002f\\u65a4\\uff09=%{y}\\u003cextra\\u003e\\u003c\\u002fextra\\u003e\",\"legendgroup\":\"\\u5200\\u8c46\",\"marker\":{\"color\":\"#636efa\",\"pattern\":{\"shape\":\"\"}},\"name\":\"\\u5200\\u8c46\",\"offsetgroup\":\"\\u5200\\u8c46\",\"orientation\":\"v\",\"showlegend\":true,\"textposition\":\"auto\",\"x\":[\"\\u5200\\u8c46\"],\"xaxis\":\"x\",\"y\":[6.75],\"yaxis\":\"y\",\"type\":\"bar\"},{\"alignmentgroup\":\"True\",\"hovertemplate\":\"\\u4f5c\\u7269\\u540d\\u79f0=%{x}\\u003cbr\\u003e\\u5e73\\u5747\\u4ef7\\u683c\\uff08\\u5143\\u002f\\u65a4\\uff09=%{y}\\u003cextra\\u003e\\u003c\\u002fextra\\u003e\",\"legendgroup\":\"\\u5305\\u83dc\",\"marker\":{\"color\":\"#EF553B\",\"pattern\":{\"shape\":\"\"}},\"name\":\"\\u5305\\u83dc\",\"offsetgroup\":\"\\u5305\\u83dc\",\"orientation\":\"v\",\"showlegend\":true,\"textposition\":\"auto\",\"x\":[\"\\u5305\\u83dc\"],\"xaxis\":\"x\",\"y\":[7.15],\"yaxis\":\"y\",\"type\":\"bar\"},{\"alignmentgroup\":\"True\",\"hovertemplate\":\"\\u4f5c\\u7269\\u540d\\u79f0=%{x}\\u003cbr\\u003e\\u5e73\\u5747\\u4ef7\\u683c\\uff08\\u5143\\u002f\\u65a4\\uff09=%{y}\\u003cextra\\u003e\\u003c\\u002fextra\\u003e\",\"legendgroup\":\"\\u5357\\u74dc\",\"marker\":{\"color\":\"#00cc96\",\"pattern\":{\"shape\":\"\"}},\"name\":\"\\u5357\\u74dc\",\"offsetgroup\":\"\\u5357\\u74dc\",\"orientation\":\"v\",\"showlegend\":true,\"textposition\":\"auto\",\"x\":[\"\\u5357\\u74dc\"],\"xaxis\":\"x\",\"y\":[1.5],\"yaxis\":\"y\",\"type\":\"bar\"},{\"alignmentgroup\":\"True\",\"hovertemplate\":\"\\u4f5c\\u7269\\u540d\\u79f0=%{x}\\u003cbr\\u003e\\u5e73\\u5747\\u4ef7\\u683c\\uff08\\u5143\\u002f\\u65a4\\uff09=%{y}\\u003cextra\\u003e\\u003c\\u002fextra\\u003e\",\"legendgroup\":\"\\u571f\\u8c46\",\"marker\":{\"color\":\"#ab63fa\",\"pattern\":{\"shape\":\"\"}},\"name\":\"\\u571f\\u8c46\",\"offsetgroup\":\"\\u571f\\u8c46\",\"orientation\":\"v\",\"showlegend\":true,\"textposition\":\"auto\",\"x\":[\"\\u571f\\u8c46\"],\"xaxis\":\"x\",\"y\":[3.75],\"yaxis\":\"y\",\"type\":\"bar\"},{\"alignmentgroup\":\"True\",\"hovertemplate\":\"\\u4f5c\\u7269\\u540d\\u79f0=%{x}\\u003cbr\\u003e\\u5e73\\u5747\\u4ef7\\u683c\\uff08\\u5143\\u002f\\u65a4\\uff09=%{y}\\u003cextra\\u003e\\u003c\\u002fextra\\u003e\",\"legendgroup\":\"\\u5927\\u767d\\u83dc\",\"marker\":{\"color\":\"#FFA15A\",\"pattern\":{\"shape\":\"\"}},\"name\":\"\\u5927\\u767d\\u83dc\",\"offsetgroup\":\"\\u5927\\u767d\\u83dc\",\"orientation\":\"v\",\"showlegend\":true,\"textposition\":\"auto\",\"x\":[\"\\u5927\\u767d\\u83dc\"],\"xaxis\":\"x\",\"y\":[2.5],\"yaxis\":\"y\",\"type\":\"bar\"},{\"alignmentgroup\":\"True\",\"hovertemplate\":\"\\u4f5c\\u7269\\u540d\\u79f0=%{x}\\u003cbr\\u003e\\u5e73\\u5747\\u4ef7\\u683c\\uff08\\u5143\\u002f\\u65a4\\uff09=%{y}\\u003cextra\\u003e\\u003c\\u002fextra\\u003e\",\"legendgroup\":\"\\u5927\\u9ea6\",\"marker\":{\"color\":\"#19d3f3\",\"pattern\":{\"shape\":\"\"}},\"name\":\"\\u5927\\u9ea6\",\"offsetgroup\":\"\\u5927\\u9ea6\",\"orientation\":\"v\",\"showlegend\":true,\"textposition\":\"auto\",\"x\":[\"\\u5927\\u9ea6\"],\"xaxis\":\"x\",\"y\":[3.5],\"yaxis\":\"y\",\"type\":\"bar\"},{\"alignmentgroup\":\"True\",\"hovertemplate\":\"\\u4f5c\\u7269\\u540d\\u79f0=%{x}\\u003cbr\\u003e\\u5e73\\u5747\\u4ef7\\u683c\\uff08\\u5143\\u002f\\u65a4\\uff09=%{y}\\u003cextra\\u003e\\u003c\\u002fextra\\u003e\",\"legendgroup\":\"\\u5c0f\\u9752\\u83dc\",\"marker\":{\"color\":\"#FF6692\",\"pattern\":{\"shape\":\"\"}},\"name\":\"\\u5c0f\\u9752\\u83dc\",\"offsetgroup\":\"\\u5c0f\\u9752\\u83dc\",\"orientation\":\"v\",\"showlegend\":true,\"textposition\":\"auto\",\"x\":[\"\\u5c0f\\u9752\\u83dc\"],\"xaxis\":\"x\",\"y\":[6.133333333333333],\"yaxis\":\"y\",\"type\":\"bar\"},{\"alignmentgroup\":\"True\",\"hovertemplate\":\"\\u4f5c\\u7269\\u540d\\u79f0=%{x}\\u003cbr\\u003e\\u5e73\\u5747\\u4ef7\\u683c\\uff08\\u5143\\u002f\\u65a4\\uff09=%{y}\\u003cextra\\u003e\\u003c\\u002fextra\\u003e\",\"legendgroup\":\"\\u5c0f\\u9ea6\",\"marker\":{\"color\":\"#B6E880\",\"pattern\":{\"shape\":\"\"}},\"name\":\"\\u5c0f\\u9ea6\",\"offsetgroup\":\"\\u5c0f\\u9ea6\",\"orientation\":\"v\",\"showlegend\":true,\"textposition\":\"auto\",\"x\":[\"\\u5c0f\\u9ea6\"],\"xaxis\":\"x\",\"y\":[3.5],\"yaxis\":\"y\",\"type\":\"bar\"},{\"alignmentgroup\":\"True\",\"hovertemplate\":\"\\u4f5c\\u7269\\u540d\\u79f0=%{x}\\u003cbr\\u003e\\u5e73\\u5747\\u4ef7\\u683c\\uff08\\u5143\\u002f\\u65a4\\uff09=%{y}\\u003cextra\\u003e\\u003c\\u002fextra\\u003e\",\"legendgroup\":\"\\u6986\\u9ec4\\u83c7\",\"marker\":{\"color\":\"#FF97FF\",\"pattern\":{\"shape\":\"\"}},\"name\":\"\\u6986\\u9ec4\\u83c7\",\"offsetgroup\":\"\\u6986\\u9ec4\\u83c7\",\"orientation\":\"v\",\"showlegend\":true,\"textposition\":\"auto\",\"x\":[\"\\u6986\\u9ec4\\u83c7\"],\"xaxis\":\"x\",\"y\":[57.5],\"yaxis\":\"y\",\"type\":\"bar\"},{\"alignmentgroup\":\"True\",\"hovertemplate\":\"\\u4f5c\\u7269\\u540d\\u79f0=%{x}\\u003cbr\\u003e\\u5e73\\u5747\\u4ef7\\u683c\\uff08\\u5143\\u002f\\u65a4\\uff09=%{y}\\u003cextra\\u003e\\u003c\\u002fextra\\u003e\",\"legendgroup\":\"\\u6c34\\u7a3b\",\"marker\":{\"color\":\"#FECB52\",\"pattern\":{\"shape\":\"\"}},\"name\":\"\\u6c34\\u7a3b\",\"offsetgroup\":\"\\u6c34\\u7a3b\",\"orientation\":\"v\",\"showlegend\":true,\"textposition\":\"auto\",\"x\":[\"\\u6c34\\u7a3b\"],\"xaxis\":\"x\",\"y\":[7.0],\"yaxis\":\"y\",\"type\":\"bar\"},{\"alignmentgroup\":\"True\",\"hovertemplate\":\"\\u4f5c\\u7269\\u540d\\u79f0=%{x}\\u003cbr\\u003e\\u5e73\\u5747\\u4ef7\\u683c\\uff08\\u5143\\u002f\\u65a4\\uff09=%{y}\\u003cextra\\u003e\\u003c\\u002fextra\\u003e\",\"legendgroup\":\"\\u6cb9\\u9ea6\\u83dc\",\"marker\":{\"color\":\"#636efa\",\"pattern\":{\"shape\":\"\"}},\"name\":\"\\u6cb9\\u9ea6\\u83dc\",\"offsetgroup\":\"\\u6cb9\\u9ea6\\u83dc\",\"orientation\":\"v\",\"showlegend\":true,\"textposition\":\"auto\",\"x\":[\"\\u6cb9\\u9ea6\\u83dc\"],\"xaxis\":\"x\",\"y\":[5.0],\"yaxis\":\"y\",\"type\":\"bar\"},{\"alignmentgroup\":\"True\",\"hovertemplate\":\"\\u4f5c\\u7269\\u540d\\u79f0=%{x}\\u003cbr\\u003e\\u5e73\\u5747\\u4ef7\\u683c\\uff08\\u5143\\u002f\\u65a4\\uff09=%{y}\\u003cextra\\u003e\\u003c\\u002fextra\\u003e\",\"legendgroup\":\"\\u722c\\u8c46\",\"marker\":{\"color\":\"#EF553B\",\"pattern\":{\"shape\":\"\"}},\"name\":\"\\u722c\\u8c46\",\"offsetgroup\":\"\\u722c\\u8c46\",\"orientation\":\"v\",\"showlegend\":true,\"textposition\":\"auto\",\"x\":[\"\\u722c\\u8c46\"],\"xaxis\":\"x\",\"y\":[6.75],\"yaxis\":\"y\",\"type\":\"bar\"},{\"alignmentgroup\":\"True\",\"hovertemplate\":\"\\u4f5c\\u7269\\u540d\\u79f0=%{x}\\u003cbr\\u003e\\u5e73\\u5747\\u4ef7\\u683c\\uff08\\u5143\\u002f\\u65a4\\uff09=%{y}\\u003cextra\\u003e\\u003c\\u002fextra\\u003e\",\"legendgroup\":\"\\u7389\\u7c73\",\"marker\":{\"color\":\"#00cc96\",\"pattern\":{\"shape\":\"\"}},\"name\":\"\\u7389\\u7c73\",\"offsetgroup\":\"\\u7389\\u7c73\",\"orientation\":\"v\",\"showlegend\":true,\"textposition\":\"auto\",\"x\":[\"\\u7389\\u7c73\"],\"xaxis\":\"x\",\"y\":[3.0],\"yaxis\":\"y\",\"type\":\"bar\"},{\"alignmentgroup\":\"True\",\"hovertemplate\":\"\\u4f5c\\u7269\\u540d\\u79f0=%{x}\\u003cbr\\u003e\\u5e73\\u5747\\u4ef7\\u683c\\uff08\\u5143\\u002f\\u65a4\\uff09=%{y}\\u003cextra\\u003e\\u003c\\u002fextra\\u003e\",\"legendgroup\":\"\\u751f\\u83dc\",\"marker\":{\"color\":\"#ab63fa\",\"pattern\":{\"shape\":\"\"}},\"name\":\"\\u751f\\u83dc\",\"offsetgroup\":\"\\u751f\\u83dc\",\"orientation\":\"v\",\"showlegend\":true,\"textposition\":\"auto\",\"x\":[\"\\u751f\\u83dc\"],\"xaxis\":\"x\",\"y\":[5.775],\"yaxis\":\"y\",\"type\":\"bar\"},{\"alignmentgroup\":\"True\",\"hovertemplate\":\"\\u4f5c\\u7269\\u540d\\u79f0=%{x}\\u003cbr\\u003e\\u5e73\\u5747\\u4ef7\\u683c\\uff08\\u5143\\u002f\\u65a4\\uff09=%{y}\\u003cextra\\u003e\\u003c\\u002fextra\\u003e\",\"legendgroup\":\"\\u767d\\u7075\\u83c7\",\"marker\":{\"color\":\"#FFA15A\",\"pattern\":{\"shape\":\"\"}},\"name\":\"\\u767d\\u7075\\u83c7\",\"offsetgroup\":\"\\u767d\\u7075\\u83c7\",\"orientation\":\"v\",\"showlegend\":true,\"textposition\":\"auto\",\"x\":[\"\\u767d\\u7075\\u83c7\"],\"xaxis\":\"x\",\"y\":[16.0],\"yaxis\":\"y\",\"type\":\"bar\"},{\"alignmentgroup\":\"True\",\"hovertemplate\":\"\\u4f5c\\u7269\\u540d\\u79f0=%{x}\\u003cbr\\u003e\\u5e73\\u5747\\u4ef7\\u683c\\uff08\\u5143\\u002f\\u65a4\\uff09=%{y}\\u003cextra\\u003e\\u003c\\u002fextra\\u003e\",\"legendgroup\":\"\\u767d\\u841d\\u535c\",\"marker\":{\"color\":\"#19d3f3\",\"pattern\":{\"shape\":\"\"}},\"name\":\"\\u767d\\u841d\\u535c\",\"offsetgroup\":\"\\u767d\\u841d\\u535c\",\"orientation\":\"v\",\"showlegend\":true,\"textposition\":\"auto\",\"x\":[\"\\u767d\\u841d\\u535c\"],\"xaxis\":\"x\",\"y\":[2.5],\"yaxis\":\"y\",\"type\":\"bar\"},{\"alignmentgroup\":\"True\",\"hovertemplate\":\"\\u4f5c\\u7269\\u540d\\u79f0=%{x}\\u003cbr\\u003e\\u5e73\\u5747\\u4ef7\\u683c\\uff08\\u5143\\u002f\\u65a4\\uff09=%{y}\\u003cextra\\u003e\\u003c\\u002fextra\\u003e\",\"legendgroup\":\"\\u7a7a\\u5fc3\\u83dc\",\"marker\":{\"color\":\"#FF6692\",\"pattern\":{\"shape\":\"\"}},\"name\":\"\\u7a7a\\u5fc3\\u83dc\",\"offsetgroup\":\"\\u7a7a\\u5fc3\\u83dc\",\"orientation\":\"v\",\"showlegend\":true,\"textposition\":\"auto\",\"x\":[\"\\u7a7a\\u5fc3\\u83dc\"],\"xaxis\":\"x\",\"y\":[5.4],\"yaxis\":\"y\",\"type\":\"bar\"},{\"alignmentgroup\":\"True\",\"hovertemplate\":\"\\u4f5c\\u7269\\u540d\\u79f0=%{x}\\u003cbr\\u003e\\u5e73\\u5747\\u4ef7\\u683c\\uff08\\u5143\\u002f\\u65a4\\uff09=%{y}\\u003cextra\\u003e\\u003c\\u002fextra\\u003e\",\"legendgroup\":\"\\u7ea2\\u841d\\u535c\",\"marker\":{\"color\":\"#B6E880\",\"pattern\":{\"shape\":\"\"}},\"name\":\"\\u7ea2\\u841d\\u535c\",\"offsetgroup\":\"\\u7ea2\\u841d\\u535c\",\"orientation\":\"v\",\"showlegend\":true,\"textposition\":\"auto\",\"x\":[\"\\u7ea2\\u841d\\u535c\"],\"xaxis\":\"x\",\"y\":[3.25],\"yaxis\":\"y\",\"type\":\"bar\"},{\"alignmentgroup\":\"True\",\"hovertemplate\":\"\\u4f5c\\u7269\\u540d\\u79f0=%{x}\\u003cbr\\u003e\\u5e73\\u5747\\u4ef7\\u683c\\uff08\\u5143\\u002f\\u65a4\\uff09=%{y}\\u003cextra\\u003e\\u003c\\u002fextra\\u003e\",\"legendgroup\":\"\\u7ea2\\u85af\",\"marker\":{\"color\":\"#FF97FF\",\"pattern\":{\"shape\":\"\"}},\"name\":\"\\u7ea2\\u85af\",\"offsetgroup\":\"\\u7ea2\\u85af\",\"orientation\":\"v\",\"showlegend\":true,\"textposition\":\"auto\",\"x\":[\"\\u7ea2\\u85af\"],\"xaxis\":\"x\",\"y\":[3.25],\"yaxis\":\"y\",\"type\":\"bar\"},{\"alignmentgroup\":\"True\",\"hovertemplate\":\"\\u4f5c\\u7269\\u540d\\u79f0=%{x}\\u003cbr\\u003e\\u5e73\\u5747\\u4ef7\\u683c\\uff08\\u5143\\u002f\\u65a4\\uff09=%{y}\\u003cextra\\u003e\\u003c\\u002fextra\\u003e\",\"legendgroup\":\"\\u7ea2\\u8c46\",\"marker\":{\"color\":\"#FECB52\",\"pattern\":{\"shape\":\"\"}},\"name\":\"\\u7ea2\\u8c46\",\"offsetgroup\":\"\\u7ea2\\u8c46\",\"orientation\":\"v\",\"showlegend\":true,\"textposition\":\"auto\",\"x\":[\"\\u7ea2\\u8c46\"],\"xaxis\":\"x\",\"y\":[8.25],\"yaxis\":\"y\",\"type\":\"bar\"},{\"alignmentgroup\":\"True\",\"hovertemplate\":\"\\u4f5c\\u7269\\u540d\\u79f0=%{x}\\u003cbr\\u003e\\u5e73\\u5747\\u4ef7\\u683c\\uff08\\u5143\\u002f\\u65a4\\uff09=%{y}\\u003cextra\\u003e\\u003c\\u002fextra\\u003e\",\"legendgroup\":\"\\u7eff\\u8c46\",\"marker\":{\"color\":\"#636efa\",\"pattern\":{\"shape\":\"\"}},\"name\":\"\\u7eff\\u8c46\",\"offsetgroup\":\"\\u7eff\\u8c46\",\"orientation\":\"v\",\"showlegend\":true,\"textposition\":\"auto\",\"x\":[\"\\u7eff\\u8c46\"],\"xaxis\":\"x\",\"y\":[7.0],\"yaxis\":\"y\",\"type\":\"bar\"},{\"alignmentgroup\":\"True\",\"hovertemplate\":\"\\u4f5c\\u7269\\u540d\\u79f0=%{x}\\u003cbr\\u003e\\u5e73\\u5747\\u4ef7\\u683c\\uff08\\u5143\\u002f\\u65a4\\uff09=%{y}\\u003cextra\\u003e\\u003c\\u002fextra\\u003e\",\"legendgroup\":\"\\u7f8a\\u809a\\u83cc\",\"marker\":{\"color\":\"#EF553B\",\"pattern\":{\"shape\":\"\"}},\"name\":\"\\u7f8a\\u809a\\u83cc\",\"offsetgroup\":\"\\u7f8a\\u809a\\u83cc\",\"orientation\":\"v\",\"showlegend\":true,\"textposition\":\"auto\",\"x\":[\"\\u7f8a\\u809a\\u83cc\"],\"xaxis\":\"x\",\"y\":[100.0],\"yaxis\":\"y\",\"type\":\"bar\"},{\"alignmentgroup\":\"True\",\"hovertemplate\":\"\\u4f5c\\u7269\\u540d\\u79f0=%{x}\\u003cbr\\u003e\\u5e73\\u5747\\u4ef7\\u683c\\uff08\\u5143\\u002f\\u65a4\\uff09=%{y}\\u003cextra\\u003e\\u003c\\u002fextra\\u003e\",\"legendgroup\":\"\\u82b8\\u8c46\",\"marker\":{\"color\":\"#00cc96\",\"pattern\":{\"shape\":\"\"}},\"name\":\"\\u82b8\\u8c46\",\"offsetgroup\":\"\\u82b8\\u8c46\",\"orientation\":\"v\",\"showlegend\":true,\"textposition\":\"auto\",\"x\":[\"\\u82b8\\u8c46\"],\"xaxis\":\"x\",\"y\":[6.933333333333334],\"yaxis\":\"y\",\"type\":\"bar\"},{\"alignmentgroup\":\"True\",\"hovertemplate\":\"\\u4f5c\\u7269\\u540d\\u79f0=%{x}\\u003cbr\\u003e\\u5e73\\u5747\\u4ef7\\u683c\\uff08\\u5143\\u002f\\u65a4\\uff09=%{y}\\u003cextra\\u003e\\u003c\\u002fextra\\u003e\",\"legendgroup\":\"\\u82b9\\u83dc\",\"marker\":{\"color\":\"#ab63fa\",\"pattern\":{\"shape\":\"\"}},\"name\":\"\\u82b9\\u83dc\",\"offsetgroup\":\"\\u82b9\\u83dc\",\"orientation\":\"v\",\"showlegend\":true,\"textposition\":\"auto\",\"x\":[\"\\u82b9\\u83dc\"],\"xaxis\":\"x\",\"y\":[4.8],\"yaxis\":\"y\",\"type\":\"bar\"},{\"alignmentgroup\":\"True\",\"hovertemplate\":\"\\u4f5c\\u7269\\u540d\\u79f0=%{x}\\u003cbr\\u003e\\u5e73\\u5747\\u4ef7\\u683c\\uff08\\u5143\\u002f\\u65a4\\uff09=%{y}\\u003cextra\\u003e\\u003c\\u002fextra\\u003e\",\"legendgroup\":\"\\u8304\\u5b50\",\"marker\":{\"color\":\"#FFA15A\",\"pattern\":{\"shape\":\"\"}},\"name\":\"\\u8304\\u5b50\",\"offsetgroup\":\"\\u8304\\u5b50\",\"orientation\":\"v\",\"showlegend\":true,\"textposition\":\"auto\",\"x\":[\"\\u8304\\u5b50\"],\"xaxis\":\"x\",\"y\":[5.866666666666667],\"yaxis\":\"y\",\"type\":\"bar\"},{\"alignmentgroup\":\"True\",\"hovertemplate\":\"\\u4f5c\\u7269\\u540d\\u79f0=%{x}\\u003cbr\\u003e\\u5e73\\u5747\\u4ef7\\u683c\\uff08\\u5143\\u002f\\u65a4\\uff09=%{y}\\u003cextra\\u003e\\u003c\\u002fextra\\u003e\",\"legendgroup\":\"\\u835e\\u9ea6\",\"marker\":{\"color\":\"#19d3f3\",\"pattern\":{\"shape\":\"\"}},\"name\":\"\\u835e\\u9ea6\",\"offsetgroup\":\"\\u835e\\u9ea6\",\"orientation\":\"v\",\"showlegend\":true,\"textposition\":\"auto\",\"x\":[\"\\u835e\\u9ea6\"],\"xaxis\":\"x\",\"y\":[40.0],\"yaxis\":\"y\",\"type\":\"bar\"},{\"alignmentgroup\":\"True\",\"hovertemplate\":\"\\u4f5c\\u7269\\u540d\\u79f0=%{x}\\u003cbr\\u003e\\u5e73\\u5747\\u4ef7\\u683c\\uff08\\u5143\\u002f\\u65a4\\uff09=%{y}\\u003cextra\\u003e\\u003c\\u002fextra\\u003e\",\"legendgroup\":\"\\u839c\\u9ea6\",\"marker\":{\"color\":\"#FF6692\",\"pattern\":{\"shape\":\"\"}},\"name\":\"\\u839c\\u9ea6\",\"offsetgroup\":\"\\u839c\\u9ea6\",\"orientation\":\"v\",\"showlegend\":true,\"textposition\":\"auto\",\"x\":[\"\\u839c\\u9ea6\"],\"xaxis\":\"x\",\"y\":[5.5],\"yaxis\":\"y\",\"type\":\"bar\"},{\"alignmentgroup\":\"True\",\"hovertemplate\":\"\\u4f5c\\u7269\\u540d\\u79f0=%{x}\\u003cbr\\u003e\\u5e73\\u5747\\u4ef7\\u683c\\uff08\\u5143\\u002f\\u65a4\\uff09=%{y}\\u003cextra\\u003e\\u003c\\u002fextra\\u003e\",\"legendgroup\":\"\\u83dc\\u82b1\",\"marker\":{\"color\":\"#B6E880\",\"pattern\":{\"shape\":\"\"}},\"name\":\"\\u83dc\\u82b1\",\"offsetgroup\":\"\\u83dc\\u82b1\",\"orientation\":\"v\",\"showlegend\":true,\"textposition\":\"auto\",\"x\":[\"\\u83dc\\u82b1\"],\"xaxis\":\"x\",\"y\":[6.05],\"yaxis\":\"y\",\"type\":\"bar\"},{\"alignmentgroup\":\"True\",\"hovertemplate\":\"\\u4f5c\\u7269\\u540d\\u79f0=%{x}\\u003cbr\\u003e\\u5e73\\u5747\\u4ef7\\u683c\\uff08\\u5143\\u002f\\u65a4\\uff09=%{y}\\u003cextra\\u003e\\u003c\\u002fextra\\u003e\",\"legendgroup\":\"\\u83e0\\u83dc\",\"marker\":{\"color\":\"#FF97FF\",\"pattern\":{\"shape\":\"\"}},\"name\":\"\\u83e0\\u83dc\",\"offsetgroup\":\"\\u83e0\\u83dc\",\"orientation\":\"v\",\"showlegend\":true,\"textposition\":\"auto\",\"x\":[\"\\u83e0\\u83dc\"],\"xaxis\":\"x\",\"y\":[6.9],\"yaxis\":\"y\",\"type\":\"bar\"},{\"alignmentgroup\":\"True\",\"hovertemplate\":\"\\u4f5c\\u7269\\u540d\\u79f0=%{x}\\u003cbr\\u003e\\u5e73\\u5747\\u4ef7\\u683c\\uff08\\u5143\\u002f\\u65a4\\uff09=%{y}\\u003cextra\\u003e\\u003c\\u002fextra\\u003e\",\"legendgroup\":\"\\u897f\\u7ea2\\u67ff\",\"marker\":{\"color\":\"#FECB52\",\"pattern\":{\"shape\":\"\"}},\"name\":\"\\u897f\\u7ea2\\u67ff\",\"offsetgroup\":\"\\u897f\\u7ea2\\u67ff\",\"orientation\":\"v\",\"showlegend\":true,\"textposition\":\"auto\",\"x\":[\"\\u897f\\u7ea2\\u67ff\"],\"xaxis\":\"x\",\"y\":[6.666666666666667],\"yaxis\":\"y\",\"type\":\"bar\"},{\"alignmentgroup\":\"True\",\"hovertemplate\":\"\\u4f5c\\u7269\\u540d\\u79f0=%{x}\\u003cbr\\u003e\\u5e73\\u5747\\u4ef7\\u683c\\uff08\\u5143\\u002f\\u65a4\\uff09=%{y}\\u003cextra\\u003e\\u003c\\u002fextra\\u003e\",\"legendgroup\":\"\\u8c37\\u5b50\",\"marker\":{\"color\":\"#636efa\",\"pattern\":{\"shape\":\"\"}},\"name\":\"\\u8c37\\u5b50\",\"offsetgroup\":\"\\u8c37\\u5b50\",\"orientation\":\"v\",\"showlegend\":true,\"textposition\":\"auto\",\"x\":[\"\\u8c37\\u5b50\"],\"xaxis\":\"x\",\"y\":[6.75],\"yaxis\":\"y\",\"type\":\"bar\"},{\"alignmentgroup\":\"True\",\"hovertemplate\":\"\\u4f5c\\u7269\\u540d\\u79f0=%{x}\\u003cbr\\u003e\\u5e73\\u5747\\u4ef7\\u683c\\uff08\\u5143\\u002f\\u65a4\\uff09=%{y}\\u003cextra\\u003e\\u003c\\u002fextra\\u003e\",\"legendgroup\":\"\\u8c47\\u8c46\",\"marker\":{\"color\":\"#EF553B\",\"pattern\":{\"shape\":\"\"}},\"name\":\"\\u8c47\\u8c46\",\"offsetgroup\":\"\\u8c47\\u8c46\",\"orientation\":\"v\",\"showlegend\":true,\"textposition\":\"auto\",\"x\":[\"\\u8c47\\u8c46\"],\"xaxis\":\"x\",\"y\":[8.4],\"yaxis\":\"y\",\"type\":\"bar\"},{\"alignmentgroup\":\"True\",\"hovertemplate\":\"\\u4f5c\\u7269\\u540d\\u79f0=%{x}\\u003cbr\\u003e\\u5e73\\u5747\\u4ef7\\u683c\\uff08\\u5143\\u002f\\u65a4\\uff09=%{y}\\u003cextra\\u003e\\u003c\\u002fextra\\u003e\",\"legendgroup\":\"\\u8fa3\\u6912\",\"marker\":{\"color\":\"#00cc96\",\"pattern\":{\"shape\":\"\"}},\"name\":\"\\u8fa3\\u6912\",\"offsetgroup\":\"\\u8fa3\\u6912\",\"orientation\":\"v\",\"showlegend\":true,\"textposition\":\"auto\",\"x\":[\"\\u8fa3\\u6912\"],\"xaxis\":\"x\",\"y\":[7.25],\"yaxis\":\"y\",\"type\":\"bar\"},{\"alignmentgroup\":\"True\",\"hovertemplate\":\"\\u4f5c\\u7269\\u540d\\u79f0=%{x}\\u003cbr\\u003e\\u5e73\\u5747\\u4ef7\\u683c\\uff08\\u5143\\u002f\\u65a4\\uff09=%{y}\\u003cextra\\u003e\\u003c\\u002fextra\\u003e\",\"legendgroup\":\"\\u9752\\u6912\",\"marker\":{\"color\":\"#ab63fa\",\"pattern\":{\"shape\":\"\"}},\"name\":\"\\u9752\\u6912\",\"offsetgroup\":\"\\u9752\\u6912\",\"orientation\":\"v\",\"showlegend\":true,\"textposition\":\"auto\",\"x\":[\"\\u9752\\u6912\"],\"xaxis\":\"x\",\"y\":[6.025],\"yaxis\":\"y\",\"type\":\"bar\"},{\"alignmentgroup\":\"True\",\"hovertemplate\":\"\\u4f5c\\u7269\\u540d\\u79f0=%{x}\\u003cbr\\u003e\\u5e73\\u5747\\u4ef7\\u683c\\uff08\\u5143\\u002f\\u65a4\\uff09=%{y}\\u003cextra\\u003e\\u003c\\u002fextra\\u003e\",\"legendgroup\":\"\\u9999\\u83c7\",\"marker\":{\"color\":\"#FFA15A\",\"pattern\":{\"shape\":\"\"}},\"name\":\"\\u9999\\u83c7\",\"offsetgroup\":\"\\u9999\\u83c7\",\"orientation\":\"v\",\"showlegend\":true,\"textposition\":\"auto\",\"x\":[\"\\u9999\\u83c7\"],\"xaxis\":\"x\",\"y\":[19.0],\"yaxis\":\"y\",\"type\":\"bar\"},{\"alignmentgroup\":\"True\",\"hovertemplate\":\"\\u4f5c\\u7269\\u540d\\u79f0=%{x}\\u003cbr\\u003e\\u5e73\\u5747\\u4ef7\\u683c\\uff08\\u5143\\u002f\\u65a4\\uff09=%{y}\\u003cextra\\u003e\\u003c\\u002fextra\\u003e\",\"legendgroup\":\"\\u9ad8\\u7cb1\",\"marker\":{\"color\":\"#19d3f3\",\"pattern\":{\"shape\":\"\"}},\"name\":\"\\u9ad8\\u7cb1\",\"offsetgroup\":\"\\u9ad8\\u7cb1\",\"orientation\":\"v\",\"showlegend\":true,\"textposition\":\"auto\",\"x\":[\"\\u9ad8\\u7cb1\"],\"xaxis\":\"x\",\"y\":[6.0],\"yaxis\":\"y\",\"type\":\"bar\"},{\"alignmentgroup\":\"True\",\"hovertemplate\":\"\\u4f5c\\u7269\\u540d\\u79f0=%{x}\\u003cbr\\u003e\\u5e73\\u5747\\u4ef7\\u683c\\uff08\\u5143\\u002f\\u65a4\\uff09=%{y}\\u003cextra\\u003e\\u003c\\u002fextra\\u003e\",\"legendgroup\":\"\\u9ec4\\u5fc3\\u83dc\",\"marker\":{\"color\":\"#FF6692\",\"pattern\":{\"shape\":\"\"}},\"name\":\"\\u9ec4\\u5fc3\\u83dc\",\"offsetgroup\":\"\\u9ec4\\u5fc3\\u83dc\",\"orientation\":\"v\",\"showlegend\":true,\"textposition\":\"auto\",\"x\":[\"\\u9ec4\\u5fc3\\u83dc\"],\"xaxis\":\"x\",\"y\":[5.4],\"yaxis\":\"y\",\"type\":\"bar\"},{\"alignmentgroup\":\"True\",\"hovertemplate\":\"\\u4f5c\\u7269\\u540d\\u79f0=%{x}\\u003cbr\\u003e\\u5e73\\u5747\\u4ef7\\u683c\\uff08\\u5143\\u002f\\u65a4\\uff09=%{y}\\u003cextra\\u003e\\u003c\\u002fextra\\u003e\",\"legendgroup\":\"\\u9ec4\\u74dc\",\"marker\":{\"color\":\"#B6E880\",\"pattern\":{\"shape\":\"\"}},\"name\":\"\\u9ec4\\u74dc\",\"offsetgroup\":\"\\u9ec4\\u74dc\",\"orientation\":\"v\",\"showlegend\":true,\"textposition\":\"auto\",\"x\":[\"\\u9ec4\\u74dc\"],\"xaxis\":\"x\",\"y\":[7.7],\"yaxis\":\"y\",\"type\":\"bar\"},{\"alignmentgroup\":\"True\",\"hovertemplate\":\"\\u4f5c\\u7269\\u540d\\u79f0=%{x}\\u003cbr\\u003e\\u5e73\\u5747\\u4ef7\\u683c\\uff08\\u5143\\u002f\\u65a4\\uff09=%{y}\\u003cextra\\u003e\\u003c\\u002fextra\\u003e\",\"legendgroup\":\"\\u9ec4\\u8c46\",\"marker\":{\"color\":\"#FF97FF\",\"pattern\":{\"shape\":\"\"}},\"name\":\"\\u9ec4\\u8c46\",\"offsetgroup\":\"\\u9ec4\\u8c46\",\"orientation\":\"v\",\"showlegend\":true,\"textposition\":\"auto\",\"x\":[\"\\u9ec4\\u8c46\"],\"xaxis\":\"x\",\"y\":[3.25],\"yaxis\":\"y\",\"type\":\"bar\"},{\"alignmentgroup\":\"True\",\"hovertemplate\":\"\\u4f5c\\u7269\\u540d\\u79f0=%{x}\\u003cbr\\u003e\\u5e73\\u5747\\u4ef7\\u683c\\uff08\\u5143\\u002f\\u65a4\\uff09=%{y}\\u003cextra\\u003e\\u003c\\u002fextra\\u003e\",\"legendgroup\":\"\\u9ecd\\u5b50\",\"marker\":{\"color\":\"#FECB52\",\"pattern\":{\"shape\":\"\"}},\"name\":\"\\u9ecd\\u5b50\",\"offsetgroup\":\"\\u9ecd\\u5b50\",\"orientation\":\"v\",\"showlegend\":true,\"textposition\":\"auto\",\"x\":[\"\\u9ecd\\u5b50\"],\"xaxis\":\"x\",\"y\":[7.5],\"yaxis\":\"y\",\"type\":\"bar\"},{\"alignmentgroup\":\"True\",\"hovertemplate\":\"\\u4f5c\\u7269\\u540d\\u79f0=%{x}\\u003cbr\\u003e\\u5e73\\u5747\\u4ef7\\u683c\\uff08\\u5143\\u002f\\u65a4\\uff09=%{y}\\u003cextra\\u003e\\u003c\\u002fextra\\u003e\",\"legendgroup\":\"\\u9ed1\\u8c46\",\"marker\":{\"color\":\"#636efa\",\"pattern\":{\"shape\":\"\"}},\"name\":\"\\u9ed1\\u8c46\",\"offsetgroup\":\"\\u9ed1\\u8c46\",\"orientation\":\"v\",\"showlegend\":true,\"textposition\":\"auto\",\"x\":[\"\\u9ed1\\u8c46\"],\"xaxis\":\"x\",\"y\":[7.5],\"yaxis\":\"y\",\"type\":\"bar\"}],                        {\"template\":{\"data\":{\"histogram2dcontour\":[{\"type\":\"histogram2dcontour\",\"colorbar\":{\"outlinewidth\":0,\"ticks\":\"\"},\"colorscale\":[[0.0,\"#0d0887\"],[0.1111111111111111,\"#46039f\"],[0.2222222222222222,\"#7201a8\"],[0.3333333333333333,\"#9c179e\"],[0.4444444444444444,\"#bd3786\"],[0.5555555555555556,\"#d8576b\"],[0.6666666666666666,\"#ed7953\"],[0.7777777777777778,\"#fb9f3a\"],[0.8888888888888888,\"#fdca26\"],[1.0,\"#f0f921\"]]}],\"choropleth\":[{\"type\":\"choropleth\",\"colorbar\":{\"outlinewidth\":0,\"ticks\":\"\"}}],\"histogram2d\":[{\"type\":\"histogram2d\",\"colorbar\":{\"outlinewidth\":0,\"ticks\":\"\"},\"colorscale\":[[0.0,\"#0d0887\"],[0.1111111111111111,\"#46039f\"],[0.2222222222222222,\"#7201a8\"],[0.3333333333333333,\"#9c179e\"],[0.4444444444444444,\"#bd3786\"],[0.5555555555555556,\"#d8576b\"],[0.6666666666666666,\"#ed7953\"],[0.7777777777777778,\"#fb9f3a\"],[0.8888888888888888,\"#fdca26\"],[1.0,\"#f0f921\"]]}],\"heatmap\":[{\"type\":\"heatmap\",\"colorbar\":{\"outlinewidth\":0,\"ticks\":\"\"},\"colorscale\":[[0.0,\"#0d0887\"],[0.1111111111111111,\"#46039f\"],[0.2222222222222222,\"#7201a8\"],[0.3333333333333333,\"#9c179e\"],[0.4444444444444444,\"#bd3786\"],[0.5555555555555556,\"#d8576b\"],[0.6666666666666666,\"#ed7953\"],[0.7777777777777778,\"#fb9f3a\"],[0.8888888888888888,\"#fdca26\"],[1.0,\"#f0f921\"]]}],\"heatmapgl\":[{\"type\":\"heatmapgl\",\"colorbar\":{\"outlinewidth\":0,\"ticks\":\"\"},\"colorscale\":[[0.0,\"#0d0887\"],[0.1111111111111111,\"#46039f\"],[0.2222222222222222,\"#7201a8\"],[0.3333333333333333,\"#9c179e\"],[0.4444444444444444,\"#bd3786\"],[0.5555555555555556,\"#d8576b\"],[0.6666666666666666,\"#ed7953\"],[0.7777777777777778,\"#fb9f3a\"],[0.8888888888888888,\"#fdca26\"],[1.0,\"#f0f921\"]]}],\"contourcarpet\":[{\"type\":\"contourcarpet\",\"colorbar\":{\"outlinewidth\":0,\"ticks\":\"\"}}],\"contour\":[{\"type\":\"contour\",\"colorbar\":{\"outlinewidth\":0,\"ticks\":\"\"},\"colorscale\":[[0.0,\"#0d0887\"],[0.1111111111111111,\"#46039f\"],[0.2222222222222222,\"#7201a8\"],[0.3333333333333333,\"#9c179e\"],[0.4444444444444444,\"#bd3786\"],[0.5555555555555556,\"#d8576b\"],[0.6666666666666666,\"#ed7953\"],[0.7777777777777778,\"#fb9f3a\"],[0.8888888888888888,\"#fdca26\"],[1.0,\"#f0f921\"]]}],\"surface\":[{\"type\":\"surface\",\"colorbar\":{\"outlinewidth\":0,\"ticks\":\"\"},\"colorscale\":[[0.0,\"#0d0887\"],[0.1111111111111111,\"#46039f\"],[0.2222222222222222,\"#7201a8\"],[0.3333333333333333,\"#9c179e\"],[0.4444444444444444,\"#bd3786\"],[0.5555555555555556,\"#d8576b\"],[0.6666666666666666,\"#ed7953\"],[0.7777777777777778,\"#fb9f3a\"],[0.8888888888888888,\"#fdca26\"],[1.0,\"#f0f921\"]]}],\"mesh3d\":[{\"type\":\"mesh3d\",\"colorbar\":{\"outlinewidth\":0,\"ticks\":\"\"}}],\"scatter\":[{\"fillpattern\":{\"fillmode\":\"overlay\",\"size\":10,\"solidity\":0.2},\"type\":\"scatter\"}],\"parcoords\":[{\"type\":\"parcoords\",\"line\":{\"colorbar\":{\"outlinewidth\":0,\"ticks\":\"\"}}}],\"scatterpolargl\":[{\"type\":\"scatterpolargl\",\"marker\":{\"colorbar\":{\"outlinewidth\":0,\"ticks\":\"\"}}}],\"bar\":[{\"error_x\":{\"color\":\"#2a3f5f\"},\"error_y\":{\"color\":\"#2a3f5f\"},\"marker\":{\"line\":{\"color\":\"#E5ECF6\",\"width\":0.5},\"pattern\":{\"fillmode\":\"overlay\",\"size\":10,\"solidity\":0.2}},\"type\":\"bar\"}],\"scattergeo\":[{\"type\":\"scattergeo\",\"marker\":{\"colorbar\":{\"outlinewidth\":0,\"ticks\":\"\"}}}],\"scatterpolar\":[{\"type\":\"scatterpolar\",\"marker\":{\"colorbar\":{\"outlinewidth\":0,\"ticks\":\"\"}}}],\"histogram\":[{\"marker\":{\"pattern\":{\"fillmode\":\"overlay\",\"size\":10,\"solidity\":0.2}},\"type\":\"histogram\"}],\"scattergl\":[{\"type\":\"scattergl\",\"marker\":{\"colorbar\":{\"outlinewidth\":0,\"ticks\":\"\"}}}],\"scatter3d\":[{\"type\":\"scatter3d\",\"line\":{\"colorbar\":{\"outlinewidth\":0,\"ticks\":\"\"}},\"marker\":{\"colorbar\":{\"outlinewidth\":0,\"ticks\":\"\"}}}],\"scattermapbox\":[{\"type\":\"scattermapbox\",\"marker\":{\"colorbar\":{\"outlinewidth\":0,\"ticks\":\"\"}}}],\"scatterternary\":[{\"type\":\"scatterternary\",\"marker\":{\"colorbar\":{\"outlinewidth\":0,\"ticks\":\"\"}}}],\"scattercarpet\":[{\"type\":\"scattercarpet\",\"marker\":{\"colorbar\":{\"outlinewidth\":0,\"ticks\":\"\"}}}],\"carpet\":[{\"aaxis\":{\"endlinecolor\":\"#2a3f5f\",\"gridcolor\":\"white\",\"linecolor\":\"white\",\"minorgridcolor\":\"white\",\"startlinecolor\":\"#2a3f5f\"},\"baxis\":{\"endlinecolor\":\"#2a3f5f\",\"gridcolor\":\"white\",\"linecolor\":\"white\",\"minorgridcolor\":\"white\",\"startlinecolor\":\"#2a3f5f\"},\"type\":\"carpet\"}],\"table\":[{\"cells\":{\"fill\":{\"color\":\"#EBF0F8\"},\"line\":{\"color\":\"white\"}},\"header\":{\"fill\":{\"color\":\"#C8D4E3\"},\"line\":{\"color\":\"white\"}},\"type\":\"table\"}],\"barpolar\":[{\"marker\":{\"line\":{\"color\":\"#E5ECF6\",\"width\":0.5},\"pattern\":{\"fillmode\":\"overlay\",\"size\":10,\"solidity\":0.2}},\"type\":\"barpolar\"}],\"pie\":[{\"automargin\":true,\"type\":\"pie\"}]},\"layout\":{\"autotypenumbers\":\"strict\",\"colorway\":[\"#636efa\",\"#EF553B\",\"#00cc96\",\"#ab63fa\",\"#FFA15A\",\"#19d3f3\",\"#FF6692\",\"#B6E880\",\"#FF97FF\",\"#FECB52\"],\"font\":{\"color\":\"#2a3f5f\"},\"hovermode\":\"closest\",\"hoverlabel\":{\"align\":\"left\"},\"paper_bgcolor\":\"white\",\"plot_bgcolor\":\"#E5ECF6\",\"polar\":{\"bgcolor\":\"#E5ECF6\",\"angularaxis\":{\"gridcolor\":\"white\",\"linecolor\":\"white\",\"ticks\":\"\"},\"radialaxis\":{\"gridcolor\":\"white\",\"linecolor\":\"white\",\"ticks\":\"\"}},\"ternary\":{\"bgcolor\":\"#E5ECF6\",\"aaxis\":{\"gridcolor\":\"white\",\"linecolor\":\"white\",\"ticks\":\"\"},\"baxis\":{\"gridcolor\":\"white\",\"linecolor\":\"white\",\"ticks\":\"\"},\"caxis\":{\"gridcolor\":\"white\",\"linecolor\":\"white\",\"ticks\":\"\"}},\"coloraxis\":{\"colorbar\":{\"outlinewidth\":0,\"ticks\":\"\"}},\"colorscale\":{\"sequential\":[[0.0,\"#0d0887\"],[0.1111111111111111,\"#46039f\"],[0.2222222222222222,\"#7201a8\"],[0.3333333333333333,\"#9c179e\"],[0.4444444444444444,\"#bd3786\"],[0.5555555555555556,\"#d8576b\"],[0.6666666666666666,\"#ed7953\"],[0.7777777777777778,\"#fb9f3a\"],[0.8888888888888888,\"#fdca26\"],[1.0,\"#f0f921\"]],\"sequentialminus\":[[0.0,\"#0d0887\"],[0.1111111111111111,\"#46039f\"],[0.2222222222222222,\"#7201a8\"],[0.3333333333333333,\"#9c179e\"],[0.4444444444444444,\"#bd3786\"],[0.5555555555555556,\"#d8576b\"],[0.6666666666666666,\"#ed7953\"],[0.7777777777777778,\"#fb9f3a\"],[0.8888888888888888,\"#fdca26\"],[1.0,\"#f0f921\"]],\"diverging\":[[0,\"#8e0152\"],[0.1,\"#c51b7d\"],[0.2,\"#de77ae\"],[0.3,\"#f1b6da\"],[0.4,\"#fde0ef\"],[0.5,\"#f7f7f7\"],[0.6,\"#e6f5d0\"],[0.7,\"#b8e186\"],[0.8,\"#7fbc41\"],[0.9,\"#4d9221\"],[1,\"#276419\"]]},\"xaxis\":{\"gridcolor\":\"white\",\"linecolor\":\"white\",\"ticks\":\"\",\"title\":{\"standoff\":15},\"zerolinecolor\":\"white\",\"automargin\":true,\"zerolinewidth\":2},\"yaxis\":{\"gridcolor\":\"white\",\"linecolor\":\"white\",\"ticks\":\"\",\"title\":{\"standoff\":15},\"zerolinecolor\":\"white\",\"automargin\":true,\"zerolinewidth\":2},\"scene\":{\"xaxis\":{\"backgroundcolor\":\"#E5ECF6\",\"gridcolor\":\"white\",\"linecolor\":\"white\",\"showbackground\":true,\"ticks\":\"\",\"zerolinecolor\":\"white\",\"gridwidth\":2},\"yaxis\":{\"backgroundcolor\":\"#E5ECF6\",\"gridcolor\":\"white\",\"linecolor\":\"white\",\"showbackground\":true,\"ticks\":\"\",\"zerolinecolor\":\"white\",\"gridwidth\":2},\"zaxis\":{\"backgroundcolor\":\"#E5ECF6\",\"gridcolor\":\"white\",\"linecolor\":\"white\",\"showbackground\":true,\"ticks\":\"\",\"zerolinecolor\":\"white\",\"gridwidth\":2}},\"shapedefaults\":{\"line\":{\"color\":\"#2a3f5f\"}},\"annotationdefaults\":{\"arrowcolor\":\"#2a3f5f\",\"arrowhead\":0,\"arrowwidth\":1},\"geo\":{\"bgcolor\":\"white\",\"landcolor\":\"#E5ECF6\",\"subunitcolor\":\"white\",\"showland\":true,\"showlakes\":true,\"lakecolor\":\"white\"},\"title\":{\"x\":0.05},\"mapbox\":{\"style\":\"light\"}}},\"xaxis\":{\"anchor\":\"y\",\"domain\":[0.0,1.0],\"title\":{\"text\":\"\\u4f5c\\u7269\\u540d\\u79f0\"},\"categoryorder\":\"array\",\"categoryarray\":[\"\\u5200\\u8c46\",\"\\u5305\\u83dc\",\"\\u5357\\u74dc\",\"\\u571f\\u8c46\",\"\\u5927\\u767d\\u83dc\",\"\\u5927\\u9ea6\",\"\\u5c0f\\u9752\\u83dc\",\"\\u5c0f\\u9ea6\",\"\\u6986\\u9ec4\\u83c7\",\"\\u6c34\\u7a3b\",\"\\u6cb9\\u9ea6\\u83dc\",\"\\u722c\\u8c46\",\"\\u7389\\u7c73\",\"\\u751f\\u83dc\",\"\\u767d\\u7075\\u83c7\",\"\\u767d\\u841d\\u535c\",\"\\u7a7a\\u5fc3\\u83dc\",\"\\u7ea2\\u841d\\u535c\",\"\\u7ea2\\u85af\",\"\\u7ea2\\u8c46\",\"\\u7eff\\u8c46\",\"\\u7f8a\\u809a\\u83cc\",\"\\u82b8\\u8c46\",\"\\u82b9\\u83dc\",\"\\u8304\\u5b50\",\"\\u835e\\u9ea6\",\"\\u839c\\u9ea6\",\"\\u83dc\\u82b1\",\"\\u83e0\\u83dc\",\"\\u897f\\u7ea2\\u67ff\",\"\\u8c37\\u5b50\",\"\\u8c47\\u8c46\",\"\\u8fa3\\u6912\",\"\\u9752\\u6912\",\"\\u9999\\u83c7\",\"\\u9ad8\\u7cb1\",\"\\u9ec4\\u5fc3\\u83dc\",\"\\u9ec4\\u74dc\",\"\\u9ec4\\u8c46\",\"\\u9ecd\\u5b50\",\"\\u9ed1\\u8c46\"]},\"yaxis\":{\"anchor\":\"x\",\"domain\":[0.0,1.0],\"title\":{\"text\":\"\\u5e73\\u5747\\u4ef7\\u683c\\uff08\\u5143\\u002f\\u65a4\\uff09\"},\"type\":\"log\"},\"legend\":{\"title\":{\"text\":\"\\u4f5c\\u7269\\u540d\\u79f0\"},\"tracegroupgap\":0},\"title\":{\"text\":\"\\u5404\\u79cd\\u4f5c\\u7269\\u5728\\u4e0d\\u540c\\u5730\\u5757\\u7c7b\\u578b\\u4e0b\\u7684\\u5e73\\u5747\\u4ef7\\u683c\\uff08\\u5143\\u002f\\u65a4\\uff09\"},\"barmode\":\"relative\",\"height\":750,\"width\":1500,\"showlegend\":false},                        {\"responsive\": true}                    ).then(function(){\n",
       "                            \n",
       "var gd = document.getElementById('0bae324d-19c2-49b9-9419-b972bc6a3547');\n",
       "var x = new MutationObserver(function (mutations, observer) {{\n",
       "        var display = window.getComputedStyle(gd).display;\n",
       "        if (!display || display === 'none') {{\n",
       "            console.log([gd, 'removed!']);\n",
       "            Plotly.purge(gd);\n",
       "            observer.disconnect();\n",
       "        }}\n",
       "}});\n",
       "\n",
       "// Listen for the removal of the full notebook cells\n",
       "var notebookContainer = gd.closest('#notebook-container');\n",
       "if (notebookContainer) {{\n",
       "    x.observe(notebookContainer, {childList: true});\n",
       "}}\n",
       "\n",
       "// Listen for the clearing of the current output cell\n",
       "var outputEl = gd.closest('.output');\n",
       "if (outputEl) {{\n",
       "    x.observe(outputEl, {childList: true});\n",
       "}}\n",
       "\n",
       "                        })                };                });            </script>        </div>"
      ]
     },
     "metadata": {},
     "output_type": "display_data"
    }
   ],
   "source": [
    "import plotly.express as px\n",
    "from plotly.subplots import make_subplots\n",
    "\n",
    "# 计算每种作物在不同类型地块上面的价格方差\n",
    "price_var = df.groupby([\"Crop Name\"])[\"Price\"].var().fillna(0)\n",
    "cost_var = df.groupby([\"Crop Name\"])[\"Cost\"].var().fillna(0)\n",
    "\n",
    "# 使用 Plotly Express 创建第一个图表\n",
    "fig1 = px.bar(\n",
    "    x=price_var.index,\n",
    "    y=price_var,\n",
    "    labels={\"x\": \"作物\", \"y\": \"价格方差（元/斤）\"},\n",
    ")\n",
    "\n",
    "# 使用 Plotly Express 创建第二个图表\n",
    "fig2 = px.bar(\n",
    "    x=cost_var.index,\n",
    "    y=cost_var,\n",
    "    labels={\"x\": \"作物\", \"y\": \"价格方差（元/斤）\"},\n",
    ")\n",
    "\n",
    "# 创建子图\n",
    "fig = make_subplots(\n",
    "    rows=1,\n",
    "    cols=2,\n",
    "    subplot_titles=(\"价格方差（元/斤）\", \"成本方差（元/斤）\"),\n",
    ")\n",
    "\n",
    "# 将第一个图表添加到子图中\n",
    "for trace in fig1.data:\n",
    "    fig.add_trace(trace, row=1, col=1)\n",
    "\n",
    "# 将第二个图表添加到子图中\n",
    "for trace in fig2.data:\n",
    "    fig.add_trace(trace, row=1, col=2)\n",
    "\n",
    "# 设置子图的高度和宽度\n",
    "fig.update_layout(\n",
    "    height=400,  # 设置高度\n",
    "    width=1500,\n",
    ")\n",
    "\n",
    "fig.show()\n",
    "\n",
    "\n",
    "# 计算每种作物在不同地块类型的平均价格\n",
    "avg_price_df = df.groupby([\"Crop Name\"])[\"Price\"].agg(\"mean\")\n",
    "fig = px.bar(\n",
    "    avg_price_df,\n",
    "    color=avg_price_df.index,\n",
    "    title=\"各种作物在不同地块类型下的平均价格（元/斤）\",\n",
    "    labels={\n",
    "        \"Field Type\": \"地块类型\",\n",
    "        \"value\": \"平均价格（元/斤）\",\n",
    "        \"Crop Name\": \"作物名称\",\n",
    "    },\n",
    "    log_y=True,\n",
    "    height=750,\n",
    "    width=1500,\n",
    ")\n",
    "fig.update_layout(showlegend=False)\n",
    "fig.show()"
   ]
  },
  {
   "cell_type": "markdown",
   "metadata": {},
   "source": [
    "## 种植面积"
   ]
  },
  {
   "cell_type": "code",
   "execution_count": 205,
   "metadata": {},
   "outputs": [
    {
     "data": {
      "application/vnd.plotly.v1+json": {
       "config": {
        "plotlyServerURL": "https://plot.ly"
       },
       "data": [
        {
         "alignmentgroup": "True",
         "hovertemplate": "作物名称=%{x}<br>总种植面积（亩）=%{y}<extra></extra>",
         "legendgroup": "刀豆",
         "marker": {
          "color": "#636efa",
          "pattern": {
           "shape": ""
          }
         },
         "name": "刀豆",
         "offsetgroup": "刀豆",
         "orientation": "v",
         "showlegend": true,
         "textposition": "auto",
         "type": "bar",
         "x": [
          "刀豆"
         ],
         "xaxis": "x",
         "y": [
          13.2
         ],
         "yaxis": "y"
        },
        {
         "alignmentgroup": "True",
         "hovertemplate": "作物名称=%{x}<br>总种植面积（亩）=%{y}<extra></extra>",
         "legendgroup": "包菜",
         "marker": {
          "color": "#EF553B",
          "pattern": {
           "shape": ""
          }
         },
         "name": "包菜",
         "offsetgroup": "包菜",
         "orientation": "v",
         "showlegend": true,
         "textposition": "auto",
         "type": "bar",
         "x": [
          "包菜"
         ],
         "xaxis": "x",
         "y": [
          0.8999999999999999
         ],
         "yaxis": "y"
        },
        {
         "alignmentgroup": "True",
         "hovertemplate": "作物名称=%{x}<br>总种植面积（亩）=%{y}<extra></extra>",
         "legendgroup": "南瓜",
         "marker": {
          "color": "#00cc96",
          "pattern": {
           "shape": ""
          }
         },
         "name": "南瓜",
         "offsetgroup": "南瓜",
         "orientation": "v",
         "showlegend": true,
         "textposition": "auto",
         "type": "bar",
         "x": [
          "南瓜"
         ],
         "xaxis": "x",
         "y": [
          13
         ],
         "yaxis": "y"
        },
        {
         "alignmentgroup": "True",
         "hovertemplate": "作物名称=%{x}<br>总种植面积（亩）=%{y}<extra></extra>",
         "legendgroup": "土豆",
         "marker": {
          "color": "#ab63fa",
          "pattern": {
           "shape": ""
          }
         },
         "name": "土豆",
         "offsetgroup": "土豆",
         "orientation": "v",
         "showlegend": true,
         "textposition": "auto",
         "type": "bar",
         "x": [
          "土豆"
         ],
         "xaxis": "x",
         "y": [
          15
         ],
         "yaxis": "y"
        },
        {
         "alignmentgroup": "True",
         "hovertemplate": "作物名称=%{x}<br>总种植面积（亩）=%{y}<extra></extra>",
         "legendgroup": "大白菜",
         "marker": {
          "color": "#FFA15A",
          "pattern": {
           "shape": ""
          }
         },
         "name": "大白菜",
         "offsetgroup": "大白菜",
         "orientation": "v",
         "showlegend": true,
         "textposition": "auto",
         "type": "bar",
         "x": [
          "大白菜"
         ],
         "xaxis": "x",
         "y": [
          30
         ],
         "yaxis": "y"
        },
        {
         "alignmentgroup": "True",
         "hovertemplate": "作物名称=%{x}<br>总种植面积（亩）=%{y}<extra></extra>",
         "legendgroup": "大麦",
         "marker": {
          "color": "#19d3f3",
          "pattern": {
           "shape": ""
          }
         },
         "name": "大麦",
         "offsetgroup": "大麦",
         "orientation": "v",
         "showlegend": true,
         "textposition": "auto",
         "type": "bar",
         "x": [
          "大麦"
         ],
         "xaxis": "x",
         "y": [
          20
         ],
         "yaxis": "y"
        },
        {
         "alignmentgroup": "True",
         "hovertemplate": "作物名称=%{x}<br>总种植面积（亩）=%{y}<extra></extra>",
         "legendgroup": "小青菜",
         "marker": {
          "color": "#FF6692",
          "pattern": {
           "shape": ""
          }
         },
         "name": "小青菜",
         "offsetgroup": "小青菜",
         "orientation": "v",
         "showlegend": true,
         "textposition": "auto",
         "type": "bar",
         "x": [
          "小青菜"
         ],
         "xaxis": "x",
         "y": [
          10.9
         ],
         "yaxis": "y"
        },
        {
         "alignmentgroup": "True",
         "hovertemplate": "作物名称=%{x}<br>总种植面积（亩）=%{y}<extra></extra>",
         "legendgroup": "小麦",
         "marker": {
          "color": "#B6E880",
          "pattern": {
           "shape": ""
          }
         },
         "name": "小麦",
         "offsetgroup": "小麦",
         "orientation": "v",
         "showlegend": true,
         "textposition": "auto",
         "type": "bar",
         "x": [
          "小麦"
         ],
         "xaxis": "x",
         "y": [
          222
         ],
         "yaxis": "y"
        },
        {
         "alignmentgroup": "True",
         "hovertemplate": "作物名称=%{x}<br>总种植面积（亩）=%{y}<extra></extra>",
         "legendgroup": "榆黄菇",
         "marker": {
          "color": "#FF97FF",
          "pattern": {
           "shape": ""
          }
         },
         "name": "榆黄菇",
         "offsetgroup": "榆黄菇",
         "orientation": "v",
         "showlegend": true,
         "textposition": "auto",
         "type": "bar",
         "x": [
          "榆黄菇"
         ],
         "xaxis": "x",
         "y": [
          1.7999999999999998
         ],
         "yaxis": "y"
        },
        {
         "alignmentgroup": "True",
         "hovertemplate": "作物名称=%{x}<br>总种植面积（亩）=%{y}<extra></extra>",
         "legendgroup": "水稻",
         "marker": {
          "color": "#FECB52",
          "pattern": {
           "shape": ""
          }
         },
         "name": "水稻",
         "offsetgroup": "水稻",
         "orientation": "v",
         "showlegend": true,
         "textposition": "auto",
         "type": "bar",
         "x": [
          "水稻"
         ],
         "xaxis": "x",
         "y": [
          42
         ],
         "yaxis": "y"
        },
        {
         "alignmentgroup": "True",
         "hovertemplate": "作物名称=%{x}<br>总种植面积（亩）=%{y}<extra></extra>",
         "legendgroup": "油麦菜",
         "marker": {
          "color": "#636efa",
          "pattern": {
           "shape": ""
          }
         },
         "name": "油麦菜",
         "offsetgroup": "油麦菜",
         "orientation": "v",
         "showlegend": true,
         "textposition": "auto",
         "type": "bar",
         "x": [
          "油麦菜"
         ],
         "xaxis": "x",
         "y": [
          0.8999999999999999
         ],
         "yaxis": "y"
        },
        {
         "alignmentgroup": "True",
         "hovertemplate": "作物名称=%{x}<br>总种植面积（亩）=%{y}<extra></extra>",
         "legendgroup": "爬豆",
         "marker": {
          "color": "#EF553B",
          "pattern": {
           "shape": ""
          }
         },
         "name": "爬豆",
         "offsetgroup": "爬豆",
         "orientation": "v",
         "showlegend": true,
         "textposition": "auto",
         "type": "bar",
         "x": [
          "爬豆"
         ],
         "xaxis": "x",
         "y": [
          25
         ],
         "yaxis": "y"
        },
        {
         "alignmentgroup": "True",
         "hovertemplate": "作物名称=%{x}<br>总种植面积（亩）=%{y}<extra></extra>",
         "legendgroup": "玉米",
         "marker": {
          "color": "#00cc96",
          "pattern": {
           "shape": ""
          }
         },
         "name": "玉米",
         "offsetgroup": "玉米",
         "orientation": "v",
         "showlegend": true,
         "textposition": "auto",
         "type": "bar",
         "x": [
          "玉米"
         ],
         "xaxis": "x",
         "y": [
          135
         ],
         "yaxis": "y"
        },
        {
         "alignmentgroup": "True",
         "hovertemplate": "作物名称=%{x}<br>总种植面积（亩）=%{y}<extra></extra>",
         "legendgroup": "生菜",
         "marker": {
          "color": "#ab63fa",
          "pattern": {
           "shape": ""
          }
         },
         "name": "生菜",
         "offsetgroup": "生菜",
         "orientation": "v",
         "showlegend": true,
         "textposition": "auto",
         "type": "bar",
         "x": [
          "生菜"
         ],
         "xaxis": "x",
         "y": [
          0.6
         ],
         "yaxis": "y"
        },
        {
         "alignmentgroup": "True",
         "hovertemplate": "作物名称=%{x}<br>总种植面积（亩）=%{y}<extra></extra>",
         "legendgroup": "白灵菇",
         "marker": {
          "color": "#FFA15A",
          "pattern": {
           "shape": ""
          }
         },
         "name": "白灵菇",
         "offsetgroup": "白灵菇",
         "orientation": "v",
         "showlegend": true,
         "textposition": "auto",
         "type": "bar",
         "x": [
          "白灵菇"
         ],
         "xaxis": "x",
         "y": [
          1.7999999999999998
         ],
         "yaxis": "y"
        },
        {
         "alignmentgroup": "True",
         "hovertemplate": "作物名称=%{x}<br>总种植面积（亩）=%{y}<extra></extra>",
         "legendgroup": "白萝卜",
         "marker": {
          "color": "#19d3f3",
          "pattern": {
           "shape": ""
          }
         },
         "name": "白萝卜",
         "offsetgroup": "白萝卜",
         "orientation": "v",
         "showlegend": true,
         "textposition": "auto",
         "type": "bar",
         "x": [
          "白萝卜"
         ],
         "xaxis": "x",
         "y": [
          25
         ],
         "yaxis": "y"
        },
        {
         "alignmentgroup": "True",
         "hovertemplate": "作物名称=%{x}<br>总种植面积（亩）=%{y}<extra></extra>",
         "legendgroup": "空心菜",
         "marker": {
          "color": "#FF6692",
          "pattern": {
           "shape": ""
          }
         },
         "name": "空心菜",
         "offsetgroup": "空心菜",
         "orientation": "v",
         "showlegend": true,
         "textposition": "auto",
         "type": "bar",
         "x": [
          "空心菜"
         ],
         "xaxis": "x",
         "y": [
          0.3
         ],
         "yaxis": "y"
        },
        {
         "alignmentgroup": "True",
         "hovertemplate": "作物名称=%{x}<br>总种植面积（亩）=%{y}<extra></extra>",
         "legendgroup": "红萝卜",
         "marker": {
          "color": "#B6E880",
          "pattern": {
           "shape": ""
          }
         },
         "name": "红萝卜",
         "offsetgroup": "红萝卜",
         "orientation": "v",
         "showlegend": true,
         "textposition": "auto",
         "type": "bar",
         "x": [
          "红萝卜"
         ],
         "xaxis": "x",
         "y": [
          12
         ],
         "yaxis": "y"
        },
        {
         "alignmentgroup": "True",
         "hovertemplate": "作物名称=%{x}<br>总种植面积（亩）=%{y}<extra></extra>",
         "legendgroup": "红薯",
         "marker": {
          "color": "#FF97FF",
          "pattern": {
           "shape": ""
          }
         },
         "name": "红薯",
         "offsetgroup": "红薯",
         "orientation": "v",
         "showlegend": true,
         "textposition": "auto",
         "type": "bar",
         "x": [
          "红薯"
         ],
         "xaxis": "x",
         "y": [
          18
         ],
         "yaxis": "y"
        },
        {
         "alignmentgroup": "True",
         "hovertemplate": "作物名称=%{x}<br>总种植面积（亩）=%{y}<extra></extra>",
         "legendgroup": "红豆",
         "marker": {
          "color": "#FECB52",
          "pattern": {
           "shape": ""
          }
         },
         "name": "红豆",
         "offsetgroup": "红豆",
         "orientation": "v",
         "showlegend": true,
         "textposition": "auto",
         "type": "bar",
         "x": [
          "红豆"
         ],
         "xaxis": "x",
         "y": [
          60
         ],
         "yaxis": "y"
        },
        {
         "alignmentgroup": "True",
         "hovertemplate": "作物名称=%{x}<br>总种植面积（亩）=%{y}<extra></extra>",
         "legendgroup": "绿豆",
         "marker": {
          "color": "#636efa",
          "pattern": {
           "shape": ""
          }
         },
         "name": "绿豆",
         "offsetgroup": "绿豆",
         "orientation": "v",
         "showlegend": true,
         "textposition": "auto",
         "type": "bar",
         "x": [
          "绿豆"
         ],
         "xaxis": "x",
         "y": [
          96
         ],
         "yaxis": "y"
        },
        {
         "alignmentgroup": "True",
         "hovertemplate": "作物名称=%{x}<br>总种植面积（亩）=%{y}<extra></extra>",
         "legendgroup": "羊肚菌",
         "marker": {
          "color": "#EF553B",
          "pattern": {
           "shape": ""
          }
         },
         "name": "羊肚菌",
         "offsetgroup": "羊肚菌",
         "orientation": "v",
         "showlegend": true,
         "textposition": "auto",
         "type": "bar",
         "x": [
          "羊肚菌"
         ],
         "xaxis": "x",
         "y": [
          4.2
         ],
         "yaxis": "y"
        },
        {
         "alignmentgroup": "True",
         "hovertemplate": "作物名称=%{x}<br>总种植面积（亩）=%{y}<extra></extra>",
         "legendgroup": "芸豆",
         "marker": {
          "color": "#00cc96",
          "pattern": {
           "shape": ""
          }
         },
         "name": "芸豆",
         "offsetgroup": "芸豆",
         "orientation": "v",
         "showlegend": true,
         "textposition": "auto",
         "type": "bar",
         "x": [
          "芸豆"
         ],
         "xaxis": "x",
         "y": [
          1.7999999999999998
         ],
         "yaxis": "y"
        },
        {
         "alignmentgroup": "True",
         "hovertemplate": "作物名称=%{x}<br>总种植面积（亩）=%{y}<extra></extra>",
         "legendgroup": "芹菜",
         "marker": {
          "color": "#ab63fa",
          "pattern": {
           "shape": ""
          }
         },
         "name": "芹菜",
         "offsetgroup": "芹菜",
         "orientation": "v",
         "showlegend": true,
         "textposition": "auto",
         "type": "bar",
         "x": [
          "芹菜"
         ],
         "xaxis": "x",
         "y": [
          0.3
         ],
         "yaxis": "y"
        },
        {
         "alignmentgroup": "True",
         "hovertemplate": "作物名称=%{x}<br>总种植面积（亩）=%{y}<extra></extra>",
         "legendgroup": "茄子",
         "marker": {
          "color": "#FFA15A",
          "pattern": {
           "shape": ""
          }
         },
         "name": "茄子",
         "offsetgroup": "茄子",
         "orientation": "v",
         "showlegend": true,
         "textposition": "auto",
         "type": "bar",
         "x": [
          "茄子"
         ],
         "xaxis": "x",
         "y": [
          6.9
         ],
         "yaxis": "y"
        },
        {
         "alignmentgroup": "True",
         "hovertemplate": "作物名称=%{x}<br>总种植面积（亩）=%{y}<extra></extra>",
         "legendgroup": "荞麦",
         "marker": {
          "color": "#19d3f3",
          "pattern": {
           "shape": ""
          }
         },
         "name": "荞麦",
         "offsetgroup": "荞麦",
         "orientation": "v",
         "showlegend": true,
         "textposition": "auto",
         "type": "bar",
         "x": [
          "荞麦"
         ],
         "xaxis": "x",
         "y": [
          15
         ],
         "yaxis": "y"
        },
        {
         "alignmentgroup": "True",
         "hovertemplate": "作物名称=%{x}<br>总种植面积（亩）=%{y}<extra></extra>",
         "legendgroup": "莜麦",
         "marker": {
          "color": "#FF6692",
          "pattern": {
           "shape": ""
          }
         },
         "name": "莜麦",
         "offsetgroup": "莜麦",
         "orientation": "v",
         "showlegend": true,
         "textposition": "auto",
         "type": "bar",
         "x": [
          "莜麦"
         ],
         "xaxis": "x",
         "y": [
          35
         ],
         "yaxis": "y"
        },
        {
         "alignmentgroup": "True",
         "hovertemplate": "作物名称=%{x}<br>总种植面积（亩）=%{y}<extra></extra>",
         "legendgroup": "菜花",
         "marker": {
          "color": "#B6E880",
          "pattern": {
           "shape": ""
          }
         },
         "name": "菜花",
         "offsetgroup": "菜花",
         "orientation": "v",
         "showlegend": true,
         "textposition": "auto",
         "type": "bar",
         "x": [
          "菜花"
         ],
         "xaxis": "x",
         "y": [
          0.8999999999999999
         ],
         "yaxis": "y"
        },
        {
         "alignmentgroup": "True",
         "hovertemplate": "作物名称=%{x}<br>总种植面积（亩）=%{y}<extra></extra>",
         "legendgroup": "菠菜",
         "marker": {
          "color": "#FF97FF",
          "pattern": {
           "shape": ""
          }
         },
         "name": "菠菜",
         "offsetgroup": "菠菜",
         "orientation": "v",
         "showlegend": true,
         "textposition": "auto",
         "type": "bar",
         "x": [
          "菠菜"
         ],
         "xaxis": "x",
         "y": [
          0.3
         ],
         "yaxis": "y"
        },
        {
         "alignmentgroup": "True",
         "hovertemplate": "作物名称=%{x}<br>总种植面积（亩）=%{y}<extra></extra>",
         "legendgroup": "西红柿",
         "marker": {
          "color": "#FECB52",
          "pattern": {
           "shape": ""
          }
         },
         "name": "西红柿",
         "offsetgroup": "西红柿",
         "orientation": "v",
         "showlegend": true,
         "textposition": "auto",
         "type": "bar",
         "x": [
          "西红柿"
         ],
         "xaxis": "x",
         "y": [
          14.9
         ],
         "yaxis": "y"
        },
        {
         "alignmentgroup": "True",
         "hovertemplate": "作物名称=%{x}<br>总种植面积（亩）=%{y}<extra></extra>",
         "legendgroup": "谷子",
         "marker": {
          "color": "#636efa",
          "pattern": {
           "shape": ""
          }
         },
         "name": "谷子",
         "offsetgroup": "谷子",
         "orientation": "v",
         "showlegend": true,
         "textposition": "auto",
         "type": "bar",
         "x": [
          "谷子"
         ],
         "xaxis": "x",
         "y": [
          185
         ],
         "yaxis": "y"
        },
        {
         "alignmentgroup": "True",
         "hovertemplate": "作物名称=%{x}<br>总种植面积（亩）=%{y}<extra></extra>",
         "legendgroup": "豇豆",
         "marker": {
          "color": "#EF553B",
          "pattern": {
           "shape": ""
          }
         },
         "name": "豇豆",
         "offsetgroup": "豇豆",
         "orientation": "v",
         "showlegend": true,
         "textposition": "auto",
         "type": "bar",
         "x": [
          "豇豆"
         ],
         "xaxis": "x",
         "y": [
          11.8
         ],
         "yaxis": "y"
        },
        {
         "alignmentgroup": "True",
         "hovertemplate": "作物名称=%{x}<br>总种植面积（亩）=%{y}<extra></extra>",
         "legendgroup": "辣椒",
         "marker": {
          "color": "#00cc96",
          "pattern": {
           "shape": ""
          }
         },
         "name": "辣椒",
         "offsetgroup": "辣椒",
         "orientation": "v",
         "showlegend": true,
         "textposition": "auto",
         "type": "bar",
         "x": [
          "辣椒"
         ],
         "xaxis": "x",
         "y": [
          0.6
         ],
         "yaxis": "y"
        },
        {
         "alignmentgroup": "True",
         "hovertemplate": "作物名称=%{x}<br>总种植面积（亩）=%{y}<extra></extra>",
         "legendgroup": "青椒",
         "marker": {
          "color": "#ab63fa",
          "pattern": {
           "shape": ""
          }
         },
         "name": "青椒",
         "offsetgroup": "青椒",
         "orientation": "v",
         "showlegend": true,
         "textposition": "auto",
         "type": "bar",
         "x": [
          "青椒"
         ],
         "xaxis": "x",
         "y": [
          0.8999999999999999
         ],
         "yaxis": "y"
        },
        {
         "alignmentgroup": "True",
         "hovertemplate": "作物名称=%{x}<br>总种植面积（亩）=%{y}<extra></extra>",
         "legendgroup": "香菇",
         "marker": {
          "color": "#FFA15A",
          "pattern": {
           "shape": ""
          }
         },
         "name": "香菇",
         "offsetgroup": "香菇",
         "orientation": "v",
         "showlegend": true,
         "textposition": "auto",
         "type": "bar",
         "x": [
          "香菇"
         ],
         "xaxis": "x",
         "y": [
          1.7999999999999998
         ],
         "yaxis": "y"
        },
        {
         "alignmentgroup": "True",
         "hovertemplate": "作物名称=%{x}<br>总种植面积（亩）=%{y}<extra></extra>",
         "legendgroup": "高粱",
         "marker": {
          "color": "#19d3f3",
          "pattern": {
           "shape": ""
          }
         },
         "name": "高粱",
         "offsetgroup": "高粱",
         "orientation": "v",
         "showlegend": true,
         "textposition": "auto",
         "type": "bar",
         "x": [
          "高粱"
         ],
         "xaxis": "x",
         "y": [
          50
         ],
         "yaxis": "y"
        },
        {
         "alignmentgroup": "True",
         "hovertemplate": "作物名称=%{x}<br>总种植面积（亩）=%{y}<extra></extra>",
         "legendgroup": "黄心菜",
         "marker": {
          "color": "#FF6692",
          "pattern": {
           "shape": ""
          }
         },
         "name": "黄心菜",
         "offsetgroup": "黄心菜",
         "orientation": "v",
         "showlegend": true,
         "textposition": "auto",
         "type": "bar",
         "x": [
          "黄心菜"
         ],
         "xaxis": "x",
         "y": [
          0.3
         ],
         "yaxis": "y"
        },
        {
         "alignmentgroup": "True",
         "hovertemplate": "作物名称=%{x}<br>总种植面积（亩）=%{y}<extra></extra>",
         "legendgroup": "黄瓜",
         "marker": {
          "color": "#B6E880",
          "pattern": {
           "shape": ""
          }
         },
         "name": "黄瓜",
         "offsetgroup": "黄瓜",
         "orientation": "v",
         "showlegend": true,
         "textposition": "auto",
         "type": "bar",
         "x": [
          "黄瓜"
         ],
         "xaxis": "x",
         "y": [
          0.8999999999999999
         ],
         "yaxis": "y"
        },
        {
         "alignmentgroup": "True",
         "hovertemplate": "作物名称=%{x}<br>总种植面积（亩）=%{y}<extra></extra>",
         "legendgroup": "黄豆",
         "marker": {
          "color": "#FF97FF",
          "pattern": {
           "shape": ""
          }
         },
         "name": "黄豆",
         "offsetgroup": "黄豆",
         "orientation": "v",
         "showlegend": true,
         "textposition": "auto",
         "type": "bar",
         "x": [
          "黄豆"
         ],
         "xaxis": "x",
         "y": [
          147
         ],
         "yaxis": "y"
        },
        {
         "alignmentgroup": "True",
         "hovertemplate": "作物名称=%{x}<br>总种植面积（亩）=%{y}<extra></extra>",
         "legendgroup": "黍子",
         "marker": {
          "color": "#FECB52",
          "pattern": {
           "shape": ""
          }
         },
         "name": "黍子",
         "offsetgroup": "黍子",
         "orientation": "v",
         "showlegend": true,
         "textposition": "auto",
         "type": "bar",
         "x": [
          "黍子"
         ],
         "xaxis": "x",
         "y": [
          25
         ],
         "yaxis": "y"
        },
        {
         "alignmentgroup": "True",
         "hovertemplate": "作物名称=%{x}<br>总种植面积（亩）=%{y}<extra></extra>",
         "legendgroup": "黑豆",
         "marker": {
          "color": "#636efa",
          "pattern": {
           "shape": ""
          }
         },
         "name": "黑豆",
         "offsetgroup": "黑豆",
         "orientation": "v",
         "showlegend": true,
         "textposition": "auto",
         "type": "bar",
         "x": [
          "黑豆"
         ],
         "xaxis": "x",
         "y": [
          46
         ],
         "yaxis": "y"
        }
       ],
       "layout": {
        "barmode": "relative",
        "height": 750,
        "legend": {
         "title": {
          "text": "作物名称"
         },
         "tracegroupgap": 0
        },
        "template": {
         "data": {
          "bar": [
           {
            "error_x": {
             "color": "#2a3f5f"
            },
            "error_y": {
             "color": "#2a3f5f"
            },
            "marker": {
             "line": {
              "color": "#E5ECF6",
              "width": 0.5
             },
             "pattern": {
              "fillmode": "overlay",
              "size": 10,
              "solidity": 0.2
             }
            },
            "type": "bar"
           }
          ],
          "barpolar": [
           {
            "marker": {
             "line": {
              "color": "#E5ECF6",
              "width": 0.5
             },
             "pattern": {
              "fillmode": "overlay",
              "size": 10,
              "solidity": 0.2
             }
            },
            "type": "barpolar"
           }
          ],
          "carpet": [
           {
            "aaxis": {
             "endlinecolor": "#2a3f5f",
             "gridcolor": "white",
             "linecolor": "white",
             "minorgridcolor": "white",
             "startlinecolor": "#2a3f5f"
            },
            "baxis": {
             "endlinecolor": "#2a3f5f",
             "gridcolor": "white",
             "linecolor": "white",
             "minorgridcolor": "white",
             "startlinecolor": "#2a3f5f"
            },
            "type": "carpet"
           }
          ],
          "choropleth": [
           {
            "colorbar": {
             "outlinewidth": 0,
             "ticks": ""
            },
            "type": "choropleth"
           }
          ],
          "contour": [
           {
            "colorbar": {
             "outlinewidth": 0,
             "ticks": ""
            },
            "colorscale": [
             [
              0,
              "#0d0887"
             ],
             [
              0.1111111111111111,
              "#46039f"
             ],
             [
              0.2222222222222222,
              "#7201a8"
             ],
             [
              0.3333333333333333,
              "#9c179e"
             ],
             [
              0.4444444444444444,
              "#bd3786"
             ],
             [
              0.5555555555555556,
              "#d8576b"
             ],
             [
              0.6666666666666666,
              "#ed7953"
             ],
             [
              0.7777777777777778,
              "#fb9f3a"
             ],
             [
              0.8888888888888888,
              "#fdca26"
             ],
             [
              1,
              "#f0f921"
             ]
            ],
            "type": "contour"
           }
          ],
          "contourcarpet": [
           {
            "colorbar": {
             "outlinewidth": 0,
             "ticks": ""
            },
            "type": "contourcarpet"
           }
          ],
          "heatmap": [
           {
            "colorbar": {
             "outlinewidth": 0,
             "ticks": ""
            },
            "colorscale": [
             [
              0,
              "#0d0887"
             ],
             [
              0.1111111111111111,
              "#46039f"
             ],
             [
              0.2222222222222222,
              "#7201a8"
             ],
             [
              0.3333333333333333,
              "#9c179e"
             ],
             [
              0.4444444444444444,
              "#bd3786"
             ],
             [
              0.5555555555555556,
              "#d8576b"
             ],
             [
              0.6666666666666666,
              "#ed7953"
             ],
             [
              0.7777777777777778,
              "#fb9f3a"
             ],
             [
              0.8888888888888888,
              "#fdca26"
             ],
             [
              1,
              "#f0f921"
             ]
            ],
            "type": "heatmap"
           }
          ],
          "heatmapgl": [
           {
            "colorbar": {
             "outlinewidth": 0,
             "ticks": ""
            },
            "colorscale": [
             [
              0,
              "#0d0887"
             ],
             [
              0.1111111111111111,
              "#46039f"
             ],
             [
              0.2222222222222222,
              "#7201a8"
             ],
             [
              0.3333333333333333,
              "#9c179e"
             ],
             [
              0.4444444444444444,
              "#bd3786"
             ],
             [
              0.5555555555555556,
              "#d8576b"
             ],
             [
              0.6666666666666666,
              "#ed7953"
             ],
             [
              0.7777777777777778,
              "#fb9f3a"
             ],
             [
              0.8888888888888888,
              "#fdca26"
             ],
             [
              1,
              "#f0f921"
             ]
            ],
            "type": "heatmapgl"
           }
          ],
          "histogram": [
           {
            "marker": {
             "pattern": {
              "fillmode": "overlay",
              "size": 10,
              "solidity": 0.2
             }
            },
            "type": "histogram"
           }
          ],
          "histogram2d": [
           {
            "colorbar": {
             "outlinewidth": 0,
             "ticks": ""
            },
            "colorscale": [
             [
              0,
              "#0d0887"
             ],
             [
              0.1111111111111111,
              "#46039f"
             ],
             [
              0.2222222222222222,
              "#7201a8"
             ],
             [
              0.3333333333333333,
              "#9c179e"
             ],
             [
              0.4444444444444444,
              "#bd3786"
             ],
             [
              0.5555555555555556,
              "#d8576b"
             ],
             [
              0.6666666666666666,
              "#ed7953"
             ],
             [
              0.7777777777777778,
              "#fb9f3a"
             ],
             [
              0.8888888888888888,
              "#fdca26"
             ],
             [
              1,
              "#f0f921"
             ]
            ],
            "type": "histogram2d"
           }
          ],
          "histogram2dcontour": [
           {
            "colorbar": {
             "outlinewidth": 0,
             "ticks": ""
            },
            "colorscale": [
             [
              0,
              "#0d0887"
             ],
             [
              0.1111111111111111,
              "#46039f"
             ],
             [
              0.2222222222222222,
              "#7201a8"
             ],
             [
              0.3333333333333333,
              "#9c179e"
             ],
             [
              0.4444444444444444,
              "#bd3786"
             ],
             [
              0.5555555555555556,
              "#d8576b"
             ],
             [
              0.6666666666666666,
              "#ed7953"
             ],
             [
              0.7777777777777778,
              "#fb9f3a"
             ],
             [
              0.8888888888888888,
              "#fdca26"
             ],
             [
              1,
              "#f0f921"
             ]
            ],
            "type": "histogram2dcontour"
           }
          ],
          "mesh3d": [
           {
            "colorbar": {
             "outlinewidth": 0,
             "ticks": ""
            },
            "type": "mesh3d"
           }
          ],
          "parcoords": [
           {
            "line": {
             "colorbar": {
              "outlinewidth": 0,
              "ticks": ""
             }
            },
            "type": "parcoords"
           }
          ],
          "pie": [
           {
            "automargin": true,
            "type": "pie"
           }
          ],
          "scatter": [
           {
            "fillpattern": {
             "fillmode": "overlay",
             "size": 10,
             "solidity": 0.2
            },
            "type": "scatter"
           }
          ],
          "scatter3d": [
           {
            "line": {
             "colorbar": {
              "outlinewidth": 0,
              "ticks": ""
             }
            },
            "marker": {
             "colorbar": {
              "outlinewidth": 0,
              "ticks": ""
             }
            },
            "type": "scatter3d"
           }
          ],
          "scattercarpet": [
           {
            "marker": {
             "colorbar": {
              "outlinewidth": 0,
              "ticks": ""
             }
            },
            "type": "scattercarpet"
           }
          ],
          "scattergeo": [
           {
            "marker": {
             "colorbar": {
              "outlinewidth": 0,
              "ticks": ""
             }
            },
            "type": "scattergeo"
           }
          ],
          "scattergl": [
           {
            "marker": {
             "colorbar": {
              "outlinewidth": 0,
              "ticks": ""
             }
            },
            "type": "scattergl"
           }
          ],
          "scattermapbox": [
           {
            "marker": {
             "colorbar": {
              "outlinewidth": 0,
              "ticks": ""
             }
            },
            "type": "scattermapbox"
           }
          ],
          "scatterpolar": [
           {
            "marker": {
             "colorbar": {
              "outlinewidth": 0,
              "ticks": ""
             }
            },
            "type": "scatterpolar"
           }
          ],
          "scatterpolargl": [
           {
            "marker": {
             "colorbar": {
              "outlinewidth": 0,
              "ticks": ""
             }
            },
            "type": "scatterpolargl"
           }
          ],
          "scatterternary": [
           {
            "marker": {
             "colorbar": {
              "outlinewidth": 0,
              "ticks": ""
             }
            },
            "type": "scatterternary"
           }
          ],
          "surface": [
           {
            "colorbar": {
             "outlinewidth": 0,
             "ticks": ""
            },
            "colorscale": [
             [
              0,
              "#0d0887"
             ],
             [
              0.1111111111111111,
              "#46039f"
             ],
             [
              0.2222222222222222,
              "#7201a8"
             ],
             [
              0.3333333333333333,
              "#9c179e"
             ],
             [
              0.4444444444444444,
              "#bd3786"
             ],
             [
              0.5555555555555556,
              "#d8576b"
             ],
             [
              0.6666666666666666,
              "#ed7953"
             ],
             [
              0.7777777777777778,
              "#fb9f3a"
             ],
             [
              0.8888888888888888,
              "#fdca26"
             ],
             [
              1,
              "#f0f921"
             ]
            ],
            "type": "surface"
           }
          ],
          "table": [
           {
            "cells": {
             "fill": {
              "color": "#EBF0F8"
             },
             "line": {
              "color": "white"
             }
            },
            "header": {
             "fill": {
              "color": "#C8D4E3"
             },
             "line": {
              "color": "white"
             }
            },
            "type": "table"
           }
          ]
         },
         "layout": {
          "annotationdefaults": {
           "arrowcolor": "#2a3f5f",
           "arrowhead": 0,
           "arrowwidth": 1
          },
          "autotypenumbers": "strict",
          "coloraxis": {
           "colorbar": {
            "outlinewidth": 0,
            "ticks": ""
           }
          },
          "colorscale": {
           "diverging": [
            [
             0,
             "#8e0152"
            ],
            [
             0.1,
             "#c51b7d"
            ],
            [
             0.2,
             "#de77ae"
            ],
            [
             0.3,
             "#f1b6da"
            ],
            [
             0.4,
             "#fde0ef"
            ],
            [
             0.5,
             "#f7f7f7"
            ],
            [
             0.6,
             "#e6f5d0"
            ],
            [
             0.7,
             "#b8e186"
            ],
            [
             0.8,
             "#7fbc41"
            ],
            [
             0.9,
             "#4d9221"
            ],
            [
             1,
             "#276419"
            ]
           ],
           "sequential": [
            [
             0,
             "#0d0887"
            ],
            [
             0.1111111111111111,
             "#46039f"
            ],
            [
             0.2222222222222222,
             "#7201a8"
            ],
            [
             0.3333333333333333,
             "#9c179e"
            ],
            [
             0.4444444444444444,
             "#bd3786"
            ],
            [
             0.5555555555555556,
             "#d8576b"
            ],
            [
             0.6666666666666666,
             "#ed7953"
            ],
            [
             0.7777777777777778,
             "#fb9f3a"
            ],
            [
             0.8888888888888888,
             "#fdca26"
            ],
            [
             1,
             "#f0f921"
            ]
           ],
           "sequentialminus": [
            [
             0,
             "#0d0887"
            ],
            [
             0.1111111111111111,
             "#46039f"
            ],
            [
             0.2222222222222222,
             "#7201a8"
            ],
            [
             0.3333333333333333,
             "#9c179e"
            ],
            [
             0.4444444444444444,
             "#bd3786"
            ],
            [
             0.5555555555555556,
             "#d8576b"
            ],
            [
             0.6666666666666666,
             "#ed7953"
            ],
            [
             0.7777777777777778,
             "#fb9f3a"
            ],
            [
             0.8888888888888888,
             "#fdca26"
            ],
            [
             1,
             "#f0f921"
            ]
           ]
          },
          "colorway": [
           "#636efa",
           "#EF553B",
           "#00cc96",
           "#ab63fa",
           "#FFA15A",
           "#19d3f3",
           "#FF6692",
           "#B6E880",
           "#FF97FF",
           "#FECB52"
          ],
          "font": {
           "color": "#2a3f5f"
          },
          "geo": {
           "bgcolor": "white",
           "lakecolor": "white",
           "landcolor": "#E5ECF6",
           "showlakes": true,
           "showland": true,
           "subunitcolor": "white"
          },
          "hoverlabel": {
           "align": "left"
          },
          "hovermode": "closest",
          "mapbox": {
           "style": "light"
          },
          "paper_bgcolor": "white",
          "plot_bgcolor": "#E5ECF6",
          "polar": {
           "angularaxis": {
            "gridcolor": "white",
            "linecolor": "white",
            "ticks": ""
           },
           "bgcolor": "#E5ECF6",
           "radialaxis": {
            "gridcolor": "white",
            "linecolor": "white",
            "ticks": ""
           }
          },
          "scene": {
           "xaxis": {
            "backgroundcolor": "#E5ECF6",
            "gridcolor": "white",
            "gridwidth": 2,
            "linecolor": "white",
            "showbackground": true,
            "ticks": "",
            "zerolinecolor": "white"
           },
           "yaxis": {
            "backgroundcolor": "#E5ECF6",
            "gridcolor": "white",
            "gridwidth": 2,
            "linecolor": "white",
            "showbackground": true,
            "ticks": "",
            "zerolinecolor": "white"
           },
           "zaxis": {
            "backgroundcolor": "#E5ECF6",
            "gridcolor": "white",
            "gridwidth": 2,
            "linecolor": "white",
            "showbackground": true,
            "ticks": "",
            "zerolinecolor": "white"
           }
          },
          "shapedefaults": {
           "line": {
            "color": "#2a3f5f"
           }
          },
          "ternary": {
           "aaxis": {
            "gridcolor": "white",
            "linecolor": "white",
            "ticks": ""
           },
           "baxis": {
            "gridcolor": "white",
            "linecolor": "white",
            "ticks": ""
           },
           "bgcolor": "#E5ECF6",
           "caxis": {
            "gridcolor": "white",
            "linecolor": "white",
            "ticks": ""
           }
          },
          "title": {
           "x": 0.05
          },
          "xaxis": {
           "automargin": true,
           "gridcolor": "white",
           "linecolor": "white",
           "ticks": "",
           "title": {
            "standoff": 15
           },
           "zerolinecolor": "white",
           "zerolinewidth": 2
          },
          "yaxis": {
           "automargin": true,
           "gridcolor": "white",
           "linecolor": "white",
           "ticks": "",
           "title": {
            "standoff": 15
           },
           "zerolinecolor": "white",
           "zerolinewidth": 2
          }
         }
        },
        "title": {
         "text": "各种作物的种植面积（亩）"
        },
        "width": 1500,
        "xaxis": {
         "anchor": "y",
         "categoryarray": [
          "刀豆",
          "包菜",
          "南瓜",
          "土豆",
          "大白菜",
          "大麦",
          "小青菜",
          "小麦",
          "榆黄菇",
          "水稻",
          "油麦菜",
          "爬豆",
          "玉米",
          "生菜",
          "白灵菇",
          "白萝卜",
          "空心菜",
          "红萝卜",
          "红薯",
          "红豆",
          "绿豆",
          "羊肚菌",
          "芸豆",
          "芹菜",
          "茄子",
          "荞麦",
          "莜麦",
          "菜花",
          "菠菜",
          "西红柿",
          "谷子",
          "豇豆",
          "辣椒",
          "青椒",
          "香菇",
          "高粱",
          "黄心菜",
          "黄瓜",
          "黄豆",
          "黍子",
          "黑豆"
         ],
         "categoryorder": "array",
         "domain": [
          0,
          1
         ],
         "title": {
          "text": "作物名称"
         }
        },
        "yaxis": {
         "anchor": "x",
         "domain": [
          0,
          1
         ],
         "title": {
          "text": "总种植面积（亩）"
         },
         "type": "log"
        }
       }
      },
      "text/html": [
       "<div>                            <div id=\"efa2d720-4335-4e93-b0d1-68c2527851fb\" class=\"plotly-graph-div\" style=\"height:750px; width:1500px;\"></div>            <script type=\"text/javascript\">                require([\"plotly\"], function(Plotly) {                    window.PLOTLYENV=window.PLOTLYENV || {};                                    if (document.getElementById(\"efa2d720-4335-4e93-b0d1-68c2527851fb\")) {                    Plotly.newPlot(                        \"efa2d720-4335-4e93-b0d1-68c2527851fb\",                        [{\"alignmentgroup\":\"True\",\"hovertemplate\":\"\\u4f5c\\u7269\\u540d\\u79f0=%{x}\\u003cbr\\u003e\\u603b\\u79cd\\u690d\\u9762\\u79ef\\uff08\\u4ea9\\uff09=%{y}\\u003cextra\\u003e\\u003c\\u002fextra\\u003e\",\"legendgroup\":\"\\u5200\\u8c46\",\"marker\":{\"color\":\"#636efa\",\"pattern\":{\"shape\":\"\"}},\"name\":\"\\u5200\\u8c46\",\"offsetgroup\":\"\\u5200\\u8c46\",\"orientation\":\"v\",\"showlegend\":true,\"textposition\":\"auto\",\"x\":[\"\\u5200\\u8c46\"],\"xaxis\":\"x\",\"y\":[13.2],\"yaxis\":\"y\",\"type\":\"bar\"},{\"alignmentgroup\":\"True\",\"hovertemplate\":\"\\u4f5c\\u7269\\u540d\\u79f0=%{x}\\u003cbr\\u003e\\u603b\\u79cd\\u690d\\u9762\\u79ef\\uff08\\u4ea9\\uff09=%{y}\\u003cextra\\u003e\\u003c\\u002fextra\\u003e\",\"legendgroup\":\"\\u5305\\u83dc\",\"marker\":{\"color\":\"#EF553B\",\"pattern\":{\"shape\":\"\"}},\"name\":\"\\u5305\\u83dc\",\"offsetgroup\":\"\\u5305\\u83dc\",\"orientation\":\"v\",\"showlegend\":true,\"textposition\":\"auto\",\"x\":[\"\\u5305\\u83dc\"],\"xaxis\":\"x\",\"y\":[0.8999999999999999],\"yaxis\":\"y\",\"type\":\"bar\"},{\"alignmentgroup\":\"True\",\"hovertemplate\":\"\\u4f5c\\u7269\\u540d\\u79f0=%{x}\\u003cbr\\u003e\\u603b\\u79cd\\u690d\\u9762\\u79ef\\uff08\\u4ea9\\uff09=%{y}\\u003cextra\\u003e\\u003c\\u002fextra\\u003e\",\"legendgroup\":\"\\u5357\\u74dc\",\"marker\":{\"color\":\"#00cc96\",\"pattern\":{\"shape\":\"\"}},\"name\":\"\\u5357\\u74dc\",\"offsetgroup\":\"\\u5357\\u74dc\",\"orientation\":\"v\",\"showlegend\":true,\"textposition\":\"auto\",\"x\":[\"\\u5357\\u74dc\"],\"xaxis\":\"x\",\"y\":[13.0],\"yaxis\":\"y\",\"type\":\"bar\"},{\"alignmentgroup\":\"True\",\"hovertemplate\":\"\\u4f5c\\u7269\\u540d\\u79f0=%{x}\\u003cbr\\u003e\\u603b\\u79cd\\u690d\\u9762\\u79ef\\uff08\\u4ea9\\uff09=%{y}\\u003cextra\\u003e\\u003c\\u002fextra\\u003e\",\"legendgroup\":\"\\u571f\\u8c46\",\"marker\":{\"color\":\"#ab63fa\",\"pattern\":{\"shape\":\"\"}},\"name\":\"\\u571f\\u8c46\",\"offsetgroup\":\"\\u571f\\u8c46\",\"orientation\":\"v\",\"showlegend\":true,\"textposition\":\"auto\",\"x\":[\"\\u571f\\u8c46\"],\"xaxis\":\"x\",\"y\":[15.0],\"yaxis\":\"y\",\"type\":\"bar\"},{\"alignmentgroup\":\"True\",\"hovertemplate\":\"\\u4f5c\\u7269\\u540d\\u79f0=%{x}\\u003cbr\\u003e\\u603b\\u79cd\\u690d\\u9762\\u79ef\\uff08\\u4ea9\\uff09=%{y}\\u003cextra\\u003e\\u003c\\u002fextra\\u003e\",\"legendgroup\":\"\\u5927\\u767d\\u83dc\",\"marker\":{\"color\":\"#FFA15A\",\"pattern\":{\"shape\":\"\"}},\"name\":\"\\u5927\\u767d\\u83dc\",\"offsetgroup\":\"\\u5927\\u767d\\u83dc\",\"orientation\":\"v\",\"showlegend\":true,\"textposition\":\"auto\",\"x\":[\"\\u5927\\u767d\\u83dc\"],\"xaxis\":\"x\",\"y\":[30.0],\"yaxis\":\"y\",\"type\":\"bar\"},{\"alignmentgroup\":\"True\",\"hovertemplate\":\"\\u4f5c\\u7269\\u540d\\u79f0=%{x}\\u003cbr\\u003e\\u603b\\u79cd\\u690d\\u9762\\u79ef\\uff08\\u4ea9\\uff09=%{y}\\u003cextra\\u003e\\u003c\\u002fextra\\u003e\",\"legendgroup\":\"\\u5927\\u9ea6\",\"marker\":{\"color\":\"#19d3f3\",\"pattern\":{\"shape\":\"\"}},\"name\":\"\\u5927\\u9ea6\",\"offsetgroup\":\"\\u5927\\u9ea6\",\"orientation\":\"v\",\"showlegend\":true,\"textposition\":\"auto\",\"x\":[\"\\u5927\\u9ea6\"],\"xaxis\":\"x\",\"y\":[20.0],\"yaxis\":\"y\",\"type\":\"bar\"},{\"alignmentgroup\":\"True\",\"hovertemplate\":\"\\u4f5c\\u7269\\u540d\\u79f0=%{x}\\u003cbr\\u003e\\u603b\\u79cd\\u690d\\u9762\\u79ef\\uff08\\u4ea9\\uff09=%{y}\\u003cextra\\u003e\\u003c\\u002fextra\\u003e\",\"legendgroup\":\"\\u5c0f\\u9752\\u83dc\",\"marker\":{\"color\":\"#FF6692\",\"pattern\":{\"shape\":\"\"}},\"name\":\"\\u5c0f\\u9752\\u83dc\",\"offsetgroup\":\"\\u5c0f\\u9752\\u83dc\",\"orientation\":\"v\",\"showlegend\":true,\"textposition\":\"auto\",\"x\":[\"\\u5c0f\\u9752\\u83dc\"],\"xaxis\":\"x\",\"y\":[10.9],\"yaxis\":\"y\",\"type\":\"bar\"},{\"alignmentgroup\":\"True\",\"hovertemplate\":\"\\u4f5c\\u7269\\u540d\\u79f0=%{x}\\u003cbr\\u003e\\u603b\\u79cd\\u690d\\u9762\\u79ef\\uff08\\u4ea9\\uff09=%{y}\\u003cextra\\u003e\\u003c\\u002fextra\\u003e\",\"legendgroup\":\"\\u5c0f\\u9ea6\",\"marker\":{\"color\":\"#B6E880\",\"pattern\":{\"shape\":\"\"}},\"name\":\"\\u5c0f\\u9ea6\",\"offsetgroup\":\"\\u5c0f\\u9ea6\",\"orientation\":\"v\",\"showlegend\":true,\"textposition\":\"auto\",\"x\":[\"\\u5c0f\\u9ea6\"],\"xaxis\":\"x\",\"y\":[222.0],\"yaxis\":\"y\",\"type\":\"bar\"},{\"alignmentgroup\":\"True\",\"hovertemplate\":\"\\u4f5c\\u7269\\u540d\\u79f0=%{x}\\u003cbr\\u003e\\u603b\\u79cd\\u690d\\u9762\\u79ef\\uff08\\u4ea9\\uff09=%{y}\\u003cextra\\u003e\\u003c\\u002fextra\\u003e\",\"legendgroup\":\"\\u6986\\u9ec4\\u83c7\",\"marker\":{\"color\":\"#FF97FF\",\"pattern\":{\"shape\":\"\"}},\"name\":\"\\u6986\\u9ec4\\u83c7\",\"offsetgroup\":\"\\u6986\\u9ec4\\u83c7\",\"orientation\":\"v\",\"showlegend\":true,\"textposition\":\"auto\",\"x\":[\"\\u6986\\u9ec4\\u83c7\"],\"xaxis\":\"x\",\"y\":[1.7999999999999998],\"yaxis\":\"y\",\"type\":\"bar\"},{\"alignmentgroup\":\"True\",\"hovertemplate\":\"\\u4f5c\\u7269\\u540d\\u79f0=%{x}\\u003cbr\\u003e\\u603b\\u79cd\\u690d\\u9762\\u79ef\\uff08\\u4ea9\\uff09=%{y}\\u003cextra\\u003e\\u003c\\u002fextra\\u003e\",\"legendgroup\":\"\\u6c34\\u7a3b\",\"marker\":{\"color\":\"#FECB52\",\"pattern\":{\"shape\":\"\"}},\"name\":\"\\u6c34\\u7a3b\",\"offsetgroup\":\"\\u6c34\\u7a3b\",\"orientation\":\"v\",\"showlegend\":true,\"textposition\":\"auto\",\"x\":[\"\\u6c34\\u7a3b\"],\"xaxis\":\"x\",\"y\":[42.0],\"yaxis\":\"y\",\"type\":\"bar\"},{\"alignmentgroup\":\"True\",\"hovertemplate\":\"\\u4f5c\\u7269\\u540d\\u79f0=%{x}\\u003cbr\\u003e\\u603b\\u79cd\\u690d\\u9762\\u79ef\\uff08\\u4ea9\\uff09=%{y}\\u003cextra\\u003e\\u003c\\u002fextra\\u003e\",\"legendgroup\":\"\\u6cb9\\u9ea6\\u83dc\",\"marker\":{\"color\":\"#636efa\",\"pattern\":{\"shape\":\"\"}},\"name\":\"\\u6cb9\\u9ea6\\u83dc\",\"offsetgroup\":\"\\u6cb9\\u9ea6\\u83dc\",\"orientation\":\"v\",\"showlegend\":true,\"textposition\":\"auto\",\"x\":[\"\\u6cb9\\u9ea6\\u83dc\"],\"xaxis\":\"x\",\"y\":[0.8999999999999999],\"yaxis\":\"y\",\"type\":\"bar\"},{\"alignmentgroup\":\"True\",\"hovertemplate\":\"\\u4f5c\\u7269\\u540d\\u79f0=%{x}\\u003cbr\\u003e\\u603b\\u79cd\\u690d\\u9762\\u79ef\\uff08\\u4ea9\\uff09=%{y}\\u003cextra\\u003e\\u003c\\u002fextra\\u003e\",\"legendgroup\":\"\\u722c\\u8c46\",\"marker\":{\"color\":\"#EF553B\",\"pattern\":{\"shape\":\"\"}},\"name\":\"\\u722c\\u8c46\",\"offsetgroup\":\"\\u722c\\u8c46\",\"orientation\":\"v\",\"showlegend\":true,\"textposition\":\"auto\",\"x\":[\"\\u722c\\u8c46\"],\"xaxis\":\"x\",\"y\":[25.0],\"yaxis\":\"y\",\"type\":\"bar\"},{\"alignmentgroup\":\"True\",\"hovertemplate\":\"\\u4f5c\\u7269\\u540d\\u79f0=%{x}\\u003cbr\\u003e\\u603b\\u79cd\\u690d\\u9762\\u79ef\\uff08\\u4ea9\\uff09=%{y}\\u003cextra\\u003e\\u003c\\u002fextra\\u003e\",\"legendgroup\":\"\\u7389\\u7c73\",\"marker\":{\"color\":\"#00cc96\",\"pattern\":{\"shape\":\"\"}},\"name\":\"\\u7389\\u7c73\",\"offsetgroup\":\"\\u7389\\u7c73\",\"orientation\":\"v\",\"showlegend\":true,\"textposition\":\"auto\",\"x\":[\"\\u7389\\u7c73\"],\"xaxis\":\"x\",\"y\":[135.0],\"yaxis\":\"y\",\"type\":\"bar\"},{\"alignmentgroup\":\"True\",\"hovertemplate\":\"\\u4f5c\\u7269\\u540d\\u79f0=%{x}\\u003cbr\\u003e\\u603b\\u79cd\\u690d\\u9762\\u79ef\\uff08\\u4ea9\\uff09=%{y}\\u003cextra\\u003e\\u003c\\u002fextra\\u003e\",\"legendgroup\":\"\\u751f\\u83dc\",\"marker\":{\"color\":\"#ab63fa\",\"pattern\":{\"shape\":\"\"}},\"name\":\"\\u751f\\u83dc\",\"offsetgroup\":\"\\u751f\\u83dc\",\"orientation\":\"v\",\"showlegend\":true,\"textposition\":\"auto\",\"x\":[\"\\u751f\\u83dc\"],\"xaxis\":\"x\",\"y\":[0.6],\"yaxis\":\"y\",\"type\":\"bar\"},{\"alignmentgroup\":\"True\",\"hovertemplate\":\"\\u4f5c\\u7269\\u540d\\u79f0=%{x}\\u003cbr\\u003e\\u603b\\u79cd\\u690d\\u9762\\u79ef\\uff08\\u4ea9\\uff09=%{y}\\u003cextra\\u003e\\u003c\\u002fextra\\u003e\",\"legendgroup\":\"\\u767d\\u7075\\u83c7\",\"marker\":{\"color\":\"#FFA15A\",\"pattern\":{\"shape\":\"\"}},\"name\":\"\\u767d\\u7075\\u83c7\",\"offsetgroup\":\"\\u767d\\u7075\\u83c7\",\"orientation\":\"v\",\"showlegend\":true,\"textposition\":\"auto\",\"x\":[\"\\u767d\\u7075\\u83c7\"],\"xaxis\":\"x\",\"y\":[1.7999999999999998],\"yaxis\":\"y\",\"type\":\"bar\"},{\"alignmentgroup\":\"True\",\"hovertemplate\":\"\\u4f5c\\u7269\\u540d\\u79f0=%{x}\\u003cbr\\u003e\\u603b\\u79cd\\u690d\\u9762\\u79ef\\uff08\\u4ea9\\uff09=%{y}\\u003cextra\\u003e\\u003c\\u002fextra\\u003e\",\"legendgroup\":\"\\u767d\\u841d\\u535c\",\"marker\":{\"color\":\"#19d3f3\",\"pattern\":{\"shape\":\"\"}},\"name\":\"\\u767d\\u841d\\u535c\",\"offsetgroup\":\"\\u767d\\u841d\\u535c\",\"orientation\":\"v\",\"showlegend\":true,\"textposition\":\"auto\",\"x\":[\"\\u767d\\u841d\\u535c\"],\"xaxis\":\"x\",\"y\":[25.0],\"yaxis\":\"y\",\"type\":\"bar\"},{\"alignmentgroup\":\"True\",\"hovertemplate\":\"\\u4f5c\\u7269\\u540d\\u79f0=%{x}\\u003cbr\\u003e\\u603b\\u79cd\\u690d\\u9762\\u79ef\\uff08\\u4ea9\\uff09=%{y}\\u003cextra\\u003e\\u003c\\u002fextra\\u003e\",\"legendgroup\":\"\\u7a7a\\u5fc3\\u83dc\",\"marker\":{\"color\":\"#FF6692\",\"pattern\":{\"shape\":\"\"}},\"name\":\"\\u7a7a\\u5fc3\\u83dc\",\"offsetgroup\":\"\\u7a7a\\u5fc3\\u83dc\",\"orientation\":\"v\",\"showlegend\":true,\"textposition\":\"auto\",\"x\":[\"\\u7a7a\\u5fc3\\u83dc\"],\"xaxis\":\"x\",\"y\":[0.3],\"yaxis\":\"y\",\"type\":\"bar\"},{\"alignmentgroup\":\"True\",\"hovertemplate\":\"\\u4f5c\\u7269\\u540d\\u79f0=%{x}\\u003cbr\\u003e\\u603b\\u79cd\\u690d\\u9762\\u79ef\\uff08\\u4ea9\\uff09=%{y}\\u003cextra\\u003e\\u003c\\u002fextra\\u003e\",\"legendgroup\":\"\\u7ea2\\u841d\\u535c\",\"marker\":{\"color\":\"#B6E880\",\"pattern\":{\"shape\":\"\"}},\"name\":\"\\u7ea2\\u841d\\u535c\",\"offsetgroup\":\"\\u7ea2\\u841d\\u535c\",\"orientation\":\"v\",\"showlegend\":true,\"textposition\":\"auto\",\"x\":[\"\\u7ea2\\u841d\\u535c\"],\"xaxis\":\"x\",\"y\":[12.0],\"yaxis\":\"y\",\"type\":\"bar\"},{\"alignmentgroup\":\"True\",\"hovertemplate\":\"\\u4f5c\\u7269\\u540d\\u79f0=%{x}\\u003cbr\\u003e\\u603b\\u79cd\\u690d\\u9762\\u79ef\\uff08\\u4ea9\\uff09=%{y}\\u003cextra\\u003e\\u003c\\u002fextra\\u003e\",\"legendgroup\":\"\\u7ea2\\u85af\",\"marker\":{\"color\":\"#FF97FF\",\"pattern\":{\"shape\":\"\"}},\"name\":\"\\u7ea2\\u85af\",\"offsetgroup\":\"\\u7ea2\\u85af\",\"orientation\":\"v\",\"showlegend\":true,\"textposition\":\"auto\",\"x\":[\"\\u7ea2\\u85af\"],\"xaxis\":\"x\",\"y\":[18.0],\"yaxis\":\"y\",\"type\":\"bar\"},{\"alignmentgroup\":\"True\",\"hovertemplate\":\"\\u4f5c\\u7269\\u540d\\u79f0=%{x}\\u003cbr\\u003e\\u603b\\u79cd\\u690d\\u9762\\u79ef\\uff08\\u4ea9\\uff09=%{y}\\u003cextra\\u003e\\u003c\\u002fextra\\u003e\",\"legendgroup\":\"\\u7ea2\\u8c46\",\"marker\":{\"color\":\"#FECB52\",\"pattern\":{\"shape\":\"\"}},\"name\":\"\\u7ea2\\u8c46\",\"offsetgroup\":\"\\u7ea2\\u8c46\",\"orientation\":\"v\",\"showlegend\":true,\"textposition\":\"auto\",\"x\":[\"\\u7ea2\\u8c46\"],\"xaxis\":\"x\",\"y\":[60.0],\"yaxis\":\"y\",\"type\":\"bar\"},{\"alignmentgroup\":\"True\",\"hovertemplate\":\"\\u4f5c\\u7269\\u540d\\u79f0=%{x}\\u003cbr\\u003e\\u603b\\u79cd\\u690d\\u9762\\u79ef\\uff08\\u4ea9\\uff09=%{y}\\u003cextra\\u003e\\u003c\\u002fextra\\u003e\",\"legendgroup\":\"\\u7eff\\u8c46\",\"marker\":{\"color\":\"#636efa\",\"pattern\":{\"shape\":\"\"}},\"name\":\"\\u7eff\\u8c46\",\"offsetgroup\":\"\\u7eff\\u8c46\",\"orientation\":\"v\",\"showlegend\":true,\"textposition\":\"auto\",\"x\":[\"\\u7eff\\u8c46\"],\"xaxis\":\"x\",\"y\":[96.0],\"yaxis\":\"y\",\"type\":\"bar\"},{\"alignmentgroup\":\"True\",\"hovertemplate\":\"\\u4f5c\\u7269\\u540d\\u79f0=%{x}\\u003cbr\\u003e\\u603b\\u79cd\\u690d\\u9762\\u79ef\\uff08\\u4ea9\\uff09=%{y}\\u003cextra\\u003e\\u003c\\u002fextra\\u003e\",\"legendgroup\":\"\\u7f8a\\u809a\\u83cc\",\"marker\":{\"color\":\"#EF553B\",\"pattern\":{\"shape\":\"\"}},\"name\":\"\\u7f8a\\u809a\\u83cc\",\"offsetgroup\":\"\\u7f8a\\u809a\\u83cc\",\"orientation\":\"v\",\"showlegend\":true,\"textposition\":\"auto\",\"x\":[\"\\u7f8a\\u809a\\u83cc\"],\"xaxis\":\"x\",\"y\":[4.2],\"yaxis\":\"y\",\"type\":\"bar\"},{\"alignmentgroup\":\"True\",\"hovertemplate\":\"\\u4f5c\\u7269\\u540d\\u79f0=%{x}\\u003cbr\\u003e\\u603b\\u79cd\\u690d\\u9762\\u79ef\\uff08\\u4ea9\\uff09=%{y}\\u003cextra\\u003e\\u003c\\u002fextra\\u003e\",\"legendgroup\":\"\\u82b8\\u8c46\",\"marker\":{\"color\":\"#00cc96\",\"pattern\":{\"shape\":\"\"}},\"name\":\"\\u82b8\\u8c46\",\"offsetgroup\":\"\\u82b8\\u8c46\",\"orientation\":\"v\",\"showlegend\":true,\"textposition\":\"auto\",\"x\":[\"\\u82b8\\u8c46\"],\"xaxis\":\"x\",\"y\":[1.7999999999999998],\"yaxis\":\"y\",\"type\":\"bar\"},{\"alignmentgroup\":\"True\",\"hovertemplate\":\"\\u4f5c\\u7269\\u540d\\u79f0=%{x}\\u003cbr\\u003e\\u603b\\u79cd\\u690d\\u9762\\u79ef\\uff08\\u4ea9\\uff09=%{y}\\u003cextra\\u003e\\u003c\\u002fextra\\u003e\",\"legendgroup\":\"\\u82b9\\u83dc\",\"marker\":{\"color\":\"#ab63fa\",\"pattern\":{\"shape\":\"\"}},\"name\":\"\\u82b9\\u83dc\",\"offsetgroup\":\"\\u82b9\\u83dc\",\"orientation\":\"v\",\"showlegend\":true,\"textposition\":\"auto\",\"x\":[\"\\u82b9\\u83dc\"],\"xaxis\":\"x\",\"y\":[0.3],\"yaxis\":\"y\",\"type\":\"bar\"},{\"alignmentgroup\":\"True\",\"hovertemplate\":\"\\u4f5c\\u7269\\u540d\\u79f0=%{x}\\u003cbr\\u003e\\u603b\\u79cd\\u690d\\u9762\\u79ef\\uff08\\u4ea9\\uff09=%{y}\\u003cextra\\u003e\\u003c\\u002fextra\\u003e\",\"legendgroup\":\"\\u8304\\u5b50\",\"marker\":{\"color\":\"#FFA15A\",\"pattern\":{\"shape\":\"\"}},\"name\":\"\\u8304\\u5b50\",\"offsetgroup\":\"\\u8304\\u5b50\",\"orientation\":\"v\",\"showlegend\":true,\"textposition\":\"auto\",\"x\":[\"\\u8304\\u5b50\"],\"xaxis\":\"x\",\"y\":[6.9],\"yaxis\":\"y\",\"type\":\"bar\"},{\"alignmentgroup\":\"True\",\"hovertemplate\":\"\\u4f5c\\u7269\\u540d\\u79f0=%{x}\\u003cbr\\u003e\\u603b\\u79cd\\u690d\\u9762\\u79ef\\uff08\\u4ea9\\uff09=%{y}\\u003cextra\\u003e\\u003c\\u002fextra\\u003e\",\"legendgroup\":\"\\u835e\\u9ea6\",\"marker\":{\"color\":\"#19d3f3\",\"pattern\":{\"shape\":\"\"}},\"name\":\"\\u835e\\u9ea6\",\"offsetgroup\":\"\\u835e\\u9ea6\",\"orientation\":\"v\",\"showlegend\":true,\"textposition\":\"auto\",\"x\":[\"\\u835e\\u9ea6\"],\"xaxis\":\"x\",\"y\":[15.0],\"yaxis\":\"y\",\"type\":\"bar\"},{\"alignmentgroup\":\"True\",\"hovertemplate\":\"\\u4f5c\\u7269\\u540d\\u79f0=%{x}\\u003cbr\\u003e\\u603b\\u79cd\\u690d\\u9762\\u79ef\\uff08\\u4ea9\\uff09=%{y}\\u003cextra\\u003e\\u003c\\u002fextra\\u003e\",\"legendgroup\":\"\\u839c\\u9ea6\",\"marker\":{\"color\":\"#FF6692\",\"pattern\":{\"shape\":\"\"}},\"name\":\"\\u839c\\u9ea6\",\"offsetgroup\":\"\\u839c\\u9ea6\",\"orientation\":\"v\",\"showlegend\":true,\"textposition\":\"auto\",\"x\":[\"\\u839c\\u9ea6\"],\"xaxis\":\"x\",\"y\":[35.0],\"yaxis\":\"y\",\"type\":\"bar\"},{\"alignmentgroup\":\"True\",\"hovertemplate\":\"\\u4f5c\\u7269\\u540d\\u79f0=%{x}\\u003cbr\\u003e\\u603b\\u79cd\\u690d\\u9762\\u79ef\\uff08\\u4ea9\\uff09=%{y}\\u003cextra\\u003e\\u003c\\u002fextra\\u003e\",\"legendgroup\":\"\\u83dc\\u82b1\",\"marker\":{\"color\":\"#B6E880\",\"pattern\":{\"shape\":\"\"}},\"name\":\"\\u83dc\\u82b1\",\"offsetgroup\":\"\\u83dc\\u82b1\",\"orientation\":\"v\",\"showlegend\":true,\"textposition\":\"auto\",\"x\":[\"\\u83dc\\u82b1\"],\"xaxis\":\"x\",\"y\":[0.8999999999999999],\"yaxis\":\"y\",\"type\":\"bar\"},{\"alignmentgroup\":\"True\",\"hovertemplate\":\"\\u4f5c\\u7269\\u540d\\u79f0=%{x}\\u003cbr\\u003e\\u603b\\u79cd\\u690d\\u9762\\u79ef\\uff08\\u4ea9\\uff09=%{y}\\u003cextra\\u003e\\u003c\\u002fextra\\u003e\",\"legendgroup\":\"\\u83e0\\u83dc\",\"marker\":{\"color\":\"#FF97FF\",\"pattern\":{\"shape\":\"\"}},\"name\":\"\\u83e0\\u83dc\",\"offsetgroup\":\"\\u83e0\\u83dc\",\"orientation\":\"v\",\"showlegend\":true,\"textposition\":\"auto\",\"x\":[\"\\u83e0\\u83dc\"],\"xaxis\":\"x\",\"y\":[0.3],\"yaxis\":\"y\",\"type\":\"bar\"},{\"alignmentgroup\":\"True\",\"hovertemplate\":\"\\u4f5c\\u7269\\u540d\\u79f0=%{x}\\u003cbr\\u003e\\u603b\\u79cd\\u690d\\u9762\\u79ef\\uff08\\u4ea9\\uff09=%{y}\\u003cextra\\u003e\\u003c\\u002fextra\\u003e\",\"legendgroup\":\"\\u897f\\u7ea2\\u67ff\",\"marker\":{\"color\":\"#FECB52\",\"pattern\":{\"shape\":\"\"}},\"name\":\"\\u897f\\u7ea2\\u67ff\",\"offsetgroup\":\"\\u897f\\u7ea2\\u67ff\",\"orientation\":\"v\",\"showlegend\":true,\"textposition\":\"auto\",\"x\":[\"\\u897f\\u7ea2\\u67ff\"],\"xaxis\":\"x\",\"y\":[14.9],\"yaxis\":\"y\",\"type\":\"bar\"},{\"alignmentgroup\":\"True\",\"hovertemplate\":\"\\u4f5c\\u7269\\u540d\\u79f0=%{x}\\u003cbr\\u003e\\u603b\\u79cd\\u690d\\u9762\\u79ef\\uff08\\u4ea9\\uff09=%{y}\\u003cextra\\u003e\\u003c\\u002fextra\\u003e\",\"legendgroup\":\"\\u8c37\\u5b50\",\"marker\":{\"color\":\"#636efa\",\"pattern\":{\"shape\":\"\"}},\"name\":\"\\u8c37\\u5b50\",\"offsetgroup\":\"\\u8c37\\u5b50\",\"orientation\":\"v\",\"showlegend\":true,\"textposition\":\"auto\",\"x\":[\"\\u8c37\\u5b50\"],\"xaxis\":\"x\",\"y\":[185.0],\"yaxis\":\"y\",\"type\":\"bar\"},{\"alignmentgroup\":\"True\",\"hovertemplate\":\"\\u4f5c\\u7269\\u540d\\u79f0=%{x}\\u003cbr\\u003e\\u603b\\u79cd\\u690d\\u9762\\u79ef\\uff08\\u4ea9\\uff09=%{y}\\u003cextra\\u003e\\u003c\\u002fextra\\u003e\",\"legendgroup\":\"\\u8c47\\u8c46\",\"marker\":{\"color\":\"#EF553B\",\"pattern\":{\"shape\":\"\"}},\"name\":\"\\u8c47\\u8c46\",\"offsetgroup\":\"\\u8c47\\u8c46\",\"orientation\":\"v\",\"showlegend\":true,\"textposition\":\"auto\",\"x\":[\"\\u8c47\\u8c46\"],\"xaxis\":\"x\",\"y\":[11.8],\"yaxis\":\"y\",\"type\":\"bar\"},{\"alignmentgroup\":\"True\",\"hovertemplate\":\"\\u4f5c\\u7269\\u540d\\u79f0=%{x}\\u003cbr\\u003e\\u603b\\u79cd\\u690d\\u9762\\u79ef\\uff08\\u4ea9\\uff09=%{y}\\u003cextra\\u003e\\u003c\\u002fextra\\u003e\",\"legendgroup\":\"\\u8fa3\\u6912\",\"marker\":{\"color\":\"#00cc96\",\"pattern\":{\"shape\":\"\"}},\"name\":\"\\u8fa3\\u6912\",\"offsetgroup\":\"\\u8fa3\\u6912\",\"orientation\":\"v\",\"showlegend\":true,\"textposition\":\"auto\",\"x\":[\"\\u8fa3\\u6912\"],\"xaxis\":\"x\",\"y\":[0.6],\"yaxis\":\"y\",\"type\":\"bar\"},{\"alignmentgroup\":\"True\",\"hovertemplate\":\"\\u4f5c\\u7269\\u540d\\u79f0=%{x}\\u003cbr\\u003e\\u603b\\u79cd\\u690d\\u9762\\u79ef\\uff08\\u4ea9\\uff09=%{y}\\u003cextra\\u003e\\u003c\\u002fextra\\u003e\",\"legendgroup\":\"\\u9752\\u6912\",\"marker\":{\"color\":\"#ab63fa\",\"pattern\":{\"shape\":\"\"}},\"name\":\"\\u9752\\u6912\",\"offsetgroup\":\"\\u9752\\u6912\",\"orientation\":\"v\",\"showlegend\":true,\"textposition\":\"auto\",\"x\":[\"\\u9752\\u6912\"],\"xaxis\":\"x\",\"y\":[0.8999999999999999],\"yaxis\":\"y\",\"type\":\"bar\"},{\"alignmentgroup\":\"True\",\"hovertemplate\":\"\\u4f5c\\u7269\\u540d\\u79f0=%{x}\\u003cbr\\u003e\\u603b\\u79cd\\u690d\\u9762\\u79ef\\uff08\\u4ea9\\uff09=%{y}\\u003cextra\\u003e\\u003c\\u002fextra\\u003e\",\"legendgroup\":\"\\u9999\\u83c7\",\"marker\":{\"color\":\"#FFA15A\",\"pattern\":{\"shape\":\"\"}},\"name\":\"\\u9999\\u83c7\",\"offsetgroup\":\"\\u9999\\u83c7\",\"orientation\":\"v\",\"showlegend\":true,\"textposition\":\"auto\",\"x\":[\"\\u9999\\u83c7\"],\"xaxis\":\"x\",\"y\":[1.7999999999999998],\"yaxis\":\"y\",\"type\":\"bar\"},{\"alignmentgroup\":\"True\",\"hovertemplate\":\"\\u4f5c\\u7269\\u540d\\u79f0=%{x}\\u003cbr\\u003e\\u603b\\u79cd\\u690d\\u9762\\u79ef\\uff08\\u4ea9\\uff09=%{y}\\u003cextra\\u003e\\u003c\\u002fextra\\u003e\",\"legendgroup\":\"\\u9ad8\\u7cb1\",\"marker\":{\"color\":\"#19d3f3\",\"pattern\":{\"shape\":\"\"}},\"name\":\"\\u9ad8\\u7cb1\",\"offsetgroup\":\"\\u9ad8\\u7cb1\",\"orientation\":\"v\",\"showlegend\":true,\"textposition\":\"auto\",\"x\":[\"\\u9ad8\\u7cb1\"],\"xaxis\":\"x\",\"y\":[50.0],\"yaxis\":\"y\",\"type\":\"bar\"},{\"alignmentgroup\":\"True\",\"hovertemplate\":\"\\u4f5c\\u7269\\u540d\\u79f0=%{x}\\u003cbr\\u003e\\u603b\\u79cd\\u690d\\u9762\\u79ef\\uff08\\u4ea9\\uff09=%{y}\\u003cextra\\u003e\\u003c\\u002fextra\\u003e\",\"legendgroup\":\"\\u9ec4\\u5fc3\\u83dc\",\"marker\":{\"color\":\"#FF6692\",\"pattern\":{\"shape\":\"\"}},\"name\":\"\\u9ec4\\u5fc3\\u83dc\",\"offsetgroup\":\"\\u9ec4\\u5fc3\\u83dc\",\"orientation\":\"v\",\"showlegend\":true,\"textposition\":\"auto\",\"x\":[\"\\u9ec4\\u5fc3\\u83dc\"],\"xaxis\":\"x\",\"y\":[0.3],\"yaxis\":\"y\",\"type\":\"bar\"},{\"alignmentgroup\":\"True\",\"hovertemplate\":\"\\u4f5c\\u7269\\u540d\\u79f0=%{x}\\u003cbr\\u003e\\u603b\\u79cd\\u690d\\u9762\\u79ef\\uff08\\u4ea9\\uff09=%{y}\\u003cextra\\u003e\\u003c\\u002fextra\\u003e\",\"legendgroup\":\"\\u9ec4\\u74dc\",\"marker\":{\"color\":\"#B6E880\",\"pattern\":{\"shape\":\"\"}},\"name\":\"\\u9ec4\\u74dc\",\"offsetgroup\":\"\\u9ec4\\u74dc\",\"orientation\":\"v\",\"showlegend\":true,\"textposition\":\"auto\",\"x\":[\"\\u9ec4\\u74dc\"],\"xaxis\":\"x\",\"y\":[0.8999999999999999],\"yaxis\":\"y\",\"type\":\"bar\"},{\"alignmentgroup\":\"True\",\"hovertemplate\":\"\\u4f5c\\u7269\\u540d\\u79f0=%{x}\\u003cbr\\u003e\\u603b\\u79cd\\u690d\\u9762\\u79ef\\uff08\\u4ea9\\uff09=%{y}\\u003cextra\\u003e\\u003c\\u002fextra\\u003e\",\"legendgroup\":\"\\u9ec4\\u8c46\",\"marker\":{\"color\":\"#FF97FF\",\"pattern\":{\"shape\":\"\"}},\"name\":\"\\u9ec4\\u8c46\",\"offsetgroup\":\"\\u9ec4\\u8c46\",\"orientation\":\"v\",\"showlegend\":true,\"textposition\":\"auto\",\"x\":[\"\\u9ec4\\u8c46\"],\"xaxis\":\"x\",\"y\":[147.0],\"yaxis\":\"y\",\"type\":\"bar\"},{\"alignmentgroup\":\"True\",\"hovertemplate\":\"\\u4f5c\\u7269\\u540d\\u79f0=%{x}\\u003cbr\\u003e\\u603b\\u79cd\\u690d\\u9762\\u79ef\\uff08\\u4ea9\\uff09=%{y}\\u003cextra\\u003e\\u003c\\u002fextra\\u003e\",\"legendgroup\":\"\\u9ecd\\u5b50\",\"marker\":{\"color\":\"#FECB52\",\"pattern\":{\"shape\":\"\"}},\"name\":\"\\u9ecd\\u5b50\",\"offsetgroup\":\"\\u9ecd\\u5b50\",\"orientation\":\"v\",\"showlegend\":true,\"textposition\":\"auto\",\"x\":[\"\\u9ecd\\u5b50\"],\"xaxis\":\"x\",\"y\":[25.0],\"yaxis\":\"y\",\"type\":\"bar\"},{\"alignmentgroup\":\"True\",\"hovertemplate\":\"\\u4f5c\\u7269\\u540d\\u79f0=%{x}\\u003cbr\\u003e\\u603b\\u79cd\\u690d\\u9762\\u79ef\\uff08\\u4ea9\\uff09=%{y}\\u003cextra\\u003e\\u003c\\u002fextra\\u003e\",\"legendgroup\":\"\\u9ed1\\u8c46\",\"marker\":{\"color\":\"#636efa\",\"pattern\":{\"shape\":\"\"}},\"name\":\"\\u9ed1\\u8c46\",\"offsetgroup\":\"\\u9ed1\\u8c46\",\"orientation\":\"v\",\"showlegend\":true,\"textposition\":\"auto\",\"x\":[\"\\u9ed1\\u8c46\"],\"xaxis\":\"x\",\"y\":[46.0],\"yaxis\":\"y\",\"type\":\"bar\"}],                        {\"template\":{\"data\":{\"histogram2dcontour\":[{\"type\":\"histogram2dcontour\",\"colorbar\":{\"outlinewidth\":0,\"ticks\":\"\"},\"colorscale\":[[0.0,\"#0d0887\"],[0.1111111111111111,\"#46039f\"],[0.2222222222222222,\"#7201a8\"],[0.3333333333333333,\"#9c179e\"],[0.4444444444444444,\"#bd3786\"],[0.5555555555555556,\"#d8576b\"],[0.6666666666666666,\"#ed7953\"],[0.7777777777777778,\"#fb9f3a\"],[0.8888888888888888,\"#fdca26\"],[1.0,\"#f0f921\"]]}],\"choropleth\":[{\"type\":\"choropleth\",\"colorbar\":{\"outlinewidth\":0,\"ticks\":\"\"}}],\"histogram2d\":[{\"type\":\"histogram2d\",\"colorbar\":{\"outlinewidth\":0,\"ticks\":\"\"},\"colorscale\":[[0.0,\"#0d0887\"],[0.1111111111111111,\"#46039f\"],[0.2222222222222222,\"#7201a8\"],[0.3333333333333333,\"#9c179e\"],[0.4444444444444444,\"#bd3786\"],[0.5555555555555556,\"#d8576b\"],[0.6666666666666666,\"#ed7953\"],[0.7777777777777778,\"#fb9f3a\"],[0.8888888888888888,\"#fdca26\"],[1.0,\"#f0f921\"]]}],\"heatmap\":[{\"type\":\"heatmap\",\"colorbar\":{\"outlinewidth\":0,\"ticks\":\"\"},\"colorscale\":[[0.0,\"#0d0887\"],[0.1111111111111111,\"#46039f\"],[0.2222222222222222,\"#7201a8\"],[0.3333333333333333,\"#9c179e\"],[0.4444444444444444,\"#bd3786\"],[0.5555555555555556,\"#d8576b\"],[0.6666666666666666,\"#ed7953\"],[0.7777777777777778,\"#fb9f3a\"],[0.8888888888888888,\"#fdca26\"],[1.0,\"#f0f921\"]]}],\"heatmapgl\":[{\"type\":\"heatmapgl\",\"colorbar\":{\"outlinewidth\":0,\"ticks\":\"\"},\"colorscale\":[[0.0,\"#0d0887\"],[0.1111111111111111,\"#46039f\"],[0.2222222222222222,\"#7201a8\"],[0.3333333333333333,\"#9c179e\"],[0.4444444444444444,\"#bd3786\"],[0.5555555555555556,\"#d8576b\"],[0.6666666666666666,\"#ed7953\"],[0.7777777777777778,\"#fb9f3a\"],[0.8888888888888888,\"#fdca26\"],[1.0,\"#f0f921\"]]}],\"contourcarpet\":[{\"type\":\"contourcarpet\",\"colorbar\":{\"outlinewidth\":0,\"ticks\":\"\"}}],\"contour\":[{\"type\":\"contour\",\"colorbar\":{\"outlinewidth\":0,\"ticks\":\"\"},\"colorscale\":[[0.0,\"#0d0887\"],[0.1111111111111111,\"#46039f\"],[0.2222222222222222,\"#7201a8\"],[0.3333333333333333,\"#9c179e\"],[0.4444444444444444,\"#bd3786\"],[0.5555555555555556,\"#d8576b\"],[0.6666666666666666,\"#ed7953\"],[0.7777777777777778,\"#fb9f3a\"],[0.8888888888888888,\"#fdca26\"],[1.0,\"#f0f921\"]]}],\"surface\":[{\"type\":\"surface\",\"colorbar\":{\"outlinewidth\":0,\"ticks\":\"\"},\"colorscale\":[[0.0,\"#0d0887\"],[0.1111111111111111,\"#46039f\"],[0.2222222222222222,\"#7201a8\"],[0.3333333333333333,\"#9c179e\"],[0.4444444444444444,\"#bd3786\"],[0.5555555555555556,\"#d8576b\"],[0.6666666666666666,\"#ed7953\"],[0.7777777777777778,\"#fb9f3a\"],[0.8888888888888888,\"#fdca26\"],[1.0,\"#f0f921\"]]}],\"mesh3d\":[{\"type\":\"mesh3d\",\"colorbar\":{\"outlinewidth\":0,\"ticks\":\"\"}}],\"scatter\":[{\"fillpattern\":{\"fillmode\":\"overlay\",\"size\":10,\"solidity\":0.2},\"type\":\"scatter\"}],\"parcoords\":[{\"type\":\"parcoords\",\"line\":{\"colorbar\":{\"outlinewidth\":0,\"ticks\":\"\"}}}],\"scatterpolargl\":[{\"type\":\"scatterpolargl\",\"marker\":{\"colorbar\":{\"outlinewidth\":0,\"ticks\":\"\"}}}],\"bar\":[{\"error_x\":{\"color\":\"#2a3f5f\"},\"error_y\":{\"color\":\"#2a3f5f\"},\"marker\":{\"line\":{\"color\":\"#E5ECF6\",\"width\":0.5},\"pattern\":{\"fillmode\":\"overlay\",\"size\":10,\"solidity\":0.2}},\"type\":\"bar\"}],\"scattergeo\":[{\"type\":\"scattergeo\",\"marker\":{\"colorbar\":{\"outlinewidth\":0,\"ticks\":\"\"}}}],\"scatterpolar\":[{\"type\":\"scatterpolar\",\"marker\":{\"colorbar\":{\"outlinewidth\":0,\"ticks\":\"\"}}}],\"histogram\":[{\"marker\":{\"pattern\":{\"fillmode\":\"overlay\",\"size\":10,\"solidity\":0.2}},\"type\":\"histogram\"}],\"scattergl\":[{\"type\":\"scattergl\",\"marker\":{\"colorbar\":{\"outlinewidth\":0,\"ticks\":\"\"}}}],\"scatter3d\":[{\"type\":\"scatter3d\",\"line\":{\"colorbar\":{\"outlinewidth\":0,\"ticks\":\"\"}},\"marker\":{\"colorbar\":{\"outlinewidth\":0,\"ticks\":\"\"}}}],\"scattermapbox\":[{\"type\":\"scattermapbox\",\"marker\":{\"colorbar\":{\"outlinewidth\":0,\"ticks\":\"\"}}}],\"scatterternary\":[{\"type\":\"scatterternary\",\"marker\":{\"colorbar\":{\"outlinewidth\":0,\"ticks\":\"\"}}}],\"scattercarpet\":[{\"type\":\"scattercarpet\",\"marker\":{\"colorbar\":{\"outlinewidth\":0,\"ticks\":\"\"}}}],\"carpet\":[{\"aaxis\":{\"endlinecolor\":\"#2a3f5f\",\"gridcolor\":\"white\",\"linecolor\":\"white\",\"minorgridcolor\":\"white\",\"startlinecolor\":\"#2a3f5f\"},\"baxis\":{\"endlinecolor\":\"#2a3f5f\",\"gridcolor\":\"white\",\"linecolor\":\"white\",\"minorgridcolor\":\"white\",\"startlinecolor\":\"#2a3f5f\"},\"type\":\"carpet\"}],\"table\":[{\"cells\":{\"fill\":{\"color\":\"#EBF0F8\"},\"line\":{\"color\":\"white\"}},\"header\":{\"fill\":{\"color\":\"#C8D4E3\"},\"line\":{\"color\":\"white\"}},\"type\":\"table\"}],\"barpolar\":[{\"marker\":{\"line\":{\"color\":\"#E5ECF6\",\"width\":0.5},\"pattern\":{\"fillmode\":\"overlay\",\"size\":10,\"solidity\":0.2}},\"type\":\"barpolar\"}],\"pie\":[{\"automargin\":true,\"type\":\"pie\"}]},\"layout\":{\"autotypenumbers\":\"strict\",\"colorway\":[\"#636efa\",\"#EF553B\",\"#00cc96\",\"#ab63fa\",\"#FFA15A\",\"#19d3f3\",\"#FF6692\",\"#B6E880\",\"#FF97FF\",\"#FECB52\"],\"font\":{\"color\":\"#2a3f5f\"},\"hovermode\":\"closest\",\"hoverlabel\":{\"align\":\"left\"},\"paper_bgcolor\":\"white\",\"plot_bgcolor\":\"#E5ECF6\",\"polar\":{\"bgcolor\":\"#E5ECF6\",\"angularaxis\":{\"gridcolor\":\"white\",\"linecolor\":\"white\",\"ticks\":\"\"},\"radialaxis\":{\"gridcolor\":\"white\",\"linecolor\":\"white\",\"ticks\":\"\"}},\"ternary\":{\"bgcolor\":\"#E5ECF6\",\"aaxis\":{\"gridcolor\":\"white\",\"linecolor\":\"white\",\"ticks\":\"\"},\"baxis\":{\"gridcolor\":\"white\",\"linecolor\":\"white\",\"ticks\":\"\"},\"caxis\":{\"gridcolor\":\"white\",\"linecolor\":\"white\",\"ticks\":\"\"}},\"coloraxis\":{\"colorbar\":{\"outlinewidth\":0,\"ticks\":\"\"}},\"colorscale\":{\"sequential\":[[0.0,\"#0d0887\"],[0.1111111111111111,\"#46039f\"],[0.2222222222222222,\"#7201a8\"],[0.3333333333333333,\"#9c179e\"],[0.4444444444444444,\"#bd3786\"],[0.5555555555555556,\"#d8576b\"],[0.6666666666666666,\"#ed7953\"],[0.7777777777777778,\"#fb9f3a\"],[0.8888888888888888,\"#fdca26\"],[1.0,\"#f0f921\"]],\"sequentialminus\":[[0.0,\"#0d0887\"],[0.1111111111111111,\"#46039f\"],[0.2222222222222222,\"#7201a8\"],[0.3333333333333333,\"#9c179e\"],[0.4444444444444444,\"#bd3786\"],[0.5555555555555556,\"#d8576b\"],[0.6666666666666666,\"#ed7953\"],[0.7777777777777778,\"#fb9f3a\"],[0.8888888888888888,\"#fdca26\"],[1.0,\"#f0f921\"]],\"diverging\":[[0,\"#8e0152\"],[0.1,\"#c51b7d\"],[0.2,\"#de77ae\"],[0.3,\"#f1b6da\"],[0.4,\"#fde0ef\"],[0.5,\"#f7f7f7\"],[0.6,\"#e6f5d0\"],[0.7,\"#b8e186\"],[0.8,\"#7fbc41\"],[0.9,\"#4d9221\"],[1,\"#276419\"]]},\"xaxis\":{\"gridcolor\":\"white\",\"linecolor\":\"white\",\"ticks\":\"\",\"title\":{\"standoff\":15},\"zerolinecolor\":\"white\",\"automargin\":true,\"zerolinewidth\":2},\"yaxis\":{\"gridcolor\":\"white\",\"linecolor\":\"white\",\"ticks\":\"\",\"title\":{\"standoff\":15},\"zerolinecolor\":\"white\",\"automargin\":true,\"zerolinewidth\":2},\"scene\":{\"xaxis\":{\"backgroundcolor\":\"#E5ECF6\",\"gridcolor\":\"white\",\"linecolor\":\"white\",\"showbackground\":true,\"ticks\":\"\",\"zerolinecolor\":\"white\",\"gridwidth\":2},\"yaxis\":{\"backgroundcolor\":\"#E5ECF6\",\"gridcolor\":\"white\",\"linecolor\":\"white\",\"showbackground\":true,\"ticks\":\"\",\"zerolinecolor\":\"white\",\"gridwidth\":2},\"zaxis\":{\"backgroundcolor\":\"#E5ECF6\",\"gridcolor\":\"white\",\"linecolor\":\"white\",\"showbackground\":true,\"ticks\":\"\",\"zerolinecolor\":\"white\",\"gridwidth\":2}},\"shapedefaults\":{\"line\":{\"color\":\"#2a3f5f\"}},\"annotationdefaults\":{\"arrowcolor\":\"#2a3f5f\",\"arrowhead\":0,\"arrowwidth\":1},\"geo\":{\"bgcolor\":\"white\",\"landcolor\":\"#E5ECF6\",\"subunitcolor\":\"white\",\"showland\":true,\"showlakes\":true,\"lakecolor\":\"white\"},\"title\":{\"x\":0.05},\"mapbox\":{\"style\":\"light\"}}},\"xaxis\":{\"anchor\":\"y\",\"domain\":[0.0,1.0],\"title\":{\"text\":\"\\u4f5c\\u7269\\u540d\\u79f0\"},\"categoryorder\":\"array\",\"categoryarray\":[\"\\u5200\\u8c46\",\"\\u5305\\u83dc\",\"\\u5357\\u74dc\",\"\\u571f\\u8c46\",\"\\u5927\\u767d\\u83dc\",\"\\u5927\\u9ea6\",\"\\u5c0f\\u9752\\u83dc\",\"\\u5c0f\\u9ea6\",\"\\u6986\\u9ec4\\u83c7\",\"\\u6c34\\u7a3b\",\"\\u6cb9\\u9ea6\\u83dc\",\"\\u722c\\u8c46\",\"\\u7389\\u7c73\",\"\\u751f\\u83dc\",\"\\u767d\\u7075\\u83c7\",\"\\u767d\\u841d\\u535c\",\"\\u7a7a\\u5fc3\\u83dc\",\"\\u7ea2\\u841d\\u535c\",\"\\u7ea2\\u85af\",\"\\u7ea2\\u8c46\",\"\\u7eff\\u8c46\",\"\\u7f8a\\u809a\\u83cc\",\"\\u82b8\\u8c46\",\"\\u82b9\\u83dc\",\"\\u8304\\u5b50\",\"\\u835e\\u9ea6\",\"\\u839c\\u9ea6\",\"\\u83dc\\u82b1\",\"\\u83e0\\u83dc\",\"\\u897f\\u7ea2\\u67ff\",\"\\u8c37\\u5b50\",\"\\u8c47\\u8c46\",\"\\u8fa3\\u6912\",\"\\u9752\\u6912\",\"\\u9999\\u83c7\",\"\\u9ad8\\u7cb1\",\"\\u9ec4\\u5fc3\\u83dc\",\"\\u9ec4\\u74dc\",\"\\u9ec4\\u8c46\",\"\\u9ecd\\u5b50\",\"\\u9ed1\\u8c46\"]},\"yaxis\":{\"anchor\":\"x\",\"domain\":[0.0,1.0],\"title\":{\"text\":\"\\u603b\\u79cd\\u690d\\u9762\\u79ef\\uff08\\u4ea9\\uff09\"},\"type\":\"log\"},\"legend\":{\"title\":{\"text\":\"\\u4f5c\\u7269\\u540d\\u79f0\"},\"tracegroupgap\":0},\"title\":{\"text\":\"\\u5404\\u79cd\\u4f5c\\u7269\\u7684\\u79cd\\u690d\\u9762\\u79ef\\uff08\\u4ea9\\uff09\"},\"barmode\":\"relative\",\"height\":750,\"width\":1500},                        {\"responsive\": true}                    ).then(function(){\n",
       "                            \n",
       "var gd = document.getElementById('efa2d720-4335-4e93-b0d1-68c2527851fb');\n",
       "var x = new MutationObserver(function (mutations, observer) {{\n",
       "        var display = window.getComputedStyle(gd).display;\n",
       "        if (!display || display === 'none') {{\n",
       "            console.log([gd, 'removed!']);\n",
       "            Plotly.purge(gd);\n",
       "            observer.disconnect();\n",
       "        }}\n",
       "}});\n",
       "\n",
       "// Listen for the removal of the full notebook cells\n",
       "var notebookContainer = gd.closest('#notebook-container');\n",
       "if (notebookContainer) {{\n",
       "    x.observe(notebookContainer, {childList: true});\n",
       "}}\n",
       "\n",
       "// Listen for the clearing of the current output cell\n",
       "var outputEl = gd.closest('.output');\n",
       "if (outputEl) {{\n",
       "    x.observe(outputEl, {childList: true});\n",
       "}}\n",
       "\n",
       "                        })                };                });            </script>        </div>"
      ]
     },
     "metadata": {},
     "output_type": "display_data"
    }
   ],
   "source": [
    "import plotly.express as px\n",
    "\n",
    "\n",
    "# 计算每种作物的种植面积\n",
    "planting_areas = df.groupby([\"Crop Name\"])[\"Planting Area\"].agg(\"sum\")\n",
    "fig = px.bar(\n",
    "    planting_areas,\n",
    "    color=planting_areas.index,\n",
    "    title=\"各种作物的种植面积（亩）\",\n",
    "    labels={\n",
    "        \"value\": \"总种植面积（亩）\",\n",
    "        \"Crop Name\": \"作物名称\",\n",
    "    },\n",
    "    log_y=True,\n",
    "    height=750,\n",
    "    width=1500,\n",
    ")\n",
    "fig.show()"
   ]
  }
 ],
 "metadata": {
  "kernelspec": {
   "display_name": ".venv",
   "language": "python",
   "name": "python3"
  },
  "language_info": {
   "codemirror_mode": {
    "name": "ipython",
    "version": 3
   },
   "file_extension": ".py",
   "mimetype": "text/x-python",
   "name": "python",
   "nbconvert_exporter": "python",
   "pygments_lexer": "ipython3",
   "version": "3.12.3"
  }
 },
 "nbformat": 4,
 "nbformat_minor": 2
}
