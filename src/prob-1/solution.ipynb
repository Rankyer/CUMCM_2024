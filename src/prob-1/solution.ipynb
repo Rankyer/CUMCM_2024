{
 "cells": [
  {
   "cell_type": "code",
   "execution_count": 560,
   "metadata": {},
   "outputs": [
    {
     "data": {
      "text/plain": [
       "Field ID           int64\n",
       "Field Name        object\n",
       "Crop ID            int64\n",
       "Crop Name         object\n",
       "Crop Type         object\n",
       "Planting Area    float64\n",
       "Season ID          int64\n",
       "Season            object\n",
       "Field Type        object\n",
       "Field Area       float64\n",
       "Per Yield        float64\n",
       "Per Cost         float64\n",
       "Per Price        float64\n",
       "Yield            float64\n",
       "Cost             float64\n",
       "dtype: object"
      ]
     },
     "execution_count": 560,
     "metadata": {},
     "output_type": "execute_result"
    }
   ],
   "source": [
    "import pandas as pd\n",
    "\n",
    "stats_2023 = pd.read_csv(\"../../data/preprocess/pre-processed.csv\")\n",
    "stats_2023.drop(columns=[\"Profit\", \"Selling\", \"Revenue\"], inplace=True)\n",
    "stats_2023.dtypes"
   ]
  },
  {
   "cell_type": "markdown",
   "metadata": {},
   "source": [
    "# 初始化"
   ]
  },
  {
   "cell_type": "code",
   "execution_count": 561,
   "metadata": {},
   "outputs": [],
   "source": [
    "import pulp\n",
    "import numpy as np"
   ]
  },
  {
   "cell_type": "markdown",
   "metadata": {},
   "source": [
    "# 定义辅助变量"
   ]
  },
  {
   "cell_type": "code",
   "execution_count": 562,
   "metadata": {},
   "outputs": [],
   "source": [
    "fields_id = list(map(int, stats_2023[\"Field ID\"].unique()))  # 所有的地块\n",
    "crops_id = list(map(int, stats_2023[\"Crop ID\"].unique()))  # 所有的作物\n",
    "seasons_id = list(map(int, stats_2023[\"Season ID\"].unique()))  # 所有的时节\n",
    "fields_id.sort()\n",
    "crops_id.sort()\n",
    "seasons_id.sort()\n",
    "\n",
    "years = range(2023, 2031)  # 要优化的年份\n",
    "\n",
    "\n",
    "def pop_ndarray(arr, element_to_pop):\n",
    "    index = np.where(arr == element_to_pop)[0]\n",
    "    if index.size > 0:\n",
    "        arr = np.delete(arr, index)\n",
    "    return arr\n",
    "\n",
    "\n",
    "# A类粮食作物的集合\n",
    "grains_A = stats_2023[\n",
    "    (stats_2023[\"Crop Type\"] == \"粮食\") | (stats_2023[\"Crop Type\"] == \"粮食（豆类）\")\n",
    "][\"Crop ID\"].unique()\n",
    "grains_A = pop_ndarray(grains_A, 16)\n",
    "grains_A.sort()\n",
    "\n",
    "# B类粮食作物的集合\n",
    "grains_B = np.array([16])\n",
    "\n",
    "# A类蔬菜作物的集合\n",
    "vege_A = stats_2023[\n",
    "    (stats_2023[\"Crop Type\"] == \"蔬菜\") | (stats_2023[\"Crop Type\"] == \"蔬菜（豆类）\")\n",
    "][\"Crop ID\"].unique()\n",
    "for i in range(3):\n",
    "    vege_A = pop_ndarray(vege_A, 35 + i)\n",
    "vege_A.sort()\n",
    "\n",
    "# B类蔬菜作物的集合\n",
    "vege_B = np.array([35, 36, 37])\n",
    "\n",
    "# 食用菌作物的集合\n",
    "mush = stats_2023[stats_2023[\"Crop Type\"] == \"食用菌\"][\"Crop ID\"].unique()\n",
    "mush.sort()\n",
    "\n",
    "# 豆类作物的集合\n",
    "beans = stats_2023[\n",
    "    (stats_2023[\"Crop Type\"] == \"粮食（豆类）\")\n",
    "    | (stats_2023[\"Crop Type\"] == \"蔬菜（豆类）\")\n",
    "][\"Crop ID\"].unique()\n",
    "beans.sort()\n",
    "\n",
    "# 第 i 个地块的类型（如平旱地、梯田、山坡地、智能大棚、普通大棚、水浇地）\n",
    "t_i = {\n",
    "    i: stats_2023[stats_2023[\"Field ID\"] == i][\"Field Type\"].values[0]\n",
    "    for i in fields_id\n",
    "}\n",
    "\n",
    "# 第 i 个地块在第 s 季可种植的作物集合\n",
    "T_hat_i_s: dict[tuple : np.ndarray] = {}\n",
    "\n",
    "\n",
    "for i in fields_id:\n",
    "    if t_i[i] in [\"平旱地\", \"梯田\", \"山坡地\"]:\n",
    "        T_hat_i_s[(i, 1)] = grains_A\n",
    "        T_hat_i_s[(i, 2)] = np.array([])\n",
    "    elif t_i[i] in [\"水浇地\"]:\n",
    "        T_hat_i_s[(i, 1)] = np.concatenate([grains_B, vege_A])\n",
    "        T_hat_i_s[(i, 2)] = vege_B\n",
    "    elif t_i[i] in [\"普通大棚\"]:\n",
    "        T_hat_i_s[(i, 1)] = vege_A\n",
    "        T_hat_i_s[(i, 2)] = mush\n",
    "    elif t_i[i] in [\"智慧大棚\"]:\n",
    "        T_hat_i_s[(i, 1)] = vege_A\n",
    "        T_hat_i_s[(i, 2)] = vege_A\n",
    "\n",
    "S: dict[tuple : np.int64] = {}  # 期望产量\n",
    "Y: dict[tuple : np.int64] = {}  # 单位面积产量\n",
    "P: dict[tuple : np.int64] = {}  # 售价\n",
    "C: dict[tuple : np.int64] = {}  # 单位面积成本\n",
    "\n",
    "for j in crops_id:\n",
    "    # 所有参数与 2023 年的保持一致\n",
    "    for k in years:\n",
    "        S[(j, k)] = stats_2023.groupby([\"Crop ID\"])[\"Yield\"].agg(\"sum\").values[j - 1]\n",
    "        Y[(j, k)] = stats_2023[stats_2023[\"Crop ID\"] == j][\"Per Yield\"].values[0]\n",
    "        P[(j, k)] = stats_2023[stats_2023[\"Crop ID\"] == j][\"Per Price\"].values[0]\n",
    "        C[(j, k)] = stats_2023[stats_2023[\"Crop ID\"] == j][\"Per Cost\"].values[0]"
   ]
  },
  {
   "cell_type": "markdown",
   "metadata": {},
   "source": [
    "# 定义决策变量"
   ]
  },
  {
   "cell_type": "code",
   "execution_count": 563,
   "metadata": {},
   "outputs": [],
   "source": [
    "# A^1_{ijks}：第 k 年第 s 季度的第 i 块地，第 j 作物的种植面积，若为不为大棚地块则为 0\n",
    "# A^2_{ijks}：第 k 年第 s 季度的第 i 块地，第 j 作物的种植面积，若为大棚地块则为 0\n",
    "# A_{ijks}：第 k 年第 s 季度的第 i 块地，第 j 作物的种植面积\n",
    "A_ijks = pulp.LpVariable.dicts(\n",
    "    \"A\",\n",
    "    [\n",
    "        (i, j, k, s)\n",
    "        for i in fields_id\n",
    "        for j in crops_id\n",
    "        for k in years\n",
    "        for s in seasons_id\n",
    "    ],\n",
    "    lowBound=0,\n",
    "    cat=\"Continuous\",\n",
    ")\n",
    "\n",
    "\n",
    "# Rename\n",
    "for i in fields_id:\n",
    "    for j in crops_id:\n",
    "        for k in years:\n",
    "            for s in seasons_id:\n",
    "                A_ijks[(i, j, k, s)].name = f\"A_{i}_{j}_{k}_{s}\"\n",
    "\n",
    "\n",
    "# A_{ijk} = \\sum_s A^2_{ijks} + A^1_{ij(k-1)2} + A^1_{ijks}\n",
    "A_ijk: dict[tuple : pulp.LpVariable] = {}\n",
    "for i in fields_id:\n",
    "    for j in crops_id:\n",
    "        for k in years:\n",
    "            if k == 2023:\n",
    "                continue\n",
    "            A_ijk[(i, j, k)] = pulp.lpSum([A_ijks[i, j, k, s] for s in seasons_id])\n",
    "\n",
    "\n",
    "# 2023 年的 A_{ijks} 已知\n",
    "for i in fields_id:\n",
    "    for j in crops_id:\n",
    "        for s in seasons_id:\n",
    "            matching_rows = stats_2023[\n",
    "                (stats_2023[\"Field ID\"] == i)\n",
    "                & (stats_2023[\"Crop ID\"] == j)\n",
    "                & (stats_2023[\"Season ID\"] == s)\n",
    "            ]\n",
    "\n",
    "            area = (\n",
    "                matching_rows[\"Planting Area\"].values[0]\n",
    "                if not matching_rows.empty\n",
    "                else 0\n",
    "            )\n",
    "\n",
    "            A_ijks[(i, j, 2023, s)].lowBound = area\n",
    "            A_ijks[(i, j, 2023, s)].upBound = area\n",
    "\n",
    "# 2023 年的 A_{ijk} 已知\n",
    "for i in fields_id:\n",
    "    for j in crops_id:\n",
    "        A_ijk[(i, j, 2023)] = pulp.lpSum([A_ijks[i, j, 2023, s] for s in seasons_id])\n",
    "\n",
    "B_ijks = pulp.LpVariable.dicts(\n",
    "    \"B\",\n",
    "    [\n",
    "        (i, j, k, s)\n",
    "        for i in fields_id\n",
    "        for j in crops_id\n",
    "        for k in years\n",
    "        for s in seasons_id\n",
    "    ],\n",
    "    lowBound=0,\n",
    "    cat=pulp.LpBinary,\n",
    ")\n",
    "\n",
    "A_star = {}  # 地块面积\n",
    "\n",
    "for i in fields_id:\n",
    "    A_star[i] = stats_2023[stats_2023[\"Field ID\"] == i][\"Field Area\"].values[0]"
   ]
  },
  {
   "cell_type": "markdown",
   "metadata": {},
   "source": [
    "# 定义目标函数"
   ]
  },
  {
   "cell_type": "code",
   "execution_count": 564,
   "metadata": {},
   "outputs": [],
   "source": [
    "# 创建线性规划问题\n",
    "prob = pulp.LpProblem(\"Crop_Optimization\", pulp.LpMaximize)\n",
    "alpha = 0.5\n",
    "\n",
    "# 定义辅助变量 Z_ijk\n",
    "Z_ijk = pulp.LpVariable.dicts(\n",
    "    \"Z\",\n",
    "    [(i, j, k) for i in fields_id for j in crops_id for k in years],\n",
    "    lowBound=0,\n",
    "    cat=\"Continuous\",\n",
    ")\n",
    "\n",
    "# 线性化的目标函数\n",
    "L = pulp.lpSum(\n",
    "    [\n",
    "        (\n",
    "            Y[(j, k)] * A_ijk[(i, j, k)] * P[(j, k)]\n",
    "            - C[(j, k)] * A_ijk[(i, j, k)]\n",
    "            + alpha * Z_ijk[(i, j, k)] * P[(j, k)]\n",
    "        )\n",
    "        for i in fields_id\n",
    "        for j in crops_id\n",
    "        for k in years\n",
    "    ]\n",
    ")\n",
    "\n",
    "# 设置目标函数\n",
    "prob += L"
   ]
  },
  {
   "cell_type": "code",
   "execution_count": 565,
   "metadata": {},
   "outputs": [],
   "source": [
    "# 添加约束 Z_ijk >= Y_jk * A_ijk - S_jk\n",
    "for i in fields_id:\n",
    "    for j in crops_id:\n",
    "        for k in years:\n",
    "            prob += Z_ijk[(i, j, k)] >= Y[(j, k)] * A_ijk[(i, j, k)] - S[(j, k)]\n",
    "\n",
    "# 添加约束 Z_ijk >= 0 已经通过 LpVariable 的 lowBound=0 实现"
   ]
  },
  {
   "cell_type": "code",
   "execution_count": 566,
   "metadata": {},
   "outputs": [],
   "source": [
    "M = 1000000000  # 一个很大的数\n",
    "\n",
    "for i in fields_id:\n",
    "    for j in crops_id:\n",
    "        for k in years:\n",
    "            for s in seasons_id:\n",
    "                prob += A_ijks[(i, j, k, s)] <= B_ijks[(i, j, k, s)] * M"
   ]
  },
  {
   "cell_type": "code",
   "execution_count": 567,
   "metadata": {},
   "outputs": [],
   "source": [
    "# 约束：一个地块上每种作物合起来的种植面积不超过相应地块的总面积\n",
    "for i in fields_id:\n",
    "    for s in seasons_id:\n",
    "        for k in years:\n",
    "            prob += (\n",
    "                pulp.lpSum([A_ijks[(i, j, k, s)] for j in T_hat_i_s[(i, s)]])\n",
    "                <= A_star[i]\n",
    "            )\n",
    "            for j in crops_id:\n",
    "                if j not in T_hat_i_s[(i, s)]:\n",
    "                    prob += A_ijks[(i, j, k, s)] == 0\n"
   ]
  },
  {
   "cell_type": "code",
   "execution_count": 568,
   "metadata": {},
   "outputs": [],
   "source": [
    "# 约束：不能重茬种植\n",
    "for i in fields_id:\n",
    "    for j in crops_id:\n",
    "        for k in years:\n",
    "            if k >= years[-1]:  # 最后一年不需要考虑后面的年份\n",
    "                continue\n",
    "\n",
    "            # 如果作物 j 在第 i 块地的第 1 季度被种植\n",
    "            if j in T_hat_i_s[(i, 1)] and j not in T_hat_i_s[(i, 2)]:\n",
    "                prob += B_ijks[(i, j, k, 1)] + B_ijks[(i, j, k + 1, 1)] <= 1\n",
    "            # 如果作物 j 在第 i 块地的第 1 和第 2 季度都被种植\n",
    "            elif j in T_hat_i_s[(i, 1)] and j in T_hat_i_s[(i, 2)]:\n",
    "                prob += B_ijks[(i, j, k, 1)] + B_ijks[(i, j, k, 2)] <= 1"
   ]
  },
  {
   "cell_type": "code",
   "execution_count": 569,
   "metadata": {},
   "outputs": [],
   "source": [
    "# 约束：每个地块（含大棚）的所有土地三年内至少种植一次豆类作物\n",
    "for i in fields_id:\n",
    "    for k in years:\n",
    "        if k >= years[-2]:  # 最后两年不需要考虑后面的年份\n",
    "            continue\n",
    "\n",
    "        prob += (\n",
    "            pulp.lpSum(\n",
    "                [\n",
    "                    B_ijks[(i, j, kk, s)]\n",
    "                    for kk in range(k, k + 3)\n",
    "                    for s in seasons_id\n",
    "                    for j in beans\n",
    "                    if j in T_hat_i_s[i, s]\n",
    "                ]\n",
    "            )\n",
    "            >= 1\n",
    "        )\n",
    "\n",
    "        for j in beans:\n",
    "            if j in T_hat_i_s[i, s]:\n",
    "                for s in seasons_id:\n",
    "                    # 如果种植，则种植整个地块面积\n",
    "                    prob += A_ijks[(i, j, k, s)] == A_star[i] * B_ijks[i, j, k, s]"
   ]
  },
  {
   "cell_type": "code",
   "execution_count": 570,
   "metadata": {},
   "outputs": [],
   "source": [
    "# 约束：第一季种了水稻的水浇地，第二季不能种 B 类蔬菜\n",
    "for i in fields_id:\n",
    "    for k in years:\n",
    "        if t_i[i] == \"水浇地\":\n",
    "            for j1 in grains_B:\n",
    "                for j2 in vege_B:\n",
    "                    prob += B_ijks[(i, j1, k, 1)] + B_ijks[(i, j2, k, 2)] <= 1"
   ]
  },
  {
   "cell_type": "code",
   "execution_count": 571,
   "metadata": {},
   "outputs": [],
   "source": [
    "# 约束：第一季种了 A 类蔬菜的水浇地，第二季的 B 类蔬菜不能混种在一个地块上\n",
    "for i in fields_id:\n",
    "    for k in years:\n",
    "        if t_i[i] == \"水浇地\":\n",
    "            for j2 in vege_B:\n",
    "                prob += A_ijks[(i, j2, k, 2)] == A_star[i] * B_ijks[i, j2, k, 2]"
   ]
  },
  {
   "cell_type": "markdown",
   "metadata": {},
   "source": [
    "# 模型求解"
   ]
  },
  {
   "cell_type": "code",
   "execution_count": 572,
   "metadata": {},
   "outputs": [
    {
     "name": "stdout",
     "output_type": "stream",
     "text": [
      "Welcome to the CBC MILP Solver \n",
      "Version: 2.10.3 \n",
      "Build Date: Dec 15 2019 \n",
      "\n",
      "command line - /home/zivmax/CUMCM_2024/.venv/lib/python3.12/site-packages/pulp/solverdir/cbc/linux/64/cbc /tmp/b312c58a843046a38538cea6789ef62a-pulp.mps -max -timeMode elapsed -branch -printingOptions all -solution /tmp/b312c58a843046a38538cea6789ef62a-pulp.sol (default strategy 1)\n",
      "At line 2 NAME          MODEL\n",
      "At line 3 ROWS\n",
      "At line 88099 COLUMNS\n",
      "At line 389244 RHS\n",
      "At line 477339 BOUNDS\n",
      "At line 517192 ENDATA\n",
      "Problem MODEL has 88094 rows, 88560 columns and 177160 elements\n",
      "Coin0008I MODEL read with 0 errors\n",
      "Option for timeMode changed from cpu to elapsed\n",
      "Problem is infeasible - 1.73 seconds\n",
      "Option for printingOptions changed from normal to all\n",
      "Total time (CPU seconds):       1.86   (Wallclock seconds):       1.88\n",
      "\n"
     ]
    },
    {
     "data": {
      "text/plain": [
       "-1"
      ]
     },
     "execution_count": 572,
     "metadata": {},
     "output_type": "execute_result"
    }
   ],
   "source": [
    "prob.solve()"
   ]
  },
  {
   "cell_type": "markdown",
   "metadata": {},
   "source": [
    "# 整理结果"
   ]
  },
  {
   "cell_type": "markdown",
   "metadata": {},
   "source": [
    "## 情况一"
   ]
  },
  {
   "cell_type": "markdown",
   "metadata": {},
   "source": [
    "## 情况二"
   ]
  }
 ],
 "metadata": {
  "kernelspec": {
   "display_name": ".venv",
   "language": "python",
   "name": "python3"
  },
  "language_info": {
   "codemirror_mode": {
    "name": "ipython",
    "version": 3
   },
   "file_extension": ".py",
   "mimetype": "text/x-python",
   "name": "python",
   "nbconvert_exporter": "python",
   "pygments_lexer": "ipython3",
   "version": "3.12.3"
  }
 },
 "nbformat": 4,
 "nbformat_minor": 2
}
